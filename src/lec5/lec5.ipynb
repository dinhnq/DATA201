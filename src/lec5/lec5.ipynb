{
 "cells": [
  {
   "cell_type": "code",
   "execution_count": 2,
   "id": "67db590b",
   "metadata": {},
   "outputs": [],
   "source": [
    "import numpy as np\n",
    "import pandas as pd\n",
    "import matplotlib.pyplot as pl\n",
    "%matplotlib inline"
   ]
  },
  {
   "cell_type": "markdown",
   "id": "245e3046",
   "metadata": {},
   "source": [
    "#### Feature Selection\n",
    "scikit-learn has several functions to help with feature selection in the package sklearn.feature_selection\n",
    "\n",
    "- sklearn.feature_selection.VarianceThreshold\n",
    "- sklearn.feature_selection.chi2\n",
    "- sklearn.feature_selection.SequentialFeatureSelector"
   ]
  },
  {
   "cell_type": "markdown",
   "id": "ecbac947",
   "metadata": {},
   "source": [
    "Computation: C = $\\frac{1}{n-1}XX^T$\n",
    "\n",
    "compute the covariance matrix: `np.cov()`\n",
    "\n",
    "The data is in the columns of `X`, while we are using rows. So we need `np.cov(X.T)`. It also normalizes the data."
   ]
  },
  {
   "cell_type": "code",
   "execution_count": 7,
   "id": "269acca4",
   "metadata": {},
   "outputs": [],
   "source": [
    "X = np.random.rand(3,4)\n",
    "np.cov(X)\n",
    "\n",
    "# subtract off the mean\n",
    "ones = np.ones((1,3))     #1 rows and 3 columns\n",
    "mean = np.mean(X, axis=1) #get by column\n",
    "\n",
    "m = ones * mean\n",
    "\n",
    "X = X - m.T\n",
    "C = 1/3*np.dot(X, X.T)"
   ]
  },
  {
   "cell_type": "markdown",
   "id": "f1508c4e",
   "metadata": {},
   "source": [
    "##### Eigen values and vectors\n",
    "`evals, evecs = np.linalg.eig(C)`"
   ]
  },
  {
   "cell_type": "code",
   "execution_count": 9,
   "id": "c7229ba1",
   "metadata": {},
   "outputs": [],
   "source": [
    "evals, evecs = np.linalg.eig(C)"
   ]
  },
  {
   "cell_type": "markdown",
   "id": "bfaa0b0f",
   "metadata": {},
   "source": [
    "Let's check that the matrix of Eigen vectors is orthonormal, and they do diagonalize C as promised."
   ]
  },
  {
   "cell_type": "code",
   "execution_count": 11,
   "id": "0ec06615",
   "metadata": {},
   "outputs": [
    {
     "data": {
      "text/plain": [
       "array([[ 1.00000000e+00,  3.01447744e-17,  3.79459978e-18],\n",
       "       [ 3.01447744e-17,  1.00000000e+00, -6.37574073e-17],\n",
       "       [ 3.79459978e-18, -6.37574073e-17,  1.00000000e+00]])"
      ]
     },
     "execution_count": 11,
     "metadata": {},
     "output_type": "execute_result"
    }
   ],
   "source": [
    "product = np.dot(evecs, evecs.T)\n",
    "product"
   ]
  },
  {
   "cell_type": "code",
   "execution_count": 12,
   "id": "bdb238b9",
   "metadata": {},
   "outputs": [
    {
     "data": {
      "text/plain": [
       "array([[0.00142913, 0.        , 0.        ],\n",
       "       [0.        , 0.06327695, 0.        ],\n",
       "       [0.        , 0.        , 0.1711095 ]])"
      ]
     },
     "execution_count": 12,
     "metadata": {},
     "output_type": "execute_result"
    }
   ],
   "source": [
    "diagonal = np.diag(evals)\n",
    "diagonal"
   ]
  },
  {
   "cell_type": "code",
   "execution_count": 13,
   "id": "b4a0d844",
   "metadata": {},
   "outputs": [],
   "source": [
    "transpose = evecs.T\n",
    "product_transpose_diagonal = np.dot(diagonal, transpose)\n",
    "\n",
    "product = np.dot(evecs, product_transpose_diagonal) - C"
   ]
  },
  {
   "cell_type": "markdown",
   "id": "310caadf",
   "metadata": {},
   "source": [
    "###### Principal Components Analysis\n",
    "\n",
    "We need to make sure that the Eigen values are in descending order.\n",
    "\n",
    "Then we can transform the data into the new bias by multiplying the matrix of Eigen vectors and the original data matrix."
   ]
  },
  {
   "cell_type": "code",
   "execution_count": 37,
   "id": "9fbdc023",
   "metadata": {},
   "outputs": [
    {
     "data": {
      "text/plain": [
       "[<matplotlib.lines.Line2D at 0x7f988d311a30>]"
      ]
     },
     "execution_count": 37,
     "metadata": {},
     "output_type": "execute_result"
    },
    {
     "data": {
      "image/png": "[encoded data removed]",
      "text/plain": [
       "<Figure size 432x288 with 1 Axes>"
      ]
     },
     "metadata": {
      "needs_background": "light"
     },
     "output_type": "display_data"
    }
   ],
   "source": [
    "# 100 Gaussian random numbers with variances (5, 2)\n",
    "variances = (5,2)\n",
    "size = (100,2)\n",
    "data = np.random.normal(scale=variances, size=size)\n",
    "\n",
    "\n",
    "radian = -np.pi/4\n",
    "a_11 = np.cos(radian)\n",
    "a_12 = -np.sin(radian)\n",
    "a_21 = np.sin(radian)\n",
    "a_22 = np.cos(radian)\n",
    "\n",
    "row_1 = [a_11, a_12]\n",
    "row_2 = [a_21, a_22]\n",
    "R = np.array([row_1, row_2])\n",
    "\n",
    "# rotate\n",
    "data = np.dot(data, R)\n",
    "\n",
    "x = data[:,0]\n",
    "y = data[:,1]\n",
    "pl.plot(x, y, '.')"
   ]
  },
  {
   "cell_type": "code",
   "execution_count": 38,
   "id": "54e161eb",
   "metadata": {},
   "outputs": [],
   "source": [
    "# PCA: Principle Components Analysis\n",
    "def pca(data):\n",
    "    C = np.cov(data.T)\n",
    "    \n",
    "    #Eigen values and Eigen vectors\n",
    "    evals, evecs = np.linalg.eig(C)\n",
    "    \n",
    "    #sort them into descending order\n",
    "    indices = np.argsort(evals)\n",
    "    indices = indices[::-1]\n",
    "    \n",
    "    evecs = evecs[:,indices]\n",
    "    evals = evals[indices]\n",
    "    \n",
    "    #transform the data\n",
    "    product_transpose = np.dot(evecs.T, data.T).T\n",
    "    \n",
    "    return product_transpose, evals, evecs"
   ]
  },
  {
   "cell_type": "code",
   "execution_count": 39,
   "id": "92f0ec5c",
   "metadata": {},
   "outputs": [
    {
     "data": {
      "text/plain": [
       "[<matplotlib.lines.Line2D at 0x7f988d60cd00>]"
      ]
     },
     "execution_count": 39,
     "metadata": {},
     "output_type": "execute_result"
    },
    {
     "data": {
      "image/png": "[encoded data removed]",
      "text/plain": [
       "<Figure size 432x288 with 1 Axes>"
      ]
     },
     "metadata": {
      "needs_background": "light"
     },
     "output_type": "display_data"
    }
   ],
   "source": [
    "x_arr, evals, evecs = pca(data)\n",
    "\n",
    "x = x_arr[:,0]\n",
    "y = x_arr[:,1]\n",
    "pl.plot(x, y, '.')"
   ]
  },
  {
   "cell_type": "code",
   "execution_count": 40,
   "id": "4729318f",
   "metadata": {},
   "outputs": [
    {
     "data": {
      "text/plain": [
       "[<matplotlib.lines.Line2D at 0x7f988d5361f0>]"
      ]
     },
     "execution_count": 40,
     "metadata": {},
     "output_type": "execute_result"
    },
    {
     "data": {
      "image/png": "[encoded data removed]",
      "text/plain": [
       "<Figure size 432x288 with 1 Axes>"
      ]
     },
     "metadata": {
      "needs_background": "light"
     },
     "output_type": "display_data"
    }
   ],
   "source": [
    "x = data[:,0]\n",
    "y = data[:,1]\n",
    "pl.plot(x, y, '.')\n",
    "\n",
    "eigen_val_1 = evals[0]\n",
    "eigen_val_2 = evals[1]\n",
    "\n",
    "eigen_vector_11 = evecs[0,0]\n",
    "eigen_vector_12 = evecs[0,1]\n",
    "eigen_vector_21 = evecs[1,0]\n",
    "eigen_vector_22 = evecs[1,1]\n",
    "\n",
    "x1 = -eigen_val_1 * eigen_vector_11\n",
    "x2 = eigen_val_1  * eigen_vector_11\n",
    "y1 = -eigen_val_1 * eigen_vector_21\n",
    "y2 = eigen_val_1 * eigen_vector_21\n",
    "\n",
    "x = [x1, x2]\n",
    "y = [y1, y2]\n",
    "pl.plot(x, y, 'r-')\n",
    "\n",
    "x1 = -eigen_val_2 * eigen_vector_12\n",
    "x2 = eigen_val_2 * eigen_vector_12\n",
    "y1 = -eigen_val_2 * eigen_vector_22\n",
    "y2 = eigen_val_2 * eigen_vector_22\n",
    "x = [x1, x2]\n",
    "y = [y1, y2]\n",
    "pl.plot(x, y, 'g-')"
   ]
  },
  {
   "cell_type": "markdown",
   "id": "478a0bfc",
   "metadata": {},
   "source": [
    "##### Dimensionality reduction\n",
    "Eigen values telling us the amount of variance that each feature dimension 'explains', we can ignore those that don't do much. Since we've sorted them into order, that's the lower ones. But how many should you use?"
   ]
  },
  {
   "cell_type": "code",
   "execution_count": 41,
   "id": "d50bd518",
   "metadata": {},
   "outputs": [
    {
     "data": {
      "text/plain": [
       "array([22.78847074,  3.88355902])"
      ]
     },
     "execution_count": 41,
     "metadata": {},
     "output_type": "execute_result"
    }
   ],
   "source": [
    "# approximately equal to the variance (s.d squared)\n",
    "evals"
   ]
  },
  {
   "cell_type": "markdown",
   "id": "8ce562c8",
   "metadata": {},
   "source": [
    "So we can take the cumulative sum and divide by the total:"
   ]
  },
  {
   "cell_type": "code",
   "execution_count": 45,
   "id": "081d4d43",
   "metadata": {},
   "outputs": [],
   "source": [
    "cum_sum = np.cumsum(evals)\n",
    "\n",
    "last_val = cum_sum[-1]\n",
    "\n",
    "cum_sum /= last_val"
   ]
  },
  {
   "cell_type": "markdown",
   "id": "cd265cff",
   "metadata": {},
   "source": [
    "So here the 1st dimension explains most of the variability, let's just use that."
   ]
  },
  {
   "cell_type": "code",
   "execution_count": 47,
   "id": "be604931",
   "metadata": {},
   "outputs": [
    {
     "data": {
      "text/plain": [
       "[<matplotlib.lines.Line2D at 0x7f988d246220>]"
      ]
     },
     "execution_count": 47,
     "metadata": {},
     "output_type": "execute_result"
    },
    {
     "data": {
      "image/png": "[encoded data removed]",
      "text/plain": [
       "<Figure size 432x288 with 1 Axes>"
      ]
     },
     "metadata": {
      "needs_background": "light"
     },
     "output_type": "display_data"
    }
   ],
   "source": [
    "x, evals, evecs = pca(data)\n",
    "\n",
    "x = x[:,0]\n",
    "\n",
    "rows = 100\n",
    "cols = 1\n",
    "arr_like = (100,1)\n",
    "y = np.zeros(arr_like)\n",
    "pl.plot(x, y, '.')"
   ]
  },
  {
   "cell_type": "code",
   "execution_count": 55,
   "id": "77f80bc7",
   "metadata": {},
   "outputs": [
    {
     "data": {
      "image/png": "[encoded data removed]",
      "text/plain": [
       "<Figure size 360x360 with 9 Axes>"
      ]
     },
     "metadata": {
      "needs_background": "light"
     },
     "output_type": "display_data"
    }
   ],
   "source": [
    "from sklearn.datasets import load_iris\n",
    "\n",
    "x, y = load_iris(return_X_y=True)\n",
    "\n",
    "x_bar = np.mean(x, axis=0)\n",
    "x = x - x_bar\n",
    "\n",
    "colors = ['r','g','b']\n",
    "rows = 3\n",
    "cols = 3\n",
    "figure, axis = pl.subplots(rows, cols, figsize=(5,5))\n",
    "\n",
    "dimen_1_range = 4\n",
    "for row in range(rows):\n",
    "    indices = np.where(y==row)\n",
    "    for dimen_1 in range(dimen_1_range):\n",
    "        for dimen_2 in range(dimen_1+1, dimen_1_range): \n",
    "            x_axis_loc = dimen_1\n",
    "            y_axis_loc = dimen_2-1\n",
    "            x_val = x[indices, dimen_1]\n",
    "            y_val = x[indices, dimen_2]\n",
    "            axis[x_axis_loc, y_axis_loc].plot(x_val, y_val, '.', color=colors[row])\n",
    "    "
   ]
  },
  {
   "cell_type": "code",
   "execution_count": 56,
   "id": "65801315",
   "metadata": {},
   "outputs": [
    {
     "data": {
      "text/plain": [
       "[<matplotlib.lines.Line2D at 0x7f988fdbeee0>]"
      ]
     },
     "execution_count": 56,
     "metadata": {},
     "output_type": "execute_result"
    },
    {
     "data": {
      "image/png": "[encoded data removed]",
      "text/plain": [
       "<Figure size 432x288 with 1 Axes>"
      ]
     },
     "metadata": {
      "needs_background": "light"
     },
     "output_type": "display_data"
    }
   ],
   "source": [
    "# Principle components analysis\n",
    "x_new, evals, evecs = pca(x)\n",
    "\n",
    "cum_sum = np.cumsum(evals)\n",
    "total = cum_sum[-1]\n",
    "\n",
    "mean = cum_sum / total\n",
    "pl.plot(mean)"
   ]
  },
  {
   "cell_type": "code",
   "execution_count": 58,
   "id": "8c8d9e6e",
   "metadata": {},
   "outputs": [
    {
     "data": {
      "image/png": "[encoded data removed]",
      "text/plain": [
       "<Figure size 432x288 with 1 Axes>"
      ]
     },
     "metadata": {
      "needs_background": "light"
     },
     "output_type": "display_data"
    }
   ],
   "source": [
    "for row in range(rows):\n",
    "    indices = np.where(y==row)\n",
    "    for dimen_1 in range(dimen_1_range):\n",
    "        x_vals = x_new[indices, 0]\n",
    "        y_vals = x_new[indices, 1]\n",
    "        pl.plot(x_vals, y_vals, '.', color=colors[row])"
   ]
  },
  {
   "cell_type": "code",
   "execution_count": null,
   "id": "e7dbfd24",
   "metadata": {},
   "outputs": [],
   "source": []
  }
 ],
 "metadata": {
  "kernelspec": {
   "display_name": "Python 3",
   "language": "python",
   "name": "python3"
  },
  "language_info": {
   "codemirror_mode": {
    "name": "ipython",
    "version": 3
   },
   "file_extension": ".py",
   "mimetype": "text/x-python",
   "name": "python",
   "nbconvert_exporter": "python",
   "pygments_lexer": "ipython3",
   "version": "3.8.8"
  }
 },
 "nbformat": 4,
 "nbformat_minor": 5
}
