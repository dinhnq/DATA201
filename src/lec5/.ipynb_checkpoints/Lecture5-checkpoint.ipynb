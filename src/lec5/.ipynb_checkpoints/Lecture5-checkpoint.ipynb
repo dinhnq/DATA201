{
 "cells": [
  {
   "cell_type": "code",
   "execution_count": 1,
   "metadata": {},
   "outputs": [],
   "source": [
    "# That set-up stuff\n",
    "import numpy as np\n",
    "import pandas as pd\n",
    "import matplotlib.pyplot as pl\n",
    "%matplotlib inline"
   ]
  },
  {
   "cell_type": "markdown",
   "metadata": {},
   "source": [
    "# Feature Selection\n",
    "\n",
    "`scikit-learn` has several functions to help with feature selection in the package `sklearn.feature_selection`\n",
    "\n",
    "In the tutorial you will see:\n",
    "\n",
    "- `sklearn.feature_selection.VarianceThreshold`\n",
    "- `sklearn.feature_selection.chi2`\n",
    "- `sklearn.feature_selection.SequentialFeatureSelector`"
   ]
  },
  {
   "cell_type": "markdown",
   "metadata": {},
   "source": [
    "# Covariance matrix\n",
    "\n",
    "You can compute the covariance matrix in Numpy using `np.cov(X)`. As in the lecture, it assumes that the data is in the columns of `X`, while we are using rows. So you need `np.cov(X.T)`. It also normalises the data. After that, the computation is just $C = \\frac{1}{n-1} X X^T$ where $n$ is the number of observations. "
   ]
  },
  {
   "cell_type": "code",
   "execution_count": 2,
   "metadata": {},
   "outputs": [
    {
     "data": {
      "text/plain": [
       "array([[0.03747915, 0.01893963, 0.03350251],\n",
       "       [0.01893963, 0.11264163, 0.09954811],\n",
       "       [0.03350251, 0.09954811, 0.10333892]])"
      ]
     },
     "execution_count": 2,
     "metadata": {},
     "output_type": "execute_result"
    }
   ],
   "source": [
    "X = np.random.rand(3,4)\n",
    "np.cov(X)"
   ]
  },
  {
   "cell_type": "code",
   "execution_count": 5,
   "metadata": {},
   "outputs": [
    {
     "name": "stdout",
     "output_type": "stream",
     "text": [
      "[[0.03747915 0.01893963 0.03350251]\n",
      " [0.01893963 0.11264163 0.09954811]\n",
      " [0.03350251 0.09954811 0.10333892]]\n"
     ]
    }
   ],
   "source": [
    "# Subtract off the mean\n",
    "m = np.ones((1,3))*np.mean(X,axis=1)\n",
    "X = X - m.T\n",
    "C = 1/3*np.dot(X,X.T)\n",
    "print(C)"
   ]
  },
  {
   "cell_type": "markdown",
   "metadata": {},
   "source": [
    "# Eigenvalues and eigenvectors\n",
    "\n",
    "These can also be computed easily using Numpy: `evals, evecs = np.linalg.eig(C)`"
   ]
  },
  {
   "cell_type": "code",
   "execution_count": 8,
   "metadata": {},
   "outputs": [
    {
     "name": "stdout",
     "output_type": "stream",
     "text": [
      "[0.21530171 0.0344221  0.00373589]\n",
      "[[-0.20346925 -0.90232638 -0.38000968]\n",
      " [-0.70066791  0.40529207 -0.58719913]\n",
      " [-0.68386018 -0.14678362  0.71469561]]\n"
     ]
    }
   ],
   "source": [
    "evals, evecs = np.linalg.eig(C)\n",
    "print(evals)\n",
    "print(evecs)"
   ]
  },
  {
   "cell_type": "markdown",
   "metadata": {},
   "source": [
    "Let's check that the matrix of eigenvectors is orthonormal, and they do diagonalise $C$ as promised."
   ]
  },
  {
   "cell_type": "code",
   "execution_count": 9,
   "metadata": {},
   "outputs": [
    {
     "data": {
      "text/plain": [
       "array([[ 1.00000000e+00,  6.08318312e-17,  1.05280292e-16],\n",
       "       [ 6.08318312e-17,  1.00000000e+00, -7.19816791e-17],\n",
       "       [ 1.05280292e-16, -7.19816791e-17,  1.00000000e+00]])"
      ]
     },
     "execution_count": 9,
     "metadata": {},
     "output_type": "execute_result"
    }
   ],
   "source": [
    "np.dot(evecs,evecs.T)"
   ]
  },
  {
   "cell_type": "code",
   "execution_count": 10,
   "metadata": {},
   "outputs": [
    {
     "data": {
      "text/plain": [
       "array([[0.21530171, 0.        , 0.        ],\n",
       "       [0.        , 0.0344221 , 0.        ],\n",
       "       [0.        , 0.        , 0.00373589]])"
      ]
     },
     "execution_count": 10,
     "metadata": {},
     "output_type": "execute_result"
    }
   ],
   "source": [
    "np.diag(evals)"
   ]
  },
  {
   "cell_type": "code",
   "execution_count": 13,
   "metadata": {},
   "outputs": [
    {
     "data": {
      "text/plain": [
       "array([[-6.93889390e-18,  2.42861287e-17,  1.38777878e-17],\n",
       "       [ 2.08166817e-17,  1.38777878e-16,  5.55111512e-17],\n",
       "       [ 1.38777878e-17,  6.93889390e-17, -1.38777878e-17]])"
      ]
     },
     "execution_count": 13,
     "metadata": {},
     "output_type": "execute_result"
    }
   ],
   "source": [
    "np.dot(evecs,np.dot(np.diag(evals),evecs.T)) - C"
   ]
  },
  {
   "cell_type": "markdown",
   "metadata": {},
   "source": [
    "# Principal Components Analysis\n",
    "\n",
    "We need to make sure that the eigenvalues are in descending order. \n",
    "\n",
    "Then we can transform the data into the new basis by multiplying the matrix of eigenvectors and the original data matrix. \n",
    "\n",
    "Let's make a very simple example."
   ]
  },
  {
   "cell_type": "code",
   "execution_count": 33,
   "metadata": {},
   "outputs": [
    {
     "data": {
      "image/png": "[encoded data removed]",
      "text/plain": [
       "<Figure size 432x288 with 1 Axes>"
      ]
     },
     "metadata": {
      "needs_background": "light"
     },
     "output_type": "display_data"
    }
   ],
   "source": [
    "# Create 100 Gaussian random numbers with variances 5 and 2\n",
    "data = np.random.normal(scale=(5,2),size=(100,2))\n",
    "# Rotate them \n",
    "R = np.array([[np.cos(-np.pi/4), -np.sin(-np.pi/4)],[np.sin(-np.pi/4), np.cos(-np.pi/4)]])\n",
    "data = np.dot(data,R)\n",
    "# Plot the result\n",
    "pl.plot(data[:,0],data[:,1],'.');\n",
    "# Note the data is still zero mean"
   ]
  },
  {
   "cell_type": "code",
   "execution_count": 36,
   "metadata": {},
   "outputs": [],
   "source": [
    "# Here is PCA\n",
    "def pca(data):\n",
    "    # Compute the covariance matrix\n",
    "    C = np.cov(data.T)\n",
    "\n",
    "    # Get the eigenvalues and eigenvectors\n",
    "    evals,evecs = np.linalg.eig(C)\n",
    "\n",
    "    # Now need to sort them into descending order\n",
    "    indices = np.argsort(evals)\n",
    "    indices = indices[::-1]\n",
    "    evecs = evecs[:,indices]\n",
    "    evals = evals[indices]\n",
    "\n",
    "    # Transform the data\n",
    "    return np.dot(evecs.T,data.T).T, evals, evecs"
   ]
  },
  {
   "cell_type": "code",
   "execution_count": 38,
   "metadata": {},
   "outputs": [
    {
     "data": {
      "image/png": "[encoded data removed]",
      "text/plain": [
       "<Figure size 432x288 with 1 Axes>"
      ]
     },
     "metadata": {
      "needs_background": "light"
     },
     "output_type": "display_data"
    }
   ],
   "source": [
    "# Plot the result\n",
    "x, evals, evecs = pca(data)\n",
    "pl.plot(x[:,0],x[:,1],'.');"
   ]
  },
  {
   "cell_type": "code",
   "execution_count": 39,
   "metadata": {},
   "outputs": [
    {
     "data": {
      "image/png": "[encoded data removed]",
      "text/plain": [
       "<Figure size 432x288 with 1 Axes>"
      ]
     },
     "metadata": {
      "needs_background": "light"
     },
     "output_type": "display_data"
    }
   ],
   "source": [
    "pl.plot(data[:,0],data[:,1],'.');\n",
    "pl.plot([-evals[0]*evecs[0,0],evals[0]*evecs[0,0]],[-evals[0]*evecs[1,0],evals[0]*evecs[1,0]],'r-');\n",
    "pl.plot([-evals[1]*evecs[0,1],evals[1]*evecs[0,1]],[-evals[1]*evecs[1,1],evals[1]*evecs[1,1]],'g-');"
   ]
  },
  {
   "cell_type": "markdown",
   "metadata": {},
   "source": [
    "# Dimensionality Reduction\n",
    "\n",
    "Now that we have the eigenvalues telling us the amount of variance that each feature dimension 'explains', we can ignore those that don't do much. Since we've sorted them into order, that's the lower ones. But how many should you use? "
   ]
  },
  {
   "cell_type": "code",
   "execution_count": 7,
   "metadata": {},
   "outputs": [
    {
     "data": {
      "text/plain": [
       "array([25.90025692,  4.73928803])"
      ]
     },
     "execution_count": 7,
     "metadata": {},
     "output_type": "execute_result"
    }
   ],
   "source": [
    "evals # Approximately equal to the variance (standard deviation squared) of the data"
   ]
  },
  {
   "cell_type": "markdown",
   "metadata": {},
   "source": [
    "So we can take the cumulative sum and divide by the total:"
   ]
  },
  {
   "cell_type": "code",
   "execution_count": 9,
   "metadata": {},
   "outputs": [
    {
     "name": "stdout",
     "output_type": "stream",
     "text": [
      "[0.8453212 1.       ]\n"
     ]
    }
   ],
   "source": [
    "cs = np.cumsum(evals)\n",
    "cs /= cs[-1]\n",
    "print(cs)\n"
   ]
  },
  {
   "cell_type": "markdown",
   "metadata": {},
   "source": [
    "So here the first dimension explains most of the variability, let's just use that. "
   ]
  },
  {
   "cell_type": "code",
   "execution_count": 45,
   "metadata": {},
   "outputs": [
    {
     "data": {
      "image/png": "[encoded data removed]",
      "text/plain": [
       "<Figure size 432x288 with 1 Axes>"
      ]
     },
     "metadata": {
      "needs_background": "light"
     },
     "output_type": "display_data"
    }
   ],
   "source": [
    "pl.plot(x[:,0],np.zeros((100,1)),'.');"
   ]
  },
  {
   "cell_type": "markdown",
   "metadata": {},
   "source": [
    "We'll see some more about this in the tutorial. "
   ]
  },
  {
   "cell_type": "markdown",
   "metadata": {},
   "source": [
    "## A (slightly) more real example"
   ]
  },
  {
   "cell_type": "code",
   "execution_count": 4,
   "metadata": {},
   "outputs": [
    {
     "name": "stdout",
     "output_type": "stream",
     "text": [
      "(150, 4)\n",
      "(150,)\n"
     ]
    }
   ],
   "source": [
    "from sklearn.datasets import load_iris\n",
    "x,y = load_iris(return_X_y=True)\n",
    "\n",
    "x = x - np.mean(x,axis=0)\n",
    "\n"
   ]
  },
  {
   "cell_type": "code",
   "execution_count": 42,
   "metadata": {},
   "outputs": [
    {
     "data": {
      "image/png": "[encoded data removed]",
      "text/plain": [
       "<Figure size 360x360 with 9 Axes>"
      ]
     },
     "metadata": {
      "needs_background": "light"
     },
     "output_type": "display_data"
    }
   ],
   "source": [
    "colours = ['r','g','b']\n",
    "fig, axs = pl.subplots(3, 3, figsize=(5, 5))\n",
    "for c in range(3):\n",
    "    inds = np.where(y==c)\n",
    "    for d1 in range(4):\n",
    "        for d2 in range(d1+1,4):\n",
    "            axs[d1,d2-1].plot(x[inds,d1],x[inds,d2],'.',color=colours[c])"
   ]
  },
  {
   "cell_type": "code",
   "execution_count": 46,
   "metadata": {},
   "outputs": [
    {
     "name": "stdout",
     "output_type": "stream",
     "text": [
      "[0.92461872 0.97768521 0.99478782 1.        ]\n"
     ]
    },
    {
     "data": {
      "image/png": "[encoded data removed]",
      "text/plain": [
       "<Figure size 432x288 with 1 Axes>"
      ]
     },
     "metadata": {
      "needs_background": "light"
     },
     "output_type": "display_data"
    }
   ],
   "source": [
    "newx, evals, evecs = pca(x)\n",
    "cs = np.cumsum(evals)\n",
    "cs /= cs[-1]\n",
    "print(cs)\n",
    "pl.plot(cs);"
   ]
  },
  {
   "cell_type": "code",
   "execution_count": 49,
   "metadata": {},
   "outputs": [
    {
     "data": {
      "image/png": "[encoded data removed]",
      "text/plain": [
       "<Figure size 432x288 with 1 Axes>"
      ]
     },
     "metadata": {
      "needs_background": "light"
     },
     "output_type": "display_data"
    }
   ],
   "source": [
    "for c in range(3):\n",
    "    inds = np.where(y==c)\n",
    "    for d1 in range(4):\n",
    "        pl.plot(newx[inds,0],newx[inds,1],'.',color=colours[c])"
   ]
  },
  {
   "cell_type": "code",
   "execution_count": null,
   "metadata": {},
   "outputs": [],
   "source": []
  }
 ],
 "metadata": {
  "kernelspec": {
   "display_name": "Python 3",
   "language": "python",
   "name": "python3"
  },
  "language_info": {
   "codemirror_mode": {
    "name": "ipython",
    "version": 3
   },
   "file_extension": ".py",
   "mimetype": "text/x-python",
   "name": "python",
   "nbconvert_exporter": "python",
   "pygments_lexer": "ipython3",
   "version": "3.8.8"
  }
 },
 "nbformat": 4,
 "nbformat_minor": 4
}
