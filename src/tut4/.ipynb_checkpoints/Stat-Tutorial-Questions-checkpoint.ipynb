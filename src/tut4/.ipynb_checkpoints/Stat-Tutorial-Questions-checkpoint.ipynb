{
 "cells": [
  {
   "cell_type": "markdown",
   "metadata": {},
   "source": [
    "# Tutorial - Probability and Statistics Review\n",
    "\n",
    "In this tutorial we will review the content of the lectures on probability and statistics.\n",
    "\n",
    "We'll make use of the `scipy.stats` package and the `statsmodels.formula.api` package.\n",
    "\n",
    "Documentation is here: https://docs.scipy.org/doc/ and here: https://www.statsmodels.org/stable/index.html\n",
    "\n",
    "Import the relevant packages first."
   ]
  },
  {
   "cell_type": "code",
   "execution_count": 1,
   "metadata": {},
   "outputs": [],
   "source": [
    "import numpy as np\n",
    "import pandas as pd\n",
    "import scipy.stats as stats\n",
    "import statsmodels.formula.api as smf\n",
    "from statsmodels.formula.api import ols\n",
    "\n",
    "import matplotlib.pyplot as pl\n",
    "#%matplotlib inline"
   ]
  },
  {
   "cell_type": "markdown",
   "metadata": {},
   "source": [
    "## Probability Distributions\n",
    "\n",
    "1. Compute and plot the probabililty distribution of a Binomial(20,0.2) distribution - i.e. where there are 20 trials, each with a probability of success of 20% "
   ]
  },
  {
   "cell_type": "code",
   "execution_count": 5,
   "metadata": {},
   "outputs": [
    {
     "data": {
      "text/plain": [
       "[Text(0.5, 0, 'x'),\n",
       " Text(0, 0.5, 'Pr(X=x)'),\n",
       " Text(0.5, 1.0, 'Binomial(20,0.2) distribution')]"
      ]
     },
     "execution_count": 5,
     "metadata": {},
     "output_type": "execute_result"
    },
    {
     "data": {
      "image/png": "[encoded data removed]",
      "text/plain": [
       "<Figure size 432x288 with 1 Axes>"
      ]
     },
     "metadata": {
      "needs_background": "light"
     },
     "output_type": "display_data"
    }
   ],
   "source": [
    "n, p = 20, 0.2\n",
    "\n",
    "x = np.arange(0, n+1)\n",
    "\n",
    "# evaluate PMF at these locations\n",
    "probs = stats.binom.pmf(x, n, p)\n",
    "\n",
    "bar_width = 0.7\n",
    "figure, axis = pl.subplots(1,1)\n",
    "\n",
    "x = x - bar_width/2\n",
    "rectangles = axis.bar(x, probs, bar_width, color='SkyBlue')\n",
    "\n",
    "axis.set(xlabel='x', ylabel='Pr(X=x)', title='Binomial(20,0.2) distribution')"
   ]
  },
  {
   "cell_type": "markdown",
   "metadata": {},
   "source": [
    "2. Compute and plot the probability distribution of a Gamma(3,4) distribution - shape=3 and rate=4 (scale=1/4).  (In most cases Gamma distributions are defined by shape+rate, but python uses shape+scale: scale is just 1/rate). Plot the distribution over the range 0 to 3. "
   ]
  },
  {
   "cell_type": "code",
   "execution_count": null,
   "metadata": {},
   "outputs": [],
   "source": []
  },
  {
   "cell_type": "markdown",
   "metadata": {},
   "source": [
    "3. If the length of time it takes for an unemployed person to find work is distributed as a Gamma distribution with shape=5 and rate=0.3, calculate the probability it takes between 10 and 20 days to find work. "
   ]
  },
  {
   "cell_type": "markdown",
   "metadata": {},
   "source": [
    "4. There are three boxes on the table - the boxes are closed, and each contains two coins.  One box contains two silver coins (SS), one box contains two gold coins (GG), and the third contains one sliver and one gold coin (SG).  \n",
    "\n",
    "   (a) I choose a box at random.  The identity of the box X is one of SS, GG or GS.  What are the probabilities that I choose each of the boxes?  i.e. what are the probabilities P(X=SS), P(X=GG) and P(SG)?\n",
    "\n",
    "   (b) I put my hand in the box, and draw out a coin.  The type of coin Y is either S (silver) or G (gold).   What are the conditional probabilities of drawing a gold coin P(Y=G|X) for each of the three different box identities X?\n",
    "\n",
    "   (c) What is the probability that at the end of step (b) I am holding a gold coin?\n",
    "\n",
    "   (d) What is the probability that I have picked the GG box if I am holding a gold coin at the end of step (b)?"
   ]
  },
  {
   "cell_type": "markdown",
   "metadata": {},
   "source": [
    "## Expected values and decision making\n",
    "\n",
    "We'll do some basic calculations of expected values, and then make a decision based on a utility function."
   ]
  },
  {
   "cell_type": "markdown",
   "metadata": {},
   "source": [
    "1. An insurance company insures people travelling on skiing holidays.  They charge a premium of \\\\$100 per person.  For a particular applicant they estimate that there is a 5\\% chance that she will have an accident meaning that they will have to pay out \\\\$1000, and a 1\\% chance meaning that they will have to pay out \\\\$10,000.  \n",
    "\n",
    "   (a) What is the probablity that they will not have to pay out anything for this applicant if they insure her?\n",
    "\n",
    "   (b) What payout does the company expect to have to make for this applicant?\n",
    "\n",
    "   (c) Should the company insure this applicant? Why or why not?"
   ]
  },
  {
   "cell_type": "markdown",
   "metadata": {},
   "source": [
    "## Model fitting\n",
    "\n",
    "Now we'll fit some regression models.  The function that's easiest to use for this is `ols()` from `statsmodels.formula.api`.\n",
    "\n",
    "Read in the data set of fish lengths, weights and sexes from `fishdata.csv`, and remove any rows with missing weight values."
   ]
  },
  {
   "cell_type": "code",
   "execution_count": 2,
   "metadata": {},
   "outputs": [
    {
     "data": {
      "text/html": [
       "<div>\n",
       "<style scoped>\n",
       "    .dataframe tbody tr th:only-of-type {\n",
       "        vertical-align: middle;\n",
       "    }\n",
       "\n",
       "    .dataframe tbody tr th {\n",
       "        vertical-align: top;\n",
       "    }\n",
       "\n",
       "    .dataframe thead th {\n",
       "        text-align: right;\n",
       "    }\n",
       "</style>\n",
       "<table border=\"1\" class=\"dataframe\">\n",
       "  <thead>\n",
       "    <tr style=\"text-align: right;\">\n",
       "      <th></th>\n",
       "      <th>sex</th>\n",
       "      <th>lgth</th>\n",
       "      <th>weight</th>\n",
       "    </tr>\n",
       "  </thead>\n",
       "  <tbody>\n",
       "    <tr>\n",
       "      <th>0</th>\n",
       "      <td>1</td>\n",
       "      <td>46.0</td>\n",
       "      <td>510.0</td>\n",
       "    </tr>\n",
       "    <tr>\n",
       "      <th>1</th>\n",
       "      <td>2</td>\n",
       "      <td>55.8</td>\n",
       "      <td>900.0</td>\n",
       "    </tr>\n",
       "    <tr>\n",
       "      <th>2</th>\n",
       "      <td>1</td>\n",
       "      <td>52.7</td>\n",
       "      <td>820.0</td>\n",
       "    </tr>\n",
       "    <tr>\n",
       "      <th>3</th>\n",
       "      <td>2</td>\n",
       "      <td>69.2</td>\n",
       "      <td>2030.0</td>\n",
       "    </tr>\n",
       "    <tr>\n",
       "      <th>4</th>\n",
       "      <td>2</td>\n",
       "      <td>59.9</td>\n",
       "      <td>1080.0</td>\n",
       "    </tr>\n",
       "  </tbody>\n",
       "</table>\n",
       "</div>"
      ],
      "text/plain": [
       "   sex  lgth  weight\n",
       "0    1  46.0   510.0\n",
       "1    2  55.8   900.0\n",
       "2    1  52.7   820.0\n",
       "3    2  69.2  2030.0\n",
       "4    2  59.9  1080.0"
      ]
     },
     "execution_count": 2,
     "metadata": {},
     "output_type": "execute_result"
    }
   ],
   "source": [
    "fish = pd.read_csv('../../res/data/fishdata.csv')\n",
    "fish = fish.loc[-np.isnan(fish['weight'])]\n",
    "fish.head()"
   ]
  },
  {
   "cell_type": "code",
   "execution_count": 3,
   "metadata": {},
   "outputs": [
    {
     "name": "stdout",
     "output_type": "stream",
     "text": [
      "88\n"
     ]
    }
   ],
   "source": [
    "n = len(fish)\n",
    "print(n)"
   ]
  },
  {
   "cell_type": "code",
   "execution_count": 33,
   "metadata": {},
   "outputs": [
    {
     "data": {
      "text/plain": [
       "[<matplotlib.lines.Line2D at 0x7fc13b10fe80>]"
      ]
     },
     "execution_count": 33,
     "metadata": {},
     "output_type": "execute_result"
    },
    {
     "data": {
      "image/png": "[encoded data removed]",
      "text/plain": [
       "<Figure size 432x288 with 1 Axes>"
      ]
     },
     "metadata": {
      "needs_background": "light"
     },
     "output_type": "display_data"
    }
   ],
   "source": [
    "x = fish['lgth']\n",
    "y = fish['weight']\n",
    "fish['lgth2'] = fish['lgth']**2\n",
    "\n",
    "#fittedmodel = smf.ols(formula=\"weight ~ lgth + lgth2\", data=fish).fit() \n",
    "fittedmodel = smf.ols(formula='weight ~ lgth + lgth2', data=fish).fit() \n",
    "predictions = fittedmodel.predict(fish)\n",
    "\n",
    "fig, ax = pl.subplots(1,1)\n",
    "pl.scatter(x, y);\n",
    "\n",
    "#ax.set(xlabel='Length', ylabel='Weight');\n",
    "#xmin, xmax = ax.get_xbound() # get the plot bounds\n",
    "#xp = np.linspace(xmin, xmax, 101)\n",
    "#xpmat = pd.DataFrame({'lgth':xp, 'lgth2':xp**2})\n",
    "#yp = fittedmodel.predict(xpmat)\n",
    "#pl.plot(xp, yp, 'b-');\n",
    "\n",
    "x_min, x_max = ax.get_xbound()\n",
    "x_predictors = np.linspace(x_min, x_max, 101)\n",
    "#df_new = fish[['lgth', 'lgth2']].copy()\n",
    "\n",
    "#xp = df_new.sample(n=101, replace=True)\n",
    "xp = pd.DataFrame({'lgth':x_predictors, 'lgth2':np.power(x_predictors,2)})\n",
    "yp = fittedmodel.predict(xp)\n",
    "\n",
    "#xpmat = pd.DataFrame({'lgth':x_predictors, 'lgth2':x_predictors**2})\n",
    "#yp = fittedmodel.predict(xpmat)\n",
    "pl.plot(x_predictors, yp)"
   ]
  },
  {
   "cell_type": "markdown",
   "metadata": {},
   "source": [
    "1. Make a scatter plot of the data on the linear scale, and another plot on the log scale (take logs of the length and weight).  Use different plot symbols for the males (sex=1) and females (sex=2)"
   ]
  },
  {
   "cell_type": "markdown",
   "metadata": {},
   "source": [
    "2. Compute Pearson's Correlation coefficient of the original and also the log transformed data using `stats.pearsonr`.  Comment on the two coefficient values, any differences between them, and how to interpret the associated p-values."
   ]
  },
  {
   "cell_type": "markdown",
   "metadata": {},
   "source": [
    "3. Fit a simple linear regression model $y=\\alpha + \\beta x$ to the original (untransformed) data, and compute the fitted values and residuals.  \n",
    "\n",
    "   There are various ways to do this: I suggest the ols() function in statsmodels.formula.api - but you can google around and find any method you like.   Make sure you work out how to include both an intercept and slope in the model."
   ]
  },
  {
   "cell_type": "markdown",
   "metadata": {},
   "source": [
    "4. Plot the residuals - first as a histogram and then as a function of log(length), and comment on what the plots show."
   ]
  },
  {
   "cell_type": "markdown",
   "metadata": {},
   "source": [
    "5. Plot the fitted linear model as a solid line on top of the original data"
   ]
  },
  {
   "cell_type": "markdown",
   "metadata": {},
   "source": [
    "6. Now fit a quadratic curve to the untransformed data, plot the residuals and the fitted curve."
   ]
  },
  {
   "cell_type": "markdown",
   "metadata": {},
   "source": [
    "7. Refit the model, but this time just a linear model to the log transformed data.  Make plots of the fitted model on the linear and the log scale."
   ]
  },
  {
   "cell_type": "markdown",
   "metadata": {},
   "source": [
    "8. Confirm the normality of the residuals."
   ]
  },
  {
   "cell_type": "markdown",
   "metadata": {},
   "source": [
    "9. Now add sex as a covariate, and see if that improves the model"
   ]
  },
  {
   "cell_type": "markdown",
   "metadata": {},
   "source": [
    "# Another example to try\n",
    "\n",
    "Play around with this dataset of data on health, with variables\n",
    "- sbp = systolic blood pressure\n",
    "- tobacco = cumulative tobacco (kg)\n",
    "- ldl = low density lipoprotein cholesterol\n",
    "- adiposity\n",
    "- famhist = family history of heart disease (Present, Absent)\n",
    "- typea = type-A behavior\n",
    "- obesity\n",
    "- alcohol = current alcohol consumption\n",
    "- age = age at onset\n",
    "- chd = coronary heart disease (yes=1, no=0)\n",
    "\n",
    "A retrospective sample of males in a heart-disease high-risk region of the Western Cape, South Africa. There are roughly two controls per case of CHD. Many of the CHD positive men have undergone blood pressure reduction treatment and other programs to reduce their risk factors after their CHD event. In some cases the measurements were made after these treatments. These data are taken from a larger dataset, described in  Rousseauw et al, 1983, South African Medical Journal. "
   ]
  },
  {
   "cell_type": "code",
   "execution_count": null,
   "metadata": {},
   "outputs": [],
   "source": [
    "df = pd.read_csv('SAheart.csv', index_col=0)\n",
    "df.head()"
   ]
  }
 ],
 "metadata": {
  "kernelspec": {
   "display_name": "Python 3",
   "language": "python",
   "name": "python3"
  },
  "language_info": {
   "codemirror_mode": {
    "name": "ipython",
    "version": 3
   },
   "file_extension": ".py",
   "mimetype": "text/x-python",
   "name": "python",
   "nbconvert_exporter": "python",
   "pygments_lexer": "ipython3",
   "version": "3.8.8"
  }
 },
 "nbformat": 4,
 "nbformat_minor": 2
}
