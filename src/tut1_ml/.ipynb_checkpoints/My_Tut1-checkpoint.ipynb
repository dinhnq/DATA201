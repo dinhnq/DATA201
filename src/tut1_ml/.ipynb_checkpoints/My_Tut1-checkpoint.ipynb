{
 "cells": [
  {
   "cell_type": "code",
   "execution_count": 1,
   "id": "a753292c",
   "metadata": {},
   "outputs": [],
   "source": [
    "import numpy \n",
    "import pandas\n",
    "import matplotlib.pyplot as pyplot"
   ]
  },
  {
   "cell_type": "markdown",
   "id": "baf40a0c",
   "metadata": {},
   "source": [
    "# Task 1 - NZ electricity production and use\n",
    "Get dataframe in 'Table 1' sheet of 'electricity-statistics' file  \n",
    "Excel format: \n",
    "1. Top 9 rows - nonsense\n",
    "2. Row 10th - title row\n",
    "3. Row 11th - empty\n",
    "\n",
    "After skiprows:\n",
    "1. Row 10th - title row\n",
    "2. Row 11 - row 0, row 12 - row 1, row 13 - row 2,..."
   ]
  },
  {
   "cell_type": "code",
   "execution_count": 30,
   "id": "baac21f8",
   "metadata": {},
   "outputs": [],
   "source": [
    "xls = pandas.ExcelFile('../../res/data/electricity-statistics.xls')\n",
    "df = pandas.read_excel(xls, 'Table 1', skiprows = 9)\n",
    "df = df.drop(0)"
   ]
  },
  {
   "cell_type": "markdown",
   "id": "91da69e8",
   "metadata": {},
   "source": [
    "Get generation data and consumption data\n",
    "Get from colum 62 (0,1,...61: empty in consumption data)\n",
    "\n",
    "In the cleaned dataframe:\n",
    "1. Generation data: row 0\n",
    "2. Consumption data: row 14"
   ]
  },
  {
   "cell_type": "code",
   "execution_count": 31,
   "id": "1101a37c",
   "metadata": {},
   "outputs": [],
   "source": [
    "gen_row_start = 0\n",
    "con_row_start = 14\n",
    "\n",
    "gen_col_start = 62\n",
    "con_col_start = 62\n",
    "\n",
    "gen_col_end = -1\n",
    "con_col_end = -1\n",
    "\n",
    "cols = df.columns[62:-1]\n",
    "df.rename(columns = lambda s: 1900+(int(s)//365) if s in cols else s, inplace = True)\n",
    "\n",
    "gen = df.iloc[gen_row_start, gen_col_start:gen_col_end]\n",
    "con = df.iloc[con_row_start, con_col_start:con_col_end]"
   ]
  },
  {
   "cell_type": "markdown",
   "id": "af8c4757",
   "metadata": {},
   "source": [
    "Plot the generation and consumption on the same time axis"
   ]
  },
  {
   "cell_type": "code",
   "execution_count": 41,
   "id": "a00b039d",
   "metadata": {},
   "outputs": [
    {
     "data": {
      "text/plain": [
       "(1988.0, 2020.0, 6000.0, 12000.0)"
      ]
     },
     "execution_count": 41,
     "metadata": {},
     "output_type": "execute_result"
    },
    {
     "data": {
      "image/png": "[encoded data removed]",
      "text/plain": [
       "<Figure size 432x288 with 1 Axes>"
      ]
     },
     "metadata": {
      "needs_background": "light"
     },
     "output_type": "display_data"
    }
   ],
   "source": [
    "pyplot.plot(gen,'b.')\n",
    "pyplot.plot(con, 'r.')\n",
    "\n",
    "pyplot.axis([1988,2020,6000,12000])"
   ]
  },
  {
   "cell_type": "markdown",
   "id": "4f697b1b",
   "metadata": {},
   "source": [
    "Barcharts for 3 types of generation methods: hydro, geothermal, gas"
   ]
  },
  {
   "cell_type": "code",
   "execution_count": 42,
   "id": "7c20390c",
   "metadata": {},
   "outputs": [],
   "source": [
    "hyd_row = 1\n",
    "geo_row = 2\n",
    "gas_row = 9\n",
    "\n",
    "hyd_col_start = 1\n",
    "geo_col_start = 1\n",
    "gas_col_start = 1\n",
    "\n",
    "hyd = df.iloc[hyd_row, hyd_col_start:]\n",
    "geo = df.iloc[geo_row, geo_col_start:]\n",
    "gas = df.iloc[gas_row, gas_col_start:]"
   ]
  },
  {
   "cell_type": "code",
   "execution_count": 53,
   "id": "19095fbc",
   "metadata": {},
   "outputs": [
    {
     "data": {
      "text/plain": [
       "<matplotlib.legend.Legend at 0x7fdd05247550>"
      ]
     },
     "execution_count": 53,
     "metadata": {},
     "output_type": "execute_result"
    },
    {
     "data": {
      "image/png": "[encoded data removed]",
      "text/plain": [
       "<Figure size 432x288 with 1 Axes>"
      ]
     },
     "metadata": {
      "needs_background": "light"
     },
     "output_type": "display_data"
    }
   ],
   "source": [
    "bar_width = 0.3\n",
    "hyd_len = len(hyd)\n",
    "hyd_index = numpy.arange(hyd_len)\n",
    "\n",
    "geo_index = hyd_index + bar_width\n",
    "gas_index = geo_index + bar_width\n",
    "\n",
    "hyd_x = hyd_index\n",
    "hyd_y = hyd\n",
    "\n",
    "geo_x = geo_index\n",
    "geo_y = geo\n",
    "\n",
    "gas_x = gas_index\n",
    "gas_y = gas\n",
    "\n",
    "bar_hyd = pyplot.bar(hyd_x, hyd_y, bar_width)\n",
    "bar_geo = pyplot.bar(geo_x, geo_y, bar_width)\n",
    "bar_gas = pyplot.bar(gas_x, gas_y, bar_width)\n",
    "\n",
    "pyplot.ylabel('GWh')\n",
    "pyplot.title('Generation methods over time')\n",
    "pyplot.legend((bar_hyd[0], bar_geo[0], bar_gas[0]), ('Hydro','Geotherm','Gas'))"
   ]
  },
  {
   "cell_type": "markdown",
   "id": "b3166910",
   "metadata": {},
   "source": [
    "Plot generation and consumption against each other\n",
    "\n",
    "Step 1: cleanse data"
   ]
  },
  {
   "cell_type": "code",
   "execution_count": 57,
   "id": "1f738162",
   "metadata": {},
   "outputs": [],
   "source": [
    "ERRORS_NaN = 'coerce'\n",
    "\n",
    "gen = pandas.to_numeric(gen, errors=ERRORS_NaN)\n",
    "con = pandas.to_numeric(con, errors=ERRORS_NaN)"
   ]
  },
  {
   "cell_type": "code",
   "execution_count": 87,
   "id": "f0c762f6",
   "metadata": {},
   "outputs": [],
   "source": [
    "POLY_DEGREE_LINEAR = 1          #y = ax + b\n",
    "POLY_DEGREE_PARABOL = 2         #y = ax^2 + bx + c\n",
    "\n",
    "x_values = con\n",
    "y_values = gen\n",
    "\n",
    "coefficients = numpy.polyfit(x_values, y_values, POLY_DEGREE_LINEAR)"
   ]
  },
  {
   "cell_type": "code",
   "execution_count": 88,
   "id": "6821b7bd",
   "metadata": {},
   "outputs": [],
   "source": [
    "slope_estimated = coefficients[0]\n",
    "intercept_estimated = coefficients[1]\n",
    "x_values_estimator = x_values\n",
    "\n",
    "y_values_estimated = slope_estimated*x_values_estimator + intercept_estimated"
   ]
  },
  {
   "cell_type": "code",
   "execution_count": 90,
   "id": "59f760d0",
   "metadata": {},
   "outputs": [
    {
     "data": {
      "text/plain": [
       "[<matplotlib.lines.Line2D at 0x7fdd07d19850>]"
      ]
     },
     "execution_count": 90,
     "metadata": {},
     "output_type": "execute_result"
    },
    {
     "data": {
      "image/png": "[encoded data removed]",
      "text/plain": [
       "<Figure size 432x288 with 1 Axes>"
      ]
     },
     "metadata": {
      "needs_background": "light"
     },
     "output_type": "display_data"
    }
   ],
   "source": [
    "pyplot.plot(x_values, y_values, '.')\n",
    "\n",
    "pyplot.plot(x_values_estimator, y_values_estimated)"
   ]
  },
  {
   "cell_type": "markdown",
   "id": "f3ead566",
   "metadata": {},
   "source": [
    "Excample 2: Linear regression with some fake data"
   ]
  },
  {
   "cell_type": "code",
   "execution_count": 91,
   "id": "bf746798",
   "metadata": {},
   "outputs": [],
   "source": [
    "consumption_data = [ 503 , 584 , 587 ,570 , 566 , 656 , 662, 682 , 705 , 750 , 780 , 845 , 891 , 976 ]\n",
    "date_data = numpy.arange(14)                  \n",
    "\n",
    "df_fake = pandas.DataFrame({'consumption': consumption_data, 'date': date_data})\n",
    "\n",
    "x_values = df_fake.date\n",
    "y_values = df_fake.consumption\n",
    "coefficients = numpy.polyfit(x_values, y_values, POLY_DEGREE_LINEAR)\n",
    "\n",
    "slope_estimated = coefficients[0]\n",
    "intercept_estimated = coefficients[1]\n",
    "\n",
    "x_values_estimator = x_values\n",
    "y_values_estimated = x_values_estimator*slope_estimated + intercept_estimated"
   ]
  },
  {
   "cell_type": "code",
   "execution_count": 93,
   "id": "650669b3",
   "metadata": {},
   "outputs": [
    {
     "data": {
      "text/plain": [
       "[<matplotlib.lines.Line2D at 0x7fdd080493a0>]"
      ]
     },
     "execution_count": 93,
     "metadata": {},
     "output_type": "execute_result"
    },
    {
     "data": {
      "image/png": "[encoded data removed]",
      "text/plain": [
       "<Figure size 432x288 with 1 Axes>"
      ]
     },
     "metadata": {
      "needs_background": "light"
     },
     "output_type": "display_data"
    }
   ],
   "source": [
    "pyplot.plot(x_values, y_values, '.')\n",
    "pyplot.plot(x_values_estimator, y_values_estimated)"
   ]
  },
  {
   "cell_type": "markdown",
   "id": "8c888740",
   "metadata": {},
   "source": [
    "## Task 2: More on the CO2 data"
   ]
  },
  {
   "cell_type": "code",
   "execution_count": 111,
   "id": "85d59197",
   "metadata": {},
   "outputs": [],
   "source": [
    "df_co2 = pandas.read_csv('../../res/data/daily_flask_co2_mlo.csv', skiprows=70, header=None, parse_dates=[0])\n",
    "df_co2.columns = ['Date', 'Time', 'T1', 'T2', 'Flag1', 'Flag2', 'CO2']"
   ]
  },
  {
   "cell_type": "code",
   "execution_count": 112,
   "id": "4ab64140",
   "metadata": {},
   "outputs": [],
   "source": [
    "def split_date(df, col):\n",
    "    df[col+'_year'] = df[col].apply(lambda x: x.year)\n",
    "    df[col+'_month'] = df[col].apply(lambda x: x.month)\n",
    "    df[col+'_day'] = df[col].apply(lambda x: x.day)"
   ]
  },
  {
   "cell_type": "code",
   "execution_count": 113,
   "id": "698ffb44",
   "metadata": {},
   "outputs": [],
   "source": [
    "col_2_split = 'Date'\n",
    "split_date(df_co2, col_2_split)"
   ]
  },
  {
   "cell_type": "markdown",
   "id": "a8eb592a",
   "metadata": {},
   "source": [
    "Line chart of CO2 in 3 years 2016, 2017, 2018 in order"
   ]
  },
  {
   "cell_type": "code",
   "execution_count": 120,
   "id": "f1b90f62",
   "metadata": {},
   "outputs": [
    {
     "data": {
      "text/plain": [
       "[<matplotlib.lines.Line2D at 0x7fdd0790ac40>]"
      ]
     },
     "execution_count": 120,
     "metadata": {},
     "output_type": "execute_result"
    },
    {
     "data": {
      "image/png": "[encoded data removed]",
      "text/plain": [
       "<Figure size 432x288 with 1 Axes>"
      ]
     },
     "metadata": {
      "needs_background": "light"
     },
     "output_type": "display_data"
    }
   ],
   "source": [
    "df_if_2016 = df_co2[df_co2.Date_year == 2016]\n",
    "df_if_2017 = df_co2[df_co2.Date_year == 2017]\n",
    "df_if_2018 = df_co2[df_co2.Date_year == 2018]\n",
    "\n",
    "co2_2016 = df_if_2016.CO2\n",
    "co2_2017 = df_if_2017.CO2\n",
    "co2_2018 = df_if_2018.CO2\n",
    "\n",
    "pyplot.plot(co2_2016, 'r-')\n",
    "pyplot.plot(co2_2017, 'g-')\n",
    "pyplot.plot(co2_2018, 'b-')"
   ]
  },
  {
   "cell_type": "markdown",
   "id": "d065cf04",
   "metadata": {},
   "source": [
    "Let's see how jagged the plot is."
   ]
  },
  {
   "cell_type": "code",
   "execution_count": 124,
   "id": "39088061",
   "metadata": {},
   "outputs": [
    {
     "data": {
      "text/plain": [
       "[<matplotlib.lines.Line2D at 0x7fdd081e3400>]"
      ]
     },
     "execution_count": 124,
     "metadata": {},
     "output_type": "execute_result"
    },
    {
     "data": {
      "image/png": "[encoded data removed]",
      "text/plain": [
       "<Figure size 432x288 with 1 Axes>"
      ]
     },
     "metadata": {
      "needs_background": "light"
     },
     "output_type": "display_data"
    }
   ],
   "source": [
    "month_2016 = df_if_2016.Date_month\n",
    "month_2017 = df_if_2017.Date_month\n",
    "month_2018 = df_if_2018.Date_month\n",
    "\n",
    "pyplot.plot(month_2016, co2_2016, 'r-')\n",
    "pyplot.plot(month_2017, co2_2017, 'g-')\n",
    "pyplot.plot(month_2018, co2_2018, 'b-')"
   ]
  },
  {
   "cell_type": "markdown",
   "id": "5903ef79",
   "metadata": {},
   "source": [
    "We have to smooth co2 data in 2016, 2017, 2018 with 'moving average' technique"
   ]
  },
  {
   "cell_type": "code",
   "execution_count": 144,
   "id": "aaa3e85b",
   "metadata": {},
   "outputs": [],
   "source": [
    "#'Date', 'Time', 'T1', 'T2', 'Flag1', 'Flag2', 'CO2'\n",
    "date_col_name = 'Date'\n",
    "co2_col_name = 'CO2'\n",
    "\n",
    "date_col_index = 0\n",
    "co2_col_index = 6\n",
    "\n",
    "# copy data and indexes\n",
    "df_co2_new = df_co2.copy(deep=True).iloc[:,[date_col_index, co2_col_index]]"
   ]
  },
  {
   "cell_type": "markdown",
   "id": "ae4ff8ac",
   "metadata": {},
   "source": [
    "This dataframe has 2 indexes ['Date', 'CO2'], now change it to 1 index ['Date'] "
   ]
  },
  {
   "cell_type": "code",
   "execution_count": 145,
   "id": "3dab23df",
   "metadata": {},
   "outputs": [
    {
     "data": {
      "text/html": [
       "<div>\n",
       "<style scoped>\n",
       "    .dataframe tbody tr th:only-of-type {\n",
       "        vertical-align: middle;\n",
       "    }\n",
       "\n",
       "    .dataframe tbody tr th {\n",
       "        vertical-align: top;\n",
       "    }\n",
       "\n",
       "    .dataframe thead th {\n",
       "        text-align: right;\n",
       "    }\n",
       "</style>\n",
       "<table border=\"1\" class=\"dataframe\">\n",
       "  <thead>\n",
       "    <tr style=\"text-align: right;\">\n",
       "      <th></th>\n",
       "      <th>Date</th>\n",
       "      <th>CO2</th>\n",
       "      <th>Date_year</th>\n",
       "      <th>Date_month</th>\n",
       "      <th>Date_day</th>\n",
       "    </tr>\n",
       "    <tr>\n",
       "      <th>Date</th>\n",
       "      <th></th>\n",
       "      <th></th>\n",
       "      <th></th>\n",
       "      <th></th>\n",
       "      <th></th>\n",
       "    </tr>\n",
       "  </thead>\n",
       "  <tbody>\n",
       "    <tr>\n",
       "      <th>1960-03-31</th>\n",
       "      <td>1960-03-31</td>\n",
       "      <td>318.29</td>\n",
       "      <td>1960</td>\n",
       "      <td>3</td>\n",
       "      <td>31</td>\n",
       "    </tr>\n",
       "    <tr>\n",
       "      <th>1960-04-23</th>\n",
       "      <td>1960-04-23</td>\n",
       "      <td>318.61</td>\n",
       "      <td>1960</td>\n",
       "      <td>4</td>\n",
       "      <td>23</td>\n",
       "    </tr>\n",
       "    <tr>\n",
       "      <th>1960-04-24</th>\n",
       "      <td>1960-04-24</td>\n",
       "      <td>319.33</td>\n",
       "      <td>1960</td>\n",
       "      <td>4</td>\n",
       "      <td>24</td>\n",
       "    </tr>\n",
       "    <tr>\n",
       "      <th>1960-07-03</th>\n",
       "      <td>1960-07-03</td>\n",
       "      <td>320.35</td>\n",
       "      <td>1960</td>\n",
       "      <td>7</td>\n",
       "      <td>3</td>\n",
       "    </tr>\n",
       "    <tr>\n",
       "      <th>1960-07-17</th>\n",
       "      <td>1960-07-17</td>\n",
       "      <td>315.95</td>\n",
       "      <td>1960</td>\n",
       "      <td>7</td>\n",
       "      <td>17</td>\n",
       "    </tr>\n",
       "    <tr>\n",
       "      <th>...</th>\n",
       "      <td>...</td>\n",
       "      <td>...</td>\n",
       "      <td>...</td>\n",
       "      <td>...</td>\n",
       "      <td>...</td>\n",
       "    </tr>\n",
       "    <tr>\n",
       "      <th>2018-09-18</th>\n",
       "      <td>2018-09-18</td>\n",
       "      <td>405.46</td>\n",
       "      <td>2018</td>\n",
       "      <td>9</td>\n",
       "      <td>18</td>\n",
       "    </tr>\n",
       "    <tr>\n",
       "      <th>2018-09-25</th>\n",
       "      <td>2018-09-25</td>\n",
       "      <td>405.52</td>\n",
       "      <td>2018</td>\n",
       "      <td>9</td>\n",
       "      <td>25</td>\n",
       "    </tr>\n",
       "    <tr>\n",
       "      <th>2018-10-02</th>\n",
       "      <td>2018-10-02</td>\n",
       "      <td>405.45</td>\n",
       "      <td>2018</td>\n",
       "      <td>10</td>\n",
       "      <td>2</td>\n",
       "    </tr>\n",
       "    <tr>\n",
       "      <th>2018-10-09</th>\n",
       "      <td>2018-10-09</td>\n",
       "      <td>405.62</td>\n",
       "      <td>2018</td>\n",
       "      <td>10</td>\n",
       "      <td>9</td>\n",
       "    </tr>\n",
       "    <tr>\n",
       "      <th>2018-10-16</th>\n",
       "      <td>2018-10-16</td>\n",
       "      <td>405.99</td>\n",
       "      <td>2018</td>\n",
       "      <td>10</td>\n",
       "      <td>16</td>\n",
       "    </tr>\n",
       "  </tbody>\n",
       "</table>\n",
       "<p>2350 rows × 5 columns</p>\n",
       "</div>"
      ],
      "text/plain": [
       "                 Date     CO2  Date_year  Date_month  Date_day\n",
       "Date                                                          \n",
       "1960-03-31 1960-03-31  318.29       1960           3        31\n",
       "1960-04-23 1960-04-23  318.61       1960           4        23\n",
       "1960-04-24 1960-04-24  319.33       1960           4        24\n",
       "1960-07-03 1960-07-03  320.35       1960           7         3\n",
       "1960-07-17 1960-07-17  315.95       1960           7        17\n",
       "...               ...     ...        ...         ...       ...\n",
       "2018-09-18 2018-09-18  405.46       2018           9        18\n",
       "2018-09-25 2018-09-25  405.52       2018           9        25\n",
       "2018-10-02 2018-10-02  405.45       2018          10         2\n",
       "2018-10-09 2018-10-09  405.62       2018          10         9\n",
       "2018-10-16 2018-10-16  405.99       2018          10        16\n",
       "\n",
       "[2350 rows x 5 columns]"
      ]
     },
     "execution_count": 145,
     "metadata": {},
     "output_type": "execute_result"
    }
   ],
   "source": [
    "split_date(df_co2_new, date_col_name)\n",
    "\n",
    "df_co2_new.set_index(date_col_name, inplace=True, drop=False)\n",
    "df_co2_new"
   ]
  },
  {
   "cell_type": "markdown",
   "id": "7ce084be",
   "metadata": {},
   "source": [
    "Resample this dataframe to average over months and drop NaN"
   ]
  },
  {
   "cell_type": "code",
   "execution_count": 148,
   "id": "f08bd74f",
   "metadata": {},
   "outputs": [],
   "source": [
    "# rules\n",
    "# M = month\n",
    "# 3T = the series into 3 minute bins\n",
    "# 17min = the series into 17 minute bins\n",
    "# 30S = the series into 30 second bins\n",
    "\n",
    "rule_to_one_month = 'M'\n",
    "df_co2_mean = df_co2_new.resample(rule_to_one_month).mean()\n",
    "\n",
    "df_co2_mean = df_co2_mean.dropna()"
   ]
  },
  {
   "cell_type": "code",
   "execution_count": 149,
   "id": "40aaa039",
   "metadata": {},
   "outputs": [
    {
     "data": {
      "text/plain": [
       "[<matplotlib.lines.Line2D at 0x7fdd0c0774f0>]"
      ]
     },
     "execution_count": 149,
     "metadata": {},
     "output_type": "execute_result"
    },
    {
     "data": {
      "image/png": "[encoded data removed]",
      "text/plain": [
       "<Figure size 432x288 with 1 Axes>"
      ]
     },
     "metadata": {
      "needs_background": "light"
     },
     "output_type": "display_data"
    }
   ],
   "source": [
    "df_if_2016 = df_co2_mean[df_co2_mean.Date_year == 2016]\n",
    "df_if_2017 = df_co2_mean[df_co2_mean.Date_year == 2017]\n",
    "df_if_2018 = df_co2_mean[df_co2_mean.Date_year == 2018]\n",
    "\n",
    "co2_2016 = df_if_2016.CO2\n",
    "co2_2017 = df_if_2017.CO2\n",
    "co2_2018 = df_if_2018.CO2\n",
    "\n",
    "month_2016 = df_if_2016.Date_month\n",
    "month_2017 = df_if_2017.Date_month\n",
    "month_2018 = df_if_2018.Date_month\n",
    "\n",
    "pyplot.plot(month_2016, co2_2016, 'r-')\n",
    "pyplot.plot(month_2017, co2_2017, 'g-')\n",
    "pyplot.plot(month_2018, co2_2018, 'b-')"
   ]
  },
  {
   "cell_type": "code",
   "execution_count": 150,
   "id": "a6eeba41",
   "metadata": {},
   "outputs": [
    {
     "data": {
      "text/plain": [
       "[<matplotlib.lines.Line2D at 0x7fdd0c1269a0>]"
      ]
     },
     "execution_count": 150,
     "metadata": {},
     "output_type": "execute_result"
    },
    {
     "data": {
      "image/png": "[encoded data removed]",
      "text/plain": [
       "<Figure size 432x288 with 1 Axes>"
      ]
     },
     "metadata": {
      "needs_background": "light"
     },
     "output_type": "display_data"
    }
   ],
   "source": [
    "pyplot.plot(co2_2016, 'r-')\n",
    "pyplot.plot(co2_2017, 'g-')\n",
    "pyplot.plot(co2_2018, 'b-')"
   ]
  },
  {
   "cell_type": "code",
   "execution_count": null,
   "id": "ae807eb7",
   "metadata": {},
   "outputs": [],
   "source": []
  }
 ],
 "metadata": {
  "kernelspec": {
   "display_name": "Python 3",
   "language": "python",
   "name": "python3"
  },
  "language_info": {
   "codemirror_mode": {
    "name": "ipython",
    "version": 3
   },
   "file_extension": ".py",
   "mimetype": "text/x-python",
   "name": "python",
   "nbconvert_exporter": "python",
   "pygments_lexer": "ipython3",
   "version": "3.8.8"
  }
 },
 "nbformat": 4,
 "nbformat_minor": 5
}
