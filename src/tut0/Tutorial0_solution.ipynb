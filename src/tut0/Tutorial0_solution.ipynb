{
 "cells": [
  {
   "cell_type": "code",
   "execution_count": 1,
   "metadata": {},
   "outputs": [],
   "source": [
    "import numpy as np\n",
    "import pandas as pd\n",
    "import matplotlib.pyplot as pl\n",
    "%matplotlib inline"
   ]
  },
  {
   "cell_type": "markdown",
   "metadata": {},
   "source": [
    "Some Numpy practice\n",
    "==="
   ]
  },
  {
   "cell_type": "markdown",
   "metadata": {},
   "source": [
    "Make an array A of size 6 by 4 where every element is an integer of value 2"
   ]
  },
  {
   "cell_type": "code",
   "execution_count": 6,
   "metadata": {},
   "outputs": [
    {
     "name": "stdout",
     "output_type": "stream",
     "text": [
      "[[2. 2. 2. 2.]\n",
      " [2. 2. 2. 2.]\n",
      " [2. 2. 2. 2.]\n",
      " [2. 2. 2. 2.]\n",
      " [2. 2. 2. 2.]\n",
      " [2. 2. 2. 2.]]\n"
     ]
    }
   ],
   "source": [
    "A=2*np.ones((6,4))\n",
    "print(A)"
   ]
  },
  {
   "cell_type": "markdown",
   "metadata": {},
   "source": [
    "Make an array B of size 6 by 4 that has 3 on the leading diagonal and 1\n",
    "everywhere else. "
   ]
  },
  {
   "cell_type": "code",
   "execution_count": 152,
   "metadata": {},
   "outputs": [],
   "source": [
    "B = np.ones((6,4))+2*np.eye(6,4)"
   ]
  },
  {
   "cell_type": "markdown",
   "metadata": {},
   "source": [
    "Multiply these two matrices together. Why does A * B work, but\n",
    "not np.dot(A,B)?"
   ]
  },
  {
   "cell_type": "code",
   "execution_count": 155,
   "metadata": {},
   "outputs": [
    {
     "name": "stdout",
     "output_type": "stream",
     "text": [
      "[[6. 2. 2. 2.]\n",
      " [2. 6. 2. 2.]\n",
      " [2. 2. 6. 2.]\n",
      " [2. 2. 2. 6.]\n",
      " [2. 2. 2. 2.]\n",
      " [2. 2. 2. 2.]]\n"
     ]
    },
    {
     "ename": "ValueError",
     "evalue": "shapes (6,4) and (6,4) not aligned: 4 (dim 1) != 6 (dim 0)",
     "output_type": "error",
     "traceback": [
      "\u001b[0;31m---------------------------------------------------------------------------\u001b[0m",
      "\u001b[0;31mValueError\u001b[0m                                Traceback (most recent call last)",
      "\u001b[0;32m<ipython-input-155-951492fcd9de>\u001b[0m in \u001b[0;36m<module>\u001b[0;34m()\u001b[0m\n\u001b[1;32m      1\u001b[0m \u001b[0mprint\u001b[0m\u001b[0;34m(\u001b[0m\u001b[0mA\u001b[0m\u001b[0;34m*\u001b[0m\u001b[0mB\u001b[0m\u001b[0;34m)\u001b[0m\u001b[0;34m\u001b[0m\u001b[0m\n\u001b[0;32m----> 2\u001b[0;31m \u001b[0mnp\u001b[0m\u001b[0;34m.\u001b[0m\u001b[0mdot\u001b[0m\u001b[0;34m(\u001b[0m\u001b[0mA\u001b[0m\u001b[0;34m,\u001b[0m\u001b[0mB\u001b[0m\u001b[0;34m)\u001b[0m\u001b[0;34m\u001b[0m\u001b[0m\n\u001b[0m",
      "\u001b[0;31mValueError\u001b[0m: shapes (6,4) and (6,4) not aligned: 4 (dim 1) != 6 (dim 0)"
     ]
    }
   ],
   "source": [
    "print(A*B)\n",
    "np.dot(A,B)\n",
    "# As the error message shows, the shapes are wrong -- the second dim of matrix 1 needs to match the first of matrix 2"
   ]
  },
  {
   "cell_type": "markdown",
   "metadata": {},
   "source": [
    "Explore the difference between np.dot(A.T,B) and np.dot(A,B.T). Why are\n",
    "the results different shapes?"
   ]
  },
  {
   "cell_type": "code",
   "execution_count": 158,
   "metadata": {},
   "outputs": [
    {
     "name": "stdout",
     "output_type": "stream",
     "text": [
      "[[16. 16. 16. 16.]\n",
      " [16. 16. 16. 16.]\n",
      " [16. 16. 16. 16.]\n",
      " [16. 16. 16. 16.]]\n",
      "[[12. 12. 12. 12.  8.  8.]\n",
      " [12. 12. 12. 12.  8.  8.]\n",
      " [12. 12. 12. 12.  8.  8.]\n",
      " [12. 12. 12. 12.  8.  8.]\n",
      " [12. 12. 12. 12.  8.  8.]\n",
      " [12. 12. 12. 12.  8.  8.]]\n"
     ]
    }
   ],
   "source": [
    "print(np.dot(A.T,B))\n",
    "print(np.dot(A,B.T))\n",
    "# It's about the other dimensions. The first is 4 by 4, the second is 6 by 6. Now explain the values in the second one"
   ]
  },
  {
   "cell_type": "markdown",
   "metadata": {},
   "source": [
    "Arrange the integers between 3 and 29 into a 3D (3 by 3 by 3) array called C"
   ]
  },
  {
   "cell_type": "code",
   "execution_count": 136,
   "metadata": {},
   "outputs": [
    {
     "name": "stdout",
     "output_type": "stream",
     "text": [
      "[[[ 3  4  5]\n",
      "  [ 6  7  8]\n",
      "  [ 9 10 11]]\n",
      "\n",
      " [[12 13 14]\n",
      "  [15 16 17]\n",
      "  [18 19 20]]\n",
      "\n",
      " [[21 22 23]\n",
      "  [24 25 26]\n",
      "  [27 28 29]]]\n"
     ]
    }
   ],
   "source": [
    "C = np.reshape(np.arange(3,30),(3,3,3))\n",
    "print(C)"
   ]
  },
  {
   "cell_type": "markdown",
   "metadata": {},
   "source": [
    "+ Make a new C that is 4 by 4, with the first column being all of value 1, the next 2, the next 3, and the last one 4. \n",
    "+ Then extract the first and third rows. \n",
    "+ Matrix multiply them by the second and fourth columns.\n",
    "+ And then find the places where that product is bigger than 20. "
   ]
  },
  {
   "cell_type": "code",
   "execution_count": 146,
   "metadata": {},
   "outputs": [
    {
     "name": "stdout",
     "output_type": "stream",
     "text": [
      "[[1. 2. 3. 4.]\n",
      " [1. 2. 3. 4.]\n",
      " [1. 2. 3. 4.]\n",
      " [1. 2. 3. 4.]]\n"
     ]
    },
    {
     "data": {
      "text/plain": [
       "(array([0, 1]), array([1, 1]))"
      ]
     },
     "execution_count": 146,
     "metadata": {},
     "output_type": "execute_result"
    }
   ],
   "source": [
    "C = np.ones((4,4))\n",
    "C[:,1] = 2\n",
    "C[:,2] = 3\n",
    "C[:,3] = 4\n",
    "print(C)\n",
    "D = np.dot(C[[0,2],:],C[:,[1,3]])\n",
    "np.where(D>20)"
   ]
  },
  {
   "cell_type": "markdown",
   "metadata": {},
   "source": [
    "# Some Pandas practice"
   ]
  },
  {
   "cell_type": "markdown",
   "metadata": {},
   "source": [
    "This dataset has the popularity of names over the past 60 or so years. If you open it in Excel you will see it is pretty messy. This first few lines below just load in the correct parts of the dataset. This kind of thing is quite common with real-world data."
   ]
  },
  {
   "cell_type": "code",
   "execution_count": 5,
   "metadata": {
    "scrolled": true
   },
   "outputs": [],
   "source": [
    "# This is nuisance stuff to read the correct columns\n",
    "a = np.arange(2,196,3)\n",
    "b = np.arange(3,196,3)\n",
    "indices = np.zeros(int(196/3*2+1),dtype=int)\n",
    "indices[0] = 1\n",
    "indices[1::2] = a\n",
    "indices[2::2] = b\n",
    "\n",
    "#girls = pd.read_excel('/Users/marslast/Dropbox/Transfer/Teaching/DATA201/Datasets/Names.xlsx',sheet_name='Girls\\' Names',skiprows=4,index_col=None,header=[0,1],usecols=list(indices), engine='openpyxl')\n",
    "girls = pd.read_excel('../Datasets/Names.xlsx',sheet_name='Girls\\' Names',skiprows=4,index_col=None,usecols=list(indices), engine='openpyxl')\n",
    "girls = girls.loc[1:100]"
   ]
  },
  {
   "cell_type": "markdown",
   "metadata": {},
   "source": [
    "Print out the first lines to make sure it makes sense"
   ]
  },
  {
   "cell_type": "code",
   "execution_count": 6,
   "metadata": {},
   "outputs": [
    {
     "data": {
      "text/html": [
       "<div>\n",
       "<style scoped>\n",
       "    .dataframe tbody tr th:only-of-type {\n",
       "        vertical-align: middle;\n",
       "    }\n",
       "\n",
       "    .dataframe tbody tr th {\n",
       "        vertical-align: top;\n",
       "    }\n",
       "\n",
       "    .dataframe thead th {\n",
       "        text-align: right;\n",
       "    }\n",
       "</style>\n",
       "<table border=\"1\" class=\"dataframe\">\n",
       "  <thead>\n",
       "    <tr style=\"text-align: right;\">\n",
       "      <th></th>\n",
       "      <th>Rank</th>\n",
       "      <th>1954</th>\n",
       "      <th>Unnamed: 3</th>\n",
       "      <th>1955</th>\n",
       "      <th>Unnamed: 6</th>\n",
       "      <th>1956</th>\n",
       "      <th>Unnamed: 9</th>\n",
       "      <th>1957</th>\n",
       "      <th>Unnamed: 12</th>\n",
       "      <th>1958</th>\n",
       "      <th>...</th>\n",
       "      <th>2014</th>\n",
       "      <th>Unnamed: 183</th>\n",
       "      <th>2015</th>\n",
       "      <th>Unnamed: 186</th>\n",
       "      <th>2016</th>\n",
       "      <th>Unnamed: 189</th>\n",
       "      <th>2017</th>\n",
       "      <th>Unnamed: 192</th>\n",
       "      <th>2018</th>\n",
       "      <th>Unnamed: 195</th>\n",
       "    </tr>\n",
       "  </thead>\n",
       "  <tbody>\n",
       "    <tr>\n",
       "      <th>1</th>\n",
       "      <td>1.0</td>\n",
       "      <td>Christine</td>\n",
       "      <td>779</td>\n",
       "      <td>Susan</td>\n",
       "      <td>743</td>\n",
       "      <td>Susan</td>\n",
       "      <td>851</td>\n",
       "      <td>Karen</td>\n",
       "      <td>826</td>\n",
       "      <td>Susan</td>\n",
       "      <td>...</td>\n",
       "      <td>Charlotte</td>\n",
       "      <td>255</td>\n",
       "      <td>Olivia</td>\n",
       "      <td>268</td>\n",
       "      <td>Olivia</td>\n",
       "      <td>266</td>\n",
       "      <td>Charlotte</td>\n",
       "      <td>277</td>\n",
       "      <td>Charlotte</td>\n",
       "      <td>233</td>\n",
       "    </tr>\n",
       "    <tr>\n",
       "      <th>2</th>\n",
       "      <td>2.0</td>\n",
       "      <td>Susan</td>\n",
       "      <td>735</td>\n",
       "      <td>Christine</td>\n",
       "      <td>689</td>\n",
       "      <td>Christine</td>\n",
       "      <td>754</td>\n",
       "      <td>Susan</td>\n",
       "      <td>813</td>\n",
       "      <td>Karen</td>\n",
       "      <td>...</td>\n",
       "      <td>Olivia</td>\n",
       "      <td>243</td>\n",
       "      <td>Charlotte</td>\n",
       "      <td>260</td>\n",
       "      <td>Charlotte</td>\n",
       "      <td>262</td>\n",
       "      <td>Harper</td>\n",
       "      <td>236</td>\n",
       "      <td>Isla</td>\n",
       "      <td>229</td>\n",
       "    </tr>\n",
       "    <tr>\n",
       "      <th>3</th>\n",
       "      <td>3.0</td>\n",
       "      <td>Margaret</td>\n",
       "      <td>562</td>\n",
       "      <td>Margaret</td>\n",
       "      <td>559</td>\n",
       "      <td>Karen</td>\n",
       "      <td>615</td>\n",
       "      <td>Christine</td>\n",
       "      <td>773</td>\n",
       "      <td>Christine</td>\n",
       "      <td>...</td>\n",
       "      <td>Isla</td>\n",
       "      <td>226</td>\n",
       "      <td>Harper</td>\n",
       "      <td>259</td>\n",
       "      <td>Isla</td>\n",
       "      <td>239</td>\n",
       "      <td>Isla</td>\n",
       "      <td>232</td>\n",
       "      <td>Olivia</td>\n",
       "      <td>211</td>\n",
       "    </tr>\n",
       "    <tr>\n",
       "      <th>4</th>\n",
       "      <td>4.0</td>\n",
       "      <td>Judith</td>\n",
       "      <td>531</td>\n",
       "      <td>Judith</td>\n",
       "      <td>459</td>\n",
       "      <td>Judith</td>\n",
       "      <td>478</td>\n",
       "      <td>Jennifer</td>\n",
       "      <td>460</td>\n",
       "      <td>Jennifer</td>\n",
       "      <td>...</td>\n",
       "      <td>Emily</td>\n",
       "      <td>221</td>\n",
       "      <td>Sophie</td>\n",
       "      <td>255</td>\n",
       "      <td>Harper</td>\n",
       "      <td>236</td>\n",
       "      <td>Olivia</td>\n",
       "      <td>225</td>\n",
       "      <td>Amelia</td>\n",
       "      <td>205</td>\n",
       "    </tr>\n",
       "    <tr>\n",
       "      <th>5</th>\n",
       "      <td>5.0</td>\n",
       "      <td>Jennifer</td>\n",
       "      <td>460</td>\n",
       "      <td>Jennifer</td>\n",
       "      <td>448</td>\n",
       "      <td>Margaret</td>\n",
       "      <td>467</td>\n",
       "      <td>Margaret</td>\n",
       "      <td>437</td>\n",
       "      <td>Margaret</td>\n",
       "      <td>...</td>\n",
       "      <td>Sophie</td>\n",
       "      <td>211</td>\n",
       "      <td>Emily</td>\n",
       "      <td>247</td>\n",
       "      <td>Ella</td>\n",
       "      <td>220</td>\n",
       "      <td>Ava</td>\n",
       "      <td>217</td>\n",
       "      <td>Harper</td>\n",
       "      <td>193</td>\n",
       "    </tr>\n",
       "  </tbody>\n",
       "</table>\n",
       "<p>5 rows × 131 columns</p>\n",
       "</div>"
      ],
      "text/plain": [
       "   Rank       1954 Unnamed: 3       1955 Unnamed: 6       1956 Unnamed: 9  \\\n",
       "1   1.0  Christine        779      Susan        743      Susan        851   \n",
       "2   2.0      Susan        735  Christine        689  Christine        754   \n",
       "3   3.0   Margaret        562   Margaret        559      Karen        615   \n",
       "4   4.0     Judith        531     Judith        459     Judith        478   \n",
       "5   5.0   Jennifer        460   Jennifer        448   Margaret        467   \n",
       "\n",
       "        1957 Unnamed: 12       1958  ...       2014 Unnamed: 183       2015  \\\n",
       "1      Karen         826      Susan  ...  Charlotte          255     Olivia   \n",
       "2      Susan         813      Karen  ...     Olivia          243  Charlotte   \n",
       "3  Christine         773  Christine  ...       Isla          226     Harper   \n",
       "4   Jennifer         460   Jennifer  ...      Emily          221     Sophie   \n",
       "5   Margaret         437   Margaret  ...     Sophie          211      Emily   \n",
       "\n",
       "  Unnamed: 186       2016 Unnamed: 189       2017 Unnamed: 192       2018  \\\n",
       "1          268     Olivia          266  Charlotte          277  Charlotte   \n",
       "2          260  Charlotte          262     Harper          236       Isla   \n",
       "3          259       Isla          239       Isla          232     Olivia   \n",
       "4          255     Harper          236     Olivia          225     Amelia   \n",
       "5          247       Ella          220        Ava          217     Harper   \n",
       "\n",
       "  Unnamed: 195  \n",
       "1          233  \n",
       "2          229  \n",
       "3          211  \n",
       "4          205  \n",
       "5          193  \n",
       "\n",
       "[5 rows x 131 columns]"
      ]
     },
     "execution_count": 6,
     "metadata": {},
     "output_type": "execute_result"
    }
   ],
   "source": [
    "girls.head()"
   ]
  },
  {
   "cell_type": "markdown",
   "metadata": {},
   "source": [
    "Compute how many girls were given those top 100 names year by year"
   ]
  },
  {
   "cell_type": "code",
   "execution_count": 7,
   "metadata": {},
   "outputs": [
    {
     "name": "stdout",
     "output_type": "stream",
     "text": [
      "1954 Unnamed: 3    17780\n",
      "dtype: object\n",
      "1955 Unnamed: 6    17787\n",
      "dtype: object\n",
      "1956 Unnamed: 9    17910\n",
      "dtype: object\n",
      "1957 Unnamed: 12    18794\n",
      "dtype: object\n",
      "1958 Unnamed: 15    19102\n",
      "dtype: object\n",
      "1959 Unnamed: 18    19701\n",
      "dtype: object\n",
      "1960 Unnamed: 21    19788\n",
      "dtype: object\n",
      "1961 Unnamed: 24    20535\n",
      "dtype: object\n",
      "1962 Unnamed: 27    20114\n",
      "dtype: object\n",
      "1963 Unnamed: 30    19674\n",
      "dtype: object\n",
      "1964 Unnamed: 33    18697\n",
      "dtype: object\n",
      "1965 Unnamed: 36    17763\n",
      "dtype: object\n",
      "1966 Unnamed: 39    17857\n",
      "dtype: object\n",
      "1967 Unnamed: 42    18189\n",
      "dtype: object\n",
      "1968 Unnamed: 45    18156\n",
      "dtype: object\n",
      "1969 Unnamed: 48    18143\n",
      "dtype: object\n",
      "1970 Unnamed: 51    17919\n",
      "dtype: object\n",
      "1971 Unnamed: 54    18458\n",
      "dtype: object\n",
      "1972 Unnamed: 57    17442\n",
      "dtype: object\n",
      "1973 Unnamed: 60    16823\n",
      "dtype: object\n",
      "1974 Unnamed: 63    15884\n",
      "dtype: object\n",
      "1975 Unnamed: 66    15043\n",
      "dtype: object\n",
      "1976 Unnamed: 69    14088\n",
      "dtype: object\n",
      "1977 Unnamed: 72    13849\n",
      "dtype: object\n",
      "1978 Unnamed: 75    12993\n",
      "dtype: object\n",
      "1979 Unnamed: 78    13435\n",
      "dtype: object\n",
      "1980 Unnamed: 81    12739\n",
      "dtype: object\n",
      "1981 Unnamed: 84    12621\n",
      "dtype: object\n",
      "1982 Unnamed: 87    12523\n",
      "dtype: object\n",
      "1983 Unnamed: 90    12832\n",
      "dtype: object\n",
      "1984 Unnamed: 93    13040\n",
      "dtype: object\n",
      "1985 1985.1    12985\n",
      "dtype: object\n",
      "1986 Unnamed: 99    12921\n",
      "dtype: object\n",
      "1987 Unnamed: 102    13092\n",
      "dtype: object\n",
      "1988 Unnamed: 105    13583\n",
      "dtype: object\n",
      "1989 Unnamed: 108    13603\n",
      "dtype: object\n",
      "1990 Unnamed: 111    13977\n",
      "dtype: object\n",
      "1991 Unnamed: 114    13795\n",
      "dtype: object\n",
      "1992 Unnamed: 117    12935\n",
      "dtype: object\n",
      "1993 Unnamed: 120    12915\n",
      "dtype: object\n",
      "1994 Unnamed: 123    12319\n",
      "dtype: object\n",
      "1995 Unnamed: 126    11793\n",
      "dtype: object\n",
      "1996 Unnamed: 129    11447\n",
      "dtype: object\n",
      "1997 Unnamed: 132    11408\n",
      "dtype: object\n",
      "1998 Unnamed: 135    10822\n",
      "dtype: object\n",
      "1999 Unnamed: 138    11151\n",
      "dtype: object\n",
      "2000 Unnamed: 141    10644\n",
      "dtype: object\n",
      "2001 Unnamed: 144    10509\n",
      "dtype: object\n",
      "2002 Unnamed: 147    10101\n",
      "dtype: object\n",
      "2003 Unnamed: 150    10238\n",
      "dtype: object\n",
      "2004 Unnamed: 153    10490\n",
      "dtype: object\n",
      "2005 Unnamed: 156    9525\n",
      "dtype: object\n",
      "2006 Unnamed: 159    10497\n",
      "dtype: object\n",
      "2007 Unnamed: 162    11062\n",
      "dtype: object\n",
      "2008 Unnamed: 165    10814\n",
      "dtype: object\n",
      "2009 Unnamed: 168    10457\n",
      "dtype: object\n",
      "2010 Unnamed: 171    10699\n",
      "dtype: object\n",
      "2011 Unnamed: 174    10180\n",
      "dtype: object\n",
      "2012 Unnamed: 177    10082\n",
      "dtype: object\n",
      "2013 Unnamed: 180    9698\n",
      "dtype: object\n",
      "2014 Unnamed: 183    8752\n",
      "dtype: object\n",
      "2015 Unnamed: 186    10144\n",
      "dtype: object\n",
      "2016 Unnamed: 189    9685\n",
      "dtype: object\n",
      "2017 Unnamed: 192    9447\n",
      "dtype: object\n",
      "2018 Unnamed: 195    9091\n",
      "dtype: object\n"
     ]
    }
   ],
   "source": [
    "for year in range(2,131,2):\n",
    "    print(girls.columns[year-1],girls.iloc[:,year:year+1].sum())"
   ]
  },
  {
   "cell_type": "markdown",
   "metadata": {},
   "source": [
    "We can't tell from that if a lot of girls were given these names or not. Let's get another dataset."
   ]
  },
  {
   "cell_type": "code",
   "execution_count": 9,
   "metadata": {
    "scrolled": true
   },
   "outputs": [],
   "source": [
    "total = pd.read_csv('../Datasets/BirthsNZ.csv',skiprows=[0,2])"
   ]
  },
  {
   "cell_type": "markdown",
   "metadata": {},
   "source": [
    "Look at the head and tail of the dataset, and get rid of the pointless rows."
   ]
  },
  {
   "cell_type": "code",
   "execution_count": 10,
   "metadata": {},
   "outputs": [
    {
     "data": {
      "text/html": [
       "<div>\n",
       "<style scoped>\n",
       "    .dataframe tbody tr th:only-of-type {\n",
       "        vertical-align: middle;\n",
       "    }\n",
       "\n",
       "    .dataframe tbody tr th {\n",
       "        vertical-align: top;\n",
       "    }\n",
       "\n",
       "    .dataframe thead th {\n",
       "        text-align: right;\n",
       "    }\n",
       "</style>\n",
       "<table border=\"1\" class=\"dataframe\">\n",
       "  <thead>\n",
       "    <tr style=\"text-align: right;\">\n",
       "      <th></th>\n",
       "      <th>Unnamed: 0</th>\n",
       "      <th>Far North District</th>\n",
       "      <th>Whangarei District</th>\n",
       "      <th>Kaipara District</th>\n",
       "      <th>Rodney District (to 2010)</th>\n",
       "      <th>North Shore City (to 2010)</th>\n",
       "      <th>Waitakere City (to 2010)</th>\n",
       "      <th>Auckland City (to 2010)</th>\n",
       "      <th>Manukau City (to 2010)</th>\n",
       "      <th>Papakura District (to 2010)</th>\n",
       "      <th>...</th>\n",
       "      <th>Queenstown-Lakes District</th>\n",
       "      <th>Dunedin City</th>\n",
       "      <th>Clutha District</th>\n",
       "      <th>Southland District</th>\n",
       "      <th>Gore District</th>\n",
       "      <th>Invercargill City</th>\n",
       "      <th>Auckland (from 2011)</th>\n",
       "      <th>Not stated</th>\n",
       "      <th>Area outside Territorial Authority</th>\n",
       "      <th>Total New Zealand</th>\n",
       "    </tr>\n",
       "  </thead>\n",
       "  <tbody>\n",
       "    <tr>\n",
       "      <th>0</th>\n",
       "      <td>1991</td>\n",
       "      <td>993.0</td>\n",
       "      <td>1158.0</td>\n",
       "      <td>324.0</td>\n",
       "      <td>879</td>\n",
       "      <td>2154</td>\n",
       "      <td>2895</td>\n",
       "      <td>6057</td>\n",
       "      <td>5016</td>\n",
       "      <td>801</td>\n",
       "      <td>...</td>\n",
       "      <td>150.0</td>\n",
       "      <td>1659.0</td>\n",
       "      <td>264.0</td>\n",
       "      <td>501.0</td>\n",
       "      <td>237.0</td>\n",
       "      <td>930.0</td>\n",
       "      <td>..</td>\n",
       "      <td>3.0</td>\n",
       "      <td>0.0</td>\n",
       "      <td>59910.0</td>\n",
       "    </tr>\n",
       "    <tr>\n",
       "      <th>1</th>\n",
       "      <td>1992</td>\n",
       "      <td>978.0</td>\n",
       "      <td>1161.0</td>\n",
       "      <td>297.0</td>\n",
       "      <td>858</td>\n",
       "      <td>2169</td>\n",
       "      <td>2925</td>\n",
       "      <td>5772</td>\n",
       "      <td>5109</td>\n",
       "      <td>765</td>\n",
       "      <td>...</td>\n",
       "      <td>135.0</td>\n",
       "      <td>1632.0</td>\n",
       "      <td>258.0</td>\n",
       "      <td>480.0</td>\n",
       "      <td>216.0</td>\n",
       "      <td>834.0</td>\n",
       "      <td>..</td>\n",
       "      <td>6.0</td>\n",
       "      <td>0.0</td>\n",
       "      <td>59166.0</td>\n",
       "    </tr>\n",
       "    <tr>\n",
       "      <th>2</th>\n",
       "      <td>1993</td>\n",
       "      <td>996.0</td>\n",
       "      <td>1188.0</td>\n",
       "      <td>273.0</td>\n",
       "      <td>861</td>\n",
       "      <td>2229</td>\n",
       "      <td>2916</td>\n",
       "      <td>5877</td>\n",
       "      <td>5124</td>\n",
       "      <td>783</td>\n",
       "      <td>...</td>\n",
       "      <td>177.0</td>\n",
       "      <td>1533.0</td>\n",
       "      <td>297.0</td>\n",
       "      <td>483.0</td>\n",
       "      <td>231.0</td>\n",
       "      <td>882.0</td>\n",
       "      <td>..</td>\n",
       "      <td>3.0</td>\n",
       "      <td>0.0</td>\n",
       "      <td>58782.0</td>\n",
       "    </tr>\n",
       "    <tr>\n",
       "      <th>3</th>\n",
       "      <td>1994</td>\n",
       "      <td>921.0</td>\n",
       "      <td>1080.0</td>\n",
       "      <td>273.0</td>\n",
       "      <td>873</td>\n",
       "      <td>2196</td>\n",
       "      <td>2979</td>\n",
       "      <td>5685</td>\n",
       "      <td>4959</td>\n",
       "      <td>786</td>\n",
       "      <td>...</td>\n",
       "      <td>195.0</td>\n",
       "      <td>1509.0</td>\n",
       "      <td>267.0</td>\n",
       "      <td>420.0</td>\n",
       "      <td>219.0</td>\n",
       "      <td>777.0</td>\n",
       "      <td>..</td>\n",
       "      <td>6.0</td>\n",
       "      <td>0.0</td>\n",
       "      <td>57321.0</td>\n",
       "    </tr>\n",
       "    <tr>\n",
       "      <th>4</th>\n",
       "      <td>1995</td>\n",
       "      <td>1008.0</td>\n",
       "      <td>1128.0</td>\n",
       "      <td>285.0</td>\n",
       "      <td>858</td>\n",
       "      <td>2313</td>\n",
       "      <td>2943</td>\n",
       "      <td>5727</td>\n",
       "      <td>5208</td>\n",
       "      <td>768</td>\n",
       "      <td>...</td>\n",
       "      <td>207.0</td>\n",
       "      <td>1461.0</td>\n",
       "      <td>267.0</td>\n",
       "      <td>426.0</td>\n",
       "      <td>219.0</td>\n",
       "      <td>774.0</td>\n",
       "      <td>..</td>\n",
       "      <td>3.0</td>\n",
       "      <td>0.0</td>\n",
       "      <td>57672.0</td>\n",
       "    </tr>\n",
       "  </tbody>\n",
       "</table>\n",
       "<p>5 rows × 78 columns</p>\n",
       "</div>"
      ],
      "text/plain": [
       "  Unnamed: 0  Far North District  Whangarei District  Kaipara District  \\\n",
       "0       1991               993.0              1158.0             324.0   \n",
       "1       1992               978.0              1161.0             297.0   \n",
       "2       1993               996.0              1188.0             273.0   \n",
       "3       1994               921.0              1080.0             273.0   \n",
       "4       1995              1008.0              1128.0             285.0   \n",
       "\n",
       "  Rodney District (to 2010) North Shore City (to 2010)  \\\n",
       "0                       879                       2154   \n",
       "1                       858                       2169   \n",
       "2                       861                       2229   \n",
       "3                       873                       2196   \n",
       "4                       858                       2313   \n",
       "\n",
       "  Waitakere City (to 2010) Auckland City (to 2010) Manukau City (to 2010)  \\\n",
       "0                     2895                    6057                   5016   \n",
       "1                     2925                    5772                   5109   \n",
       "2                     2916                    5877                   5124   \n",
       "3                     2979                    5685                   4959   \n",
       "4                     2943                    5727                   5208   \n",
       "\n",
       "  Papakura District (to 2010)  ... Queenstown-Lakes District  Dunedin City  \\\n",
       "0                         801  ...                     150.0        1659.0   \n",
       "1                         765  ...                     135.0        1632.0   \n",
       "2                         783  ...                     177.0        1533.0   \n",
       "3                         786  ...                     195.0        1509.0   \n",
       "4                         768  ...                     207.0        1461.0   \n",
       "\n",
       "   Clutha District  Southland District  Gore District  Invercargill City  \\\n",
       "0            264.0               501.0          237.0              930.0   \n",
       "1            258.0               480.0          216.0              834.0   \n",
       "2            297.0               483.0          231.0              882.0   \n",
       "3            267.0               420.0          219.0              777.0   \n",
       "4            267.0               426.0          219.0              774.0   \n",
       "\n",
       "   Auckland (from 2011)  Not stated  Area outside Territorial Authority  \\\n",
       "0                    ..         3.0                                 0.0   \n",
       "1                    ..         6.0                                 0.0   \n",
       "2                    ..         3.0                                 0.0   \n",
       "3                    ..         6.0                                 0.0   \n",
       "4                    ..         3.0                                 0.0   \n",
       "\n",
       "   Total New Zealand  \n",
       "0            59910.0  \n",
       "1            59166.0  \n",
       "2            58782.0  \n",
       "3            57321.0  \n",
       "4            57672.0  \n",
       "\n",
       "[5 rows x 78 columns]"
      ]
     },
     "execution_count": 10,
     "metadata": {},
     "output_type": "execute_result"
    }
   ],
   "source": [
    "total.head()"
   ]
  },
  {
   "cell_type": "code",
   "execution_count": 17,
   "metadata": {},
   "outputs": [
    {
     "data": {
      "text/html": [
       "<div>\n",
       "<style scoped>\n",
       "    .dataframe tbody tr th:only-of-type {\n",
       "        vertical-align: middle;\n",
       "    }\n",
       "\n",
       "    .dataframe tbody tr th {\n",
       "        vertical-align: top;\n",
       "    }\n",
       "\n",
       "    .dataframe thead th {\n",
       "        text-align: right;\n",
       "    }\n",
       "</style>\n",
       "<table border=\"1\" class=\"dataframe\">\n",
       "  <thead>\n",
       "    <tr style=\"text-align: right;\">\n",
       "      <th></th>\n",
       "      <th>Unnamed: 0</th>\n",
       "      <th>Far North District</th>\n",
       "      <th>Whangarei District</th>\n",
       "      <th>Kaipara District</th>\n",
       "      <th>Rodney District (to 2010)</th>\n",
       "      <th>North Shore City (to 2010)</th>\n",
       "      <th>Waitakere City (to 2010)</th>\n",
       "      <th>Auckland City (to 2010)</th>\n",
       "      <th>Manukau City (to 2010)</th>\n",
       "      <th>Papakura District (to 2010)</th>\n",
       "      <th>...</th>\n",
       "      <th>Queenstown-Lakes District</th>\n",
       "      <th>Dunedin City</th>\n",
       "      <th>Clutha District</th>\n",
       "      <th>Southland District</th>\n",
       "      <th>Gore District</th>\n",
       "      <th>Invercargill City</th>\n",
       "      <th>Auckland (from 2011)</th>\n",
       "      <th>Not stated</th>\n",
       "      <th>Area outside Territorial Authority</th>\n",
       "      <th>Total New Zealand</th>\n",
       "    </tr>\n",
       "  </thead>\n",
       "  <tbody>\n",
       "    <tr>\n",
       "      <th>54</th>\n",
       "      <td>NaN</td>\n",
       "      <td>NaN</td>\n",
       "      <td>NaN</td>\n",
       "      <td>NaN</td>\n",
       "      <td>NaN</td>\n",
       "      <td>NaN</td>\n",
       "      <td>NaN</td>\n",
       "      <td>NaN</td>\n",
       "      <td>NaN</td>\n",
       "      <td>NaN</td>\n",
       "      <td>...</td>\n",
       "      <td>NaN</td>\n",
       "      <td>NaN</td>\n",
       "      <td>NaN</td>\n",
       "      <td>NaN</td>\n",
       "      <td>NaN</td>\n",
       "      <td>NaN</td>\n",
       "      <td>NaN</td>\n",
       "      <td>NaN</td>\n",
       "      <td>NaN</td>\n",
       "      <td>NaN</td>\n",
       "    </tr>\n",
       "    <tr>\n",
       "      <th>55</th>\n",
       "      <td>Source: Statistics New Zealand</td>\n",
       "      <td>NaN</td>\n",
       "      <td>NaN</td>\n",
       "      <td>NaN</td>\n",
       "      <td>NaN</td>\n",
       "      <td>NaN</td>\n",
       "      <td>NaN</td>\n",
       "      <td>NaN</td>\n",
       "      <td>NaN</td>\n",
       "      <td>NaN</td>\n",
       "      <td>...</td>\n",
       "      <td>NaN</td>\n",
       "      <td>NaN</td>\n",
       "      <td>NaN</td>\n",
       "      <td>NaN</td>\n",
       "      <td>NaN</td>\n",
       "      <td>NaN</td>\n",
       "      <td>NaN</td>\n",
       "      <td>NaN</td>\n",
       "      <td>NaN</td>\n",
       "      <td>NaN</td>\n",
       "    </tr>\n",
       "    <tr>\n",
       "      <th>56</th>\n",
       "      <td>Contact: Information Centre</td>\n",
       "      <td>NaN</td>\n",
       "      <td>NaN</td>\n",
       "      <td>NaN</td>\n",
       "      <td>NaN</td>\n",
       "      <td>NaN</td>\n",
       "      <td>NaN</td>\n",
       "      <td>NaN</td>\n",
       "      <td>NaN</td>\n",
       "      <td>NaN</td>\n",
       "      <td>...</td>\n",
       "      <td>NaN</td>\n",
       "      <td>NaN</td>\n",
       "      <td>NaN</td>\n",
       "      <td>NaN</td>\n",
       "      <td>NaN</td>\n",
       "      <td>NaN</td>\n",
       "      <td>NaN</td>\n",
       "      <td>NaN</td>\n",
       "      <td>NaN</td>\n",
       "      <td>NaN</td>\n",
       "    </tr>\n",
       "    <tr>\n",
       "      <th>57</th>\n",
       "      <td>Telephone: 0508 525 525</td>\n",
       "      <td>NaN</td>\n",
       "      <td>NaN</td>\n",
       "      <td>NaN</td>\n",
       "      <td>NaN</td>\n",
       "      <td>NaN</td>\n",
       "      <td>NaN</td>\n",
       "      <td>NaN</td>\n",
       "      <td>NaN</td>\n",
       "      <td>NaN</td>\n",
       "      <td>...</td>\n",
       "      <td>NaN</td>\n",
       "      <td>NaN</td>\n",
       "      <td>NaN</td>\n",
       "      <td>NaN</td>\n",
       "      <td>NaN</td>\n",
       "      <td>NaN</td>\n",
       "      <td>NaN</td>\n",
       "      <td>NaN</td>\n",
       "      <td>NaN</td>\n",
       "      <td>NaN</td>\n",
       "    </tr>\n",
       "    <tr>\n",
       "      <th>58</th>\n",
       "      <td>Email:info@stats.govt.nz</td>\n",
       "      <td>NaN</td>\n",
       "      <td>NaN</td>\n",
       "      <td>NaN</td>\n",
       "      <td>NaN</td>\n",
       "      <td>NaN</td>\n",
       "      <td>NaN</td>\n",
       "      <td>NaN</td>\n",
       "      <td>NaN</td>\n",
       "      <td>NaN</td>\n",
       "      <td>...</td>\n",
       "      <td>NaN</td>\n",
       "      <td>NaN</td>\n",
       "      <td>NaN</td>\n",
       "      <td>NaN</td>\n",
       "      <td>NaN</td>\n",
       "      <td>NaN</td>\n",
       "      <td>NaN</td>\n",
       "      <td>NaN</td>\n",
       "      <td>NaN</td>\n",
       "      <td>NaN</td>\n",
       "    </tr>\n",
       "  </tbody>\n",
       "</table>\n",
       "<p>5 rows × 78 columns</p>\n",
       "</div>"
      ],
      "text/plain": [
       "                        Unnamed: 0  Far North District  Whangarei District  \\\n",
       "54                             NaN                 NaN                 NaN   \n",
       "55  Source: Statistics New Zealand                 NaN                 NaN   \n",
       "56     Contact: Information Centre                 NaN                 NaN   \n",
       "57         Telephone: 0508 525 525                 NaN                 NaN   \n",
       "58        Email:info@stats.govt.nz                 NaN                 NaN   \n",
       "\n",
       "    Kaipara District Rodney District (to 2010) North Shore City (to 2010)  \\\n",
       "54               NaN                       NaN                        NaN   \n",
       "55               NaN                       NaN                        NaN   \n",
       "56               NaN                       NaN                        NaN   \n",
       "57               NaN                       NaN                        NaN   \n",
       "58               NaN                       NaN                        NaN   \n",
       "\n",
       "   Waitakere City (to 2010) Auckland City (to 2010) Manukau City (to 2010)  \\\n",
       "54                      NaN                     NaN                    NaN   \n",
       "55                      NaN                     NaN                    NaN   \n",
       "56                      NaN                     NaN                    NaN   \n",
       "57                      NaN                     NaN                    NaN   \n",
       "58                      NaN                     NaN                    NaN   \n",
       "\n",
       "   Papakura District (to 2010)        ...         Queenstown-Lakes District  \\\n",
       "54                         NaN        ...                               NaN   \n",
       "55                         NaN        ...                               NaN   \n",
       "56                         NaN        ...                               NaN   \n",
       "57                         NaN        ...                               NaN   \n",
       "58                         NaN        ...                               NaN   \n",
       "\n",
       "    Dunedin City  Clutha District  Southland District  Gore District  \\\n",
       "54           NaN              NaN                 NaN            NaN   \n",
       "55           NaN              NaN                 NaN            NaN   \n",
       "56           NaN              NaN                 NaN            NaN   \n",
       "57           NaN              NaN                 NaN            NaN   \n",
       "58           NaN              NaN                 NaN            NaN   \n",
       "\n",
       "    Invercargill City  Auckland (from 2011)  Not stated  \\\n",
       "54                NaN                   NaN         NaN   \n",
       "55                NaN                   NaN         NaN   \n",
       "56                NaN                   NaN         NaN   \n",
       "57                NaN                   NaN         NaN   \n",
       "58                NaN                   NaN         NaN   \n",
       "\n",
       "    Area outside Territorial Authority  Total New Zealand  \n",
       "54                                 NaN                NaN  \n",
       "55                                 NaN                NaN  \n",
       "56                                 NaN                NaN  \n",
       "57                                 NaN                NaN  \n",
       "58                                 NaN                NaN  \n",
       "\n",
       "[5 rows x 78 columns]"
      ]
     },
     "execution_count": 17,
     "metadata": {},
     "output_type": "execute_result"
    }
   ],
   "source": [
    "total.tail()"
   ]
  },
  {
   "cell_type": "code",
   "execution_count": 11,
   "metadata": {},
   "outputs": [],
   "source": [
    "total = total[:28]"
   ]
  },
  {
   "cell_type": "code",
   "execution_count": 12,
   "metadata": {},
   "outputs": [
    {
     "data": {
      "text/html": [
       "<div>\n",
       "<style scoped>\n",
       "    .dataframe tbody tr th:only-of-type {\n",
       "        vertical-align: middle;\n",
       "    }\n",
       "\n",
       "    .dataframe tbody tr th {\n",
       "        vertical-align: top;\n",
       "    }\n",
       "\n",
       "    .dataframe thead th {\n",
       "        text-align: right;\n",
       "    }\n",
       "</style>\n",
       "<table border=\"1\" class=\"dataframe\">\n",
       "  <thead>\n",
       "    <tr style=\"text-align: right;\">\n",
       "      <th></th>\n",
       "      <th>Unnamed: 0</th>\n",
       "      <th>Far North District</th>\n",
       "      <th>Whangarei District</th>\n",
       "      <th>Kaipara District</th>\n",
       "      <th>Rodney District (to 2010)</th>\n",
       "      <th>North Shore City (to 2010)</th>\n",
       "      <th>Waitakere City (to 2010)</th>\n",
       "      <th>Auckland City (to 2010)</th>\n",
       "      <th>Manukau City (to 2010)</th>\n",
       "      <th>Papakura District (to 2010)</th>\n",
       "      <th>...</th>\n",
       "      <th>Queenstown-Lakes District</th>\n",
       "      <th>Dunedin City</th>\n",
       "      <th>Clutha District</th>\n",
       "      <th>Southland District</th>\n",
       "      <th>Gore District</th>\n",
       "      <th>Invercargill City</th>\n",
       "      <th>Auckland (from 2011)</th>\n",
       "      <th>Not stated</th>\n",
       "      <th>Area outside Territorial Authority</th>\n",
       "      <th>Total New Zealand</th>\n",
       "    </tr>\n",
       "  </thead>\n",
       "  <tbody>\n",
       "    <tr>\n",
       "      <th>23</th>\n",
       "      <td>2014</td>\n",
       "      <td>768.0</td>\n",
       "      <td>1056.0</td>\n",
       "      <td>225.0</td>\n",
       "      <td>..</td>\n",
       "      <td>..</td>\n",
       "      <td>..</td>\n",
       "      <td>..</td>\n",
       "      <td>..</td>\n",
       "      <td>..</td>\n",
       "      <td>...</td>\n",
       "      <td>369.0</td>\n",
       "      <td>1173.0</td>\n",
       "      <td>192.0</td>\n",
       "      <td>384.0</td>\n",
       "      <td>144.0</td>\n",
       "      <td>603.0</td>\n",
       "      <td>21429</td>\n",
       "      <td>12.0</td>\n",
       "      <td>0.0</td>\n",
       "      <td>57243.0</td>\n",
       "    </tr>\n",
       "    <tr>\n",
       "      <th>24</th>\n",
       "      <td>2015</td>\n",
       "      <td>807.0</td>\n",
       "      <td>1140.0</td>\n",
       "      <td>255.0</td>\n",
       "      <td>..</td>\n",
       "      <td>..</td>\n",
       "      <td>..</td>\n",
       "      <td>..</td>\n",
       "      <td>..</td>\n",
       "      <td>..</td>\n",
       "      <td>...</td>\n",
       "      <td>444.0</td>\n",
       "      <td>1278.0</td>\n",
       "      <td>204.0</td>\n",
       "      <td>414.0</td>\n",
       "      <td>162.0</td>\n",
       "      <td>651.0</td>\n",
       "      <td>22434</td>\n",
       "      <td>6.0</td>\n",
       "      <td>0.0</td>\n",
       "      <td>61038.0</td>\n",
       "    </tr>\n",
       "    <tr>\n",
       "      <th>25</th>\n",
       "      <td>2016</td>\n",
       "      <td>780.0</td>\n",
       "      <td>1176.0</td>\n",
       "      <td>270.0</td>\n",
       "      <td>..</td>\n",
       "      <td>..</td>\n",
       "      <td>..</td>\n",
       "      <td>..</td>\n",
       "      <td>..</td>\n",
       "      <td>..</td>\n",
       "      <td>...</td>\n",
       "      <td>420.0</td>\n",
       "      <td>1152.0</td>\n",
       "      <td>186.0</td>\n",
       "      <td>384.0</td>\n",
       "      <td>147.0</td>\n",
       "      <td>630.0</td>\n",
       "      <td>21810</td>\n",
       "      <td>12.0</td>\n",
       "      <td>0.0</td>\n",
       "      <td>59430.0</td>\n",
       "    </tr>\n",
       "    <tr>\n",
       "      <th>26</th>\n",
       "      <td>2017</td>\n",
       "      <td>798.0</td>\n",
       "      <td>1182.0</td>\n",
       "      <td>267.0</td>\n",
       "      <td>..</td>\n",
       "      <td>..</td>\n",
       "      <td>..</td>\n",
       "      <td>..</td>\n",
       "      <td>..</td>\n",
       "      <td>..</td>\n",
       "      <td>...</td>\n",
       "      <td>432.0</td>\n",
       "      <td>1203.0</td>\n",
       "      <td>210.0</td>\n",
       "      <td>429.0</td>\n",
       "      <td>129.0</td>\n",
       "      <td>657.0</td>\n",
       "      <td>21390</td>\n",
       "      <td>9.0</td>\n",
       "      <td>0.0</td>\n",
       "      <td>59610.0</td>\n",
       "    </tr>\n",
       "    <tr>\n",
       "      <th>27</th>\n",
       "      <td>2018</td>\n",
       "      <td>837.0</td>\n",
       "      <td>1092.0</td>\n",
       "      <td>255.0</td>\n",
       "      <td>..</td>\n",
       "      <td>..</td>\n",
       "      <td>..</td>\n",
       "      <td>..</td>\n",
       "      <td>..</td>\n",
       "      <td>..</td>\n",
       "      <td>...</td>\n",
       "      <td>423.0</td>\n",
       "      <td>1104.0</td>\n",
       "      <td>192.0</td>\n",
       "      <td>363.0</td>\n",
       "      <td>138.0</td>\n",
       "      <td>612.0</td>\n",
       "      <td>20712</td>\n",
       "      <td>12.0</td>\n",
       "      <td>0.0</td>\n",
       "      <td>58020.0</td>\n",
       "    </tr>\n",
       "  </tbody>\n",
       "</table>\n",
       "<p>5 rows × 78 columns</p>\n",
       "</div>"
      ],
      "text/plain": [
       "   Unnamed: 0  Far North District  Whangarei District  Kaipara District  \\\n",
       "23       2014               768.0              1056.0             225.0   \n",
       "24       2015               807.0              1140.0             255.0   \n",
       "25       2016               780.0              1176.0             270.0   \n",
       "26       2017               798.0              1182.0             267.0   \n",
       "27       2018               837.0              1092.0             255.0   \n",
       "\n",
       "   Rodney District (to 2010) North Shore City (to 2010)  \\\n",
       "23                        ..                         ..   \n",
       "24                        ..                         ..   \n",
       "25                        ..                         ..   \n",
       "26                        ..                         ..   \n",
       "27                        ..                         ..   \n",
       "\n",
       "   Waitakere City (to 2010) Auckland City (to 2010) Manukau City (to 2010)  \\\n",
       "23                       ..                      ..                     ..   \n",
       "24                       ..                      ..                     ..   \n",
       "25                       ..                      ..                     ..   \n",
       "26                       ..                      ..                     ..   \n",
       "27                       ..                      ..                     ..   \n",
       "\n",
       "   Papakura District (to 2010)  ... Queenstown-Lakes District  Dunedin City  \\\n",
       "23                          ..  ...                     369.0        1173.0   \n",
       "24                          ..  ...                     444.0        1278.0   \n",
       "25                          ..  ...                     420.0        1152.0   \n",
       "26                          ..  ...                     432.0        1203.0   \n",
       "27                          ..  ...                     423.0        1104.0   \n",
       "\n",
       "    Clutha District  Southland District  Gore District  Invercargill City  \\\n",
       "23            192.0               384.0          144.0              603.0   \n",
       "24            204.0               414.0          162.0              651.0   \n",
       "25            186.0               384.0          147.0              630.0   \n",
       "26            210.0               429.0          129.0              657.0   \n",
       "27            192.0               363.0          138.0              612.0   \n",
       "\n",
       "    Auckland (from 2011)  Not stated  Area outside Territorial Authority  \\\n",
       "23                 21429        12.0                                 0.0   \n",
       "24                 22434         6.0                                 0.0   \n",
       "25                 21810        12.0                                 0.0   \n",
       "26                 21390         9.0                                 0.0   \n",
       "27                 20712        12.0                                 0.0   \n",
       "\n",
       "    Total New Zealand  \n",
       "23            57243.0  \n",
       "24            61038.0  \n",
       "25            59430.0  \n",
       "26            59610.0  \n",
       "27            58020.0  \n",
       "\n",
       "[5 rows x 78 columns]"
      ]
     },
     "execution_count": 12,
     "metadata": {},
     "output_type": "execute_result"
    }
   ],
   "source": [
    "# That's better!\n",
    "total.tail()"
   ]
  },
  {
   "cell_type": "markdown",
   "metadata": {},
   "source": [
    "Read off the totals, and print them out. There were a lot more babies!"
   ]
  },
  {
   "cell_type": "code",
   "execution_count": 3,
   "metadata": {},
   "outputs": [
    {
     "ename": "NameError",
     "evalue": "name 'total' is not defined",
     "output_type": "error",
     "traceback": [
      "\u001b[0;31m---------------------------------------------------------------------------\u001b[0m",
      "\u001b[0;31mNameError\u001b[0m                                 Traceback (most recent call last)",
      "\u001b[0;32m/var/folders/d5/3svy27h14h120vsjgqz5tg9r0000gp/T/ipykernel_24102/1354273470.py\u001b[0m in \u001b[0;36m<module>\u001b[0;34m\u001b[0m\n\u001b[0;32m----> 1\u001b[0;31m \u001b[0mtotals\u001b[0m \u001b[0;34m=\u001b[0m \u001b[0mtotal\u001b[0m\u001b[0;34m.\u001b[0m\u001b[0miloc\u001b[0m\u001b[0;34m[\u001b[0m\u001b[0;34m:\u001b[0m\u001b[0;34m,\u001b[0m\u001b[0;34m[\u001b[0m\u001b[0;36m0\u001b[0m\u001b[0;34m,\u001b[0m\u001b[0;34m-\u001b[0m\u001b[0;36m1\u001b[0m\u001b[0;34m]\u001b[0m\u001b[0;34m]\u001b[0m\u001b[0;34m\u001b[0m\u001b[0;34m\u001b[0m\u001b[0m\n\u001b[0m\u001b[1;32m      2\u001b[0m \u001b[0mprint\u001b[0m\u001b[0;34m(\u001b[0m\u001b[0mtotals\u001b[0m\u001b[0;34m)\u001b[0m\u001b[0;34m\u001b[0m\u001b[0;34m\u001b[0m\u001b[0m\n\u001b[1;32m      3\u001b[0m \u001b[0;34m\u001b[0m\u001b[0m\n",
      "\u001b[0;31mNameError\u001b[0m: name 'total' is not defined"
     ]
    }
   ],
   "source": [
    "totals = total.iloc[:,[0,-1]]\n",
    "print(totals)"
   ]
  },
  {
   "cell_type": "markdown",
   "metadata": {},
   "source": [
    "Get some summary statistics."
   ]
  },
  {
   "cell_type": "code",
   "execution_count": 14,
   "metadata": {},
   "outputs": [
    {
     "data": {
      "text/html": [
       "<div>\n",
       "<style scoped>\n",
       "    .dataframe tbody tr th:only-of-type {\n",
       "        vertical-align: middle;\n",
       "    }\n",
       "\n",
       "    .dataframe tbody tr th {\n",
       "        vertical-align: top;\n",
       "    }\n",
       "\n",
       "    .dataframe thead th {\n",
       "        text-align: right;\n",
       "    }\n",
       "</style>\n",
       "<table border=\"1\" class=\"dataframe\">\n",
       "  <thead>\n",
       "    <tr style=\"text-align: right;\">\n",
       "      <th></th>\n",
       "      <th>Total New Zealand</th>\n",
       "    </tr>\n",
       "  </thead>\n",
       "  <tbody>\n",
       "    <tr>\n",
       "      <th>count</th>\n",
       "      <td>28.000000</td>\n",
       "    </tr>\n",
       "    <tr>\n",
       "      <th>mean</th>\n",
       "      <td>58899.000000</td>\n",
       "    </tr>\n",
       "    <tr>\n",
       "      <th>std</th>\n",
       "      <td>2642.870914</td>\n",
       "    </tr>\n",
       "    <tr>\n",
       "      <th>min</th>\n",
       "      <td>54021.000000</td>\n",
       "    </tr>\n",
       "    <tr>\n",
       "      <th>25%</th>\n",
       "      <td>57272.250000</td>\n",
       "    </tr>\n",
       "    <tr>\n",
       "      <th>50%</th>\n",
       "      <td>58395.000000</td>\n",
       "    </tr>\n",
       "    <tr>\n",
       "      <th>75%</th>\n",
       "      <td>60192.000000</td>\n",
       "    </tr>\n",
       "    <tr>\n",
       "      <th>max</th>\n",
       "      <td>64344.000000</td>\n",
       "    </tr>\n",
       "  </tbody>\n",
       "</table>\n",
       "</div>"
      ],
      "text/plain": [
       "       Total New Zealand\n",
       "count          28.000000\n",
       "mean        58899.000000\n",
       "std          2642.870914\n",
       "min         54021.000000\n",
       "25%         57272.250000\n",
       "50%         58395.000000\n",
       "75%         60192.000000\n",
       "max         64344.000000"
      ]
     },
     "execution_count": 14,
     "metadata": {},
     "output_type": "execute_result"
    }
   ],
   "source": [
    "totals.describe()"
   ]
  },
  {
   "cell_type": "markdown",
   "metadata": {},
   "source": [
    "The number of babies born varies quite a bit over the years, plot the totals by year to see that."
   ]
  },
  {
   "cell_type": "code",
   "execution_count": 2,
   "metadata": {},
   "outputs": [
    {
     "ename": "NameError",
     "evalue": "name 'totals' is not defined",
     "output_type": "error",
     "traceback": [
      "\u001b[0;31m---------------------------------------------------------------------------\u001b[0m",
      "\u001b[0;31mNameError\u001b[0m                                 Traceback (most recent call last)",
      "\u001b[0;32m/var/folders/d5/3svy27h14h120vsjgqz5tg9r0000gp/T/ipykernel_24102/3210279397.py\u001b[0m in \u001b[0;36m<module>\u001b[0;34m\u001b[0m\n\u001b[0;32m----> 1\u001b[0;31m \u001b[0mpl\u001b[0m\u001b[0;34m.\u001b[0m\u001b[0mplot\u001b[0m\u001b[0;34m(\u001b[0m\u001b[0mtotals\u001b[0m\u001b[0;34m.\u001b[0m\u001b[0miloc\u001b[0m\u001b[0;34m[\u001b[0m\u001b[0;34m:\u001b[0m\u001b[0;34m,\u001b[0m\u001b[0;36m0\u001b[0m\u001b[0;34m]\u001b[0m\u001b[0;34m,\u001b[0m\u001b[0mtotals\u001b[0m\u001b[0;34m.\u001b[0m\u001b[0miloc\u001b[0m\u001b[0;34m[\u001b[0m\u001b[0;34m:\u001b[0m\u001b[0;34m,\u001b[0m\u001b[0;36m1\u001b[0m\u001b[0;34m]\u001b[0m\u001b[0;34m)\u001b[0m\u001b[0;34m\u001b[0m\u001b[0;34m\u001b[0m\u001b[0m\n\u001b[0m\u001b[1;32m      2\u001b[0m \u001b[0;34m\u001b[0m\u001b[0m\n",
      "\u001b[0;31mNameError\u001b[0m: name 'totals' is not defined"
     ]
    }
   ],
   "source": [
    "pl.plot(totals.iloc[:,0],totals.iloc[:,1])"
   ]
  },
  {
   "cell_type": "markdown",
   "metadata": {},
   "source": [
    "Plot the number of girls with the top 100 names divided by the number of girls born (assuming it's half the total)"
   ]
  },
  {
   "cell_type": "code",
   "execution_count": 57,
   "metadata": {},
   "outputs": [],
   "source": [
    "# A bit of care needed to get the overlapping ones!\n",
    "top100 = np.zeros(28)\n",
    "count = 0\n",
    "for year in range(76,131,2):\n",
    "    top100[count] = girls.iloc[:,year:year+1].sum()\n",
    "    count+=1"
   ]
  },
  {
   "cell_type": "code",
   "execution_count": 58,
   "metadata": {},
   "outputs": [
    {
     "data": {
      "text/plain": [
       "[<matplotlib.lines.Line2D at 0x7ff1639ec7d0>]"
      ]
     },
     "execution_count": 58,
     "metadata": {},
     "output_type": "execute_result"
    },
    {
     "data": {
      "image/png": "[encoded data removed]",
      "text/plain": [
       "<Figure size 432x288 with 1 Axes>"
      ]
     },
     "metadata": {
      "needs_background": "light"
     },
     "output_type": "display_data"
    }
   ],
   "source": [
    "pl.plot(2*top100/totals.iloc[:,1])"
   ]
  },
  {
   "cell_type": "markdown",
   "metadata": {},
   "source": [
    "Find the unique names in the list and count how often each one of those occurs. Some fun here with indices!"
   ]
  },
  {
   "cell_type": "code",
   "execution_count": 75,
   "metadata": {},
   "outputs": [
    {
     "name": "stdout",
     "output_type": "stream",
     "text": [
      "['Christine' 'Susan' 'Karen' 'Michelle' 'Lisa' 'Sarah' 'Jessica' 'Emma'\n",
      " 'Charlotte' 'Ella' 'Sophie' 'Ruby' 'Olivia' 'Nicola' 'Rebecca' 'Hannah'\n",
      " 'Georgia' 'Emily' 'Harper' 'Isla' 'Margaret' 'Sandra' 'Deborah' 'Rachel'\n",
      " 'Angela' 'Kelly' 'Anna' 'Samantha' 'Judith' 'Jennifer' 'Julie' 'Tania'\n",
      " 'Joanne' 'Amy' 'Amanda' 'Isabella' 'Amelia' 'Sharon' 'Kim' 'Nicole'\n",
      " 'Grace' 'Ava' 'Mary' 'Donna' 'Lily' 'Elizabeth' 'Patricia' 'Linda'\n",
      " 'Tracey' 'Melissa' 'Mia' 'Robyn' 'Wendy' 'Melanie' 'Natasha' 'Ashleigh'\n",
      " 'Danielle' 'Laura' 'Courtney' 'Chloe' 'Mila' 'Sophia' 'Barbara' 'Caitlin'\n",
      " 'Lynette' 'Jacqueline' 'Tracy' 'Stephanie' 'Paige' 'Zoe' 'Aria' 'Helen'\n",
      " 'Kylie' 'Jenna' 'Lucy' 'Anne' 'Tayla' 'Brooke' 'Fiona' 'Hayley'\n",
      " 'Brittany' 'Kate' 'Madison' 'Willow' 'Heather' 'Paula' 'Vanessa' 'Andrea'\n",
      " 'Stacey' 'Maia' 'Diane' 'Catherine' 'Katrina' 'Natalie' 'Holly' 'Shania'\n",
      " 'Debra' 'Gemma' 'Megan' 'Kayla' 'Janet' 'Carol' 'Renee' 'Lauren'\n",
      " 'Chelsea' 'Eva' 'Jade' 'Pamela' 'Maria' 'Evelyn' 'Janice' 'Suzanne'\n",
      " 'Leanne' 'Denise' 'Claire' 'Ashley' 'Sienna' 'Scarlett' 'Jasmine'\n",
      " 'Matilda' 'Hazel' 'Raewyn' 'Rachael' 'Ivy' 'Lorraine' 'Dianne' 'Julia'\n",
      " 'Alexandra' 'Bella' 'Louise' 'Kimberley' 'Maddison' 'Isabelle' 'Freya'\n",
      " 'Marilyn' 'Jane' 'Victoria' 'Summer' 'Rosemary' 'Joanna' 'Taylor' 'Amber'\n",
      " 'Stella' 'Indie' 'Evie' 'Shirley' 'Vicki' 'Alison' 'Abigail' 'Alexis'\n",
      " 'Eden' 'Kathleen' 'Pauline' 'Janine' 'Aimee' 'Shannon' 'Molly' 'Alice'\n",
      " 'Carolyn' 'Rochelle' 'Katherine' 'Zara' 'Katie' 'Layla' 'Mackenzie'\n",
      " 'Gail' 'Nikita' 'Kathryn' 'Jorja' 'Paris' 'Erin' 'Claudia' 'Thea'\n",
      " 'Lesley' 'Yvonne' 'Shelley' 'Alyssa' 'Marie' 'Annette' 'Kirsten' 'Tessa'\n",
      " 'Keira' 'Nevaeh' 'Ann' 'Tina' 'Lilly' 'Leah' 'Millie' 'Beverley'\n",
      " 'Belinda' 'Michaela' 'Poppy' 'Ellie' 'Brenda' 'Tanya' 'Aaliyah' 'Ayla'\n",
      " 'Frankie' 'Maureen' 'Maree' 'Kirsty' 'Monique' 'Mikayla' 'Colleen'\n",
      " 'Glenda' 'Piper' 'Jillian' 'Sara' 'Destiny' 'Pippa' 'Olive' 'Violet'\n",
      " 'Bridget' 'Phoebe' 'Jessie' 'Brianna' 'Addison' 'Florence' 'Jan'\n",
      " 'Justine' 'Christina' 'Trinity' 'Sofia' 'Quinn' 'Lynda' 'Kelsey' 'Peyton'\n",
      " 'Annabelle' 'Bronwyn' 'Anita' 'Alana' 'Riley' 'Aurora' 'Sheryl' 'Sally'\n",
      " 'Michele' 'Toni' 'Cheryl' 'Frances' 'Rebekah' 'Kerry' 'Teresa' 'Mya'\n",
      " 'Penelope' 'Kay' 'Crystal' 'Rose' 'Caroline' 'Jordan' 'Imogen' 'Sadie'\n",
      " 'Ruth' 'Marion' 'Jamie' 'MacKenzie' 'Abby' 'Gillian' 'Angel' 'Brooklyn'\n",
      " 'Lynne' 'Joy' 'Cassandra' 'Faith' 'Luna' 'Jeanette' 'Shona' 'Krystal'\n",
      " 'Tamara' 'Gabrielle' 'Cheyenne' 'Nina' 'Harriet' 'Tara' 'Isabel' 'Glenys'\n",
      " 'Morgan' 'Savannah' 'Diana' 'Tegan' 'Britney' 'Kaitlyn' 'Caitlyn' 'Zoey'\n",
      " 'Cherie' 'Elaine' 'Debbie' 'Casey' 'Maya' 'Irene' 'Jocelyn' 'Carmen'\n",
      " 'Sonya' 'Philippa' 'Naomi' 'Alicia' 'Madeleine' 'Charlie' 'Jill'\n",
      " 'Harmony' 'Kiara' 'Emilia' 'Heidi' 'Manaia' 'Vivienne' 'Georgina' 'Ellen'\n",
      " 'Katelyn' 'Jemma' 'Josephine' 'Valerie' 'Carla' 'Lola' 'Dorothy' 'Jolene'\n",
      " 'Ariana' 'Gina' 'Madeline' 'Karyn' 'Kiri' 'Jodie' 'Shakira' 'Bailey'\n",
      " 'Adrienne' 'Ashlee' 'Sharlene' 'Kristy' 'Eleanor' 'Daisy' 'Cora' 'Haley'\n",
      " 'Skye' 'Lois' 'Jaime' 'Monica' 'Skyla' 'Khloe' 'Joan' 'Tiana' 'Tyla'\n",
      " 'Libby' 'Anahera' 'Lucia' 'Elise' 'Amaia' 'Gloria' 'Rhonda' 'Lynley'\n",
      " 'Karla' 'Nikki' 'Chantelle' 'Hope' 'Lydia' 'Isobel' 'Elsie' 'Billie'\n",
      " 'Kaye' 'Gabriella' 'Clare' 'Eliza' 'Marian' 'Gaylene' 'Lynnette' 'Ngaire'\n",
      " 'Cindy' 'Nadine' 'Esther' 'Jean' 'Briana' 'Anika' 'Virginia' 'Sheree'\n",
      " 'Whitney' 'Tori' 'Eilish' 'Niamh' 'Dawn' 'Aleisha' 'Sasha' 'Arabella'\n",
      " 'Lynn' 'Sonia' 'Vicky' 'Sinead' 'Payton' 'Skylar' 'Athena' 'Jodi'\n",
      " 'Kellie' 'Kyla' 'Leonie' 'Janette' 'Aroha' 'Mikaela' 'Kaitlin' 'Abbey'\n",
      " 'Angelina' 'Kaia' 'Rachelle' 'April' 'Indi' 'Clara']\n"
     ]
    }
   ],
   "source": [
    "popular = pd.unique(girls.iloc[:,1::2].values.ravel())\n",
    "print(popular)"
   ]
  },
  {
   "cell_type": "code",
   "execution_count": 80,
   "metadata": {},
   "outputs": [],
   "source": [
    "popcounts = np.zeros(len(popular))\n",
    "count = 0\n",
    "for i in popular:\n",
    "    ind = np.where(girls==i)\n",
    "    #print(i,ind)\n",
    "    for j in range(len(ind[0])):\n",
    "        #print(girls.iloc[ind[0][j],ind[1][j]],girls.iloc[ind[0][j],ind[1][j]+1])\n",
    "        popcounts[count] += girls.iloc[ind[0][j],ind[1][j]+1]\n",
    "    count+=1"
   ]
  },
  {
   "cell_type": "markdown",
   "metadata": {},
   "source": [
    "If your list of popular names is called popular, and the counts are called popcounts, you can use np.concatenate to put them together like this:"
   ]
  },
  {
   "cell_type": "code",
   "execution_count": 82,
   "metadata": {},
   "outputs": [],
   "source": [
    "newdata = np.concatenate((np.reshape(popular,(len(popular),1)),np.reshape(popcounts,(len(popcounts),1))),axis=1)"
   ]
  },
  {
   "cell_type": "markdown",
   "metadata": {},
   "source": [
    "Put that into a new dataframe, and track the popularity of the name 'Christine' over time, making a plot of it."
   ]
  },
  {
   "cell_type": "code",
   "execution_count": 32,
   "metadata": {},
   "outputs": [],
   "source": [
    "popularity = pd.DataFrame(data=newdata,index=None,columns=['Name','Count'])"
   ]
  },
  {
   "cell_type": "code",
   "execution_count": 33,
   "metadata": {},
   "outputs": [],
   "source": [
    "ind = np.where(girls==\"Christine\")   "
   ]
  },
  {
   "cell_type": "code",
   "execution_count": 34,
   "metadata": {},
   "outputs": [
    {
     "name": "stdout",
     "output_type": "stream",
     "text": [
      "0.5 Christine 779\n",
      "1.5 Christine 689\n",
      "2.5 Christine 754\n",
      "3.5 Christine 773\n",
      "4.5 Christine 609\n",
      "5.5 Christine 656\n",
      "6.5 Christine 675\n",
      "7.5 Christine 614\n",
      "8.5 Christine 547\n",
      "9.5 Christine 497\n",
      "10.5 Christine 376\n",
      "11.5 Christine 354\n",
      "12.5 Christine 338\n",
      "14.5 Christine 324\n",
      "13.5 Christine 314\n",
      "15.5 Christine 260\n",
      "16.5 Christine 230\n",
      "17.5 Christine 207\n",
      "18.5 Christine 191\n",
      "19.5 Christine 161\n",
      "22.5 Christine 117\n",
      "20.5 Christine 131\n",
      "21.5 Christine 110\n",
      "25.5 Christine 88\n",
      "23.5 Christine 87\n",
      "24.5 Christine 73\n",
      "32.5 Christine 73\n",
      "30.5 Christine 71\n",
      "26.5 Christine 66\n",
      "31.5 Christine 60\n",
      "34.5 Christine 62\n",
      "33.5 Christine 59\n",
      "27.5 Christine 56\n",
      "38.5 Christine 54\n",
      "37.5 Christine 52\n",
      "44.5 Christine 45\n",
      "29.5 Christine 52\n"
     ]
    }
   ],
   "source": [
    "for i in range(len(ind[0])):\n",
    "    print(ind[1][i]/2,girls.iloc[ind[0][i],ind[1][i]],girls.iloc[ind[0][i],ind[1][i]+1]) "
   ]
  },
  {
   "cell_type": "code",
   "execution_count": 81,
   "metadata": {},
   "outputs": [
    {
     "data": {
      "image/png": "[encoded data removed]",
      "text/plain": [
       "<Figure size 432x288 with 1 Axes>"
      ]
     },
     "metadata": {
      "needs_background": "light"
     },
     "output_type": "display_data"
    }
   ],
   "source": [
    "for i in range(len(ind[0])):\n",
    "    pl.plot(ind[1][i]/2,girls.iloc[ind[0][i],ind[1][i]+1],'.')\n",
    "pl.title('Christine');"
   ]
  },
  {
   "cell_type": "code",
   "execution_count": 36,
   "metadata": {},
   "outputs": [
    {
     "data": {
      "image/png": "[encoded data removed]",
      "text/plain": [
       "<Figure size 432x288 with 1 Axes>"
      ]
     },
     "metadata": {
      "needs_background": "light"
     },
     "output_type": "display_data"
    }
   ],
   "source": [
    "# Nothing special about Christine!\n",
    "ind = np.where(girls==\"Zoe\")\n",
    "for i in range(len(ind[0])):\n",
    "    pl.plot(ind[1][i]/2,girls.iloc[ind[0][i],ind[1][i]+1],'.')\n",
    "pl.title('Zoe');"
   ]
  },
  {
   "cell_type": "markdown",
   "metadata": {},
   "source": [
    "Read off the most popular names, and store the values in a variable called 'names'.\n",
    "We are going to see which are the common last letters for girl's names\n",
    "ord gets the ascii code for the letter. We subtract 97 because 97 is the code for 'a':\n",
    "char_as_int = lambda x: ord(x)-97\n",
    "\n",
    "Write another lambda function to get the last letter. \n",
    "\n",
    "And write a loop to count how common each letter is, then plot it as a bar chart."
   ]
  },
  {
   "cell_type": "code",
   "execution_count": 37,
   "metadata": {},
   "outputs": [
    {
     "data": {
      "text/html": [
       "<div>\n",
       "<style scoped>\n",
       "    .dataframe tbody tr th:only-of-type {\n",
       "        vertical-align: middle;\n",
       "    }\n",
       "\n",
       "    .dataframe tbody tr th {\n",
       "        vertical-align: top;\n",
       "    }\n",
       "\n",
       "    .dataframe thead th {\n",
       "        text-align: right;\n",
       "    }\n",
       "</style>\n",
       "<table border=\"1\" class=\"dataframe\">\n",
       "  <thead>\n",
       "    <tr style=\"text-align: right;\">\n",
       "      <th></th>\n",
       "      <th>Name</th>\n",
       "      <th>Count</th>\n",
       "    </tr>\n",
       "  </thead>\n",
       "  <tbody>\n",
       "    <tr>\n",
       "      <th>0</th>\n",
       "      <td>1.0</td>\n",
       "      <td>0.0</td>\n",
       "    </tr>\n",
       "    <tr>\n",
       "      <th>1</th>\n",
       "      <td>779</td>\n",
       "      <td>0.0</td>\n",
       "    </tr>\n",
       "    <tr>\n",
       "      <th>2</th>\n",
       "      <td>743</td>\n",
       "      <td>0.0</td>\n",
       "    </tr>\n",
       "    <tr>\n",
       "      <th>3</th>\n",
       "      <td>851</td>\n",
       "      <td>0.0</td>\n",
       "    </tr>\n",
       "    <tr>\n",
       "      <th>4</th>\n",
       "      <td>826</td>\n",
       "      <td>0.0</td>\n",
       "    </tr>\n",
       "  </tbody>\n",
       "</table>\n",
       "</div>"
      ],
      "text/plain": [
       "  Name Count\n",
       "0  1.0   0.0\n",
       "1  779   0.0\n",
       "2  743   0.0\n",
       "3  851   0.0\n",
       "4  826   0.0"
      ]
     },
     "execution_count": 37,
     "metadata": {},
     "output_type": "execute_result"
    }
   ],
   "source": [
    "popularity.head()"
   ]
  },
  {
   "cell_type": "code",
   "execution_count": 114,
   "metadata": {},
   "outputs": [],
   "source": [
    "names = popularity.Name.values"
   ]
  },
  {
   "cell_type": "code",
   "execution_count": 124,
   "metadata": {},
   "outputs": [],
   "source": [
    "get_last_letter = lambda x: x[-1]\n",
    "char_as_int = lambda x: ord(x)-97\n",
    "\n",
    "counts = np.zeros(26)\n",
    "for i in range(len(names)):\n",
    "    counts[char_as_int(get_last_letter(str(names[i])))] += 1\n",
    "           "
   ]
  },
  {
   "cell_type": "code",
   "execution_count": 125,
   "metadata": {},
   "outputs": [
    {
     "data": {
      "image/png": "[encoded data removed]",
      "text/plain": [
       "<Figure size 432x288 with 1 Axes>"
      ]
     },
     "metadata": {},
     "output_type": "display_data"
    }
   ],
   "source": [
    "pl.bar(np.arange(26),counts,tick_label =[chr(x) for x in range(ord('a'),ord('z')+1)]);"
   ]
  },
  {
   "cell_type": "code",
   "execution_count": null,
   "metadata": {},
   "outputs": [],
   "source": []
  }
 ],
 "metadata": {
  "kernelspec": {
   "display_name": "Python 3",
   "language": "python",
   "name": "python3"
  },
  "language_info": {
   "codemirror_mode": {
    "name": "ipython",
    "version": 3
   },
   "file_extension": ".py",
   "mimetype": "text/x-python",
   "name": "python",
   "nbconvert_exporter": "python",
   "pygments_lexer": "ipython3",
   "version": "3.7.11"
  }
 },
 "nbformat": 4,
 "nbformat_minor": 2
}
