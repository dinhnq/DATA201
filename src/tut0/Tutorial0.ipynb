{
 "cells": [
  {
   "cell_type": "code",
   "execution_count": 35,
   "metadata": {},
   "outputs": [],
   "source": [
    "import numpy as np\n",
    "import pandas as pd\n",
    "import matplotlib.pyplot as pl\n",
    "%matplotlib inline"
   ]
  },
  {
   "cell_type": "markdown",
   "metadata": {},
   "source": [
    "Some Numpy practice\n",
    "==="
   ]
  },
  {
   "cell_type": "markdown",
   "metadata": {},
   "source": [
    "Make an array A of size 6 by 4 where every element is an integer of value 2"
   ]
  },
  {
   "cell_type": "code",
   "execution_count": 36,
   "metadata": {},
   "outputs": [
    {
     "name": "stdout",
     "output_type": "stream",
     "text": [
      "[[2. 2. 2. 2.]\n",
      " [2. 2. 2. 2.]\n",
      " [2. 2. 2. 2.]\n",
      " [2. 2. 2. 2.]\n",
      " [2. 2. 2. 2.]\n",
      " [2. 2. 2. 2.]]\n"
     ]
    }
   ],
   "source": [
    "A = 2 * np.ones((6, 4))\n",
    "print(A)\n"
   ]
  },
  {
   "cell_type": "markdown",
   "metadata": {},
   "source": [
    "Make an array B of size 6 by 4 that has 3 on the leading diagonal and 1\n",
    "everywhere else. "
   ]
  },
  {
   "cell_type": "code",
   "execution_count": 37,
   "metadata": {},
   "outputs": [
    {
     "name": "stdout",
     "output_type": "stream",
     "text": [
      "[[3. 1. 1. 1.]\n",
      " [1. 3. 1. 1.]\n",
      " [1. 1. 3. 1.]\n",
      " [1. 1. 1. 3.]\n",
      " [1. 1. 1. 1.]\n",
      " [1. 1. 1. 1.]]\n"
     ]
    }
   ],
   "source": [
    "B = 2* np.eye(6,4) + np.ones((6, 4))\n",
    "print(B)\n"
   ]
  },
  {
   "cell_type": "markdown",
   "metadata": {},
   "source": [
    "Multiply these two matrices together. Why does A * B work, but\n",
    "not np.dot(A,B)?"
   ]
  },
  {
   "cell_type": "code",
   "execution_count": 38,
   "metadata": {},
   "outputs": [
    {
     "ename": "ValueError",
     "evalue": "shapes (6,4) and (6,4) not aligned: 4 (dim 1) != 6 (dim 0)",
     "output_type": "error",
     "traceback": [
      "\u001B[0;31m---------------------------------------------------------------------------\u001B[0m",
      "\u001B[0;31mValueError\u001B[0m                                Traceback (most recent call last)",
      "\u001B[0;32m/var/folders/d5/3svy27h14h120vsjgqz5tg9r0000gp/T/ipykernel_24380/1783602611.py\u001B[0m in \u001B[0;36m<module>\u001B[0;34m\u001B[0m\n\u001B[1;32m      2\u001B[0m \u001B[0;31m# print(B)\u001B[0m\u001B[0;34m\u001B[0m\u001B[0;34m\u001B[0m\u001B[0;34m\u001B[0m\u001B[0m\n\u001B[1;32m      3\u001B[0m \u001B[0;31m# print(A * B)\u001B[0m\u001B[0;34m\u001B[0m\u001B[0;34m\u001B[0m\u001B[0;34m\u001B[0m\u001B[0m\n\u001B[0;32m----> 4\u001B[0;31m \u001B[0mnp\u001B[0m\u001B[0;34m.\u001B[0m\u001B[0mdot\u001B[0m\u001B[0;34m(\u001B[0m\u001B[0mA\u001B[0m\u001B[0;34m,\u001B[0m \u001B[0mB\u001B[0m\u001B[0;34m)\u001B[0m\u001B[0;34m\u001B[0m\u001B[0;34m\u001B[0m\u001B[0m\n\u001B[0m\u001B[1;32m      5\u001B[0m \u001B[0;31m# As the error message shows, the shapes are wrong -- the second dim of matrix 1 needs to match the first of matrix 2\u001B[0m\u001B[0;34m\u001B[0m\u001B[0;34m\u001B[0m\u001B[0;34m\u001B[0m\u001B[0m\n\u001B[1;32m      6\u001B[0m \u001B[0;34m\u001B[0m\u001B[0m\n",
      "\u001B[0;32m<__array_function__ internals>\u001B[0m in \u001B[0;36mdot\u001B[0;34m(*args, **kwargs)\u001B[0m\n",
      "\u001B[0;31mValueError\u001B[0m: shapes (6,4) and (6,4) not aligned: 4 (dim 1) != 6 (dim 0)"
     ]
    }
   ],
   "source": [
    "# print(A)\n",
    "# print(B)\n",
    "# print(A * B)\n",
    "np.dot(A, B)\n",
    "# As the error message shows, the shapes are wrong -- the second dim of matrix 1 needs to match the first of matrix 2"
   ]
  },
  {
   "cell_type": "markdown",
   "metadata": {},
   "source": [
    "Explore the difference between np.dot(A.T,B) and np.dot(A,B.T). Why are\n",
    "the results different shapes?"
   ]
  },
  {
   "cell_type": "code",
   "execution_count": null,
   "metadata": {},
   "outputs": [],
   "source": [
    "# print(A)\n",
    "# print(A.T) #transpose\n",
    "# print(np.dot(A.T, B))\n",
    "print(B)\n",
    "print(B.T)\n",
    "print(np.dot(A, B.T))"
   ]
  },
  {
   "cell_type": "markdown",
   "metadata": {},
   "source": [
    "Arrange the integers between 3 and 29 into a 3D (3 by 3 by 3) array called C"
   ]
  },
  {
   "cell_type": "code",
   "execution_count": null,
   "metadata": {},
   "outputs": [],
   "source": [
    "C = np.reshape(np.arange(3, 30), newshape=(3, 3, 3))\n",
    "print(C)"
   ]
  },
  {
   "cell_type": "markdown",
   "metadata": {},
   "source": [
    "+ Make a new C that is 4 by 4, with the first column being all of value 1, the next 2, the next 3, and the last one 4. \n",
    "+ Then extract the first and third rows. \n",
    "+ Matrix multiply them by the second and fourth columns.\n",
    "+ And then find the places where that product is bigger than 20. "
   ]
  },
  {
   "cell_type": "code",
   "execution_count": null,
   "metadata": {},
   "outputs": [],
   "source": [
    "C = np.ones((4, 4))\n",
    "C[:, 1] = 2\n",
    "C[:, 2] = 3\n",
    "C[:, 3] = 4\n",
    "print(C)\n",
    "\n",
    "print(C[[0, 2], :])     # rows 1 and 3\n",
    "\n",
    "D = np.dot(C[[0, 2], :], C[:, [1, 3]])\n",
    "print(D)\n",
    "\n",
    "np.where(D>20)\n",
    "print(D)"
   ]
  },
  {
   "cell_type": "markdown",
   "metadata": {},
   "source": [
    "# Some Pandas practice"
   ]
  },
  {
   "cell_type": "markdown",
   "metadata": {},
   "source": [
    "This dataset has the popularity of names over the past 60 or so years. If you open it in Excel you will see it is pretty messy. This first few lines below just load in the correct parts of the dataset. This kind of thing is quite common with real-world data."
   ]
  },
  {
   "cell_type": "code",
   "execution_count": null,
   "metadata": {
    "scrolled": true
   },
   "outputs": [],
   "source": [
    "# This is nuisance stuff to read the correct columns\n",
    "a = np.arange(2,196,3)\n",
    "b = np.arange(3,196,3)\n",
    "indices = np.zeros(int(196/3*2+1),dtype=int)\n",
    "indices[0] = 1\n",
    "indices[1::2] = a\n",
    "indices[2::2] = b\n",
    "\n",
    "#girls = pd.read_excel('/Users/marslast/Dropbox/Transfer/Teaching/DATA201/Datasets/Names.xlsx',sheet_name='Girls\\' Names',skiprows=4,index_col=None,header=[0,1],usecols=list(indices), engine='openpyxl')\n",
    "# girls = pd.read_excel('/Users/marslast/Dropbox/Transfer/Teaching/DATA201/Datasets/Names.xlsx',sheet_name='Girls\\' Names',skiprows=4,index_col=None,usecols=list(indices), engine='openpyxl')\n",
    "girls = pd.read_excel('../../res/data/Names.xlsx',sheet_name='Girls\\' Names',skiprows=4,index_col=None,usecols=list(indices), engine='openpyxl')\n",
    "girls = girls.loc[1:100]\n"
   ]
  },
  {
   "cell_type": "markdown",
   "metadata": {},
   "source": [
    "Print out the first lines to make sure it makes sense"
   ]
  },
  {
   "cell_type": "code",
   "execution_count": null,
   "metadata": {},
   "outputs": [],
   "source": [
    "girls.head()\n"
   ]
  },
  {
   "cell_type": "markdown",
   "metadata": {},
   "source": [
    "Compute how many girls were given those top 100 names year by year"
   ]
  },
  {
   "cell_type": "code",
   "execution_count": null,
   "metadata": {},
   "outputs": [],
   "source": [
    "for year in range(2, 131, 2): #from col 3 to end\n",
    "    print(girls.columns[year-1], girls.iloc[:, year:year+1].sum())"
   ]
  },
  {
   "cell_type": "markdown",
   "metadata": {},
   "source": [
    "We can't tell from that if a lot of girls were given these names or not. Let's get another dataset."
   ]
  },
  {
   "cell_type": "code",
   "execution_count": null,
   "metadata": {
    "scrolled": true
   },
   "outputs": [],
   "source": [
    "total = pd.read_csv('../../res/data/BirthsNZ.csv',skiprows=[0,2])"
   ]
  },
  {
   "cell_type": "markdown",
   "metadata": {},
   "source": [
    "Look at the head and tail of the dataset, and get rid of the pointless rows."
   ]
  },
  {
   "cell_type": "code",
   "execution_count": null,
   "metadata": {},
   "outputs": [],
   "source": [
    "total.head()\n"
   ]
  },
  {
   "cell_type": "code",
   "execution_count": null,
   "metadata": {},
   "outputs": [],
   "source": [
    "total.tail()"
   ]
  },
  {
   "cell_type": "code",
   "execution_count": null,
   "metadata": {},
   "outputs": [],
   "source": [
    "total = total[:28]"
   ]
  },
  {
   "cell_type": "code",
   "execution_count": null,
   "metadata": {},
   "outputs": [],
   "source": [
    "# That's better!\n",
    "total.tail()"
   ]
  },
  {
   "cell_type": "markdown",
   "metadata": {},
   "source": [
    "Read off the totals, and print them out. There were a lot more babies!"
   ]
  },
  {
   "cell_type": "code",
   "execution_count": null,
   "metadata": {},
   "outputs": [],
   "source": [
    "totals = total.iloc[:, [0, -1]]\n",
    "print(totals)"
   ]
  },
  {
   "cell_type": "markdown",
   "metadata": {},
   "source": [
    "Get some summary statistics."
   ]
  },
  {
   "cell_type": "code",
   "execution_count": null,
   "metadata": {},
   "outputs": [],
   "source": [
    "totals.describe()\n"
   ]
  },
  {
   "cell_type": "markdown",
   "metadata": {},
   "source": [
    "The number of babies born varies quite a bit over the years, plot the totals by year to see that."
   ]
  },
  {
   "cell_type": "code",
   "execution_count": null,
   "metadata": {},
   "outputs": [],
   "source": [
    "pl.plot(totals.iloc[:,0], totals.iloc[:, 1])\n"
   ]
  },
  {
   "cell_type": "markdown",
   "metadata": {},
   "source": [
    "Plot the number of girls with the top 100 names divided by the number of girls born (assuming it's half the total)"
   ]
  },
  {
   "cell_type": "code",
   "execution_count": null,
   "metadata": {},
   "outputs": [],
   "source": [
    "# A bit of care needed to get the overlapping ones!\n",
    "top100 = np.zeros(28)\n",
    "count = 0\n",
    "for year in range(76, 131, 2):\n",
    "    top100[count] = girls.iloc[:, year:year+1].sum()\n",
    "    count+=1\n",
    "\n",
    "pl.plot(2*top100/totals.iloc[:,1])"
   ]
  },
  {
   "cell_type": "markdown",
   "metadata": {},
   "source": [
    "Find the unique names in the list and count how often each one of those occurs. Some fun here with indices!"
   ]
  },
  {
   "cell_type": "code",
   "execution_count": null,
   "metadata": {},
   "outputs": [],
   "source": [
    "popular = pd.unique(girls.iloc[:, 1::2].values.ravel())\n",
    "print(popular)\n"
   ]
  },
  {
   "cell_type": "code",
   "execution_count": null,
   "metadata": {},
   "outputs": [],
   "source": [
    "popcounts = np.zeros(len(popular))\n",
    "count = 0\n",
    "for i in popular:\n",
    "    ind = np.where(girls==1)\n",
    "    for j in range(len(ind[0])):\n",
    "        popcounts[count] += girls.iloc[ind[0][j], ind[1][j]+1]\n",
    "    count += 1"
   ]
  },
  {
   "cell_type": "markdown",
   "metadata": {},
   "source": [
    "If your list of popular names is called popular, and the counts are called popcounts, you can use np.concatenate to put them together like this:"
   ]
  },
  {
   "cell_type": "code",
   "execution_count": 39,
   "metadata": {},
   "outputs": [],
   "source": [
    "newdata = np.concatenate((np.reshape(popular,(len(popular),1)),np.reshape(popcounts,(len(popcounts),1))),axis=1)"
   ]
  },
  {
   "cell_type": "markdown",
   "metadata": {},
   "source": [
    "Put that into a new dataframe, and track the popularity of the name 'Christine' over time, making a plot of it."
   ]
  },
  {
   "cell_type": "code",
   "execution_count": 40,
   "metadata": {},
   "outputs": [],
   "source": [
    "popularity = pd.DataFrame(data=newdata,index=None,columns=['Name','Count'])"
   ]
  },
  {
   "cell_type": "code",
   "execution_count": 41,
   "metadata": {},
   "outputs": [],
   "source": [
    "ind = np.where(girls==\"Christine\")\n"
   ]
  },
  {
   "cell_type": "code",
   "execution_count": 43,
   "metadata": {},
   "outputs": [
    {
     "name": "stdout",
     "output_type": "stream",
     "text": [
      "0.5 Christine 779\n",
      "1.5 Christine 689\n",
      "2.5 Christine 754\n",
      "3.5 Christine 773\n",
      "4.5 Christine 609\n",
      "5.5 Christine 656\n",
      "6.5 Christine 675\n",
      "7.5 Christine 614\n",
      "8.5 Christine 547\n",
      "9.5 Christine 497\n",
      "10.5 Christine 376\n",
      "11.5 Christine 354\n",
      "12.5 Christine 338\n",
      "14.5 Christine 324\n",
      "13.5 Christine 314\n",
      "15.5 Christine 260\n",
      "16.5 Christine 230\n",
      "17.5 Christine 207\n",
      "18.5 Christine 191\n",
      "19.5 Christine 161\n",
      "22.5 Christine 117\n",
      "20.5 Christine 131\n",
      "21.5 Christine 110\n",
      "25.5 Christine 88\n",
      "23.5 Christine 87\n",
      "24.5 Christine 73\n",
      "32.5 Christine 73\n",
      "30.5 Christine 71\n",
      "26.5 Christine 66\n",
      "31.5 Christine 60\n",
      "34.5 Christine 62\n",
      "33.5 Christine 59\n",
      "27.5 Christine 56\n",
      "38.5 Christine 54\n",
      "37.5 Christine 52\n",
      "44.5 Christine 45\n",
      "29.5 Christine 52\n"
     ]
    },
    {
     "data": {
      "text/plain": "Text(0.5, 1.0, 'Zoe')"
     },
     "execution_count": 43,
     "metadata": {},
     "output_type": "execute_result"
    },
    {
     "data": {
      "text/plain": "<Figure size 432x288 with 1 Axes>",
      "image/png": "[encoded data removed]"
     },
     "metadata": {
      "needs_background": "light"
     },
     "output_type": "display_data"
    }
   ],
   "source": [
    "for i in range(len(ind[0])):\n",
    "    print(ind[1][i]/2,girls.iloc[ind[0][i],ind[1][i]],girls.iloc[ind[0][i],ind[1][i]+1])"
   ]
  },
  {
   "cell_type": "code",
   "execution_count": 44,
   "outputs": [
    {
     "data": {
      "text/plain": "<Figure size 432x288 with 1 Axes>",
      "image/png": "[encoded data removed]"
     },
     "metadata": {
      "needs_background": "light"
     },
     "output_type": "display_data"
    }
   ],
   "source": [
    "for i in range(len(ind[0])):\n",
    "    pl.plot(ind[1][i]/2,girls.iloc[ind[0][i],ind[1][i]+1],'.')\n",
    "pl.title('Christine');"
   ],
   "metadata": {
    "collapsed": false,
    "pycharm": {
     "name": "#%%\n"
    }
   }
  },
  {
   "cell_type": "code",
   "execution_count": 45,
   "outputs": [
    {
     "data": {
      "text/plain": "<Figure size 432x288 with 1 Axes>",
      "image/png": "[encoded data removed]"
     },
     "metadata": {
      "needs_background": "light"
     },
     "output_type": "display_data"
    }
   ],
   "source": [
    "# Nothing special about Christine!\n",
    "ind = np.where(girls==\"Zoe\")\n",
    "for i in range(len(ind[0])):\n",
    "    pl.plot(ind[1][i]/2,girls.iloc[ind[0][i],ind[1][i]+1],'.')\n",
    "pl.title('Zoe');"
   ],
   "metadata": {
    "collapsed": false,
    "pycharm": {
     "name": "#%%\n"
    }
   }
  },
  {
   "cell_type": "markdown",
   "metadata": {},
   "source": [
    "Read off the most popular names, and store the values in a variable called 'names'.\n",
    "We are going to see which are the common last letters for girl's names\n",
    "ord gets the ascii code for the letter. We subtract 97 because 97 is the code for 'a':\n",
    "char_as_int = lambda x: ord(x)-97\n",
    "\n",
    "Write another lambda function to get the last letter. \n",
    "\n",
    "And write a loop to count how common each letter is, then plot it as a bar chart."
   ]
  },
  {
   "cell_type": "code",
   "execution_count": 46,
   "metadata": {},
   "outputs": [
    {
     "data": {
      "text/plain": "        Name Count\n0  Christine   0.0\n1      Susan   0.0\n2      Karen   0.0\n3   Michelle   0.0\n4       Lisa   0.0",
      "text/html": "<div>\n<style scoped>\n    .dataframe tbody tr th:only-of-type {\n        vertical-align: middle;\n    }\n\n    .dataframe tbody tr th {\n        vertical-align: top;\n    }\n\n    .dataframe thead th {\n        text-align: right;\n    }\n</style>\n<table border=\"1\" class=\"dataframe\">\n  <thead>\n    <tr style=\"text-align: right;\">\n      <th></th>\n      <th>Name</th>\n      <th>Count</th>\n    </tr>\n  </thead>\n  <tbody>\n    <tr>\n      <th>0</th>\n      <td>Christine</td>\n      <td>0.0</td>\n    </tr>\n    <tr>\n      <th>1</th>\n      <td>Susan</td>\n      <td>0.0</td>\n    </tr>\n    <tr>\n      <th>2</th>\n      <td>Karen</td>\n      <td>0.0</td>\n    </tr>\n    <tr>\n      <th>3</th>\n      <td>Michelle</td>\n      <td>0.0</td>\n    </tr>\n    <tr>\n      <th>4</th>\n      <td>Lisa</td>\n      <td>0.0</td>\n    </tr>\n  </tbody>\n</table>\n</div>"
     },
     "execution_count": 46,
     "metadata": {},
     "output_type": "execute_result"
    }
   ],
   "source": [
    "popularity.head()\n"
   ]
  },
  {
   "cell_type": "code",
   "execution_count": 47,
   "metadata": {},
   "outputs": [],
   "source": [
    "names = popularity.Name.values\n"
   ]
  },
  {
   "cell_type": "code",
   "execution_count": 51,
   "metadata": {},
   "outputs": [],
   "source": [
    "get_last_letter = lambda x: x[-1]\n",
    "char_as_int = lambda x: ord(x)-97\n",
    "\n",
    "counts = np.zeros(26)\n",
    "for i in range(len(names)):\n",
    "    counts[char_as_int(get_last_letter(str(names[i])))] += 1"
   ]
  },
  {
   "cell_type": "code",
   "execution_count": 52,
   "metadata": {},
   "outputs": [
    {
     "data": {
      "text/plain": "<BarContainer object of 26 artists>"
     },
     "execution_count": 52,
     "metadata": {},
     "output_type": "execute_result"
    },
    {
     "data": {
      "text/plain": "<Figure size 432x288 with 1 Axes>",
      "image/png": "[encoded data removed]"
     },
     "metadata": {
      "needs_background": "light"
     },
     "output_type": "display_data"
    }
   ],
   "source": [
    "pl.bar(np.arange(26), counts, tick_label = [chr(x) for x in range(ord('a'), ord('z')+1)])\n"
   ]
  }
 ],
 "metadata": {
  "kernelspec": {
   "display_name": "Python 3",
   "language": "python",
   "name": "python3"
  },
  "language_info": {
   "codemirror_mode": {
    "name": "ipython",
    "version": 3
   },
   "file_extension": ".py",
   "mimetype": "text/x-python",
   "name": "python",
   "nbconvert_exporter": "python",
   "pygments_lexer": "ipython3",
   "version": "3.7.9"
  }
 },
 "nbformat": 4,
 "nbformat_minor": 2
}