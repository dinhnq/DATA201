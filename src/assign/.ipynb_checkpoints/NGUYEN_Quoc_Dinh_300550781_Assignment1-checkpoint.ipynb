{
 "cells": [
  {
   "cell_type": "code",
   "execution_count": 7,
   "id": "numeric-protection",
   "metadata": {},
   "outputs": [],
   "source": [
    "import numpy as np\n",
    "import pandas as pd\n",
    "import matplotlib.pyplot as pl\n",
    "%matplotlib inline"
   ]
  },
  {
   "cell_type": "markdown",
   "id": "95bf0afd",
   "metadata": {},
   "source": [
    "The Little Spotted Kiwi (Apteryx owenii) is one of the 5 species of kiwi. We are lucky enough to have them living close to us, in Zealandia sanctuary up in Karori. They are lovely birds as you can see here: ![LSK](LSK1.jpg). \n",
    "\n",
    "One way to monitor the birds (since they are pretty cryptic, being active at night and hard to spot) is to listen to their calls. In Zealandia, Raewyn Empson has been getting volunteers to perform kiwi call counts every summer since the kiwi were translocated to the valley in 2001 and 2002. Knowing how many calls there are doesn't tell us so much about the number of birds unless we can assume that the number of calls increases linearly with the number of birds, which it probably doesn't. But it does reassure us that they are alive and doing OK.\n",
    "\n",
    "The data from the Pylon listening post is in the file `ZealandiaKiwiCalls.xls`. It contains counts of the number of male and female birds heard on multiple dates, and can be loaded as follows (note that NaN means that nobody listened on that night, while 0 means that none were heard):"
   ]
  },
  {
   "cell_type": "code",
   "execution_count": 8,
   "id": "mature-grounds",
   "metadata": {},
   "outputs": [
    {
     "data": {
      "text/html": [
       "<div>\n",
       "<style scoped>\n",
       "    .dataframe tbody tr th:only-of-type {\n",
       "        vertical-align: middle;\n",
       "    }\n",
       "\n",
       "    .dataframe tbody tr th {\n",
       "        vertical-align: top;\n",
       "    }\n",
       "\n",
       "    .dataframe thead th {\n",
       "        text-align: right;\n",
       "    }\n",
       "</style>\n",
       "<table border=\"1\" class=\"dataframe\">\n",
       "  <thead>\n",
       "    <tr style=\"text-align: right;\">\n",
       "      <th></th>\n",
       "      <th>Date</th>\n",
       "      <th>Year</th>\n",
       "      <th>Male</th>\n",
       "      <th>Female</th>\n",
       "      <th>Unknown</th>\n",
       "      <th>Total</th>\n",
       "    </tr>\n",
       "  </thead>\n",
       "  <tbody>\n",
       "    <tr>\n",
       "      <th>0</th>\n",
       "      <td>2002-01-01</td>\n",
       "      <td>2002</td>\n",
       "      <td>1</td>\n",
       "      <td>0.0</td>\n",
       "      <td>NaN</td>\n",
       "      <td>1.0</td>\n",
       "    </tr>\n",
       "    <tr>\n",
       "      <th>1</th>\n",
       "      <td>2002-01-06</td>\n",
       "      <td>2002</td>\n",
       "      <td>8</td>\n",
       "      <td>3.0</td>\n",
       "      <td>NaN</td>\n",
       "      <td>11.0</td>\n",
       "    </tr>\n",
       "    <tr>\n",
       "      <th>2</th>\n",
       "      <td>2002-01-08</td>\n",
       "      <td>2002</td>\n",
       "      <td>8</td>\n",
       "      <td>6.0</td>\n",
       "      <td>NaN</td>\n",
       "      <td>14.0</td>\n",
       "    </tr>\n",
       "    <tr>\n",
       "      <th>3</th>\n",
       "      <td>2002-01-18</td>\n",
       "      <td>2002</td>\n",
       "      <td>11</td>\n",
       "      <td>8.0</td>\n",
       "      <td>NaN</td>\n",
       "      <td>19.0</td>\n",
       "    </tr>\n",
       "    <tr>\n",
       "      <th>4</th>\n",
       "      <td>2002-01-21</td>\n",
       "      <td>2002</td>\n",
       "      <td>9</td>\n",
       "      <td>6.0</td>\n",
       "      <td>NaN</td>\n",
       "      <td>15.0</td>\n",
       "    </tr>\n",
       "  </tbody>\n",
       "</table>\n",
       "</div>"
      ],
      "text/plain": [
       "        Date  Year  Male  Female  Unknown  Total\n",
       "0 2002-01-01  2002     1     0.0      NaN    1.0\n",
       "1 2002-01-06  2002     8     3.0      NaN   11.0\n",
       "2 2002-01-08  2002     8     6.0      NaN   14.0\n",
       "3 2002-01-18  2002    11     8.0      NaN   19.0\n",
       "4 2002-01-21  2002     9     6.0      NaN   15.0"
      ]
     },
     "execution_count": 8,
     "metadata": {},
     "output_type": "execute_result"
    }
   ],
   "source": [
    "calls = pd.read_excel('../../res/data/ZealandiaKiwiCalls.xls',header=0)\n",
    "calls[\"Date\"]=pd.to_datetime(calls[\"Date\"])\n",
    "calls.head()"
   ]
  },
  {
   "cell_type": "markdown",
   "id": "4dfbc7c5",
   "metadata": {},
   "source": [
    "Task 1: \n",
    "- Plot the average number of calls in each year for the males and females on one graph. (3 marks) \n",
    "- Comment on what you notice. (2 marks) \n",
    "\n",
    "The magic command that will do nearly all the work for you is a pivot table. Look up`pd.pivot_table` and look for the aggregate function (`aggfunc`). The syntax to use is `pd.pivot_table(dataframe, index, values, aggfunc)` where the dataframe is obvious, the index specifies the column(s) that you want to use to group by, values are the columns you want to output, and the aggfunc is how to combine the values.\n",
    "\n",
    "After you have made the pivot table you will want to reset the index. This can be done for a dataframe called `pv_year_mean` using: \n",
    "`pv_year_mean = pv_year_mean.rename_axis(None, axis=1).reset_index()`"
   ]
  },
  {
   "cell_type": "code",
   "execution_count": 9,
   "id": "82556152",
   "metadata": {},
   "outputs": [
    {
     "data": {
      "text/plain": [
       "<matplotlib.legend.Legend at 0x7f84b583d130>"
      ]
     },
     "execution_count": 9,
     "metadata": {},
     "output_type": "execute_result"
    },
    {
     "data": {
      "image/png": "[encoded data removed]",
      "text/plain": [
       "<Figure size 432x288 with 1 Axes>"
      ]
     },
     "metadata": {
      "needs_background": "light"
     },
     "output_type": "display_data"
    }
   ],
   "source": [
    "#pl.plot(calls['Total'])\n",
    "\n",
    "pv_year_female = pd.pivot_table(calls,index='Year',aggfunc={'Female':np.mean})\n",
    "pv_year_female = pv_year_female.rename_axis(None, axis=1).reset_index()\n",
    "pl.plot(pv_year_female['Year'], pv_year_female['Female'], 'r', label='Female')\n",
    "\n",
    "pv_year_male = pd.pivot_table(calls,index='Year',aggfunc={'Male':np.mean})\n",
    "pv_year_male = pv_year_male.rename_axis(None, axis=1).reset_index()\n",
    "pl.plot(pv_year_male['Year'], pv_year_male['Male'], 'g', label='Male')\n",
    "\n",
    "pl.title('Average Nightly Calls - Pylon')\n",
    "pl.legend()\n"
   ]
  },
  {
   "cell_type": "markdown",
   "id": "eeacdd71",
   "metadata": {},
   "source": [
    "Comment: \n",
    "The average number of calls by male increases overtime while that of call by female fluctuates and can not reach over 2.5"
   ]
  },
  {
   "cell_type": "markdown",
   "id": "716adfc4",
   "metadata": {},
   "source": [
    "Task 2. \n",
    "- Plot the number of calls detected on each night against the year for the males and females on separate axes. (2 marks)\n",
    "- Then use the `polyfit` command that we saw in the lectures to fit a straight line to the plots. There are three lines to using polyfit, the next cell should give you the idea. (3 marks) \n",
    "- Comment on whether the values of the fits verify you conclusions above. (1 mark)\n",
    "\n",
    "You will need to use the `drop_na()` command."
   ]
  },
  {
   "cell_type": "code",
   "execution_count": 10,
   "id": "urban-vegetation",
   "metadata": {},
   "outputs": [],
   "source": [
    "#a = np.random.randn(20,2)\n",
    "#pf = np.polyfit(a[:,0],a[:,1],1)\n",
    "#f = np.poly1d(pf)\n",
    "#pl.plot(a[:,0],a[:,1],'.')\n",
    "#pl.plot(a[:,0],f(a[:,0]))\n",
    "new_data = calls[['Year', 'Male', 'Female']].dropna(axis=0, how='any')"
   ]
  },
  {
   "cell_type": "code",
   "execution_count": 11,
   "id": "987906ba",
   "metadata": {
    "scrolled": true
   },
   "outputs": [
    {
     "name": "stdout",
     "output_type": "stream",
     "text": [
      "Male: \n",
      "0.8428 x - 1684\n"
     ]
    },
    {
     "data": {
      "image/png": "[encoded data removed]",
      "text/plain": [
       "<Figure size 432x288 with 1 Axes>"
      ]
     },
     "metadata": {
      "needs_background": "light"
     },
     "output_type": "display_data"
    },
    {
     "name": "stdout",
     "output_type": "stream",
     "text": [
      "Female: \n",
      "0.07629 x - 150.8\n"
     ]
    },
    {
     "data": {
      "image/png": "[encoded data removed]",
      "text/plain": [
       "<Figure size 432x288 with 1 Axes>"
      ]
     },
     "metadata": {
      "needs_background": "light"
     },
     "output_type": "display_data"
    }
   ],
   "source": [
    "year = new_data['Year']\n",
    "male = new_data['Male']\n",
    "female = new_data['Female']\n",
    "\n",
    "#slope_m, intercept_m = np.polyfit(year, male, deg=1)\n",
    "#print('Males:\\n{:.4f} x {}'.format(slope_m, round(intercept_m)))\n",
    "\n",
    "#slope_f, intercept_f = np.polyfit(year, female, deg=1)\n",
    "#print('Female:\\n{:.4f} x {}'.format(slope_f, round(intercept_f)))\n",
    "\n",
    "#pl.plot(year, male, '.g')\n",
    "#pl.plot(year, slope_m*year + intercept_m)\n",
    "#pl.show()\n",
    "\n",
    "#pl.plot(year, female, '.r')\n",
    "#pl.plot(year, slope_f*year + intercept_f)\n",
    "#pl.show()\n",
    "\n",
    "pf = np.polyfit(year, male, deg=1)\n",
    "f = np.poly1d(pf)\n",
    "print('Male:{}'.format(f))\n",
    "pl.plot(year, male, '.g')\n",
    "pl.plot(year, f(year))\n",
    "pl.show()\n",
    "\n",
    "pf = np.polyfit(year, female, deg=1)\n",
    "f = np.poly1d(pf)\n",
    "print('Female:{}'.format(f))\n",
    "pl.plot(year, female, '.r')\n",
    "pl.plot(year, f(year))\n",
    "pl.show()"
   ]
  },
  {
   "cell_type": "code",
   "execution_count": 12,
   "id": "7b69e998",
   "metadata": {},
   "outputs": [
    {
     "ename": "SyntaxError",
     "evalue": "invalid syntax (<ipython-input-12-ac818cc0beba>, line 1)",
     "output_type": "error",
     "traceback": [
      "\u001b[0;36m  File \u001b[0;32m\"<ipython-input-12-ac818cc0beba>\"\u001b[0;36m, line \u001b[0;32m1\u001b[0m\n\u001b[0;31m    Comment:\u001b[0m\n\u001b[0m            ^\u001b[0m\n\u001b[0;31mSyntaxError\u001b[0m\u001b[0;31m:\u001b[0m invalid syntax\n"
     ]
    }
   ],
   "source": [
    "Comment:\n",
    "The values of the fits verify my conclusions as they show an increase number of calls detected on each night against the year for the males and females over time."
   ]
  },
  {
   "cell_type": "markdown",
   "id": "5baa52a7",
   "metadata": {},
   "source": [
    "Some things that are thought to affect the rate of kiwi calling include the phase of the moon (since they can see better), and how wet the ground is (since there is more for them to eat). However, the evidence is a bit contradictory for it, so there may well be no correlation. You are going to test this for the Little Spotted Kiwi in Zealandia. The file `rain.csv` holds the amount of rain reported every day from 2004 onwards at the Kelburn weather station. It can be loaded as follows:"
   ]
  },
  {
   "cell_type": "code",
   "execution_count": null,
   "id": "collect-marathon",
   "metadata": {},
   "outputs": [],
   "source": [
    "rain = pd.read_csv('../../res/data/rain.csv',header=2)\n",
    "rain[\"Date\"]=pd.to_datetime(rain[\"Date\"],format=\"%Y%m%d\")\n",
    "rain.head()"
   ]
  },
  {
   "cell_type": "markdown",
   "id": "c06f1320",
   "metadata": {},
   "source": [
    "Task 3.\n",
    "Merge the two datasets by adding this data to the calls dataframe for the nights when a kiwi call count was carried out (check out `pd.merge`). (2 marks)"
   ]
  },
  {
   "cell_type": "code",
   "execution_count": null,
   "id": "specified-spiritual",
   "metadata": {},
   "outputs": [],
   "source": [
    "new_dataframe = pd.merge(calls, rain, how='inner')\n",
    "new_dataframe.head()"
   ]
  },
  {
   "cell_type": "markdown",
   "id": "fa6e1a16",
   "metadata": {},
   "source": [
    "The following code computes the phase of the moon. It returns the number of days since the new moon. Broadly, the full moon is at day 15, when it can be assumed to be light, while close to 0 and 30 there is very little moon. "
   ]
  },
  {
   "cell_type": "code",
   "execution_count": null,
   "id": "knowing-print",
   "metadata": {},
   "outputs": [],
   "source": [
    "import datetime, math\n",
    "\n",
    "def phase(date):\n",
    "    n = np.floor(12.37 * (date.dt.year - 1900 + ((date.dt.month - 0.5)/12.0)))\n",
    "    t = n / 1236.85\n",
    "    az = 359.2242 + 29.105356 * n\n",
    "    am = 306.0253 + 385.816918 * n + 0.010730 * t * t\n",
    "    extra = 0.75933 + 1.53058868 * n + ((1.178e-4) - (1.55e-7) * t) * t + (0.1734 - 3.93e-4 * t) * np.sin(np.radians(az)) - 0.4068 * np.sin(np.radians(am))\n",
    "    extra.where(extra<0,np.floor(extra),inplace=True)\n",
    "    extra.where(extra>0,np.ceil(extra-1),inplace=True)\n",
    "    julian = np.where((date.dt.year > 1801) & (date.dt.year < 2099),67 * date.dt.year - ((7 * (date.dt.year + ((date.dt.month + 9) / 12.0).astype(int))) / 4.0).astype(int) + ((275 * date.dt.month) / 9.0).astype(int) + date.dt.day + 1721013.5 + (date.dt.hour + date.dt.minute / 60.0 + date.dt.second / 3600) / 24.0 - 0.5 * np.copysign(1, 100 * date.dt.year + date.dt.month - 190002.5) + 0.5,0) \n",
    "    jd = (2415020 + 28 * n) + extra\n",
    "    return (julian-jd + 30)%30\n"
   ]
  },
  {
   "cell_type": "markdown",
   "id": "2372251c",
   "metadata": {},
   "source": [
    "Task 4.\n",
    "- Run this function for each date in the calls dataset and add a new column called \"Moon\" or similar. (2 marks)\n",
    "- Add another column called light, which has 3 categories: 0 - dark, 1 - medium, 2 - bright according to the phase of the moon. (2 marks)"
   ]
  },
  {
   "cell_type": "code",
   "execution_count": null,
   "id": "wrong-tenant",
   "metadata": {},
   "outputs": [],
   "source": [
    "new_dataframe['Moon'] = phase(new_dataframe['Date'])\n",
    "\n",
    "new_dataframe['Light']= new_dataframe['Moon'].apply(lambda x: 2.0 if (x>=10 and x<=20) else 1.0 if ((x>=5 and x<10) or (x>20 and x <=25)) else 0.0)\n",
    "\n",
    "new_dataframe.head()"
   ]
  },
  {
   "cell_type": "markdown",
   "id": "d6bf7b9a",
   "metadata": {},
   "source": [
    "Task 5. Test the correlation of the amount of light and the number of calls and the amount of moisture and the number of calls. Comment on your findings. (3 marks)"
   ]
  },
  {
   "cell_type": "code",
   "execution_count": null,
   "id": "scientific-cheat",
   "metadata": {},
   "outputs": [],
   "source": [
    "corr_dataframe = new_dataframe[['Male', 'Female', 'Moon', 'Light', 'Amount (mm)']]\n",
    "corr_matrix = corr_dataframe.corr()\n",
    "\n",
    "corr_matrix"
   ]
  },
  {
   "cell_type": "markdown",
   "id": "e0363a8d",
   "metadata": {},
   "source": [
    "Comment:\n",
    "The amount of light has a negative relationship with the moon phase, the number of female calls, and the amount of moisture.\n",
    "The amount of light has a positive relationship with the number of male calls.\n",
    "A change of the amount of light has not been statistically significant affect to the other factors as an increase of one unit in light would not create not larger than 5% change on the number of calls, the amount of moisture, and the number of calls."
   ]
  }
 ],
 "metadata": {
  "kernelspec": {
   "display_name": "Python 3",
   "language": "python",
   "name": "python3"
  },
  "language_info": {
   "codemirror_mode": {
    "name": "ipython",
    "version": 3
   },
   "file_extension": ".py",
   "mimetype": "text/x-python",
   "name": "python",
   "nbconvert_exporter": "python",
   "pygments_lexer": "ipython3",
   "version": "3.8.8"
  }
 },
 "nbformat": 4,
 "nbformat_minor": 5
}
