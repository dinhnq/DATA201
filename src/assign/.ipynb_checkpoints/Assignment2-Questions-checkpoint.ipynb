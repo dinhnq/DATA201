{
 "cells": [
  {
   "cell_type": "markdown",
   "id": "41fe7829",
   "metadata": {},
   "source": [
    "# Assignment 2 - Probability and Statistics, Ethics and privacy\n",
    "\n",
    "This assignment is worth 10% of your final grade.\n",
    "\n",
    "It is due at **Midnight on Monday 9 August**, and should be submitted as a single Jupyter Notebook, through the \"Assignment 2\" link in Blackboard\n",
    "\n",
    "The assignment makes use of the `scipy.stats` package and the `statsmodels.formula.api` package.  It draws on material from Weeks 3 and 4, lectured by Richard Arnold.\n",
    "\n",
    "When answering questions show any relevant Python code along with your answers."
   ]
  },
  {
   "cell_type": "markdown",
   "id": "45a1f490",
   "metadata": {},
   "source": [
    "# Privacy, Security, Confidentiality and Ethics"
   ]
  },
  {
   "cell_type": "markdown",
   "id": "6a0a6fb5",
   "metadata": {},
   "source": [
    "1\\. A genetics company offers to analyse the DNA of clients who submit a biological sample for analysis (a self-collected saliva sample, sent through the post).  The clients also complete a short health questionnaire.  After carrying out the analysis they return by email a report to the client, describing details of their genetic background.  In the report they also notify the client about any genetic markers they have for diseases that they might develop later in life, or that they might possibly pass on to their children.  The genetic profile and health questionnaire results from every client are added to a research database of genome data, but without any information that identifies the client.  Scientific research reports based on the data are published from time to time by health researchers who are granted access.\n",
    "\n",
    "   (a) In a paragraph of writing (150-200 words),, discuss the Privacy, Security and Confidentiality issues that arise in this scenario.\n",
    "   \n",
    "   (b) If a client discovers that they have a marker for a heritable disease, is it ethical for them **not** to inform their close relatives?  In a short paragraph explain why, or why not."
   ]
  },
  {
   "cell_type": "markdown",
   "id": "5cce529f",
   "metadata": {},
   "source": [
    "# Probabilities from data"
   ]
  },
  {
   "cell_type": "markdown",
   "id": "6e6a87e2",
   "metadata": {},
   "source": [
    "2\\. Read the file 'dogs.csv' which contains characteristics of a sample of 1000 licensed dogs in New Zealand."
   ]
  },
  {
   "cell_type": "code",
   "execution_count": 161,
   "id": "725f28d0",
   "metadata": {},
   "outputs": [],
   "source": [
    "import numpy\n",
    "import pandas\n",
    "import matplotlib.pyplot as pyplot\n",
    "from scipy.stats import binom\n",
    "from scipy.stats import gamma\n",
    "from scipy.stats import hypergeom\n",
    "from statsmodels.formula.api import ols\n",
    "from statsmodels import api\n",
    "#from sklearn.linear_model import LinearRegression"
   ]
  },
  {
   "cell_type": "code",
   "execution_count": 141,
   "id": "a47197dc",
   "metadata": {},
   "outputs": [
    {
     "data": {
      "text/html": [
       "<div>\n",
       "<style scoped>\n",
       "    .dataframe tbody tr th:only-of-type {\n",
       "        vertical-align: middle;\n",
       "    }\n",
       "\n",
       "    .dataframe tbody tr th {\n",
       "        vertical-align: top;\n",
       "    }\n",
       "\n",
       "    .dataframe thead th {\n",
       "        text-align: right;\n",
       "    }\n",
       "</style>\n",
       "<table border=\"1\" class=\"dataframe\">\n",
       "  <thead>\n",
       "    <tr style=\"text-align: right;\">\n",
       "      <th></th>\n",
       "      <th>Breed</th>\n",
       "      <th>DeSexed</th>\n",
       "      <th>Dangerous</th>\n",
       "      <th>Menacing</th>\n",
       "      <th>Sex</th>\n",
       "      <th>MicroChipped</th>\n",
       "    </tr>\n",
       "  </thead>\n",
       "  <tbody>\n",
       "    <tr>\n",
       "      <th>0</th>\n",
       "      <td>All cross breeds</td>\n",
       "      <td>No</td>\n",
       "      <td>No</td>\n",
       "      <td>No</td>\n",
       "      <td>Female</td>\n",
       "      <td>Yes</td>\n",
       "    </tr>\n",
       "    <tr>\n",
       "      <th>1</th>\n",
       "      <td>All cross breeds</td>\n",
       "      <td>Yes</td>\n",
       "      <td>No</td>\n",
       "      <td>No</td>\n",
       "      <td>Male</td>\n",
       "      <td>Yes</td>\n",
       "    </tr>\n",
       "    <tr>\n",
       "      <th>2</th>\n",
       "      <td>All cross breeds</td>\n",
       "      <td>Yes</td>\n",
       "      <td>No</td>\n",
       "      <td>No</td>\n",
       "      <td>Female</td>\n",
       "      <td>Yes</td>\n",
       "    </tr>\n",
       "    <tr>\n",
       "      <th>3</th>\n",
       "      <td>All cross breeds</td>\n",
       "      <td>Yes</td>\n",
       "      <td>No</td>\n",
       "      <td>No</td>\n",
       "      <td>Female</td>\n",
       "      <td>No</td>\n",
       "    </tr>\n",
       "    <tr>\n",
       "      <th>4</th>\n",
       "      <td>All cross breeds</td>\n",
       "      <td>Yes</td>\n",
       "      <td>No</td>\n",
       "      <td>No</td>\n",
       "      <td>Female</td>\n",
       "      <td>No</td>\n",
       "    </tr>\n",
       "    <tr>\n",
       "      <th>...</th>\n",
       "      <td>...</td>\n",
       "      <td>...</td>\n",
       "      <td>...</td>\n",
       "      <td>...</td>\n",
       "      <td>...</td>\n",
       "      <td>...</td>\n",
       "    </tr>\n",
       "    <tr>\n",
       "      <th>995</th>\n",
       "      <td>All pure breeds</td>\n",
       "      <td>Yes</td>\n",
       "      <td>No</td>\n",
       "      <td>No</td>\n",
       "      <td>Female</td>\n",
       "      <td>Yes</td>\n",
       "    </tr>\n",
       "    <tr>\n",
       "      <th>996</th>\n",
       "      <td>All pure breeds</td>\n",
       "      <td>Yes</td>\n",
       "      <td>No</td>\n",
       "      <td>No</td>\n",
       "      <td>Male</td>\n",
       "      <td>No</td>\n",
       "    </tr>\n",
       "    <tr>\n",
       "      <th>997</th>\n",
       "      <td>All pure breeds</td>\n",
       "      <td>Yes</td>\n",
       "      <td>No</td>\n",
       "      <td>No</td>\n",
       "      <td>Male</td>\n",
       "      <td>Yes</td>\n",
       "    </tr>\n",
       "    <tr>\n",
       "      <th>998</th>\n",
       "      <td>All pure breeds</td>\n",
       "      <td>Yes</td>\n",
       "      <td>No</td>\n",
       "      <td>No</td>\n",
       "      <td>Female</td>\n",
       "      <td>No</td>\n",
       "    </tr>\n",
       "    <tr>\n",
       "      <th>999</th>\n",
       "      <td>All pure breeds</td>\n",
       "      <td>No</td>\n",
       "      <td>No</td>\n",
       "      <td>No</td>\n",
       "      <td>Female</td>\n",
       "      <td>Yes</td>\n",
       "    </tr>\n",
       "  </tbody>\n",
       "</table>\n",
       "<p>1000 rows × 6 columns</p>\n",
       "</div>"
      ],
      "text/plain": [
       "                Breed DeSexed Dangerous Menacing     Sex MicroChipped\n",
       "0    All cross breeds      No        No       No  Female          Yes\n",
       "1    All cross breeds     Yes        No       No    Male          Yes\n",
       "2    All cross breeds     Yes        No       No  Female          Yes\n",
       "3    All cross breeds     Yes        No       No  Female           No\n",
       "4    All cross breeds     Yes        No       No  Female           No\n",
       "..                ...     ...       ...      ...     ...          ...\n",
       "995   All pure breeds     Yes        No       No  Female          Yes\n",
       "996   All pure breeds     Yes        No       No    Male           No\n",
       "997   All pure breeds     Yes        No       No    Male          Yes\n",
       "998   All pure breeds     Yes        No       No  Female           No\n",
       "999   All pure breeds      No        No       No  Female          Yes\n",
       "\n",
       "[1000 rows x 6 columns]"
      ]
     },
     "execution_count": 141,
     "metadata": {},
     "output_type": "execute_result"
    }
   ],
   "source": [
    "df_dogs = pandas.read_csv('../../res/data/dogs.csv')\n",
    "df_dogs.columns = ['Breed','DeSexed','Dangerous','Menacing','Sex','MicroChipped']\n",
    "df_dogs"
   ]
  },
  {
   "cell_type": "markdown",
   "id": "04c3a1e9",
   "metadata": {},
   "source": [
    "3\\. Using this sample estimate the marginal probabilities of the three different breed classifications in the data set.  What proportion of the NZ dog population is pure bred?"
   ]
  },
  {
   "cell_type": "code",
   "execution_count": 142,
   "id": "c3c5e5ea",
   "metadata": {},
   "outputs": [
    {
     "data": {
      "text/html": [
       "<div>\n",
       "<style scoped>\n",
       "    .dataframe tbody tr th:only-of-type {\n",
       "        vertical-align: middle;\n",
       "    }\n",
       "\n",
       "    .dataframe tbody tr th {\n",
       "        vertical-align: top;\n",
       "    }\n",
       "\n",
       "    .dataframe thead th {\n",
       "        text-align: right;\n",
       "    }\n",
       "</style>\n",
       "<table border=\"1\" class=\"dataframe\">\n",
       "  <thead>\n",
       "    <tr style=\"text-align: right;\">\n",
       "      <th></th>\n",
       "      <th>counts</th>\n",
       "      <th>probs</th>\n",
       "    </tr>\n",
       "  </thead>\n",
       "  <tbody>\n",
       "    <tr>\n",
       "      <th>All cross breeds</th>\n",
       "      <td>205</td>\n",
       "      <td>0.205</td>\n",
       "    </tr>\n",
       "    <tr>\n",
       "      <th>All pure and cross breeds</th>\n",
       "      <td>490</td>\n",
       "      <td>0.490</td>\n",
       "    </tr>\n",
       "    <tr>\n",
       "      <th>All pure breeds</th>\n",
       "      <td>305</td>\n",
       "      <td>0.305</td>\n",
       "    </tr>\n",
       "  </tbody>\n",
       "</table>\n",
       "</div>"
      ],
      "text/plain": [
       "                           counts  probs\n",
       "All cross breeds              205  0.205\n",
       "All pure and cross breeds     490  0.490\n",
       "All pure breeds               305  0.305"
      ]
     },
     "execution_count": 142,
     "metadata": {},
     "output_type": "execute_result"
    }
   ],
   "source": [
    "counts = df_dogs.Breed.value_counts().sort_index()\n",
    "sums = sum(counts)\n",
    "\n",
    "probs = counts/sums\n",
    "dist = pandas.DataFrame({'counts':counts, 'probs':probs})\n",
    "dist"
   ]
  },
  {
   "cell_type": "markdown",
   "id": "5268c355",
   "metadata": {},
   "source": [
    "The proportion of the NZ dog population which is pure bred is 30.5%"
   ]
  },
  {
   "cell_type": "markdown",
   "id": "c67d0b0b",
   "metadata": {},
   "source": [
    "4\\. What is the probability that a dog is both male and microchipped?"
   ]
  },
  {
   "cell_type": "code",
   "execution_count": 143,
   "id": "f74086bf",
   "metadata": {},
   "outputs": [
    {
     "data": {
      "text/html": [
       "<div>\n",
       "<style scoped>\n",
       "    .dataframe tbody tr th:only-of-type {\n",
       "        vertical-align: middle;\n",
       "    }\n",
       "\n",
       "    .dataframe tbody tr th {\n",
       "        vertical-align: top;\n",
       "    }\n",
       "\n",
       "    .dataframe thead th {\n",
       "        text-align: right;\n",
       "    }\n",
       "</style>\n",
       "<table border=\"1\" class=\"dataframe\">\n",
       "  <thead>\n",
       "    <tr style=\"text-align: right;\">\n",
       "      <th>MicroChipped</th>\n",
       "      <th>No</th>\n",
       "      <th>Yes</th>\n",
       "      <th>Total</th>\n",
       "    </tr>\n",
       "    <tr>\n",
       "      <th>Sex</th>\n",
       "      <th></th>\n",
       "      <th></th>\n",
       "      <th></th>\n",
       "    </tr>\n",
       "  </thead>\n",
       "  <tbody>\n",
       "    <tr>\n",
       "      <th>Female</th>\n",
       "      <td>0.221</td>\n",
       "      <td>0.292</td>\n",
       "      <td>0.513</td>\n",
       "    </tr>\n",
       "    <tr>\n",
       "      <th>Male</th>\n",
       "      <td>0.219</td>\n",
       "      <td>0.268</td>\n",
       "      <td>0.487</td>\n",
       "    </tr>\n",
       "    <tr>\n",
       "      <th>Total</th>\n",
       "      <td>0.440</td>\n",
       "      <td>0.560</td>\n",
       "      <td>1.000</td>\n",
       "    </tr>\n",
       "  </tbody>\n",
       "</table>\n",
       "</div>"
      ],
      "text/plain": [
       "MicroChipped     No    Yes  Total\n",
       "Sex                              \n",
       "Female        0.221  0.292  0.513\n",
       "Male          0.219  0.268  0.487\n",
       "Total         0.440  0.560  1.000"
      ]
     },
     "execution_count": 143,
     "metadata": {},
     "output_type": "execute_result"
    }
   ],
   "source": [
    "#matrix_counts = pandas.crosstab(df_dogs.Sex, df_dogs.MicroChipped, margins=True, margins_name='Total')\n",
    "matrix_probs = pandas.crosstab(df_dogs.Sex, df_dogs.MicroChipped, margins=True, margins_name='Total', normalize='all')\n",
    "\n",
    "matrix_probs"
   ]
  },
  {
   "cell_type": "markdown",
   "id": "8a5e4965",
   "metadata": {},
   "source": [
    "Pr(S='male', M='Yes') = 0.268"
   ]
  },
  {
   "cell_type": "markdown",
   "id": "de655ff9",
   "metadata": {},
   "source": [
    "5\\. What is the probability that a microhipped dog is female? "
   ]
  },
  {
   "cell_type": "code",
   "execution_count": 144,
   "id": "f66368ca",
   "metadata": {},
   "outputs": [
    {
     "data": {
      "text/html": [
       "<div>\n",
       "<style scoped>\n",
       "    .dataframe tbody tr th:only-of-type {\n",
       "        vertical-align: middle;\n",
       "    }\n",
       "\n",
       "    .dataframe tbody tr th {\n",
       "        vertical-align: top;\n",
       "    }\n",
       "\n",
       "    .dataframe thead th {\n",
       "        text-align: right;\n",
       "    }\n",
       "</style>\n",
       "<table border=\"1\" class=\"dataframe\">\n",
       "  <thead>\n",
       "    <tr style=\"text-align: right;\">\n",
       "      <th>Sex</th>\n",
       "      <th>Female</th>\n",
       "      <th>Male</th>\n",
       "    </tr>\n",
       "    <tr>\n",
       "      <th>MicroChipped</th>\n",
       "      <th></th>\n",
       "      <th></th>\n",
       "    </tr>\n",
       "  </thead>\n",
       "  <tbody>\n",
       "    <tr>\n",
       "      <th>No</th>\n",
       "      <td>0.502273</td>\n",
       "      <td>0.497727</td>\n",
       "    </tr>\n",
       "    <tr>\n",
       "      <th>Yes</th>\n",
       "      <td>0.521429</td>\n",
       "      <td>0.478571</td>\n",
       "    </tr>\n",
       "  </tbody>\n",
       "</table>\n",
       "</div>"
      ],
      "text/plain": [
       "Sex             Female      Male\n",
       "MicroChipped                    \n",
       "No            0.502273  0.497727\n",
       "Yes           0.521429  0.478571"
      ]
     },
     "execution_count": 144,
     "metadata": {},
     "output_type": "execute_result"
    }
   ],
   "source": [
    "matrix_probs = pandas.crosstab(df_dogs.MicroChipped, df_dogs.Sex, normalize='index')\n",
    "\n",
    "matrix_probs"
   ]
  },
  {
   "cell_type": "markdown",
   "id": "19173763",
   "metadata": {},
   "source": [
    "Pr(S='Female'|M='Yes') = 0.521429"
   ]
  },
  {
   "cell_type": "markdown",
   "id": "f2b4ee44",
   "metadata": {},
   "source": [
    "6\\. What is the probability that a female dog is microchipped? "
   ]
  },
  {
   "cell_type": "code",
   "execution_count": 145,
   "id": "4b5fcf69",
   "metadata": {},
   "outputs": [
    {
     "data": {
      "text/html": [
       "<div>\n",
       "<style scoped>\n",
       "    .dataframe tbody tr th:only-of-type {\n",
       "        vertical-align: middle;\n",
       "    }\n",
       "\n",
       "    .dataframe tbody tr th {\n",
       "        vertical-align: top;\n",
       "    }\n",
       "\n",
       "    .dataframe thead th {\n",
       "        text-align: right;\n",
       "    }\n",
       "</style>\n",
       "<table border=\"1\" class=\"dataframe\">\n",
       "  <thead>\n",
       "    <tr style=\"text-align: right;\">\n",
       "      <th>Sex</th>\n",
       "      <th>Female</th>\n",
       "      <th>Male</th>\n",
       "    </tr>\n",
       "    <tr>\n",
       "      <th>MicroChipped</th>\n",
       "      <th></th>\n",
       "      <th></th>\n",
       "    </tr>\n",
       "  </thead>\n",
       "  <tbody>\n",
       "    <tr>\n",
       "      <th>No</th>\n",
       "      <td>0.430799</td>\n",
       "      <td>0.449692</td>\n",
       "    </tr>\n",
       "    <tr>\n",
       "      <th>Yes</th>\n",
       "      <td>0.569201</td>\n",
       "      <td>0.550308</td>\n",
       "    </tr>\n",
       "  </tbody>\n",
       "</table>\n",
       "</div>"
      ],
      "text/plain": [
       "Sex             Female      Male\n",
       "MicroChipped                    \n",
       "No            0.430799  0.449692\n",
       "Yes           0.569201  0.550308"
      ]
     },
     "execution_count": 145,
     "metadata": {},
     "output_type": "execute_result"
    }
   ],
   "source": [
    "matrix_probs = pandas.crosstab(df_dogs.MicroChipped, df_dogs.Sex, normalize='columns')\n",
    "matrix_probs"
   ]
  },
  {
   "cell_type": "markdown",
   "id": "acb725c2",
   "metadata": {},
   "source": [
    "Pr(M='Yes'|S='Female') = 0.569201"
   ]
  },
  {
   "cell_type": "markdown",
   "id": "380e3d35",
   "metadata": {},
   "source": [
    "7\\.  If the probabability of owning a dog is 22%, the probability of owning a cat is 20% and the probability of owning both is 5%, is cat ownership independent of dog ownership?   Justify your answer."
   ]
  },
  {
   "cell_type": "markdown",
   "id": "d9703975",
   "metadata": {},
   "source": [
    "Let A be an event says \"I own a dog\", B be an event says \"I own a cat\".\n",
    "\n",
    "P(A,B) = 5%\n",
    "\n",
    "P(A) = 22%\n",
    "\n",
    "P(B) = 20%\n",
    "\n",
    "Calculating their joint probability:\n",
    "P(A)P(B) = 4.4%\n",
    "\n",
    "So we have:\n",
    "P(A,B) $\\neq$ P(A)P(B)\n",
    "\n",
    "Because their join probability is not equal to the product of their marginal probabilities, cat ownership is not independent of dog ownership.\n",
    "\n"
   ]
  },
  {
   "cell_type": "markdown",
   "id": "6b179ca5",
   "metadata": {},
   "source": [
    "8\\. what is the probability a person owns a cat **given** that they own a dog?"
   ]
  },
  {
   "cell_type": "markdown",
   "id": "1ad0554e",
   "metadata": {},
   "source": [
    "P(B|A) = $\\frac{P(A,B)}{P(A)}$ = $\\frac{5%}{22%)}$ = 0.227"
   ]
  },
  {
   "cell_type": "markdown",
   "id": "77db3d54",
   "metadata": {},
   "source": [
    "# Probability distributions"
   ]
  },
  {
   "cell_type": "markdown",
   "id": "41d51a0c",
   "metadata": {},
   "source": [
    "Note: \n",
    "\n",
    "  * A **probability mass function** $P(X=x)$ is the probability that a discrete or categorical random variable $X$ takes a particular value $x$\n",
    "  * A **cumulative distribution function** $P(X\\leq x)$ is the probability that a nueerical random variable $X$ (which can be discrete or continuous) takes a value less than or equal to a particular value $x$.\n",
    "  \n",
    "A **hypergeometric random variable** $X$ is a random variable with three parameters.   $X$ is the number of items a certain kind in a sample of $N$ drawn from a population of size $M$ which contains $n$ items of that kind.  \n",
    "\n",
    "For example, if there are $M=5000$ houses in a suburb, and $n=1000$ of them have garages, then if I draw a random sample of $N=20$ houses from that suburb for a housing conditions survey, I will find that $X$ of them have garages.  $X$ is a Hypergeometric random variable: $X \\sim \\text{Hypergeometric}(M=5000, n=1000, N=20)$.\n",
    "\n",
    "Using this example distribution, answer the following questions."
   ]
  },
  {
   "cell_type": "markdown",
   "id": "df989786",
   "metadata": {},
   "source": [
    "9\\.  In the example given above, what is the **support** or **sample space** of the random variable $X$?"
   ]
  },
  {
   "cell_type": "markdown",
   "id": "6002b064",
   "metadata": {},
   "source": [
    "0 $\\leq$ X ${\\leq}$ 20"
   ]
  },
  {
   "cell_type": "markdown",
   "id": "180890ac",
   "metadata": {},
   "source": [
    "10\\. What is the probability that $X$ is 5?"
   ]
  },
  {
   "cell_type": "code",
   "execution_count": 146,
   "id": "d2a32d44",
   "metadata": {},
   "outputs": [
    {
     "name": "stdout",
     "output_type": "stream",
     "text": [
      "Pr(X=5) = 0.17486573799562924\n"
     ]
    }
   ],
   "source": [
    "# [PMF] Probability mass function\n",
    "M = 5000\n",
    "n = 1000\n",
    "N = 20\n",
    "x = 5\n",
    "prob = hypergeom.pmf(x, M, n, N)\n",
    "\n",
    "print('Pr(X={}) = {}'.format(x, prob))"
   ]
  },
  {
   "cell_type": "markdown",
   "id": "6ea693b9",
   "metadata": {},
   "source": [
    "11\\. What is the probability that $X$ is less than 5?"
   ]
  },
  {
   "cell_type": "code",
   "execution_count": 147,
   "id": "fc815fe3",
   "metadata": {},
   "outputs": [
    {
     "name": "stdout",
     "output_type": "stream",
     "text": [
      "Pr(X < 4) = 0.6297359750433553\n"
     ]
    }
   ],
   "source": [
    "# [CDF]Cummulative distribution function\n",
    "\n",
    "x = 4\n",
    "prob = hypergeom.cdf(x, M, n, N)\n",
    "\n",
    "print('Pr(X < {}) = {}'.format(x, prob))"
   ]
  },
  {
   "cell_type": "markdown",
   "id": "ac94b27b",
   "metadata": {},
   "source": [
    "12\\. What is the probability that $X$ is in the range 5 to 10 **inclusive**?"
   ]
  },
  {
   "cell_type": "code",
   "execution_count": 148,
   "id": "39d4bb2f",
   "metadata": {},
   "outputs": [
    {
     "name": "stdout",
     "output_type": "stream",
     "text": [
      "Pr(5 < X < 10) = 0.1948504824820012\n"
     ]
    }
   ],
   "source": [
    "x1 = 5\n",
    "x2 = 10\n",
    "\n",
    "prob_start = hypergeom.cdf(x1, M, n, N)\n",
    "prob_end = hypergeom.cdf(x2, M, n, N)\n",
    "\n",
    "prob = prob_end - prob_start\n",
    "\n",
    "print('Pr({} < X < {}) = {}'.format(x1, x2, prob))"
   ]
  },
  {
   "cell_type": "markdown",
   "id": "29aa09ba",
   "metadata": {},
   "source": [
    "13\\. By first creating a vector of the probabilities of each possible value of $X$, draw the probability mass function of $X$: i.e. draw a bar chart of the probability of each possible value of $X$"
   ]
  },
  {
   "cell_type": "code",
   "execution_count": 149,
   "id": "5dc494d4",
   "metadata": {},
   "outputs": [
    {
     "data": {
      "text/plain": [
       "<BarContainer object of 21 artists>"
      ]
     },
     "execution_count": 149,
     "metadata": {},
     "output_type": "execute_result"
    },
    {
     "data": {
      "image/png": "[encoded data removed]",
      "text/plain": [
       "<Figure size 432x288 with 1 Axes>"
      ]
     },
     "metadata": {
      "needs_background": "light"
     },
     "output_type": "display_data"
    }
   ],
   "source": [
    "vectorX = list(range(0,21))\n",
    "\n",
    "prob_pmf = hypergeom.pmf(vectorX, M, n, N)\n",
    "\n",
    "pyplot.bar(vectorX, prob_pmf)"
   ]
  },
  {
   "cell_type": "markdown",
   "id": "f305319d",
   "metadata": {},
   "source": [
    "14\\. Use your vector of probabilities to calculate the expected (mean) value of $X$?"
   ]
  },
  {
   "cell_type": "code",
   "execution_count": 150,
   "id": "91faede3",
   "metadata": {},
   "outputs": [
    {
     "name": "stdout",
     "output_type": "stream",
     "text": [
      "4.000000000043414\n",
      "4.0\n"
     ]
    }
   ],
   "source": [
    "mean = 0\n",
    "\n",
    "for i in range(len(vectorX)):\n",
    "    mean += vectorX[i]*prob_pmf[i]\n",
    "\n",
    "print(mean)\n",
    "\n",
    "mean = hypergeom.mean(M, n, N)\n",
    "\n",
    "print(mean)"
   ]
  },
  {
   "cell_type": "markdown",
   "id": "ffcf853f",
   "metadata": {},
   "source": [
    "15\\. Explain how this expected value E[X] could be derived from the parameters M, n and N, giving the logic of your calculation."
   ]
  },
  {
   "cell_type": "markdown",
   "id": "7256e7c3",
   "metadata": {},
   "source": [
    "𝑀=5000, 𝑛=1000, 𝑁=20\n",
    "\n",
    "E(X) = N $\\frac{n}{M}$\n",
    "\n",
    "The factor $\\frac{n}{M}$ is the probability that the first trial will result in a success, having a garage. \n",
    "The expected value of X is a multiplication of this probability and the number of trials.\n",
    "\n",
    "This calculation is equivalent with a sum of each multiplication of each trial and its probability because it is a nature of a hypergeometric distribution where a sample of 20 involves a fixed number of selections with replacement from a population of 5000. "
   ]
  },
  {
   "cell_type": "markdown",
   "id": "547425f7",
   "metadata": {},
   "source": [
    "# Model fitting"
   ]
  },
  {
   "cell_type": "markdown",
   "id": "33861879",
   "metadata": {},
   "source": [
    "16\\. Use the data set 'cm2016.csv' which for each country tabulates child mortality and GDP in 2016.   Read the data set and show the first few rows."
   ]
  },
  {
   "cell_type": "code",
   "execution_count": 151,
   "id": "089efad2",
   "metadata": {},
   "outputs": [
    {
     "data": {
      "text/html": [
       "<div>\n",
       "<style scoped>\n",
       "    .dataframe tbody tr th:only-of-type {\n",
       "        vertical-align: middle;\n",
       "    }\n",
       "\n",
       "    .dataframe tbody tr th {\n",
       "        vertical-align: top;\n",
       "    }\n",
       "\n",
       "    .dataframe thead th {\n",
       "        text-align: right;\n",
       "    }\n",
       "</style>\n",
       "<table border=\"1\" class=\"dataframe\">\n",
       "  <thead>\n",
       "    <tr style=\"text-align: right;\">\n",
       "      <th></th>\n",
       "      <th>Country</th>\n",
       "      <th>Code</th>\n",
       "      <th>ChildMortalityPct</th>\n",
       "      <th>GDPPerCapita</th>\n",
       "      <th>Population</th>\n",
       "      <th>Continent</th>\n",
       "    </tr>\n",
       "  </thead>\n",
       "  <tbody>\n",
       "    <tr>\n",
       "      <th>0</th>\n",
       "      <td>Afghanistan</td>\n",
       "      <td>AFG</td>\n",
       "      <td>7.04</td>\n",
       "      <td>1929.0</td>\n",
       "      <td>35383000.0</td>\n",
       "      <td>Asia</td>\n",
       "    </tr>\n",
       "    <tr>\n",
       "      <th>1</th>\n",
       "      <td>Albania</td>\n",
       "      <td>ALB</td>\n",
       "      <td>1.35</td>\n",
       "      <td>10342.0</td>\n",
       "      <td>2886000.0</td>\n",
       "      <td>Europe</td>\n",
       "    </tr>\n",
       "    <tr>\n",
       "      <th>2</th>\n",
       "      <td>Algeria</td>\n",
       "      <td>DZA</td>\n",
       "      <td>2.52</td>\n",
       "      <td>14331.0</td>\n",
       "      <td>40551000.0</td>\n",
       "      <td>Africa</td>\n",
       "    </tr>\n",
       "    <tr>\n",
       "      <th>3</th>\n",
       "      <td>American Samoa</td>\n",
       "      <td>ASM</td>\n",
       "      <td>NaN</td>\n",
       "      <td>NaN</td>\n",
       "      <td>56000.0</td>\n",
       "      <td>Oceania</td>\n",
       "    </tr>\n",
       "    <tr>\n",
       "      <th>4</th>\n",
       "      <td>Andorra</td>\n",
       "      <td>AND</td>\n",
       "      <td>0.27</td>\n",
       "      <td>NaN</td>\n",
       "      <td>77000.0</td>\n",
       "      <td>Europe</td>\n",
       "    </tr>\n",
       "  </tbody>\n",
       "</table>\n",
       "</div>"
      ],
      "text/plain": [
       "          Country Code  ChildMortalityPct  GDPPerCapita  Population Continent\n",
       "0     Afghanistan  AFG               7.04        1929.0  35383000.0      Asia\n",
       "1         Albania  ALB               1.35       10342.0   2886000.0    Europe\n",
       "2         Algeria  DZA               2.52       14331.0  40551000.0    Africa\n",
       "3  American Samoa  ASM                NaN           NaN     56000.0   Oceania\n",
       "4         Andorra  AND               0.27           NaN     77000.0    Europe"
      ]
     },
     "execution_count": 151,
     "metadata": {},
     "output_type": "execute_result"
    }
   ],
   "source": [
    "df = pandas.read_csv('../../res/data/cm2016.csv')\n",
    "df.head()"
   ]
  },
  {
   "cell_type": "code",
   "execution_count": 152,
   "id": "6fcd5df0",
   "metadata": {},
   "outputs": [
    {
     "data": {
      "text/html": [
       "<div>\n",
       "<style scoped>\n",
       "    .dataframe tbody tr th:only-of-type {\n",
       "        vertical-align: middle;\n",
       "    }\n",
       "\n",
       "    .dataframe tbody tr th {\n",
       "        vertical-align: top;\n",
       "    }\n",
       "\n",
       "    .dataframe thead th {\n",
       "        text-align: right;\n",
       "    }\n",
       "</style>\n",
       "<table border=\"1\" class=\"dataframe\">\n",
       "  <thead>\n",
       "    <tr style=\"text-align: right;\">\n",
       "      <th></th>\n",
       "      <th>ChildMortalityPct</th>\n",
       "      <th>GDP</th>\n",
       "    </tr>\n",
       "  </thead>\n",
       "  <tbody>\n",
       "    <tr>\n",
       "      <th>0</th>\n",
       "      <td>7.04</td>\n",
       "      <td>6.825381e+10</td>\n",
       "    </tr>\n",
       "    <tr>\n",
       "      <th>1</th>\n",
       "      <td>1.35</td>\n",
       "      <td>2.984701e+10</td>\n",
       "    </tr>\n",
       "    <tr>\n",
       "      <th>2</th>\n",
       "      <td>2.52</td>\n",
       "      <td>5.811364e+11</td>\n",
       "    </tr>\n",
       "    <tr>\n",
       "      <th>5</th>\n",
       "      <td>8.25</td>\n",
       "      <td>2.438014e+11</td>\n",
       "    </tr>\n",
       "    <tr>\n",
       "      <th>8</th>\n",
       "      <td>1.11</td>\n",
       "      <td>8.212135e+11</td>\n",
       "    </tr>\n",
       "    <tr>\n",
       "      <th>...</th>\n",
       "      <td>...</td>\n",
       "      <td>...</td>\n",
       "    </tr>\n",
       "    <tr>\n",
       "      <th>228</th>\n",
       "      <td>1.63</td>\n",
       "      <td>4.543024e+11</td>\n",
       "    </tr>\n",
       "    <tr>\n",
       "      <th>229</th>\n",
       "      <td>2.16</td>\n",
       "      <td>5.676457e+11</td>\n",
       "    </tr>\n",
       "    <tr>\n",
       "      <th>232</th>\n",
       "      <td>5.53</td>\n",
       "      <td>6.808301e+10</td>\n",
       "    </tr>\n",
       "    <tr>\n",
       "      <th>233</th>\n",
       "      <td>6.34</td>\n",
       "      <td>5.692688e+10</td>\n",
       "    </tr>\n",
       "    <tr>\n",
       "      <th>234</th>\n",
       "      <td>5.64</td>\n",
       "      <td>2.152202e+10</td>\n",
       "    </tr>\n",
       "  </tbody>\n",
       "</table>\n",
       "<p>165 rows × 2 columns</p>\n",
       "</div>"
      ],
      "text/plain": [
       "     ChildMortalityPct           GDP\n",
       "0                 7.04  6.825381e+10\n",
       "1                 1.35  2.984701e+10\n",
       "2                 2.52  5.811364e+11\n",
       "5                 8.25  2.438014e+11\n",
       "8                 1.11  8.212135e+11\n",
       "..                 ...           ...\n",
       "228               1.63  4.543024e+11\n",
       "229               2.16  5.676457e+11\n",
       "232               5.53  6.808301e+10\n",
       "233               6.34  5.692688e+10\n",
       "234               5.64  2.152202e+10\n",
       "\n",
       "[165 rows x 2 columns]"
      ]
     },
     "execution_count": 152,
     "metadata": {},
     "output_type": "execute_result"
    }
   ],
   "source": [
    "df['GDP'] = df['GDPPerCapita'] * df['Population'] \n",
    "\n",
    "df_new = pandas.DataFrame(df, columns=['ChildMortalityPct','GDP'])\n",
    "df_new.dropna(inplace=True)\n",
    "df_new"
   ]
  },
  {
   "cell_type": "markdown",
   "id": "aa8849d9",
   "metadata": {},
   "source": [
    "17\\. Plot child mortality against GDP (i.e. child mortality is on the y-axis) - and comment on the relationship.  (For no extra marks: draw the size of each point according to the population of the country.)"
   ]
  },
  {
   "cell_type": "code",
   "execution_count": 153,
   "id": "22175965",
   "metadata": {},
   "outputs": [
    {
     "data": {
      "text/plain": [
       "[<matplotlib.lines.Line2D at 0x7f9cd84445b0>]"
      ]
     },
     "execution_count": 153,
     "metadata": {},
     "output_type": "execute_result"
    },
    {
     "data": {
      "image/png": "[encoded data removed]",
      "text/plain": [
       "<Figure size 432x288 with 1 Axes>"
      ]
     },
     "metadata": {
      "needs_background": "light"
     },
     "output_type": "display_data"
    }
   ],
   "source": [
    "x = df_new.GDP\n",
    "y = df_new.ChildMortalityPct\n",
    "\n",
    "pyplot.plot(x, y, '.')"
   ]
  },
  {
   "cell_type": "markdown",
   "id": "479c4cde",
   "metadata": {},
   "source": [
    "18\\. Compute the log of GDP and of Child Mortality, adding these columns to the data frame."
   ]
  },
  {
   "cell_type": "code",
   "execution_count": 154,
   "id": "de045b03",
   "metadata": {},
   "outputs": [
    {
     "data": {
      "text/html": [
       "<div>\n",
       "<style scoped>\n",
       "    .dataframe tbody tr th:only-of-type {\n",
       "        vertical-align: middle;\n",
       "    }\n",
       "\n",
       "    .dataframe tbody tr th {\n",
       "        vertical-align: top;\n",
       "    }\n",
       "\n",
       "    .dataframe thead th {\n",
       "        text-align: right;\n",
       "    }\n",
       "</style>\n",
       "<table border=\"1\" class=\"dataframe\">\n",
       "  <thead>\n",
       "    <tr style=\"text-align: right;\">\n",
       "      <th></th>\n",
       "      <th>ChildMortalityPct</th>\n",
       "      <th>GDP</th>\n",
       "      <th>GDP_log</th>\n",
       "      <th>ChildMortality_log</th>\n",
       "    </tr>\n",
       "  </thead>\n",
       "  <tbody>\n",
       "    <tr>\n",
       "      <th>0</th>\n",
       "      <td>7.04</td>\n",
       "      <td>6.825381e+10</td>\n",
       "      <td>24.946499</td>\n",
       "      <td>1.951608</td>\n",
       "    </tr>\n",
       "    <tr>\n",
       "      <th>1</th>\n",
       "      <td>1.35</td>\n",
       "      <td>2.984701e+10</td>\n",
       "      <td>24.119351</td>\n",
       "      <td>0.300105</td>\n",
       "    </tr>\n",
       "    <tr>\n",
       "      <th>2</th>\n",
       "      <td>2.52</td>\n",
       "      <td>5.811364e+11</td>\n",
       "      <td>27.088251</td>\n",
       "      <td>0.924259</td>\n",
       "    </tr>\n",
       "    <tr>\n",
       "      <th>5</th>\n",
       "      <td>8.25</td>\n",
       "      <td>2.438014e+11</td>\n",
       "      <td>26.219620</td>\n",
       "      <td>2.110213</td>\n",
       "    </tr>\n",
       "    <tr>\n",
       "      <th>8</th>\n",
       "      <td>1.11</td>\n",
       "      <td>8.212135e+11</td>\n",
       "      <td>27.434049</td>\n",
       "      <td>0.104360</td>\n",
       "    </tr>\n",
       "    <tr>\n",
       "      <th>...</th>\n",
       "      <td>...</td>\n",
       "      <td>...</td>\n",
       "      <td>...</td>\n",
       "      <td>...</td>\n",
       "    </tr>\n",
       "    <tr>\n",
       "      <th>228</th>\n",
       "      <td>1.63</td>\n",
       "      <td>4.543024e+11</td>\n",
       "      <td>26.842029</td>\n",
       "      <td>0.488580</td>\n",
       "    </tr>\n",
       "    <tr>\n",
       "      <th>229</th>\n",
       "      <td>2.16</td>\n",
       "      <td>5.676457e+11</td>\n",
       "      <td>27.064763</td>\n",
       "      <td>0.770108</td>\n",
       "    </tr>\n",
       "    <tr>\n",
       "      <th>232</th>\n",
       "      <td>5.53</td>\n",
       "      <td>6.808301e+10</td>\n",
       "      <td>24.943994</td>\n",
       "      <td>1.710188</td>\n",
       "    </tr>\n",
       "    <tr>\n",
       "      <th>233</th>\n",
       "      <td>6.34</td>\n",
       "      <td>5.692688e+10</td>\n",
       "      <td>24.765033</td>\n",
       "      <td>1.846879</td>\n",
       "    </tr>\n",
       "    <tr>\n",
       "      <th>234</th>\n",
       "      <td>5.64</td>\n",
       "      <td>2.152202e+10</td>\n",
       "      <td>23.792342</td>\n",
       "      <td>1.729884</td>\n",
       "    </tr>\n",
       "  </tbody>\n",
       "</table>\n",
       "<p>165 rows × 4 columns</p>\n",
       "</div>"
      ],
      "text/plain": [
       "     ChildMortalityPct           GDP    GDP_log  ChildMortality_log\n",
       "0                 7.04  6.825381e+10  24.946499            1.951608\n",
       "1                 1.35  2.984701e+10  24.119351            0.300105\n",
       "2                 2.52  5.811364e+11  27.088251            0.924259\n",
       "5                 8.25  2.438014e+11  26.219620            2.110213\n",
       "8                 1.11  8.212135e+11  27.434049            0.104360\n",
       "..                 ...           ...        ...                 ...\n",
       "228               1.63  4.543024e+11  26.842029            0.488580\n",
       "229               2.16  5.676457e+11  27.064763            0.770108\n",
       "232               5.53  6.808301e+10  24.943994            1.710188\n",
       "233               6.34  5.692688e+10  24.765033            1.846879\n",
       "234               5.64  2.152202e+10  23.792342            1.729884\n",
       "\n",
       "[165 rows x 4 columns]"
      ]
     },
     "execution_count": 154,
     "metadata": {},
     "output_type": "execute_result"
    }
   ],
   "source": [
    "df_new['GDP_log'] = df_new['GDP'].apply(lambda x: numpy.log(x))\n",
    "df_new['ChildMortality_log'] = df_new['ChildMortalityPct'].apply(lambda x: numpy.log(x))\n",
    "df_new"
   ]
  },
  {
   "cell_type": "markdown",
   "id": "857d496a",
   "metadata": {},
   "source": [
    "19\\. Plot the log of Child Mortality against the log of GDP - referring to the plots: explain why it is likely to be easier to model these data with both variables log transformed."
   ]
  },
  {
   "cell_type": "code",
   "execution_count": 155,
   "id": "9770ec4b",
   "metadata": {},
   "outputs": [
    {
     "data": {
      "text/plain": [
       "[<matplotlib.lines.Line2D at 0x7f9cd854efa0>]"
      ]
     },
     "execution_count": 155,
     "metadata": {},
     "output_type": "execute_result"
    },
    {
     "data": {
      "image/png": "[encoded data removed]",
      "text/plain": [
       "<Figure size 432x288 with 1 Axes>"
      ]
     },
     "metadata": {
      "needs_background": "light"
     },
     "output_type": "display_data"
    }
   ],
   "source": [
    "x = df_new.GDP_log\n",
    "y = df_new.ChildMortality_log\n",
    "\n",
    "pyplot.plot(x, y, '.')"
   ]
  },
  {
   "cell_type": "markdown",
   "id": "e1d5ad3a",
   "metadata": {},
   "source": [
    "20\\. Fit a regression model for log Child Mortality as predicted by log GDP.  \n",
    "\n",
    "  (a) Print out a summary of the model fit\n",
    "  \n",
    "  (b) Plot the fitted relationship onto the data\n",
    "  \n",
    "  (c) Draw a scatter plot of the residuals and comment on them"
   ]
  },
  {
   "cell_type": "code",
   "execution_count": 135,
   "id": "431b2dbb",
   "metadata": {},
   "outputs": [],
   "source": [
    "#x = numpy.array(x).reshape(-1,1)\n",
    "#y = numpy.array(y).reshape(-1,1)\n",
    "#reg = LinearRegression().fit(x, y)\n",
    "\n",
    "#R_squared = reg.score(x, y)\n",
    "#print(R_squared)\n",
    "#print(reg.coef_)\n",
    "#print(reg.intercept_)"
   ]
  },
  {
   "cell_type": "code",
   "execution_count": 182,
   "id": "8858c07a",
   "metadata": {},
   "outputs": [],
   "source": [
    "#Y = reg.predict(x)\n",
    "#pyplot.plot(x, y, '.')\n",
    "#pyplot.plot(x, Y)"
   ]
  },
  {
   "cell_type": "code",
   "execution_count": 159,
   "id": "2576c8c2",
   "metadata": {},
   "outputs": [
    {
     "data": {
      "text/html": [
       "<table class=\"simpletable\">\n",
       "<caption>OLS Regression Results</caption>\n",
       "<tr>\n",
       "  <th>Dep. Variable:</th>    <td>ChildMortality_log</td> <th>  R-squared:         </th> <td>   0.174</td>\n",
       "</tr>\n",
       "<tr>\n",
       "  <th>Model:</th>                    <td>OLS</td>        <th>  Adj. R-squared:    </th> <td>   0.169</td>\n",
       "</tr>\n",
       "<tr>\n",
       "  <th>Method:</th>              <td>Least Squares</td>   <th>  F-statistic:       </th> <td>   34.31</td>\n",
       "</tr>\n",
       "<tr>\n",
       "  <th>Date:</th>              <td>Sat, 31 Jul 2021</td>  <th>  Prob (F-statistic):</th> <td>2.53e-08</td>\n",
       "</tr>\n",
       "<tr>\n",
       "  <th>Time:</th>                  <td>05:15:35</td>      <th>  Log-Likelihood:    </th> <td> -241.55</td>\n",
       "</tr>\n",
       "<tr>\n",
       "  <th>No. Observations:</th>       <td>   165</td>       <th>  AIC:               </th> <td>   487.1</td>\n",
       "</tr>\n",
       "<tr>\n",
       "  <th>Df Residuals:</th>           <td>   163</td>       <th>  BIC:               </th> <td>   493.3</td>\n",
       "</tr>\n",
       "<tr>\n",
       "  <th>Df Model:</th>               <td>     1</td>       <th>                     </th>     <td> </td>   \n",
       "</tr>\n",
       "<tr>\n",
       "  <th>Covariance Type:</th>       <td>nonrobust</td>     <th>                     </th>     <td> </td>   \n",
       "</tr>\n",
       "</table>\n",
       "<table class=\"simpletable\">\n",
       "<tr>\n",
       "      <td></td>         <th>coef</th>     <th>std err</th>      <th>t</th>      <th>P>|t|</th>  <th>[0.025</th>    <th>0.975]</th>  \n",
       "</tr>\n",
       "<tr>\n",
       "  <th>Intercept</th> <td>    6.7787</td> <td>    1.071</td> <td>    6.330</td> <td> 0.000</td> <td>    4.664</td> <td>    8.893</td>\n",
       "</tr>\n",
       "<tr>\n",
       "  <th>GDP_log</th>   <td>   -0.2462</td> <td>    0.042</td> <td>   -5.857</td> <td> 0.000</td> <td>   -0.329</td> <td>   -0.163</td>\n",
       "</tr>\n",
       "</table>\n",
       "<table class=\"simpletable\">\n",
       "<tr>\n",
       "  <th>Omnibus:</th>       <td>12.344</td> <th>  Durbin-Watson:     </th> <td>   1.951</td>\n",
       "</tr>\n",
       "<tr>\n",
       "  <th>Prob(Omnibus):</th> <td> 0.002</td> <th>  Jarque-Bera (JB):  </th> <td>   5.124</td>\n",
       "</tr>\n",
       "<tr>\n",
       "  <th>Skew:</th>          <td>-0.141</td> <th>  Prob(JB):          </th> <td>  0.0771</td>\n",
       "</tr>\n",
       "<tr>\n",
       "  <th>Kurtosis:</th>      <td> 2.184</td> <th>  Cond. No.          </th> <td>    333.</td>\n",
       "</tr>\n",
       "</table><br/><br/>Notes:<br/>[1] Standard Errors assume that the covariance matrix of the errors is correctly specified."
      ],
      "text/plain": [
       "<class 'statsmodels.iolib.summary.Summary'>\n",
       "\"\"\"\n",
       "                            OLS Regression Results                            \n",
       "==============================================================================\n",
       "Dep. Variable:     ChildMortality_log   R-squared:                       0.174\n",
       "Model:                            OLS   Adj. R-squared:                  0.169\n",
       "Method:                 Least Squares   F-statistic:                     34.31\n",
       "Date:                Sat, 31 Jul 2021   Prob (F-statistic):           2.53e-08\n",
       "Time:                        05:15:35   Log-Likelihood:                -241.55\n",
       "No. Observations:                 165   AIC:                             487.1\n",
       "Df Residuals:                     163   BIC:                             493.3\n",
       "Df Model:                           1                                         \n",
       "Covariance Type:            nonrobust                                         \n",
       "==============================================================================\n",
       "                 coef    std err          t      P>|t|      [0.025      0.975]\n",
       "------------------------------------------------------------------------------\n",
       "Intercept      6.7787      1.071      6.330      0.000       4.664       8.893\n",
       "GDP_log       -0.2462      0.042     -5.857      0.000      -0.329      -0.163\n",
       "==============================================================================\n",
       "Omnibus:                       12.344   Durbin-Watson:                   1.951\n",
       "Prob(Omnibus):                  0.002   Jarque-Bera (JB):                5.124\n",
       "Skew:                          -0.141   Prob(JB):                       0.0771\n",
       "Kurtosis:                       2.184   Cond. No.                         333.\n",
       "==============================================================================\n",
       "\n",
       "Notes:\n",
       "[1] Standard Errors assume that the covariance matrix of the errors is correctly specified.\n",
       "\"\"\""
      ]
     },
     "execution_count": 159,
     "metadata": {},
     "output_type": "execute_result"
    }
   ],
   "source": [
    "# OLS: ordinary least squares\n",
    "# fit simple linear regression model \n",
    "model = ols('ChildMortality_log ~ GDP_log', data = df_new).fit()\n",
    "\n",
    "model.summary()"
   ]
  },
  {
   "cell_type": "code",
   "execution_count": 175,
   "id": "f7bee208",
   "metadata": {},
   "outputs": [
    {
     "data": {
      "image/png": "[encoded data removed]",
      "text/plain": [
       "<Figure size 864x576 with 4 Axes>"
      ]
     },
     "metadata": {
      "needs_background": "light"
     },
     "output_type": "display_data"
    }
   ],
   "source": [
    "figure = pyplot.figure(figsize=(12,8))\n",
    "\n",
    "figure = api.graphics.plot_regress_exog(model, 'GDP_log', fig=figure)"
   ]
  },
  {
   "cell_type": "markdown",
   "id": "6b1528d0",
   "metadata": {},
   "source": []
  },
  {
   "cell_type": "markdown",
   "id": "75645641",
   "metadata": {},
   "source": [
    "21\\. Repeat the analysis, but add a quadratic term to the model (i.e. the square of log GDP).\n",
    "\n",
    "  (a) Print out a summary of the model fit\n",
    "  \n",
    "  (b) Plot the fitted relationship onto the data\n",
    "  \n",
    "  (c) Draw a scatter plot of the residuals and comment on them - noting whether the quadratic term improves the fit or not."
   ]
  },
  {
   "cell_type": "code",
   "execution_count": 181,
   "id": "56638e29",
   "metadata": {},
   "outputs": [],
   "source": [
    "model = ols('ChildMortality_log ~ numpy.power(GDP_log,2)', data = df_new).fit()\n",
    "\n",
    "model.summary()"
   ]
  },
  {
   "cell_type": "code",
   "execution_count": 180,
   "id": "32a8f30b",
   "metadata": {},
   "outputs": [
    {
     "data": {
      "image/png": "[encoded data removed]",
      "text/plain": [
       "<Figure size 864x576 with 4 Axes>"
      ]
     },
     "metadata": {
      "needs_background": "light"
     },
     "output_type": "display_data"
    }
   ],
   "source": [
    "figure = pyplot.figure(figsize = (12, 8))\n",
    "\n",
    "figure = api.graphics.plot_regress_exog(model, 'numpy.power(GDP_log, 2)', fig=figure)"
   ]
  },
  {
   "cell_type": "code",
   "execution_count": null,
   "id": "8aa7f29b",
   "metadata": {},
   "outputs": [],
   "source": []
  }
 ],
 "metadata": {
  "kernelspec": {
   "display_name": "Python 3",
   "language": "python",
   "name": "python3"
  },
  "language_info": {
   "codemirror_mode": {
    "name": "ipython",
    "version": 3
   },
   "file_extension": ".py",
   "mimetype": "text/x-python",
   "name": "python",
   "nbconvert_exporter": "python",
   "pygments_lexer": "ipython3",
   "version": "3.8.8"
  }
 },
 "nbformat": 4,
 "nbformat_minor": 5
}
