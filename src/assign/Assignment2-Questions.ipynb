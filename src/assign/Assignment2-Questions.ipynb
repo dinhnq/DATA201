{
 "cells": [
  {
   "cell_type": "markdown",
   "id": "41fe7829",
   "metadata": {},
   "source": [
    "# Assignment 2 - Probability and Statistics, Ethics and privacy\n",
    "\n",
    "This assignment is worth 10% of your final grade.\n",
    "\n",
    "It is due at **Midnight on Monday 9 August**, and should be submitted as a single Jupyter Notebook, through the \"Assignment 2\" link in Blackboard\n",
    "\n",
    "The assignment makes use of the `scipy.stats` package and the `statsmodels.formula.api` package.  It draws on material from Weeks 3 and 4, lectured by Richard Arnold.\n",
    "\n",
    "When answering questions show any relevant Python code along with your answers."
   ]
  },
  {
   "cell_type": "markdown",
   "id": "45a1f490",
   "metadata": {},
   "source": [
    "# Privacy, Security, Confidentiality and Ethics"
   ]
  },
  {
   "cell_type": "markdown",
   "id": "6a0a6fb5",
   "metadata": {},
   "source": [
    "1\\. A genetics company offers to analyse the DNA of clients who submit a biological sample for analysis (a self-collected saliva sample, sent through the post).  The clients also complete a short health questionnaire.  After carrying out the analysis they return by email a report to the client, describing details of their genetic background.  In the report they also notify the client about any genetic markers they have for diseases that they might develop later in life, or that they might possibly pass on to their children.  The genetic profile and health questionnaire results from every client are added to a research database of genome data, but without any information that identifies the client.  Scientific research reports based on the data are published from time to time by health researchers who are granted access.\n",
    "\n",
    "   (a) In a paragraph of writing (150-200 words),, discuss the Privacy, Security and Confidentiality issues that arise in this scenario.\n",
    "   \n",
    "   (b) If a client discovers that they have a marker for a heritable disease, is it ethical for them **not** to inform their close relatives?  In a short paragraph explain why, or why not."
   ]
  },
  {
   "cell_type": "markdown",
   "id": "5cce529f",
   "metadata": {},
   "source": [
    "# Probabilities from data"
   ]
  },
  {
   "cell_type": "markdown",
   "id": "6e6a87e2",
   "metadata": {},
   "source": [
    "2\\. Read the file 'dogs.csv' which contains characteristics of a sample of 1000 licensed dogs in New Zealand."
   ]
  },
  {
   "cell_type": "markdown",
   "id": "04c3a1e9",
   "metadata": {},
   "source": [
    "3\\. Using this sample estimate the marginal probabilities of the three different breed classifications in the data set.  What proportion of the NZ dog population is pure bred?"
   ]
  },
  {
   "cell_type": "markdown",
   "id": "c67d0b0b",
   "metadata": {},
   "source": [
    "4\\. What is the probability that a dog is both male and microchipped?"
   ]
  },
  {
   "cell_type": "markdown",
   "id": "de655ff9",
   "metadata": {},
   "source": [
    "5\\. What is the probability that a microhipped dog is female? "
   ]
  },
  {
   "cell_type": "markdown",
   "id": "f2b4ee44",
   "metadata": {},
   "source": [
    "6\\. What is the probability that a female dog is microchipped? "
   ]
  },
  {
   "cell_type": "markdown",
   "id": "380e3d35",
   "metadata": {},
   "source": [
    "7\\.  If the probabability of owning a dog is 22%, the probability of owning a cat is 20% and the probability of owning both is 5%, is cat ownership independent of dog ownership?   Justify your answer."
   ]
  },
  {
   "cell_type": "markdown",
   "id": "6b179ca5",
   "metadata": {},
   "source": [
    "8\\. what is the probability a person owns a cat **given** that they own a dog?"
   ]
  },
  {
   "cell_type": "markdown",
   "id": "77db3d54",
   "metadata": {},
   "source": [
    "# Probability distributions"
   ]
  },
  {
   "cell_type": "markdown",
   "id": "41d51a0c",
   "metadata": {},
   "source": [
    "Note: \n",
    "\n",
    "  * A **probability mass function** $P(X=x)$ is the probability that a discrete or categorical random variable $X$ takes a particular value $x$\n",
    "  * A **cumulative distribution function** $P(X\\leq x)$ is the probability that a nueerical random variable $X$ (which can be discrete or continuous) takes a value less than or equal to a particular value $x$.\n",
    "  \n",
    "A **hypergeometric random variable** $X$ is a random variable with three parameters.   $X$ is the number of items a certain kind in a sample of $N$ drawn from a population of size $M$ which contains $n$ items of that kind.  \n",
    "\n",
    "For example, if there are $M=5000$ houses in a suburb, and $n=1000$ of them have garages, then if I draw a random sample of $N=20$ houses from that suburb for a housing conditions survey, I will find that $X$ of them have garages.  $X$ is a Hypergeometric random variable: $X \\sim \\text{Hypergeometric}(M=5000, n=1000, N=20)$.\n",
    "\n",
    "Using this example distribution, answer the following questions."
   ]
  },
  {
   "cell_type": "markdown",
   "id": "df989786",
   "metadata": {},
   "source": [
    "9\\.  In the example given above, what is the **support** or **sample space** of the random variable $X$?"
   ]
  },
  {
   "cell_type": "markdown",
   "id": "180890ac",
   "metadata": {},
   "source": [
    "10\\. What is the probability that $X$ is 5?"
   ]
  },
  {
   "cell_type": "markdown",
   "id": "6ea693b9",
   "metadata": {},
   "source": [
    "11\\. What is the probability that $X$ is less than 5?"
   ]
  },
  {
   "cell_type": "markdown",
   "id": "ac94b27b",
   "metadata": {},
   "source": [
    "12\\. What is the probability that $X$ is in the range 5 to 10 **inclusive**?"
   ]
  },
  {
   "cell_type": "markdown",
   "id": "29aa09ba",
   "metadata": {},
   "source": [
    "13\\. By first creating a vector of the probabilities of each possible value of $X$, draw the probability mass function of $X$: i.e. draw a bar chart of the probability of each possible value of $X$"
   ]
  },
  {
   "cell_type": "markdown",
   "id": "f305319d",
   "metadata": {},
   "source": [
    "14\\. Use your vector of probabilities to calculate the expected (mean) value of $X$?"
   ]
  },
  {
   "cell_type": "markdown",
   "id": "ffcf853f",
   "metadata": {},
   "source": [
    "15\\. Explain how this expected value E[X] could be derived from the parameters M, n and N, giving the logic of your calculation."
   ]
  },
  {
   "cell_type": "markdown",
   "id": "547425f7",
   "metadata": {},
   "source": [
    "# Model fitting"
   ]
  },
  {
   "cell_type": "markdown",
   "id": "33861879",
   "metadata": {},
   "source": [
    "16\\. Use the data set 'cm2016.csv' which for each country tabulates child mortality and GDP in 2016.   Read the data set and show the first few rows."
   ]
  },
  {
   "cell_type": "markdown",
   "id": "aa8849d9",
   "metadata": {},
   "source": [
    "17\\. Plot child mortality against GDP (i.e. child mortality is on the y-axis) - and comment on the relationship.  (For no extra marks: draw the size of each point according to the population of the country.)"
   ]
  },
  {
   "cell_type": "markdown",
   "id": "479c4cde",
   "metadata": {},
   "source": [
    "18\\. Compute the log of GDP and of Child Mortality, adding these columns to the data frame."
   ]
  },
  {
   "cell_type": "markdown",
   "id": "857d496a",
   "metadata": {},
   "source": [
    "19\\. Plot the log of Child Mortality against the log of GDP - referring to the plots: explain why it is likely to be easier to model these data with both variables log transformed."
   ]
  },
  {
   "cell_type": "markdown",
   "id": "e1d5ad3a",
   "metadata": {},
   "source": [
    "20\\. Fit a regression model for log Child Mortality as predicted by log GDP.  \n",
    "\n",
    "  (a) Print out a summary of the model fit\n",
    "  \n",
    "  (b) Plot the fitted relationship onto the data\n",
    "  \n",
    "  (c) Draw a scatter plot of the residuals and comment on them"
   ]
  },
  {
   "cell_type": "markdown",
   "id": "75645641",
   "metadata": {},
   "source": [
    "21\\. Repeat the analysis, but add a quadratic term to the model (i.e. the square of log GDP).\n",
    "\n",
    "  (a) Print out a summary of the model fit\n",
    "  \n",
    "  (b) Plot the fitted relationship onto the data\n",
    "  \n",
    "  (c) Draw a scatter plot of the residuals and comment on them - noting whether the quadratic term improves the fit or not."
   ]
  }
 ],
 "metadata": {
  "kernelspec": {
   "display_name": "Python 3",
   "language": "python",
   "name": "python3"
  },
  "language_info": {
   "codemirror_mode": {
    "name": "ipython",
    "version": 3
   },
   "file_extension": ".py",
   "mimetype": "text/x-python",
   "name": "python",
   "nbconvert_exporter": "python",
   "pygments_lexer": "ipython3",
   "version": "3.7.11"
  }
 },
 "nbformat": 4,
 "nbformat_minor": 5
}
