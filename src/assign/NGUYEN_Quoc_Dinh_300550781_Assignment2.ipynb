{
 "cells": [
  {
   "cell_type": "markdown",
   "id": "41fe7829",
   "metadata": {},
   "source": [
    "# Assignment 2 - Probability and Statistics, Ethics and privacy\n",
    "\n",
    "This assignment is worth 10% of your final grade.\n",
    "\n",
    "It is due at **Midnight on Monday 9 August**, and should be submitted as a single Jupyter Notebook, through the \"Assignment 2\" link in Blackboard\n",
    "\n",
    "The assignment makes use of the `scipy.stats` package and the `statsmodels.formula.api` package.  It draws on material from Weeks 3 and 4, lectured by Richard Arnold.\n",
    "\n",
    "When answering questions show any relevant Python code along with your answers."
   ]
  },
  {
   "cell_type": "markdown",
   "id": "45a1f490",
   "metadata": {},
   "source": [
    "# Privacy, Security, Confidentiality and Ethics"
   ]
  },
  {
   "cell_type": "markdown",
   "id": "6a0a6fb5",
   "metadata": {},
   "source": [
    "1\\. A genetics company offers to analyse the DNA of clients who submit a biological sample for analysis (a self-collected saliva sample, sent through the post).  The clients also complete a short health questionnaire.  After carrying out the analysis they return by email a report to the client, describing details of their genetic background.  In the report they also notify the client about any genetic markers they have for diseases that they might develop later in life, or that they might possibly pass on to their children.  The genetic profile and health questionnaire results from every client are added to a research database of genome data, but without any information that identifies the client.  Scientific research reports based on the data are published from time to time by health researchers who are granted access.\n",
    "\n",
    "   (a) In a paragraph of writing (150-200 words),, discuss the Privacy, Security and Confidentiality issues that arise in this scenario.\n",
    "   \n",
    "   (b) If a client discovers that they have a marker for a heritable disease, is it ethical for them **not** to inform their close relatives?  In a short paragraph explain why, or why not."
   ]
  },
  {
   "cell_type": "markdown",
   "id": "e18d2bdb",
   "metadata": {},
   "source": [
    "a) Privacy, Security and Confidentiality issues\n",
    "\n",
    "There are some issues in privacy relating to the self-collected savilla sample and the health questionnaire. The sample must be kept and used only for what the genetics company exactly tells their clients and must be disposed afterwards. The questionnaire must not include invasive questions, especially not too involved in their personal lives. In security, sensitive genetic data of clients must be protected from being disclosed. Although security has been set up in the process of publishing data from time to time by the right staff with relevant permissions, security must include the supervising process of those data collection, transmission and storage. The company has shown its duty of confidentiality to the clients as identity-related information would not be saved in the same place of the genetic profile and health questionnaire. However, the sensitive data must be anonymized or aggregated to prevent identification from unexpected intruders. For example, the date of birth could be converted to age and then to age band.\n",
    "\n",
    "\n",
    "b) It is ethical for them not to inform their close relatives if a client discovers that they have a marker for a heritable disease. There are many reasons to consider that action is ethical. From their viewpoint, the result they receive is actually only a reference for their genetic health offered as a product of a company. It means there is no public request from government that they have to let their close relatives know. Another reason is that they could be not so sure about the accuracy level of this genetic technology and it would be a great mistake to tell their family if the report is discovered incorrect. In that case, they would be possibly considered unethical to tell their family the bad news.\n"
   ]
  },
  {
   "cell_type": "markdown",
   "id": "5cce529f",
   "metadata": {},
   "source": [
    "# Probabilities from data"
   ]
  },
  {
   "cell_type": "markdown",
   "id": "6e6a87e2",
   "metadata": {},
   "source": [
    "2\\. Read the file 'dogs.csv' which contains characteristics of a sample of 1000 licensed dogs in New Zealand."
   ]
  },
  {
   "cell_type": "code",
   "execution_count": null,
   "id": "28f625b9",
   "metadata": {},
   "outputs": [],
   "source": [
    "import numpy\n",
    "import pandas\n",
    "import matplotlib.pyplot as pyplot\n",
    "from scipy.stats import binom\n",
    "from scipy.stats import gamma\n",
    "from scipy.stats import hypergeom\n",
    "from statsmodels.formula.api import ols\n",
    "from statsmodels import api\n",
    "#from sklearn.linear_model import LinearRegression"
   ]
  },
  {
   "cell_type": "code",
   "execution_count": null,
   "id": "dbdcd2b9",
   "metadata": {},
   "outputs": [],
   "source": [
    "df_dogs = pandas.read_csv('../../res/data/dogs.csv')\n",
    "df_dogs.columns = ['Breed','DeSexed','Dangerous','Menacing','Sex','MicroChipped']"
   ]
  },
  {
   "cell_type": "markdown",
   "id": "04c3a1e9",
   "metadata": {},
   "source": [
    "3\\. Using this sample estimate the marginal probabilities of the three different breed classifications in the data set.  What proportion of the NZ dog population is pure bred?"
   ]
  },
  {
   "cell_type": "code",
   "execution_count": null,
   "id": "91d3e25d",
   "metadata": {},
   "outputs": [],
   "source": [
    "counts = df_dogs.Breed.value_counts().sort_index()\n",
    "sums = sum(counts)\n",
    "\n",
    "probs = counts/sums\n",
    "dist = pandas.DataFrame({'counts':counts, 'probs':probs})\n",
    "dist"
   ]
  },
  {
   "cell_type": "markdown",
   "id": "c193a727",
   "metadata": {},
   "source": [
    "The proportion of the NZ dog population which is pure bred is 30.5%"
   ]
  },
  {
   "cell_type": "markdown",
   "id": "c67d0b0b",
   "metadata": {},
   "source": [
    "4\\. What is the probability that a dog is both male and microchipped?"
   ]
  },
  {
   "cell_type": "code",
   "execution_count": null,
   "id": "6673d334",
   "metadata": {},
   "outputs": [],
   "source": [
    "#matrix_counts = pandas.crosstab(df_dogs.Sex, df_dogs.MicroChipped, margins=True, margins_name='Total')\n",
    "matrix_probs = pandas.crosstab(df_dogs.Sex, df_dogs.MicroChipped, margins=True, margins_name='Total', normalize='all')\n",
    "\n",
    "matrix_probs"
   ]
  },
  {
   "cell_type": "markdown",
   "id": "15c170a9",
   "metadata": {},
   "source": [
    "Pr(S='male', M='Yes') = 0.268"
   ]
  },
  {
   "cell_type": "markdown",
   "id": "de655ff9",
   "metadata": {},
   "source": [
    "5\\. What is the probability that a microhipped dog is female? "
   ]
  },
  {
   "cell_type": "code",
   "execution_count": null,
   "id": "1f8c07cc",
   "metadata": {},
   "outputs": [],
   "source": [
    "matrix_probs = pandas.crosstab(df_dogs.MicroChipped, df_dogs.Sex, normalize='index')\n",
    "\n",
    "matrix_probs"
   ]
  },
  {
   "cell_type": "markdown",
   "id": "a63a3218",
   "metadata": {},
   "source": [
    "Pr(S='Female'|M='Yes') = 0.521429"
   ]
  },
  {
   "cell_type": "markdown",
   "id": "f2b4ee44",
   "metadata": {},
   "source": [
    "6\\. What is the probability that a female dog is microchipped? "
   ]
  },
  {
   "cell_type": "code",
   "execution_count": null,
   "id": "aea1118e",
   "metadata": {},
   "outputs": [],
   "source": [
    "matrix_probs = pandas.crosstab(df_dogs.MicroChipped, df_dogs.Sex, normalize='columns')\n",
    "matrix_probs"
   ]
  },
  {
   "cell_type": "markdown",
   "id": "30297dc8",
   "metadata": {},
   "source": [
    "Pr(M='Yes'|S='Female') = 0.569201"
   ]
  },
  {
   "cell_type": "markdown",
   "id": "380e3d35",
   "metadata": {},
   "source": [
    "7\\.  If the probabability of owning a dog is 22%, the probability of owning a cat is 20% and the probability of owning both is 5%, is cat ownership independent of dog ownership?   Justify your answer."
   ]
  },
  {
   "cell_type": "markdown",
   "id": "a103b586",
   "metadata": {},
   "source": [
    "Let A be an event says \"I own a dog\", B be an event says \"I own a cat\". Events A and B are said to be independent if knowing whether having a dog tells us nothing about whether or not B has occured. That's the same as:\n",
    "\n",
    "P(A,B) = 5%\n",
    "\n",
    "P(A) = 22%\n",
    "\n",
    "P(B) = P(B|A)\n",
    "\n",
    "We have:\n",
    "P(B|A) = $\\frac{P(A,B)}{P(A)}$ = $\\frac{5%}{22%)}$ = 0.227\n",
    "\n",
    "P(B) = 20%\n",
    "\n",
    "So we have:\n",
    "P(B) $\\neq$ P(B|A)\n",
    "\n",
    "It is clearly to say that events A and B are not independent.\n",
    "\n"
   ]
  },
  {
   "cell_type": "markdown",
   "id": "6b179ca5",
   "metadata": {},
   "source": [
    "8\\. what is the probability a person owns a cat **given** that they own a dog?"
   ]
  },
  {
   "cell_type": "markdown",
   "id": "636d658b",
   "metadata": {},
   "source": [
    "P(B|A) = $\\frac{P(A,B)}{P(A)}$ = $\\frac{5%}{22%)}$ = 0.227"
   ]
  },
  {
   "cell_type": "markdown",
   "id": "77db3d54",
   "metadata": {},
   "source": [
    "# Probability distributions"
   ]
  },
  {
   "cell_type": "markdown",
   "id": "41d51a0c",
   "metadata": {},
   "source": [
    "Note: \n",
    "\n",
    "  * A **probability mass function** $P(X=x)$ is the probability that a discrete or categorical random variable $X$ takes a particular value $x$\n",
    "  * A **cumulative distribution function** $P(X\\leq x)$ is the probability that a nueerical random variable $X$ (which can be discrete or continuous) takes a value less than or equal to a particular value $x$.\n",
    "  \n",
    "A **hypergeometric random variable** $X$ is a random variable with three parameters.   $X$ is the number of items a certain kind in a sample of $N$ drawn from a population of size $M$ which contains $n$ items of that kind.  \n",
    "\n",
    "For example, if there are $M=5000$ houses in a suburb, and $n=1000$ of them have garages, then if I draw a random sample of $N=20$ houses from that suburb for a housing conditions survey, I will find that $X$ of them have garages.  $X$ is a Hypergeometric random variable: $X \\sim \\text{Hypergeometric}(M=5000, n=1000, N=20)$.\n",
    "\n",
    "Using this example distribution, answer the following questions."
   ]
  },
  {
   "cell_type": "markdown",
   "id": "df989786",
   "metadata": {},
   "source": [
    "9\\.  In the example given above, what is the **support** or **sample space** of the random variable $X$?"
   ]
  },
  {
   "cell_type": "markdown",
   "id": "d6aae6cb",
   "metadata": {},
   "source": [
    "0 $\\leq$ X ${\\leq}$ 20"
   ]
  },
  {
   "cell_type": "markdown",
   "id": "180890ac",
   "metadata": {},
   "source": [
    "10\\. What is the probability that $X$ is 5?"
   ]
  },
  {
   "cell_type": "code",
   "execution_count": 7,
   "id": "a484fc59",
   "metadata": {},
   "outputs": [
    {
     "name": "stdout",
     "output_type": "stream",
     "text": [
      "Pr(X=5) = 0.17486573799562924\n"
     ]
    }
   ],
   "source": [
    "# [PMF] Probability mass function\n",
    "M = 5000\n",
    "n = 1000\n",
    "N = 20\n",
    "x = 5\n",
    "prob = hypergeom.pmf(x, M, n, N)\n",
    "\n",
    "print('Pr(X={}) = {}'.format(x, prob))"
   ]
  },
  {
   "cell_type": "markdown",
   "id": "6ea693b9",
   "metadata": {},
   "source": [
    "11\\. What is the probability that $X$ is less than 5?"
   ]
  },
  {
   "cell_type": "code",
   "execution_count": 8,
   "id": "43114182",
   "metadata": {},
   "outputs": [
    {
     "name": "stdout",
     "output_type": "stream",
     "text": [
      "Pr(X < 5) = 0.6297359750433553\n"
     ]
    }
   ],
   "source": [
    "# [CDF]Cummulative distribution function\n",
    "\n",
    "x = 4\n",
    "prob = hypergeom.cdf(x, M, n, N)\n",
    "\n",
    "print('Pr(X < {}) = {}'.format(x+1, prob))"
   ]
  },
  {
   "cell_type": "markdown",
   "id": "ac94b27b",
   "metadata": {},
   "source": [
    "12\\. What is the probability that $X$ is in the range 5 to 10 **inclusive**?"
   ]
  },
  {
   "cell_type": "code",
   "execution_count": 9,
   "id": "09fb5e7a",
   "metadata": {},
   "outputs": [
    {
     "name": "stdout",
     "output_type": "stream",
     "text": [
      "Pr(4 < X < 10) = 0.3697162204776304\n"
     ]
    }
   ],
   "source": [
    "x1 = 4\n",
    "x2 = 10\n",
    "\n",
    "prob_start = hypergeom.cdf(x1, M, n, N)\n",
    "prob_end = hypergeom.cdf(x2, M, n, N)\n",
    "\n",
    "prob = prob_end - prob_start\n",
    "\n",
    "print('Pr({} < X < {}) = {}'.format(x1, x2, prob))"
   ]
  },
  {
   "cell_type": "markdown",
   "id": "29aa09ba",
   "metadata": {},
   "source": [
    "13\\. By first creating a vector of the probabilities of each possible value of $X$, draw the probability mass function of $X$: i.e. draw a bar chart of the probability of each possible value of $X$"
   ]
  },
  {
   "cell_type": "code",
   "execution_count": 10,
   "id": "cf99512e",
   "metadata": {},
   "outputs": [
    {
     "data": {
      "text/plain": [
       "<BarContainer object of 21 artists>"
      ]
     },
     "execution_count": 10,
     "metadata": {},
     "output_type": "execute_result"
    },
    {
     "data": {
      "image/png": "[encoded data removed]",
      "text/plain": [
       "<Figure size 432x288 with 1 Axes>"
      ]
     },
     "metadata": {
      "needs_background": "light"
     },
     "output_type": "display_data"
    }
   ],
   "source": [
    "vectorX = list(range(0,21))\n",
    "\n",
    "prob_pmf = hypergeom.pmf(vectorX, M, n, N)\n",
    "\n",
    "pyplot.bar(vectorX, prob_pmf)"
   ]
  },
  {
   "cell_type": "markdown",
   "id": "f305319d",
   "metadata": {},
   "source": [
    "14\\. Use your vector of probabilities to calculate the expected (mean) value of $X$?"
   ]
  },
  {
   "cell_type": "code",
   "execution_count": 11,
   "id": "5f03ad25",
   "metadata": {},
   "outputs": [
    {
     "name": "stdout",
     "output_type": "stream",
     "text": [
      "4.000000000043414\n",
      "4.0\n"
     ]
    }
   ],
   "source": [
    "mean = 0\n",
    "\n",
    "for i in range(len(vectorX)):\n",
    "    mean += vectorX[i]*prob_pmf[i]\n",
    "\n",
    "print(mean)\n",
    "\n",
    "mean = hypergeom.mean(M, n, N)\n",
    "\n",
    "print(mean)"
   ]
  },
  {
   "cell_type": "markdown",
   "id": "ffcf853f",
   "metadata": {},
   "source": [
    "15\\. Explain how this expected value E[X] could be derived from the parameters M, n and N, giving the logic of your calculation."
   ]
  },
  {
   "cell_type": "markdown",
   "id": "2464e018",
   "metadata": {},
   "source": [
    "𝑀=5000, 𝑛=1000, 𝑁=20\n",
    "\n",
    "E(X) = N $\\frac{n}{M}$\n",
    "\n",
    "The factor $\\frac{n}{M}$ is the probability that the first trial will result in a success, having a garage. \n",
    "The expected value of X is a multiplication of this probability and the number of trials.\n",
    "\n",
    "This calculation is equivalent with a sum of each multiplication of each trial and its probability because it is a nature of a hypergeometric distribution where a sample of 20 involves a fixed number of selections with replacement from a population of 5000. "
   ]
  },
  {
   "cell_type": "markdown",
   "id": "547425f7",
   "metadata": {},
   "source": [
    "# Model fitting"
   ]
  },
  {
   "cell_type": "markdown",
   "id": "33861879",
   "metadata": {},
   "source": [
    "16\\. Use the data set 'cm2016.csv' which for each country tabulates child mortality and GDP in 2016.   Read the data set and show the first few rows."
   ]
  },
  {
   "cell_type": "code",
   "execution_count": 12,
   "id": "71f1a4ec",
   "metadata": {},
   "outputs": [
    {
     "data": {
      "text/html": [
       "<div>\n",
       "<style scoped>\n",
       "    .dataframe tbody tr th:only-of-type {\n",
       "        vertical-align: middle;\n",
       "    }\n",
       "\n",
       "    .dataframe tbody tr th {\n",
       "        vertical-align: top;\n",
       "    }\n",
       "\n",
       "    .dataframe thead th {\n",
       "        text-align: right;\n",
       "    }\n",
       "</style>\n",
       "<table border=\"1\" class=\"dataframe\">\n",
       "  <thead>\n",
       "    <tr style=\"text-align: right;\">\n",
       "      <th></th>\n",
       "      <th>Country</th>\n",
       "      <th>Code</th>\n",
       "      <th>ChildMortalityPct</th>\n",
       "      <th>GDPPerCapita</th>\n",
       "      <th>Population</th>\n",
       "      <th>Continent</th>\n",
       "    </tr>\n",
       "  </thead>\n",
       "  <tbody>\n",
       "    <tr>\n",
       "      <th>0</th>\n",
       "      <td>Afghanistan</td>\n",
       "      <td>AFG</td>\n",
       "      <td>7.04</td>\n",
       "      <td>1929.0</td>\n",
       "      <td>35383000.0</td>\n",
       "      <td>Asia</td>\n",
       "    </tr>\n",
       "    <tr>\n",
       "      <th>1</th>\n",
       "      <td>Albania</td>\n",
       "      <td>ALB</td>\n",
       "      <td>1.35</td>\n",
       "      <td>10342.0</td>\n",
       "      <td>2886000.0</td>\n",
       "      <td>Europe</td>\n",
       "    </tr>\n",
       "    <tr>\n",
       "      <th>2</th>\n",
       "      <td>Algeria</td>\n",
       "      <td>DZA</td>\n",
       "      <td>2.52</td>\n",
       "      <td>14331.0</td>\n",
       "      <td>40551000.0</td>\n",
       "      <td>Africa</td>\n",
       "    </tr>\n",
       "    <tr>\n",
       "      <th>3</th>\n",
       "      <td>American Samoa</td>\n",
       "      <td>ASM</td>\n",
       "      <td>NaN</td>\n",
       "      <td>NaN</td>\n",
       "      <td>56000.0</td>\n",
       "      <td>Oceania</td>\n",
       "    </tr>\n",
       "    <tr>\n",
       "      <th>4</th>\n",
       "      <td>Andorra</td>\n",
       "      <td>AND</td>\n",
       "      <td>0.27</td>\n",
       "      <td>NaN</td>\n",
       "      <td>77000.0</td>\n",
       "      <td>Europe</td>\n",
       "    </tr>\n",
       "  </tbody>\n",
       "</table>\n",
       "</div>"
      ],
      "text/plain": [
       "          Country Code  ChildMortalityPct  GDPPerCapita  Population Continent\n",
       "0     Afghanistan  AFG               7.04        1929.0  35383000.0      Asia\n",
       "1         Albania  ALB               1.35       10342.0   2886000.0    Europe\n",
       "2         Algeria  DZA               2.52       14331.0  40551000.0    Africa\n",
       "3  American Samoa  ASM                NaN           NaN     56000.0   Oceania\n",
       "4         Andorra  AND               0.27           NaN     77000.0    Europe"
      ]
     },
     "execution_count": 12,
     "metadata": {},
     "output_type": "execute_result"
    }
   ],
   "source": [
    "df = pandas.read_csv('../../res/data/cm2016.csv')\n",
    "df.head()"
   ]
  },
  {
   "cell_type": "code",
   "execution_count": 13,
   "id": "f97759ff",
   "metadata": {},
   "outputs": [
    {
     "data": {
      "text/html": [
       "<div>\n",
       "<style scoped>\n",
       "    .dataframe tbody tr th:only-of-type {\n",
       "        vertical-align: middle;\n",
       "    }\n",
       "\n",
       "    .dataframe tbody tr th {\n",
       "        vertical-align: top;\n",
       "    }\n",
       "\n",
       "    .dataframe thead th {\n",
       "        text-align: right;\n",
       "    }\n",
       "</style>\n",
       "<table border=\"1\" class=\"dataframe\">\n",
       "  <thead>\n",
       "    <tr style=\"text-align: right;\">\n",
       "      <th></th>\n",
       "      <th>ChildMortalityPct</th>\n",
       "      <th>GDP</th>\n",
       "    </tr>\n",
       "  </thead>\n",
       "  <tbody>\n",
       "    <tr>\n",
       "      <th>0</th>\n",
       "      <td>7.04</td>\n",
       "      <td>1929.0</td>\n",
       "    </tr>\n",
       "    <tr>\n",
       "      <th>1</th>\n",
       "      <td>1.35</td>\n",
       "      <td>10342.0</td>\n",
       "    </tr>\n",
       "    <tr>\n",
       "      <th>2</th>\n",
       "      <td>2.52</td>\n",
       "      <td>14331.0</td>\n",
       "    </tr>\n",
       "    <tr>\n",
       "      <th>5</th>\n",
       "      <td>8.25</td>\n",
       "      <td>8453.0</td>\n",
       "    </tr>\n",
       "    <tr>\n",
       "      <th>8</th>\n",
       "      <td>1.11</td>\n",
       "      <td>18875.0</td>\n",
       "    </tr>\n",
       "    <tr>\n",
       "      <th>...</th>\n",
       "      <td>...</td>\n",
       "      <td>...</td>\n",
       "    </tr>\n",
       "    <tr>\n",
       "      <th>228</th>\n",
       "      <td>1.63</td>\n",
       "      <td>15219.0</td>\n",
       "    </tr>\n",
       "    <tr>\n",
       "      <th>229</th>\n",
       "      <td>2.16</td>\n",
       "      <td>6062.0</td>\n",
       "    </tr>\n",
       "    <tr>\n",
       "      <th>232</th>\n",
       "      <td>5.53</td>\n",
       "      <td>2506.0</td>\n",
       "    </tr>\n",
       "    <tr>\n",
       "      <th>233</th>\n",
       "      <td>6.34</td>\n",
       "      <td>3479.0</td>\n",
       "    </tr>\n",
       "    <tr>\n",
       "      <th>234</th>\n",
       "      <td>5.64</td>\n",
       "      <td>1534.0</td>\n",
       "    </tr>\n",
       "  </tbody>\n",
       "</table>\n",
       "<p>165 rows × 2 columns</p>\n",
       "</div>"
      ],
      "text/plain": [
       "     ChildMortalityPct      GDP\n",
       "0                 7.04   1929.0\n",
       "1                 1.35  10342.0\n",
       "2                 2.52  14331.0\n",
       "5                 8.25   8453.0\n",
       "8                 1.11  18875.0\n",
       "..                 ...      ...\n",
       "228               1.63  15219.0\n",
       "229               2.16   6062.0\n",
       "232               5.53   2506.0\n",
       "233               6.34   3479.0\n",
       "234               5.64   1534.0\n",
       "\n",
       "[165 rows x 2 columns]"
      ]
     },
     "execution_count": 13,
     "metadata": {},
     "output_type": "execute_result"
    }
   ],
   "source": [
    "df['GDP'] = df['GDPPerCapita'] #* df['Population'] \n",
    "\n",
    "df_new = pandas.DataFrame(df, columns=['ChildMortalityPct','GDP'])\n",
    "df_new.dropna(inplace=True)\n",
    "df_new"
   ]
  },
  {
   "cell_type": "markdown",
   "id": "aa8849d9",
   "metadata": {},
   "source": [
    "17\\. Plot child mortality against GDP (i.e. child mortality is on the y-axis) - and comment on the relationship.  (For no extra marks: draw the size of each point according to the population of the country.)"
   ]
  },
  {
   "cell_type": "code",
   "execution_count": 15,
   "id": "5a52b6da",
   "metadata": {},
   "outputs": [
    {
     "data": {
      "text/plain": [
       "[Text(0.5, 0, 'GDP'), Text(0, 0.5, 'Child mortality')]"
      ]
     },
     "execution_count": 15,
     "metadata": {},
     "output_type": "execute_result"
    },
    {
     "data": {
      "image/png": "[encoded data removed]",
      "text/plain": [
       "<Figure size 432x288 with 1 Axes>"
      ]
     },
     "metadata": {
      "needs_background": "light"
     },
     "output_type": "display_data"
    }
   ],
   "source": [
    "x = df_new.GDP\n",
    "y = df_new.ChildMortalityPct\n",
    "\n",
    "row_total = 1\n",
    "col_total = 1\n",
    "figure, axis = pyplot.subplots(row_total, col_total)\n",
    "pyplot.plot(x, y, '.')\n",
    "\n",
    "axis.set(xlabel='GDP', ylabel='Child mortality')\n",
    "\n",
    "#model = ols(formula='ChildMortalityPct ~ GDP', data = df_new).fit()\n",
    "\n",
    "#model.summary()"
   ]
  },
  {
   "cell_type": "markdown",
   "id": "70442a43",
   "metadata": {},
   "source": [
    "The scatter plot of child mortality against GDP has not shown a clear relationship but it seems that there is a very light negative relationship. There is a decrease in child mortality as the GDP increases."
   ]
  },
  {
   "cell_type": "markdown",
   "id": "479c4cde",
   "metadata": {},
   "source": [
    "18\\. Compute the log of GDP and of Child Mortality, adding these columns to the data frame."
   ]
  },
  {
   "cell_type": "code",
   "execution_count": 16,
   "id": "d12c0406",
   "metadata": {},
   "outputs": [
    {
     "data": {
      "text/html": [
       "<div>\n",
       "<style scoped>\n",
       "    .dataframe tbody tr th:only-of-type {\n",
       "        vertical-align: middle;\n",
       "    }\n",
       "\n",
       "    .dataframe tbody tr th {\n",
       "        vertical-align: top;\n",
       "    }\n",
       "\n",
       "    .dataframe thead th {\n",
       "        text-align: right;\n",
       "    }\n",
       "</style>\n",
       "<table border=\"1\" class=\"dataframe\">\n",
       "  <thead>\n",
       "    <tr style=\"text-align: right;\">\n",
       "      <th></th>\n",
       "      <th>ChildMortalityPct</th>\n",
       "      <th>GDP</th>\n",
       "      <th>GDP_log</th>\n",
       "      <th>ChildMortality_log</th>\n",
       "    </tr>\n",
       "  </thead>\n",
       "  <tbody>\n",
       "    <tr>\n",
       "      <th>0</th>\n",
       "      <td>7.04</td>\n",
       "      <td>1929.0</td>\n",
       "      <td>7.564757</td>\n",
       "      <td>1.951608</td>\n",
       "    </tr>\n",
       "    <tr>\n",
       "      <th>1</th>\n",
       "      <td>1.35</td>\n",
       "      <td>10342.0</td>\n",
       "      <td>9.243969</td>\n",
       "      <td>0.300105</td>\n",
       "    </tr>\n",
       "    <tr>\n",
       "      <th>2</th>\n",
       "      <td>2.52</td>\n",
       "      <td>14331.0</td>\n",
       "      <td>9.570180</td>\n",
       "      <td>0.924259</td>\n",
       "    </tr>\n",
       "    <tr>\n",
       "      <th>5</th>\n",
       "      <td>8.25</td>\n",
       "      <td>8453.0</td>\n",
       "      <td>9.042277</td>\n",
       "      <td>2.110213</td>\n",
       "    </tr>\n",
       "    <tr>\n",
       "      <th>8</th>\n",
       "      <td>1.11</td>\n",
       "      <td>18875.0</td>\n",
       "      <td>9.845594</td>\n",
       "      <td>0.104360</td>\n",
       "    </tr>\n",
       "    <tr>\n",
       "      <th>...</th>\n",
       "      <td>...</td>\n",
       "      <td>...</td>\n",
       "      <td>...</td>\n",
       "      <td>...</td>\n",
       "    </tr>\n",
       "    <tr>\n",
       "      <th>228</th>\n",
       "      <td>1.63</td>\n",
       "      <td>15219.0</td>\n",
       "      <td>9.630300</td>\n",
       "      <td>0.488580</td>\n",
       "    </tr>\n",
       "    <tr>\n",
       "      <th>229</th>\n",
       "      <td>2.16</td>\n",
       "      <td>6062.0</td>\n",
       "      <td>8.709795</td>\n",
       "      <td>0.770108</td>\n",
       "    </tr>\n",
       "    <tr>\n",
       "      <th>232</th>\n",
       "      <td>5.53</td>\n",
       "      <td>2506.0</td>\n",
       "      <td>7.826443</td>\n",
       "      <td>1.710188</td>\n",
       "    </tr>\n",
       "    <tr>\n",
       "      <th>233</th>\n",
       "      <td>6.34</td>\n",
       "      <td>3479.0</td>\n",
       "      <td>8.154500</td>\n",
       "      <td>1.846879</td>\n",
       "    </tr>\n",
       "    <tr>\n",
       "      <th>234</th>\n",
       "      <td>5.64</td>\n",
       "      <td>1534.0</td>\n",
       "      <td>7.335634</td>\n",
       "      <td>1.729884</td>\n",
       "    </tr>\n",
       "  </tbody>\n",
       "</table>\n",
       "<p>165 rows × 4 columns</p>\n",
       "</div>"
      ],
      "text/plain": [
       "     ChildMortalityPct      GDP   GDP_log  ChildMortality_log\n",
       "0                 7.04   1929.0  7.564757            1.951608\n",
       "1                 1.35  10342.0  9.243969            0.300105\n",
       "2                 2.52  14331.0  9.570180            0.924259\n",
       "5                 8.25   8453.0  9.042277            2.110213\n",
       "8                 1.11  18875.0  9.845594            0.104360\n",
       "..                 ...      ...       ...                 ...\n",
       "228               1.63  15219.0  9.630300            0.488580\n",
       "229               2.16   6062.0  8.709795            0.770108\n",
       "232               5.53   2506.0  7.826443            1.710188\n",
       "233               6.34   3479.0  8.154500            1.846879\n",
       "234               5.64   1534.0  7.335634            1.729884\n",
       "\n",
       "[165 rows x 4 columns]"
      ]
     },
     "execution_count": 16,
     "metadata": {},
     "output_type": "execute_result"
    }
   ],
   "source": [
    "df_new['GDP_log'] = df_new['GDP'].apply(lambda x: numpy.log(x))\n",
    "df_new['ChildMortality_log'] = df_new['ChildMortalityPct'].apply(lambda x: numpy.log(x))\n",
    "df_new"
   ]
  },
  {
   "cell_type": "markdown",
   "id": "857d496a",
   "metadata": {},
   "source": [
    "19\\. Plot the log of Child Mortality against the log of GDP - referring to the plots: explain why it is likely to be easier to model these data with both variables log transformed."
   ]
  },
  {
   "cell_type": "code",
   "execution_count": 17,
   "id": "691ca91b",
   "metadata": {},
   "outputs": [
    {
     "data": {
      "text/plain": [
       "[Text(0.5, 0, 'GDP log'), Text(0, 0.5, 'Child Mortality')]"
      ]
     },
     "execution_count": 17,
     "metadata": {},
     "output_type": "execute_result"
    },
    {
     "data": {
      "image/png": "[encoded data removed]",
      "text/plain": [
       "<Figure size 432x288 with 1 Axes>"
      ]
     },
     "metadata": {
      "needs_background": "light"
     },
     "output_type": "display_data"
    }
   ],
   "source": [
    "x = df_new.GDP_log\n",
    "y = df_new.ChildMortality_log\n",
    "\n",
    "figure, axis = pyplot.subplots(row_total,col_total)\n",
    "pyplot.plot(x, y, '.')\n",
    "\n",
    "axis.set(xlabel='GDP log', ylabel='Child Mortality')"
   ]
  },
  {
   "cell_type": "code",
   "execution_count": null,
   "id": "749243b2",
   "metadata": {},
   "outputs": [],
   "source": [
    "#Both variables log transformed should be used to model these data because it would help distribution becomes more normal. The raw values of Child Mortality are tiny as compared with those of GDP and it leads to high variance. The distribution of raw data is so tight that it is not possible to analyze its complex model."
   ]
  },
  {
   "cell_type": "markdown",
   "id": "80fe8b25",
   "metadata": {},
   "source": [
    "Log-transformed variables helps to show a trend line between the child mortality and GDP per capita."
   ]
  },
  {
   "cell_type": "markdown",
   "id": "e1d5ad3a",
   "metadata": {},
   "source": [
    "20\\. Fit a regression model for log Child Mortality as predicted by log GDP.  \n",
    "\n",
    "  (a) Print out a summary of the model fit\n",
    "  \n",
    "  (b) Plot the fitted relationship onto the data\n",
    "  \n",
    "  (c) Draw a scatter plot of the residuals and comment on them"
   ]
  },
  {
   "cell_type": "code",
   "execution_count": 17,
   "id": "9c1a49f4",
   "metadata": {},
   "outputs": [
    {
     "data": {
      "text/html": [
       "<table class=\"simpletable\">\n",
       "<caption>OLS Regression Results</caption>\n",
       "<tr>\n",
       "  <th>Dep. Variable:</th>    <td>ChildMortality_log</td> <th>  R-squared:         </th> <td>   0.174</td>\n",
       "</tr>\n",
       "<tr>\n",
       "  <th>Model:</th>                    <td>OLS</td>        <th>  Adj. R-squared:    </th> <td>   0.169</td>\n",
       "</tr>\n",
       "<tr>\n",
       "  <th>Method:</th>              <td>Least Squares</td>   <th>  F-statistic:       </th> <td>   34.31</td>\n",
       "</tr>\n",
       "<tr>\n",
       "  <th>Date:</th>              <td>Mon, 02 Aug 2021</td>  <th>  Prob (F-statistic):</th> <td>2.53e-08</td>\n",
       "</tr>\n",
       "<tr>\n",
       "  <th>Time:</th>                  <td>16:51:41</td>      <th>  Log-Likelihood:    </th> <td> -241.55</td>\n",
       "</tr>\n",
       "<tr>\n",
       "  <th>No. Observations:</th>       <td>   165</td>       <th>  AIC:               </th> <td>   487.1</td>\n",
       "</tr>\n",
       "<tr>\n",
       "  <th>Df Residuals:</th>           <td>   163</td>       <th>  BIC:               </th> <td>   493.3</td>\n",
       "</tr>\n",
       "<tr>\n",
       "  <th>Df Model:</th>               <td>     1</td>       <th>                     </th>     <td> </td>   \n",
       "</tr>\n",
       "<tr>\n",
       "  <th>Covariance Type:</th>       <td>nonrobust</td>     <th>                     </th>     <td> </td>   \n",
       "</tr>\n",
       "</table>\n",
       "<table class=\"simpletable\">\n",
       "<tr>\n",
       "      <td></td>         <th>coef</th>     <th>std err</th>      <th>t</th>      <th>P>|t|</th>  <th>[0.025</th>    <th>0.975]</th>  \n",
       "</tr>\n",
       "<tr>\n",
       "  <th>Intercept</th> <td>    6.7787</td> <td>    1.071</td> <td>    6.330</td> <td> 0.000</td> <td>    4.664</td> <td>    8.893</td>\n",
       "</tr>\n",
       "<tr>\n",
       "  <th>GDP_log</th>   <td>   -0.2462</td> <td>    0.042</td> <td>   -5.857</td> <td> 0.000</td> <td>   -0.329</td> <td>   -0.163</td>\n",
       "</tr>\n",
       "</table>\n",
       "<table class=\"simpletable\">\n",
       "<tr>\n",
       "  <th>Omnibus:</th>       <td>12.344</td> <th>  Durbin-Watson:     </th> <td>   1.951</td>\n",
       "</tr>\n",
       "<tr>\n",
       "  <th>Prob(Omnibus):</th> <td> 0.002</td> <th>  Jarque-Bera (JB):  </th> <td>   5.124</td>\n",
       "</tr>\n",
       "<tr>\n",
       "  <th>Skew:</th>          <td>-0.141</td> <th>  Prob(JB):          </th> <td>  0.0771</td>\n",
       "</tr>\n",
       "<tr>\n",
       "  <th>Kurtosis:</th>      <td> 2.184</td> <th>  Cond. No.          </th> <td>    333.</td>\n",
       "</tr>\n",
       "</table><br/><br/>Notes:<br/>[1] Standard Errors assume that the covariance matrix of the errors is correctly specified."
      ],
      "text/plain": [
       "<class 'statsmodels.iolib.summary.Summary'>\n",
       "\"\"\"\n",
       "                            OLS Regression Results                            \n",
       "==============================================================================\n",
       "Dep. Variable:     ChildMortality_log   R-squared:                       0.174\n",
       "Model:                            OLS   Adj. R-squared:                  0.169\n",
       "Method:                 Least Squares   F-statistic:                     34.31\n",
       "Date:                Mon, 02 Aug 2021   Prob (F-statistic):           2.53e-08\n",
       "Time:                        16:51:41   Log-Likelihood:                -241.55\n",
       "No. Observations:                 165   AIC:                             487.1\n",
       "Df Residuals:                     163   BIC:                             493.3\n",
       "Df Model:                           1                                         \n",
       "Covariance Type:            nonrobust                                         \n",
       "==============================================================================\n",
       "                 coef    std err          t      P>|t|      [0.025      0.975]\n",
       "------------------------------------------------------------------------------\n",
       "Intercept      6.7787      1.071      6.330      0.000       4.664       8.893\n",
       "GDP_log       -0.2462      0.042     -5.857      0.000      -0.329      -0.163\n",
       "==============================================================================\n",
       "Omnibus:                       12.344   Durbin-Watson:                   1.951\n",
       "Prob(Omnibus):                  0.002   Jarque-Bera (JB):                5.124\n",
       "Skew:                          -0.141   Prob(JB):                       0.0771\n",
       "Kurtosis:                       2.184   Cond. No.                         333.\n",
       "==============================================================================\n",
       "\n",
       "Notes:\n",
       "[1] Standard Errors assume that the covariance matrix of the errors is correctly specified.\n",
       "\"\"\""
      ]
     },
     "execution_count": 17,
     "metadata": {},
     "output_type": "execute_result"
    }
   ],
   "source": [
    "# OLS: ordinary least squares\n",
    "# fit simple linear regression model \n",
    "model = ols(formula='ChildMortality_log ~ GDP_log', data = df_new).fit()\n",
    "\n",
    "model.summary()"
   ]
  },
  {
   "cell_type": "code",
   "execution_count": 18,
   "id": "1520702f",
   "metadata": {},
   "outputs": [],
   "source": [
    "#figure = pyplot.figure(figsize=(12,8))\n",
    "\n",
    "#figure = api.graphics.plot_regress_exog(model, 'GDP_log', fig=figure)"
   ]
  },
  {
   "cell_type": "code",
   "execution_count": 19,
   "id": "6b8f75ab",
   "metadata": {},
   "outputs": [
    {
     "data": {
      "text/plain": [
       "[Text(0.5, 0, 'GDP log'), Text(0, 0.5, 'Child Mortality log')]"
      ]
     },
     "execution_count": 19,
     "metadata": {},
     "output_type": "execute_result"
    },
    {
     "data": {
      "image/png": "[encoded data removed]",
      "text/plain": [
       "<Figure size 432x288 with 1 Axes>"
      ]
     },
     "metadata": {
      "needs_background": "light"
     },
     "output_type": "display_data"
    }
   ],
   "source": [
    "# create an area to draw plot(s)\n",
    "row_total = 1\n",
    "col_total = 1\n",
    "figure, axis = pyplot.subplots(row_total, col_total)\n",
    "\n",
    "x = df_new.GDP_log\n",
    "y = df_new.ChildMortality_log\n",
    "pyplot.scatter(x, y)\n",
    "\n",
    "x_min, x_max = axis.get_xbound()\n",
    "x_new = [x_min, x_max]\n",
    "x_predictors = pandas.DataFrame({'GDP_log':x_new})\n",
    "y_predictions = model.predict(x_predictors)\n",
    "\n",
    "pyplot.plot(x_new, y_predictions, 'r-')\n",
    "\n",
    "axis.set(xlabel='GDP log', ylabel='Child Mortality log')"
   ]
  },
  {
   "cell_type": "markdown",
   "id": "1d046f83",
   "metadata": {},
   "source": [
    "residuals = $\\sum{i}^{n}$ ($y_i$ - $\\hat y$)"
   ]
  },
  {
   "cell_type": "code",
   "execution_count": 20,
   "id": "c516f91d",
   "metadata": {},
   "outputs": [
    {
     "data": {
      "text/plain": [
       "[<matplotlib.lines.Line2D at 0x7fe12cb39700>]"
      ]
     },
     "execution_count": 20,
     "metadata": {},
     "output_type": "execute_result"
    },
    {
     "data": {
      "image/png": "[encoded data removed]",
      "text/plain": [
       "<Figure size 432x288 with 1 Axes>"
      ]
     },
     "metadata": {
      "needs_background": "light"
     },
     "output_type": "display_data"
    }
   ],
   "source": [
    "y_predictions = model.predict(df_new)\n",
    "residuals = df_new.ChildMortality_log - y_predictions\n",
    "\n",
    "# create an area to draw plot(s)\n",
    "figure, axis = pyplot.subplots(row_total, col_total)\n",
    "\n",
    "x = df_new.GDP_log\n",
    "pyplot.scatter(x, residuals)\n",
    "\n",
    "axis.set(xlabel='GDP log', ylabel='Residual')\n",
    "\n",
    "x_min, x_max = axis.get_xbound()\n",
    "x_vector = [x_min, x_max]\n",
    "y_vector = [0, 0]\n",
    "pyplot.plot(x_vector, y_vector,'b-')\n",
    "\n",
    "#model = ols(residuals).fit()\n",
    "#pyplot.scatter(df_new.GDP_log, residuals)"
   ]
  },
  {
   "cell_type": "markdown",
   "id": "cf557d65",
   "metadata": {},
   "source": [
    "The ideal random pattern of the residual plot has appeared since outliers exist equally on both sides of the residual=0 line. The residuals look roughly Normal and appear mainly for medium x-values from 24 to 28."
   ]
  },
  {
   "cell_type": "markdown",
   "id": "75645641",
   "metadata": {},
   "source": [
    "21\\. Repeat the analysis, but add a quadratic term to the model (i.e. the square of log GDP).\n",
    "\n",
    "  (a) Print out a summary of the model fit\n",
    "  \n",
    "  (b) Plot the fitted relationship onto the data\n",
    "  \n",
    "  (c) Draw a scatter plot of the residuals and comment on them - noting whether the quadratic term improves the fit or not."
   ]
  },
  {
   "cell_type": "code",
   "execution_count": 21,
   "id": "8d1dcbd2",
   "metadata": {},
   "outputs": [
    {
     "data": {
      "text/html": [
       "<table class=\"simpletable\">\n",
       "<caption>OLS Regression Results</caption>\n",
       "<tr>\n",
       "  <th>Dep. Variable:</th>    <td>ChildMortality_log</td> <th>  R-squared:         </th> <td>   0.176</td>\n",
       "</tr>\n",
       "<tr>\n",
       "  <th>Model:</th>                    <td>OLS</td>        <th>  Adj. R-squared:    </th> <td>   0.165</td>\n",
       "</tr>\n",
       "<tr>\n",
       "  <th>Method:</th>              <td>Least Squares</td>   <th>  F-statistic:       </th> <td>   17.25</td>\n",
       "</tr>\n",
       "<tr>\n",
       "  <th>Date:</th>              <td>Mon, 02 Aug 2021</td>  <th>  Prob (F-statistic):</th> <td>1.62e-07</td>\n",
       "</tr>\n",
       "<tr>\n",
       "  <th>Time:</th>                  <td>16:51:41</td>      <th>  Log-Likelihood:    </th> <td> -241.38</td>\n",
       "</tr>\n",
       "<tr>\n",
       "  <th>No. Observations:</th>       <td>   165</td>       <th>  AIC:               </th> <td>   488.8</td>\n",
       "</tr>\n",
       "<tr>\n",
       "  <th>Df Residuals:</th>           <td>   162</td>       <th>  BIC:               </th> <td>   498.1</td>\n",
       "</tr>\n",
       "<tr>\n",
       "  <th>Df Model:</th>               <td>     2</td>       <th>                     </th>     <td> </td>   \n",
       "</tr>\n",
       "<tr>\n",
       "  <th>Covariance Type:</th>       <td>nonrobust</td>     <th>                     </th>     <td> </td>   \n",
       "</tr>\n",
       "</table>\n",
       "<table class=\"simpletable\">\n",
       "<tr>\n",
       "      <td></td>         <th>coef</th>     <th>std err</th>      <th>t</th>      <th>P>|t|</th>  <th>[0.025</th>    <th>0.975]</th>  \n",
       "</tr>\n",
       "<tr>\n",
       "  <th>Intercept</th> <td>   12.4706</td> <td>    9.942</td> <td>    1.254</td> <td> 0.212</td> <td>   -7.162</td> <td>   32.104</td>\n",
       "</tr>\n",
       "<tr>\n",
       "  <th>GDP_log</th>   <td>   -0.6974</td> <td>    0.785</td> <td>   -0.889</td> <td> 0.375</td> <td>   -2.247</td> <td>    0.852</td>\n",
       "</tr>\n",
       "<tr>\n",
       "  <th>GDP_log2</th>  <td>    0.0089</td> <td>    0.015</td> <td>    0.576</td> <td> 0.566</td> <td>   -0.022</td> <td>    0.039</td>\n",
       "</tr>\n",
       "</table>\n",
       "<table class=\"simpletable\">\n",
       "<tr>\n",
       "  <th>Omnibus:</th>       <td>13.198</td> <th>  Durbin-Watson:     </th> <td>   1.955</td>\n",
       "</tr>\n",
       "<tr>\n",
       "  <th>Prob(Omnibus):</th> <td> 0.001</td> <th>  Jarque-Bera (JB):  </th> <td>   5.215</td>\n",
       "</tr>\n",
       "<tr>\n",
       "  <th>Skew:</th>          <td>-0.127</td> <th>  Prob(JB):          </th> <td>  0.0737</td>\n",
       "</tr>\n",
       "<tr>\n",
       "  <th>Kurtosis:</th>      <td> 2.167</td> <th>  Cond. No.          </th> <td>7.98e+04</td>\n",
       "</tr>\n",
       "</table><br/><br/>Notes:<br/>[1] Standard Errors assume that the covariance matrix of the errors is correctly specified.<br/>[2] The condition number is large, 7.98e+04. This might indicate that there are<br/>strong multicollinearity or other numerical problems."
      ],
      "text/plain": [
       "<class 'statsmodels.iolib.summary.Summary'>\n",
       "\"\"\"\n",
       "                            OLS Regression Results                            \n",
       "==============================================================================\n",
       "Dep. Variable:     ChildMortality_log   R-squared:                       0.176\n",
       "Model:                            OLS   Adj. R-squared:                  0.165\n",
       "Method:                 Least Squares   F-statistic:                     17.25\n",
       "Date:                Mon, 02 Aug 2021   Prob (F-statistic):           1.62e-07\n",
       "Time:                        16:51:41   Log-Likelihood:                -241.38\n",
       "No. Observations:                 165   AIC:                             488.8\n",
       "Df Residuals:                     162   BIC:                             498.1\n",
       "Df Model:                           2                                         \n",
       "Covariance Type:            nonrobust                                         \n",
       "==============================================================================\n",
       "                 coef    std err          t      P>|t|      [0.025      0.975]\n",
       "------------------------------------------------------------------------------\n",
       "Intercept     12.4706      9.942      1.254      0.212      -7.162      32.104\n",
       "GDP_log       -0.6974      0.785     -0.889      0.375      -2.247       0.852\n",
       "GDP_log2       0.0089      0.015      0.576      0.566      -0.022       0.039\n",
       "==============================================================================\n",
       "Omnibus:                       13.198   Durbin-Watson:                   1.955\n",
       "Prob(Omnibus):                  0.001   Jarque-Bera (JB):                5.215\n",
       "Skew:                          -0.127   Prob(JB):                       0.0737\n",
       "Kurtosis:                       2.167   Cond. No.                     7.98e+04\n",
       "==============================================================================\n",
       "\n",
       "Notes:\n",
       "[1] Standard Errors assume that the covariance matrix of the errors is correctly specified.\n",
       "[2] The condition number is large, 7.98e+04. This might indicate that there are\n",
       "strong multicollinearity or other numerical problems.\n",
       "\"\"\""
      ]
     },
     "execution_count": 21,
     "metadata": {},
     "output_type": "execute_result"
    }
   ],
   "source": [
    "df_new['GDP_log2'] = df_new['GDP_log'].apply(lambda x: numpy.power(x, 2))\n",
    "\n",
    "model = ols('ChildMortality_log ~ GDP_log + GDP_log2', data = df_new).fit()\n",
    "\n",
    "model.summary()"
   ]
  },
  {
   "cell_type": "code",
   "execution_count": 22,
   "id": "5c957283",
   "metadata": {},
   "outputs": [],
   "source": [
    "#figure = pyplot.figure(figsize = (12, 8))\n",
    "\n",
    "#figure = api.graphics.plot_regress_exog(model, 'numpy.power(GDP_log, 2)', fig=figure)"
   ]
  },
  {
   "cell_type": "code",
   "execution_count": 23,
   "id": "dcf205dc",
   "metadata": {},
   "outputs": [
    {
     "data": {
      "text/plain": [
       "[Text(0.5, 0, 'GDP log'), Text(0, 0.5, 'Child Mortality log')]"
      ]
     },
     "execution_count": 23,
     "metadata": {},
     "output_type": "execute_result"
    },
    {
     "data": {
      "image/png": "[encoded data removed]",
      "text/plain": [
       "<Figure size 432x288 with 1 Axes>"
      ]
     },
     "metadata": {
      "needs_background": "light"
     },
     "output_type": "display_data"
    }
   ],
   "source": [
    "figure, axis = pyplot.subplots(row_total, col_total)\n",
    "\n",
    "x = df_new.GDP_log\n",
    "y = df_new.ChildMortality_log\n",
    "pyplot.scatter(x, y)\n",
    "\n",
    "x_min, x_max = axis.get_xbound()\n",
    "max_points = len(df_new) + 3\n",
    "x_new = numpy.linspace(x_min, x_max, max_points)\n",
    "\n",
    "x_predictors = pandas.DataFrame({'GDP_log':x_new, 'GDP_log2':numpy.power(x_new, 2)})\n",
    "y_predictions = model.predict(x_predictors)\n",
    "\n",
    "pyplot.plot(x_new, y_predictions, 'r-')\n",
    "\n",
    "axis.set(xlabel='GDP log', ylabel='Child Mortality log')"
   ]
  },
  {
   "cell_type": "code",
   "execution_count": 24,
   "id": "da409a1e",
   "metadata": {},
   "outputs": [
    {
     "data": {
      "text/plain": [
       "[<matplotlib.lines.Line2D at 0x7fe12cd308e0>]"
      ]
     },
     "execution_count": 24,
     "metadata": {},
     "output_type": "execute_result"
    },
    {
     "data": {
      "image/png": "[encoded data removed]",
      "text/plain": [
       "<Figure size 432x288 with 1 Axes>"
      ]
     },
     "metadata": {
      "needs_background": "light"
     },
     "output_type": "display_data"
    }
   ],
   "source": [
    "y_predictions = model.predict(df_new)\n",
    "residuals = df_new.ChildMortality_log - y_predictions\n",
    "\n",
    "# create an area to draw plot(s)\n",
    "figure, axis = pyplot.subplots(row_total, col_total)\n",
    "\n",
    "x = df_new.GDP_log\n",
    "pyplot.scatter(x, residuals)\n",
    "\n",
    "axis.set(xlabel='GDP log', ylabel='Residual')\n",
    "\n",
    "x_min, x_max = axis.get_xbound()\n",
    "x_vector = [x_min, x_max]\n",
    "y_vector = [0, 0]\n",
    "pyplot.plot(x_vector, y_vector,'b-')"
   ]
  },
  {
   "cell_type": "markdown",
   "id": "68391b97",
   "metadata": {},
   "source": [
    "A quadratic term improves the fit of the model to the child mortality data. Those residuals have smaller magnitude which indicate a closer fit of model to data."
   ]
  },
  {
   "cell_type": "code",
   "execution_count": null,
   "id": "35cae6a6",
   "metadata": {},
   "outputs": [],
   "source": []
  }
 ],
 "metadata": {
  "kernelspec": {
   "display_name": "Python 3",
   "language": "python",
   "name": "python3"
  },
  "language_info": {
   "codemirror_mode": {
    "name": "ipython",
    "version": 3
   },
   "file_extension": ".py",
   "mimetype": "text/x-python",
   "name": "python",
   "nbconvert_exporter": "python",
   "pygments_lexer": "ipython3",
   "version": "3.8.8"
  }
 },
 "nbformat": 4,
 "nbformat_minor": 5
}
