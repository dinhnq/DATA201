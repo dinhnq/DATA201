{
 "cells": [
  {
   "cell_type": "markdown",
   "id": "9cf730ba",
   "metadata": {},
   "source": [
    "Get the shape of an array"
   ]
  },
  {
   "cell_type": "code",
   "execution_count": 1,
   "id": "e0696b00",
   "metadata": {},
   "outputs": [
    {
     "data": {
      "text/plain": [
       "(2, 4)"
      ]
     },
     "execution_count": 1,
     "metadata": {},
     "output_type": "execute_result"
    }
   ],
   "source": [
    "import numpy as np\n",
    "\n",
    "arr = np.array([[1,2,3,4],[5,6,7,8]])\n",
    "\n",
    "arr.shape"
   ]
  },
  {
   "cell_type": "markdown",
   "id": "185ec7a8",
   "metadata": {},
   "source": [
    "Result: the array has 2 dimensions, and each dimension has 4 elements"
   ]
  },
  {
   "cell_type": "markdown",
   "id": "998d74d4",
   "metadata": {},
   "source": [
    "Create an array with 5 dimensions using ndmin\n",
    "\n",
    "Using a vector with values 1,2,3,4\n",
    "\n",
    "Verify that last dimension has value 4"
   ]
  },
  {
   "cell_type": "code",
   "execution_count": 7,
   "id": "66bb316d",
   "metadata": {},
   "outputs": [
    {
     "name": "stdout",
     "output_type": "stream",
     "text": [
      "[[[[[1 2 3 4]]]]]\n",
      "shape of array: (1, 1, 1, 1, 4)\n"
     ]
    }
   ],
   "source": [
    "vector = [1,2,3,4]\n",
    "arr = np.array(vector, ndmin=5)\n",
    "\n",
    "print(arr)\n",
    "print('shape of array:', arr.shape)"
   ]
  },
  {
   "cell_type": "markdown",
   "id": "c0a23626",
   "metadata": {},
   "source": [
    "Result: the array has 5 dimensions, the last dimension has 4 elements"
   ]
  },
  {
   "cell_type": "markdown",
   "id": "164723c6",
   "metadata": {},
   "source": [
    "Change the shape of an array from 1-D to 2-D"
   ]
  },
  {
   "cell_type": "code",
   "execution_count": 9,
   "id": "00d9542c",
   "metadata": {},
   "outputs": [
    {
     "name": "stdout",
     "output_type": "stream",
     "text": [
      "[[ 1  2  3]\n",
      " [ 4  5  6]\n",
      " [ 7  8  9]\n",
      " [10 11 12]]\n",
      "shape of new array: (4, 3)\n"
     ]
    }
   ],
   "source": [
    "vector = [1,2,3,4,5,6,7,8,9,10,11,12]\n",
    "arr = np.array(vector)\n",
    "\n",
    "new_arr = arr.reshape(4,3)\n",
    "print(new_arr)\n",
    "print('shape of new array:', new_arr.shape)"
   ]
  },
  {
   "cell_type": "markdown",
   "id": "a0aa04fb",
   "metadata": {},
   "source": [
    "Result: the array has 2 dimensions, the outermost dimension will have 4 arrays, each with 3 elements"
   ]
  },
  {
   "cell_type": "markdown",
   "id": "b1dca7f5",
   "metadata": {},
   "source": [
    "Change the shape of an array from 2-D to 1-D"
   ]
  },
  {
   "cell_type": "code",
   "execution_count": 16,
   "id": "b99cfb45",
   "metadata": {},
   "outputs": [
    {
     "name": "stdout",
     "output_type": "stream",
     "text": [
      "shape of array: (2, 3)\n",
      "shape of new array: (6,)\n",
      "[[1 2 3]\n",
      " [4 5 6]]\n",
      "new array: [1 2 3 4 5 6]\n"
     ]
    }
   ],
   "source": [
    "vector = [[1, 2, 3], [4, 5, 6]]\n",
    "arr = np.array(vector)\n",
    "\n",
    "new_arr = arr.reshape(-1)\n",
    "\n",
    "print('shape of array:', arr.shape)\n",
    "print('shape of new array:', new_arr.shape)\n",
    "\n",
    "print(arr)\n",
    "print('new array:', new_arr)"
   ]
  },
  {
   "cell_type": "markdown",
   "id": "fd4d1891",
   "metadata": {},
   "source": [
    "Join 2 arrays into a single array"
   ]
  },
  {
   "cell_type": "code",
   "execution_count": 18,
   "id": "c4a310f5",
   "metadata": {},
   "outputs": [],
   "source": [
    "arr1 = np.array([1,2,3])\n",
    "arr2 = np.array([4,5,6])\n",
    "\n",
    "arr = np.concatenate((arr1, arr2))"
   ]
  },
  {
   "cell_type": "markdown",
   "id": "e32f0b00",
   "metadata": {},
   "source": [
    "Find all items with the value 4"
   ]
  },
  {
   "cell_type": "code",
   "execution_count": 20,
   "id": "ee159610",
   "metadata": {},
   "outputs": [],
   "source": [
    "vector = [1,2,3,4,5,4,4]\n",
    "arr = np.array(vector)\n",
    "\n",
    "x = np.where(arr==4)"
   ]
  },
  {
   "cell_type": "markdown",
   "id": "60cef6b3",
   "metadata": {},
   "source": [
    "Check if the returned array is a Copy or a View"
   ]
  },
  {
   "cell_type": "code",
   "execution_count": 25,
   "id": "d2c40464",
   "metadata": {},
   "outputs": [
    {
     "name": "stdout",
     "output_type": "stream",
     "text": [
      "[1 2 3 4 5 6 7 8]\n"
     ]
    }
   ],
   "source": [
    "vector = [1,2,3,4,5,6,7,8]\n",
    "arr = np.array(vector)\n",
    "\n",
    "new_arr = arr.reshape(2,4)\n",
    "print(new_arr.base)"
   ]
  },
  {
   "cell_type": "markdown",
   "id": "fc948edf",
   "metadata": {},
   "source": [
    "Return: the original array, so it's a view"
   ]
  },
  {
   "cell_type": "markdown",
   "id": "fd0c7553",
   "metadata": {},
   "source": [
    "You're allowed to have one \"unknown\" dimension. \n",
    "\n",
    "Meaning that you don't have to specify an exact number for one of the dimensions in the reshape method.\n",
    "\n",
    "Pass -1 as the value, and NumPy will calculate this nubmer for you.\n",
    "\n",
    "Convert 1D array with 8 elements to 3D array with 2x2 elements"
   ]
  },
  {
   "cell_type": "code",
   "execution_count": 31,
   "id": "ee9331a8",
   "metadata": {},
   "outputs": [
    {
     "name": "stdout",
     "output_type": "stream",
     "text": [
      "[[[1 2]\n",
      "  [3 4]]\n",
      "\n",
      " [[5 6]\n",
      "  [7 8]]]\n"
     ]
    }
   ],
   "source": [
    "vector = [1,2,3,4,5,6,7,8]\n",
    "arr = np.array(vector)\n",
    "\n",
    "new_arr = arr.reshape(2, 2, -1)\n",
    "\n",
    "print(new_arr)"
   ]
  },
  {
   "cell_type": "markdown",
   "id": "40441aac",
   "metadata": {},
   "source": [
    "Note: only apply to one dimension"
   ]
  },
  {
   "cell_type": "markdown",
   "id": "fb45f055",
   "metadata": {},
   "source": [
    "Flattening the arrays\n",
    "\n",
    "Flattening array means converting a multidimensional array into a 1D array. \n",
    "\n",
    "Using reshape(-1) to do this."
   ]
  },
  {
   "cell_type": "code",
   "execution_count": 33,
   "id": "e7a0f241",
   "metadata": {},
   "outputs": [
    {
     "name": "stdout",
     "output_type": "stream",
     "text": [
      "[1 2 3 4 5 6]\n"
     ]
    }
   ],
   "source": [
    "vector = [[1,2,3],[4,5,6]]\n",
    "arr = np.array(vector)\n",
    "\n",
    "new_arr = arr.reshape(-1)\n",
    "print(new_arr)"
   ]
  },
  {
   "cell_type": "markdown",
   "id": "69eb9c68",
   "metadata": {},
   "source": [
    "Generate a 1-D array containing 5 random floats"
   ]
  },
  {
   "cell_type": "code",
   "execution_count": 34,
   "id": "ba2125fc",
   "metadata": {},
   "outputs": [],
   "source": [
    "x = np.random.rand(5)"
   ]
  },
  {
   "cell_type": "markdown",
   "id": "0865ee2c",
   "metadata": {},
   "source": [
    "Generate a 2-D array with 3 rows, each row containing 5 random numbers"
   ]
  },
  {
   "cell_type": "code",
   "execution_count": 35,
   "id": "734c42b2",
   "metadata": {},
   "outputs": [],
   "source": [
    "x = np.random.rand(3, 5)"
   ]
  },
  {
   "cell_type": "markdown",
   "id": "350cb822",
   "metadata": {},
   "source": [
    "Generate random number from array.\n",
    "\n",
    "Return one of the values in an array."
   ]
  },
  {
   "cell_type": "code",
   "execution_count": 36,
   "id": "cd380c5c",
   "metadata": {},
   "outputs": [],
   "source": [
    "vector = [3,5,7,9]\n",
    "x = np.random.choice(vector)"
   ]
  },
  {
   "cell_type": "markdown",
   "id": "fb9b3fff",
   "metadata": {},
   "source": [
    "Add 'size' to specify the shape of the array.\n",
    "\n",
    "Generate a 2-D array that consists of the values in the array parameter (3,5,7, and 9)"
   ]
  },
  {
   "cell_type": "code",
   "execution_count": 37,
   "id": "88d4bf30",
   "metadata": {},
   "outputs": [],
   "source": [
    "vector = [3,5,7,9]\n",
    "shape = (3,5)\n",
    "\n",
    "x = np.random.choice(vector, size=shape)"
   ]
  },
  {
   "cell_type": "markdown",
   "id": "d38b4d5a",
   "metadata": {},
   "source": [
    "Reshape image data from a K-dimensional matrix to a 1-D matrix\n",
    "K = height * width of an image"
   ]
  },
  {
   "cell_type": "code",
   "execution_count": null,
   "id": "95804381",
   "metadata": {},
   "outputs": [],
   "source": [
    "from scipy import misc\n",
    "import matplotlib.pyplot as pl\n",
    "\n",
    "height = 116\n",
    "width = 98\n",
    "\n",
    "dimensions = height * width\n",
    "\n",
    "filename = ''\n",
    "img = misc.imread(filename).reshape(dimensions)\n",
    "pl.imshow(img, cmap='gray')"
   ]
  },
  {
   "cell_type": "code",
   "execution_count": null,
   "id": "713e4a3c",
   "metadata": {},
   "outputs": [],
   "source": []
  }
 ],
 "metadata": {
  "kernelspec": {
   "display_name": "Python 3",
   "language": "python",
   "name": "python3"
  },
  "language_info": {
   "codemirror_mode": {
    "name": "ipython",
    "version": 3
   },
   "file_extension": ".py",
   "mimetype": "text/x-python",
   "name": "python",
   "nbconvert_exporter": "python",
   "pygments_lexer": "ipython3",
   "version": "3.8.8"
  }
 },
 "nbformat": 4,
 "nbformat_minor": 5
}
