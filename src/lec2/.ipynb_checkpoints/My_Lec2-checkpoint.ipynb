{
 "cells": [
  {
   "cell_type": "code",
   "execution_count": 16,
   "id": "08acb6a0",
   "metadata": {},
   "outputs": [],
   "source": [
    "import numpy\n",
    "import pandas\n",
    "from matplotlib import pyplot\n",
    "from numpy import linalg\n",
    "#https://secure.math.ubc.ca/~pwalls/math-python/jupyter/latex/"
   ]
  },
  {
   "cell_type": "markdown",
   "id": "d5d5c24b",
   "metadata": {},
   "source": [
    "# Vectors, Matrices, and Tensors in numpy"
   ]
  },
  {
   "cell_type": "code",
   "execution_count": 2,
   "id": "1512788c",
   "metadata": {},
   "outputs": [],
   "source": [
    "x_vector = numpy.array([3,4])\n",
    "x_size = numpy.shape(x_vector)\n",
    "\n",
    "y_vector = numpy.array([[3],[4]])\n",
    "y_size = numpy.shape(y_vector)\n",
    "\n",
    "a_tensor = numpy.array([[1,2],[2,3],[3,4]])\n",
    "\n",
    "row_index = 2\n",
    "col_index = 1\n",
    "value = a_tensor[row_index, col_index]\n",
    "\n",
    "col_index = 0\n",
    "value_arr = a_tensor[:, col_index]\n",
    "value_arr_size = numpy.shape(value_arr)"
   ]
  },
  {
   "cell_type": "markdown",
   "id": "3629aa25",
   "metadata": {},
   "source": [
    "Special matrices:\n",
    "1. eye: 1 values in a square matrix's diagonal\n",
    "2. ones: all 1 values\n",
    "3. zeros: all 0 values"
   ]
  },
  {
   "cell_type": "code",
   "execution_count": 3,
   "id": "744bcd11",
   "metadata": {},
   "outputs": [],
   "source": [
    "row_col = 3\n",
    "eye_matrix = numpy.eye(row_col)\n",
    "\n",
    "row = 3\n",
    "col = 3\n",
    "one_matrix = numpy.ones((row, col))\n",
    "\n",
    "row = 3\n",
    "col = 4\n",
    "zero_matrix = numpy.zeros((row, col))\n",
    "\n",
    "diagonal_vals = [3,4,5]\n",
    "diag_square_matrix = numpy.diag(diagonal_vals)"
   ]
  },
  {
   "cell_type": "code",
   "execution_count": 4,
   "id": "3d354d78",
   "metadata": {},
   "outputs": [],
   "source": [
    "def draw_vec(vec, start=None,color=None):\n",
    "    vec = numpy.squeeze(vec)\n",
    "    \n",
    "    arr_like = [0,0]\n",
    "    point_default = numpy.array(arr_like)\n",
    "    color_blue = 'b'\n",
    "    \n",
    "    if start is None:\n",
    "        start = point_default\n",
    "    if color is None:\n",
    "        color = color_blue\n",
    "        \n",
    "    x = start[0]\n",
    "    y = start[1]\n",
    "    dx = vec[0]\n",
    "    dy = vec[1]\n",
    "    \n",
    "    pyplot.arrow(x, y, dx, dy, head_width=0.05, head_length=0.1, linewidth=2, color=color, length_includes_head=True)"
   ]
  },
  {
   "cell_type": "code",
   "execution_count": 7,
   "id": "2a7f77fc",
   "metadata": {},
   "outputs": [
    {
     "data": {
      "text/plain": [
       "(0.0, 5.0, 0.0, 5.0)"
      ]
     },
     "execution_count": 7,
     "metadata": {},
     "output_type": "execute_result"
    },
    {
     "data": {
      "image/png": "[encoded data removed]",
      "text/plain": [
       "<Figure size 432x288 with 1 Axes>"
      ]
     },
     "metadata": {
      "needs_background": "light"
     },
     "output_type": "display_data"
    }
   ],
   "source": [
    "dx = 1\n",
    "dy = 2\n",
    "arr_like = [dx, dy]\n",
    "vector_blue = numpy.array(arr_like)\n",
    "draw_vec(vector_blue)\n",
    "\n",
    "dx = 4\n",
    "dy = 3\n",
    "start_x = 1\n",
    "start_y = 2\n",
    "arr_like = [dx, dy]\n",
    "vector_red = numpy.array(arr_like)\n",
    "\n",
    "arr_like = [start_x, start_y]\n",
    "start_point_red = numpy.array(arr_like)\n",
    "\n",
    "color = 'r'\n",
    "draw_vec(vector_red, start_point_red, color=color)\n",
    "\n",
    "dx = 5\n",
    "dy = 5\n",
    "arr_like = [dx, dy]\n",
    "vector_green = numpy.array(arr_like)\n",
    "color = 'g'\n",
    "draw_vec(vector_green, color=color)\n",
    "\n",
    "axis_area = [0,5,0,5]\n",
    "pyplot.axis(axis_area)"
   ]
  },
  {
   "cell_type": "markdown",
   "id": "68239024",
   "metadata": {},
   "source": [
    "Draw overlapped vectors"
   ]
  },
  {
   "cell_type": "code",
   "execution_count": 8,
   "id": "55f0577f",
   "metadata": {},
   "outputs": [
    {
     "data": {
      "text/plain": [
       "(0.0, 5.0, 0.0, 5.0)"
      ]
     },
     "execution_count": 8,
     "metadata": {},
     "output_type": "execute_result"
    },
    {
     "data": {
      "image/png": "[encoded data removed]",
      "text/plain": [
       "<Figure size 432x288 with 1 Axes>"
      ]
     },
     "metadata": {
      "needs_background": "light"
     },
     "output_type": "display_data"
    }
   ],
   "source": [
    "arr_like = [1,2]\n",
    "vector_blue = numpy.array(arr_like)\n",
    "vector_red = 2*vector_blue\n",
    "\n",
    "color = 'r'\n",
    "draw_vec(vector_red, color=color)\n",
    "draw_vec(vector_blue)\n",
    "\n",
    "axis_area = [0,5,0,5]\n",
    "pyplot.axis(axis_area)"
   ]
  },
  {
   "cell_type": "markdown",
   "id": "d4c7da31",
   "metadata": {},
   "source": [
    "Draw opposite vectors"
   ]
  },
  {
   "cell_type": "code",
   "execution_count": 10,
   "id": "689d8550",
   "metadata": {},
   "outputs": [
    {
     "data": {
      "text/plain": [
       "(-5.0, 5.0, -5.0, 5.0)"
      ]
     },
     "execution_count": 10,
     "metadata": {},
     "output_type": "execute_result"
    },
    {
     "data": {
      "image/png": "[encoded data removed]",
      "text/plain": [
       "<Figure size 432x288 with 1 Axes>"
      ]
     },
     "metadata": {
      "needs_background": "light"
     },
     "output_type": "display_data"
    }
   ],
   "source": [
    "arr_like = [1,2]\n",
    "\n",
    "vector_positive = numpy.array(arr_like)\n",
    "vector_negative = -vector_positive\n",
    "\n",
    "color = 'r'\n",
    "draw_vec(vector_positive)\n",
    "draw_vec(vector_negative, color=color)\n",
    "\n",
    "axis_area = [-5,5,-5,5]\n",
    "pyplot.axis(axis_area)"
   ]
  },
  {
   "cell_type": "markdown",
   "id": "d98ed18d",
   "metadata": {},
   "source": [
    "# Linear Algebra \n",
    "Vectors have a length and a direction\n",
    "\n",
    "To find the length we measure using a norm such as the Euclidean length:\n",
    "\n",
    "||x|| = $\\sqrt{x.x}$ \n",
    "Inner product: x.y = ||x||||y|| cos$\\theta$\n",
    "\n",
    "Return one of 8 different matrix norms, or one of an infinite number of vector norms\n",
    "\n",
    "Order of the norm:\n",
    "    Order               Norm for matrices           Norm for vectors\n",
    "1. None                   Frobenius norm              2-norm\n",
    "2. 'fro'                  Frobenius norm              \n",
    "3. 'nuc'                  nuclear norm         \n",
    "4. inf               max(sum(abs(x), axis=1))         max(abs(x))\n",
    "5. -inf              min(sum(abs(x), axis=1))         min(abs(x))\n",
    "6.  0                                                 sum(x != 0)\n",
    "7.  1                max(sum(abs(x), axis=0))         sum(x != 0)\n",
    "8. -1                min(sum(abs(x), axis=0))         sum(x != 0)\n",
    "9.  2                2-norm (largest sing.value)      sum(x != 0)\n",
    "10. -2               smallest singular value          sum(x != 0)\n",
    "11. other                                             sum(abs(x)**ord)**(1./ord)\n",
    "\n",
    "Frobenius norm: $||A||_n$ = [ $\\sum_{i,j}$ abs($a_{i,j}$) $ ]^{1/2}$\n",
    "\n",
    "Nuclear norm = \t$\\sum_{i=0}^{n}$ singular values"
   ]
  },
  {
   "cell_type": "code",
   "execution_count": 13,
   "id": "7bffe5b5",
   "metadata": {},
   "outputs": [
    {
     "data": {
      "text/plain": [
       "5.0"
      ]
     },
     "execution_count": 13,
     "metadata": {},
     "output_type": "execute_result"
    }
   ],
   "source": [
    "arr_like = [3,4]\n",
    "linalg.norm(arr_like)"
   ]
  },
  {
   "cell_type": "code",
   "execution_count": 15,
   "id": "f70a6353",
   "metadata": {},
   "outputs": [
    {
     "data": {
      "text/plain": [
       "4.47213595499958"
      ]
     },
     "execution_count": 15,
     "metadata": {},
     "output_type": "execute_result"
    }
   ],
   "source": [
    "arr_like = [1,2]\n",
    "\n",
    "vector_positive = numpy.array(arr_like)\n",
    "vector_negative = -vector_positive\n",
    "vector_positive_x2 = 2*vector_positive\n",
    "\n",
    "# + - vectors have the same length\n",
    "linalg.norm(vector_positive)\n",
    "linalg.norm(vector_negative)\n",
    "\n",
    "# x2 value compared to +/- vectors\n",
    "linalg.norm(vector_positive_x2)"
   ]
  },
  {
   "cell_type": "markdown",
   "id": "93a6cfc9",
   "metadata": {},
   "source": [
    "## Vector multiplication\n",
    "Dot product of 2 arrays:\n",
    "1. Inner product of vectors (without complex conjugation) if both are 1-D arrays\n",
    "2. Matrix multiplication if both are 2-D arrays\n",
    "3. Multiply if either a or b is 0-D (scalar)\n",
    "4. Sum product over the last axis of both if a: N-D array, b: 1-D array\n",
    "5. Sum product over the last axis of 'a' and the second-to-last axis of 'b' if a: N-D array, b: M-D array (where M >= 2)"
   ]
  },
  {
   "cell_type": "code",
   "execution_count": 17,
   "id": "8d8cb1d4",
   "metadata": {},
   "outputs": [],
   "source": [
    "arr_like_x = [1,2]\n",
    "arr_like_y = [2,2]\n",
    "\n",
    "x = numpy.array(arr_like_x)\n",
    "y = numpy.array(arr_like_y)\n",
    "\n",
    "xy = numpy.dot(x,y)"
   ]
  },
  {
   "cell_type": "markdown",
   "id": "668c7ca6",
   "metadata": {},
   "source": [
    "Equivalent with the above inner product:"
   ]
  },
  {
   "cell_type": "code",
   "execution_count": 30,
   "id": "7dc99e29",
   "metadata": {},
   "outputs": [],
   "source": [
    "theta = numpy.arctan2(y[0], y[1]) - numpy.arctan2(x[0], x[1])\n",
    "xy = linalg.norm(x) * linalg.norm(y) * numpy.cos(theta)"
   ]
  },
  {
   "cell_type": "markdown",
   "id": "a30548d1",
   "metadata": {},
   "source": [
    "# Linear Regression I\n",
    "Given $\\beta$, compute data points"
   ]
  },
  {
   "cell_type": "code",
   "execution_count": 49,
   "id": "3b34fd24",
   "metadata": {},
   "outputs": [
    {
     "data": {
      "image/png": "[encoded data removed]",
      "text/plain": [
       "<Figure size 432x288 with 1 Axes>"
      ]
     },
     "metadata": {
      "needs_background": "light"
     },
     "output_type": "display_data"
    }
   ],
   "source": [
    "observations_size = 10\n",
    "coefficient = numpy.array([2,3])\n",
    "sig_level_standard_normal = 0.05\n",
    "\n",
    "sample_data_standard_normal = numpy.random.randn(observations_size)\n",
    "\n",
    "epsilon = numpy.random.randn(observations) * sig_level_standard_normal\n",
    "\n",
    "noise_vector = epsilon\n",
    "color = 'b.'\n",
    "for noise in noise_vector:\n",
    "    x_vector = numpy.array([1,numpy.random.rand()])\n",
    "    y_vector = numpy.dot(x_vector, coefficient) + noise\n",
    "    pyplot.plot(x_vector[1],y_vector,color)"
   ]
  },
  {
   "cell_type": "markdown",
   "id": "7f000a39",
   "metadata": {},
   "source": [
    "# Scikit-Learn\n",
    "\n",
    "scikit-learn: machine learning library\n",
    "\n",
    "tensorflow, pytorch: deep learning libraries"
   ]
  },
  {
   "cell_type": "markdown",
   "id": "2d4f7e7e",
   "metadata": {},
   "source": [
    "1. Algorithms from models\n",
    "\n",
    "Linear Regression from linear model"
   ]
  },
  {
   "cell_type": "code",
   "execution_count": 51,
   "id": "fb491160",
   "metadata": {},
   "outputs": [],
   "source": [
    "from sklearn import linear_model"
   ]
  },
  {
   "cell_type": "code",
   "execution_count": 60,
   "id": "76470552",
   "metadata": {},
   "outputs": [],
   "source": [
    "x = [[0,0], [1,1], [2,2]]\n",
    "y_target_values = [0, 1, 2]\n",
    "x_predictors = numpy.array([[0.5, 0.5]])\n",
    "\n",
    "lin_reg = linear_model.LinearRegression()\n",
    "\n",
    "# training data, target values\n",
    "x_training_data = x\n",
    "lin_reg.fit(x_training_data, y_target_values)\n",
    "\n",
    "slope = lin_reg.coef_\n",
    "intercept = lin_reg.intercept_\n",
    "\n",
    "# samples => predicted values\n",
    "x_samples = x_predictors\n",
    "y_predicted = lin_reg.predict(x_samples)"
   ]
  },
  {
   "cell_type": "markdown",
   "id": "c224835e",
   "metadata": {},
   "source": [
    "Return the coefficient of determination ${R^2}$ of the prediction."
   ]
  },
  {
   "cell_type": "code",
   "execution_count": 61,
   "id": "2e31110b",
   "metadata": {},
   "outputs": [],
   "source": [
    "# test samples and true values\n",
    "x_test_samples = x\n",
    "y_true_values = y_target_values\n",
    "det_coef = lin_reg.score(x_test_samples, y_true_values)"
   ]
  },
  {
   "cell_type": "markdown",
   "id": "56f8b556",
   "metadata": {},
   "source": [
    "2. Testing data and Training data from data preprocessing and data splitting"
   ]
  },
  {
   "cell_type": "code",
   "execution_count": 67,
   "id": "f3c2c205",
   "metadata": {},
   "outputs": [
    {
     "data": {
      "text/plain": [
       "array([[-1., -1.],\n",
       "       [-1., -1.],\n",
       "       [ 1.,  1.],\n",
       "       [ 1.,  1.]])"
      ]
     },
     "execution_count": 67,
     "metadata": {},
     "output_type": "execute_result"
    }
   ],
   "source": [
    "from sklearn import preprocessing\n",
    "\n",
    "x = [[0,0], [0,0], [1,1], [1,1]]\n",
    "x_training_data = x\n",
    "# standardize features by removing the mean and scaling to unit variance\n",
    "# standard score: z-value = (x-u)/s.d\n",
    "scaler = preprocessing.StandardScaler()\n",
    "scaler.fit(x_training_data)\n",
    "\n",
    "# stadardization by centering and scaling\n",
    "scaler.transform(x_training_data)"
   ]
  },
  {
   "cell_type": "code",
   "execution_count": 69,
   "id": "48f28856",
   "metadata": {},
   "outputs": [],
   "source": [
    "from sklearn.model_selection import train_test_split\n",
    "\n",
    "features_size = 2\n",
    "observations = 5\n",
    "explanatory_values = features_size * observations\n",
    "\n",
    "# return evenly spaced values\n",
    "arr = numpy.arange(explanatory_values)\n",
    "x, y = arr.reshape((observations, features_size)), range(5)\n",
    "\n",
    "test_data_percent = 0.33\n",
    "shuffle_times_before_split = 42\n",
    "\n",
    "x_train, y_train, x_test, y_test = train_test_split(x, y, test_size = test_data_percent, random_state=shuffle_times_before_split)"
   ]
  },
  {
   "cell_type": "markdown",
   "id": "819d66f2",
   "metadata": {},
   "source": [
    "Train values and test values for y in another way:"
   ]
  },
  {
   "cell_type": "code",
   "execution_count": 70,
   "id": "82bac4d8",
   "metadata": {},
   "outputs": [],
   "source": [
    "y_train, y_test = train_test_split(y, shuffle=False)"
   ]
  },
  {
   "cell_type": "markdown",
   "id": "63560f2d",
   "metadata": {},
   "source": [
    "Reference https://scikit-learn.org/stable/modules/cross_validation.html for doing cross-validation automatically."
   ]
  },
  {
   "cell_type": "markdown",
   "id": "778e9e5d",
   "metadata": {},
   "source": [
    "## Some more linear algebra"
   ]
  },
  {
   "cell_type": "code",
   "execution_count": 71,
   "id": "a6289f51",
   "metadata": {},
   "outputs": [],
   "source": [
    "matrix_diag_1 = numpy.eye(3)\n",
    "norm = numpy.linalg.norm(matrix_diag_1)"
   ]
  },
  {
   "cell_type": "code",
   "execution_count": 72,
   "id": "e842094e",
   "metadata": {},
   "outputs": [],
   "source": [
    "arr_like = [[1,2,3],[2,3,4],[3,4,5]]\n",
    "a = numpy.array(arr_like)\n",
    "\n",
    "arr_like = [[1,2,5]]\n",
    "x = numpy.array(arr_like)\n",
    "\n",
    "matrix_transposed = a.T\n",
    "dot_result = numpy.dot(a.T, x.T)"
   ]
  },
  {
   "cell_type": "markdown",
   "id": "1673bab1",
   "metadata": {},
   "source": [
    "Inverse condition: a square matrix\n",
    "$$\\begin{bmatrix} 1 & 2 & 3 \\\\ 2 & 3 & 4 \\\\ 3 & 4 & 5 \\end{bmatrix}$$"
   ]
  },
  {
   "cell_type": "code",
   "execution_count": null,
   "id": "0401aecb",
   "metadata": {},
   "outputs": [],
   "source": [
    "matrix_inversed = numpy.linalg.inv(a)\n",
    "dot_result = numpy.dot(a, matrix_inversed)"
   ]
  },
  {
   "cell_type": "markdown",
   "id": "56433448",
   "metadata": {},
   "source": [
    "The pseudo-inverse of a matrix A: ${A^+}$\n",
    "\n",
    "The least-squares problem: Ax = b\n",
    "\n",
    "Said solution: $\\bar{x}$\n",
    "\n",
    "The matrix solves the least-squares problem, ${A^+}$ is that matrix such that $\\bar{x}$ = ${A^+}$b"
   ]
  },
  {
   "cell_type": "code",
   "execution_count": 73,
   "id": "6616df8e",
   "metadata": {},
   "outputs": [],
   "source": [
    "matrix_inversed = numpy.linalg.pinv(a)\n",
    "dot_result = numpy.dot(a, matrix_inversed)"
   ]
  },
  {
   "cell_type": "code",
   "execution_count": 74,
   "id": "eacc1391",
   "metadata": {},
   "outputs": [],
   "source": [
    "matrix_diag_one = numpy.eye(3)\n",
    "matrix_inversed = numpy.linalg.inv(matrix_diag_one)"
   ]
  },
  {
   "cell_type": "code",
   "execution_count": 76,
   "id": "e66171c1",
   "metadata": {},
   "outputs": [],
   "source": [
    "arr_like = [3,4,5]\n",
    "matrix_diag = numpy.diag(arr_like)\n",
    "matrix_inversed = numpy.linalg.inv(matrix_diag)"
   ]
  },
  {
   "cell_type": "markdown",
   "id": "b75b2185",
   "metadata": {},
   "source": [
    "Compute least-squares solution to equation Ax = b\n",
    "x: a vector\n",
    "Compute x such that the 2-norm |b - Ax| is minimized\n",
    "\n",
    "Return:\n",
    "1. $\\hat{\\beta}$: shape matches shape of b\n",
    "2. residues\n",
    "3. effective rank of 'a'\n",
    "4. singular values of 'a'\n",
    "\n",
    "$\\hat\\beta$: $\\hat{\\beta_1}$ and $\\hat{\\beta_0}$\n"
   ]
  },
  {
   "cell_type": "code",
   "execution_count": 82,
   "id": "fc929545",
   "metadata": {},
   "outputs": [
    {
     "data": {
      "text/plain": [
       "[<matplotlib.lines.Line2D at 0x7fd125b43190>]"
      ]
     },
     "execution_count": 82,
     "metadata": {},
     "output_type": "execute_result"
    },
    {
     "data": {
      "image/png": "[encoded data removed]",
      "text/plain": [
       "<Figure size 432x288 with 1 Axes>"
      ]
     },
     "metadata": {
      "needs_background": "light"
     },
     "output_type": "display_data"
    }
   ],
   "source": [
    "from scipy.linalg import lstsq\n",
    "\n",
    "observations = 20\n",
    "slope = 2\n",
    "intercept = 3\n",
    "beta = numpy.array([[slope, intercept]])\n",
    "\n",
    "row = 2\n",
    "col = observations\n",
    "x = numpy.random.rand(row, col)\n",
    "\n",
    "row_index = 0\n",
    "x[row_index,:] = 1\n",
    "\n",
    "row = 1\n",
    "col = observations\n",
    "slope_x = numpy.dot(beta, x)\n",
    "errors = 0.5 * numpy.random.rand(row, col)\n",
    "\n",
    "y = slope_x + errors\n",
    "\n",
    "x_transposed = x.T\n",
    "y_transposed = y.T\n",
    "beta_hat, residues, rank, sigma = lstsq(x_transposed, y_transposed)\n",
    "\n",
    "x_values = x[1,:]\n",
    "y_values = y.T\n",
    "color = 'b.'\n",
    "pyplot.plot(x_values, y_values, color)\n",
    "\n",
    "# Return evenly spaced samples, calculated over the interval\n",
    "samples_total = 50\n",
    "start = 0\n",
    "end = 1\n",
    "x_new = numpy.linspace(start, end, num=samples_total)\n",
    "\n",
    "row = 2\n",
    "col = 50\n",
    "X_predictors = numpy.ones((row, col))\n",
    "X_predictors[1,:] = x_new\n",
    "\n",
    "y_predicted = numpy.dot(beta_hat.T, X_predictors)[0,:]\n",
    "pyplot.plot(x_new, y_predicted)"
   ]
  },
  {
   "cell_type": "markdown",
   "id": "5dd35f43",
   "metadata": {},
   "source": [
    "2 ways to get $\\hat\\beta$:\n",
    "1. least-squares\n",
    "2. 'dot' of x.pseudo-inverse.transform and y.transform"
   ]
  },
  {
   "cell_type": "code",
   "execution_count": 83,
   "id": "af0b28a0",
   "metadata": {},
   "outputs": [],
   "source": [
    "x_inverse = numpy.linalg.pinv(x)\n",
    "beta_hat = numpy.dot(x_inverse.T, y.T)"
   ]
  },
  {
   "cell_type": "code",
   "execution_count": null,
   "id": "a1c64557",
   "metadata": {},
   "outputs": [],
   "source": []
  },
  {
   "cell_type": "code",
   "execution_count": null,
   "id": "fc6eeb9b",
   "metadata": {},
   "outputs": [],
   "source": []
  }
 ],
 "metadata": {
  "kernelspec": {
   "display_name": "Python 3",
   "language": "python",
   "name": "python3"
  },
  "language_info": {
   "codemirror_mode": {
    "name": "ipython",
    "version": 3
   },
   "file_extension": ".py",
   "mimetype": "text/x-python",
   "name": "python",
   "nbconvert_exporter": "python",
   "pygments_lexer": "ipython3",
   "version": "3.8.8"
  }
 },
 "nbformat": 4,
 "nbformat_minor": 5
}
