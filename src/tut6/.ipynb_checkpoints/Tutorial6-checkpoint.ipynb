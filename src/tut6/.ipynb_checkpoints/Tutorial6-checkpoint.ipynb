{
 "cells": [
  {
   "cell_type": "markdown",
   "metadata": {},
   "source": [
    "In the last lecture we saw the $k$-means algorithm. In this tutorial you are going to use it to cluster songs based on the words inside them. We will need to do some work to get them in a state where we can use them, but the actual use of the $k$-means algorithm is then very simple."
   ]
  },
  {
   "cell_type": "code",
   "execution_count": 1,
   "metadata": {},
   "outputs": [],
   "source": [
    "import numpy as np\n",
    "import pandas as pd\n",
    "import matplotlib.pyplot as pl\n",
    "%matplotlib inline"
   ]
  },
  {
   "cell_type": "markdown",
   "metadata": {},
   "source": [
    "There is a zip file containing the lyrics of 80 amazing songs (according to Rolling Stone magazine) called `rs_lyrics.zip`. Download it and unzip it. It will make a folder called `rs_lyrics` with the songs inside. The following code will then read then in, and store the songtitle and lyrics in a dataframe."
   ]
  },
  {
   "cell_type": "code",
   "execution_count": 53,
   "metadata": {},
   "outputs": [
    {
     "data": {
      "text/html": [
       "<div>\n",
       "<style scoped>\n",
       "    .dataframe tbody tr th:only-of-type {\n",
       "        vertical-align: middle;\n",
       "    }\n",
       "\n",
       "    .dataframe tbody tr th {\n",
       "        vertical-align: top;\n",
       "    }\n",
       "\n",
       "    .dataframe thead th {\n",
       "        text-align: right;\n",
       "    }\n",
       "</style>\n",
       "<table border=\"1\" class=\"dataframe\">\n",
       "  <thead>\n",
       "    <tr style=\"text-align: right;\">\n",
       "      <th></th>\n",
       "      <th>Name</th>\n",
       "      <th>Lyrics</th>\n",
       "    </tr>\n",
       "  </thead>\n",
       "  <tbody>\n",
       "    <tr>\n",
       "      <th>0</th>\n",
       "      <td>people_get_ready</td>\n",
       "      <td>People get ready There's a train a comin' You ...</td>\n",
       "    </tr>\n",
       "    <tr>\n",
       "      <th>1</th>\n",
       "      <td>blowin_in_the_wind</td>\n",
       "      <td>How many roads must a man walk down, Before yo...</td>\n",
       "    </tr>\n",
       "    <tr>\n",
       "      <th>2</th>\n",
       "      <td>in_bloom</td>\n",
       "      <td>Sell kids for food. Weather changes moods. Spr...</td>\n",
       "    </tr>\n",
       "    <tr>\n",
       "      <th>3</th>\n",
       "      <td>purple_rain</td>\n",
       "      <td>I never meant to cause(1) you any sorrow I nev...</td>\n",
       "    </tr>\n",
       "    <tr>\n",
       "      <th>4</th>\n",
       "      <td>bitter_sweet_symphony</td>\n",
       "      <td>'Cause it's a bittersweet symphony, this life ...</td>\n",
       "    </tr>\n",
       "  </tbody>\n",
       "</table>\n",
       "</div>"
      ],
      "text/plain": [
       "                    Name                                             Lyrics\n",
       "0       people_get_ready  People get ready There's a train a comin' You ...\n",
       "1     blowin_in_the_wind  How many roads must a man walk down, Before yo...\n",
       "2               in_bloom  Sell kids for food. Weather changes moods. Spr...\n",
       "3            purple_rain  I never meant to cause(1) you any sorrow I nev...\n",
       "4  bitter_sweet_symphony  'Cause it's a bittersweet symphony, this life ..."
      ]
     },
     "execution_count": 53,
     "metadata": {},
     "output_type": "execute_result"
    }
   ],
   "source": [
    "import os\n",
    "df = pd.DataFrame(columns = [\"Name\",\"Lyrics\"])\n",
    "i=0\n",
    "for filename in os.listdir('../res/rs_lyrics/'):\n",
    "   with open(os.path.join('../res/rs_lyrics', filename), 'r') as f:\n",
    "        df.loc[i] =[filename[:-4], f.read().splitlines()]\n",
    "        df[\"Lyrics\"][i] = \" \".join(df[\"Lyrics\"][i])\n",
    "        i+=1\n",
    "df.head()"
   ]
  },
  {
   "cell_type": "markdown",
   "metadata": {},
   "source": [
    "We have to do a lot of work before we can cluster word data. Ultimately we need to turn the lyrics into some kind of numerical input vector that we can feed into the algorithm. There are a couple of options for this, but we are going to use one called a Bag of Words. Essentially, it counts how often each word gets used in each song, and then the counts form the input vector. These counts are often normalised by the number of words in the song, since otherwise long songs get higher scores than short ones. \n",
    "\n",
    "Scikit-learn can make the Bag of Words for us. However, before we do that, there are a few things that we have to do:\n",
    "- remove punctuation\n",
    "- make everything lower case\n",
    "- remove stop words. These are the common words that don't really help much (and, the, etc.) We should remove them, or they will dominate the counts.\n",
    "- remove short words\n",
    "- for text files have quite a few '(1)' in them to mark things that we don't care about, so we should remove those.\n",
    "\n",
    "In fact, scikit-learn will do most of these things for us too, but I thought it might be useful to see some Python code for doing them. \n",
    "\n",
    "I've downloaded a list of stopwords from the web, so let's start by reading those:"
   ]
  },
  {
   "cell_type": "code",
   "execution_count": 18,
   "metadata": {},
   "outputs": [],
   "source": [
    "with open('../Datasets/stopwords.txt', 'r') as f:\n",
    "    stopwords = f.read().splitlines()"
   ]
  },
  {
   "cell_type": "markdown",
   "metadata": {},
   "source": [
    "The following two short functions will remove words form a list, and find all the short (2 letters or less) and long (more than 20 letters) words so that we can remove those as well as the stopwords."
   ]
  },
  {
   "cell_type": "code",
   "execution_count": 14,
   "metadata": {},
   "outputs": [],
   "source": [
    "def removeWords(text, removeList):\n",
    "    return [word for word in text.lower().strip().split() if word not in removeList]\n",
    "\n",
    "def getShortWords(shortlist,text):\n",
    "    for word in text.lower().strip().split():\n",
    "        if len(word) <= 2 or len(word) > 20:\n",
    "            if word not in shortlist:\n",
    "                shortlist.append(word)\n",
    "    return shortlist"
   ]
  },
  {
   "cell_type": "code",
   "execution_count": 57,
   "metadata": {},
   "outputs": [
    {
     "name": "stdout",
     "output_type": "stream",
     "text": [
      "['a', 'no', 'on', 'is', 'to', 'so', 'up', 'me', 'in', 'n', 'my', 'it', 'be', 'he', 'i', 'we', 'of', 'im', 'am', 'or', 'ah', 'ha', 'oh', 'an', 'uh', 'u', 'k', 'm', 'p', 'l', 'd', 'r', 'yo', 'as', 'if', 'id', 'o', 'by', 'do', 'go', 'aw', 'us', 'at', 'ya', 'di', 'de', 'ba', 'da', 'ma', 'pa', 'ow', 'ay', 'tv', 'ho', 'na', 'em', 'ax', 'eh', 'e', 's', 'c', 't', 'b', 'j', 'ol', 'v', 'ee', 'bo', 'un']\n"
     ]
    },
    {
     "data": {
      "text/html": [
       "<div>\n",
       "<style scoped>\n",
       "    .dataframe tbody tr th:only-of-type {\n",
       "        vertical-align: middle;\n",
       "    }\n",
       "\n",
       "    .dataframe tbody tr th {\n",
       "        vertical-align: top;\n",
       "    }\n",
       "\n",
       "    .dataframe thead th {\n",
       "        text-align: right;\n",
       "    }\n",
       "</style>\n",
       "<table border=\"1\" class=\"dataframe\">\n",
       "  <thead>\n",
       "    <tr style=\"text-align: right;\">\n",
       "      <th></th>\n",
       "      <th>Name</th>\n",
       "      <th>Lyrics</th>\n",
       "    </tr>\n",
       "  </thead>\n",
       "  <tbody>\n",
       "    <tr>\n",
       "      <th>0</th>\n",
       "      <td>people_get_ready</td>\n",
       "      <td>people ready theres train comin dont need bagg...</td>\n",
       "    </tr>\n",
       "    <tr>\n",
       "      <th>1</th>\n",
       "      <td>blowin_in_the_wind</td>\n",
       "      <td>roads man walk man seas white dove sail sleeps...</td>\n",
       "    </tr>\n",
       "    <tr>\n",
       "      <th>2</th>\n",
       "      <td>in_bloom</td>\n",
       "      <td>sell kids food weather changes moods spring re...</td>\n",
       "    </tr>\n",
       "    <tr>\n",
       "      <th>3</th>\n",
       "      <td>purple_rain</td>\n",
       "      <td>meant cause sorrow meant cause pain wanted tim...</td>\n",
       "    </tr>\n",
       "    <tr>\n",
       "      <th>4</th>\n",
       "      <td>bitter_sweet_symphony</td>\n",
       "      <td>cause bittersweet symphony life try make ends ...</td>\n",
       "    </tr>\n",
       "  </tbody>\n",
       "</table>\n",
       "</div>"
      ],
      "text/plain": [
       "                    Name                                             Lyrics\n",
       "0       people_get_ready  people ready theres train comin dont need bagg...\n",
       "1     blowin_in_the_wind  roads man walk man seas white dove sail sleeps...\n",
       "2               in_bloom  sell kids food weather changes moods spring re...\n",
       "3            purple_rain  meant cause sorrow meant cause pain wanted tim...\n",
       "4  bitter_sweet_symphony  cause bittersweet symphony life try make ends ..."
      ]
     },
     "execution_count": 57,
     "metadata": {},
     "output_type": "execute_result"
    }
   ],
   "source": [
    "import string\n",
    "shortlist = []\n",
    "for i in range(len(df)):\n",
    "    df[\"Lyrics\"][i] = df[\"Lyrics\"][i].translate(str.maketrans('','','(1)'))\n",
    "    df[\"Lyrics\"][i] = df[\"Lyrics\"][i].translate(str.maketrans('','','(2)'))\n",
    "    df[\"Lyrics\"][i] = df[\"Lyrics\"][i].translate(str.maketrans('', '', string.punctuation))\n",
    "    shortlist = getShortWords(shortlist,df[\"Lyrics\"][i])\n",
    "print(shortlist)\n",
    "\n",
    "for i in range(len(df)):\n",
    "    df[\"Lyrics\"][i] = removeWords(df[\"Lyrics\"][i],stopwords)\n",
    "    df[\"Lyrics\"][i] = \" \".join(df[\"Lyrics\"][i])\n",
    "    df[\"Lyrics\"][i] = removeWords(df[\"Lyrics\"][i],shortlist)\n",
    "    df[\"Lyrics\"][i] = \" \".join(df[\"Lyrics\"][i])\n",
    "df.head()"
   ]
  },
  {
   "cell_type": "markdown",
   "metadata": {},
   "source": [
    "Now it's your turn. Look up the `TfidVectorizer` in sklearn, and work out how to use it on the Lyrics column. Store the counts of each song in a new dataframe called counts. The output below shows the counts of the 5 most common words. The columns are the 80 songs.  "
   ]
  },
  {
   "cell_type": "code",
   "execution_count": 58,
   "metadata": {},
   "outputs": [],
   "source": []
  },
  {
   "cell_type": "code",
   "execution_count": 59,
   "metadata": {},
   "outputs": [
    {
     "data": {
      "text/html": [
       "<div>\n",
       "<style scoped>\n",
       "    .dataframe tbody tr th:only-of-type {\n",
       "        vertical-align: middle;\n",
       "    }\n",
       "\n",
       "    .dataframe tbody tr th {\n",
       "        vertical-align: top;\n",
       "    }\n",
       "\n",
       "    .dataframe thead th {\n",
       "        text-align: right;\n",
       "    }\n",
       "</style>\n",
       "<table border=\"1\" class=\"dataframe\">\n",
       "  <thead>\n",
       "    <tr style=\"text-align: right;\">\n",
       "      <th></th>\n",
       "      <th>0</th>\n",
       "      <th>1</th>\n",
       "      <th>2</th>\n",
       "      <th>3</th>\n",
       "      <th>4</th>\n",
       "      <th>5</th>\n",
       "      <th>6</th>\n",
       "      <th>7</th>\n",
       "      <th>8</th>\n",
       "      <th>9</th>\n",
       "      <th>...</th>\n",
       "      <th>70</th>\n",
       "      <th>71</th>\n",
       "      <th>72</th>\n",
       "      <th>73</th>\n",
       "      <th>74</th>\n",
       "      <th>75</th>\n",
       "      <th>76</th>\n",
       "      <th>77</th>\n",
       "      <th>78</th>\n",
       "      <th>79</th>\n",
       "    </tr>\n",
       "  </thead>\n",
       "  <tbody>\n",
       "    <tr>\n",
       "      <th>need</th>\n",
       "      <td>0.326337</td>\n",
       "      <td>0.0</td>\n",
       "      <td>0.0</td>\n",
       "      <td>0.0</td>\n",
       "      <td>0.023773</td>\n",
       "      <td>0.0</td>\n",
       "      <td>0.0</td>\n",
       "      <td>0.0</td>\n",
       "      <td>0.0</td>\n",
       "      <td>0.0</td>\n",
       "      <td>...</td>\n",
       "      <td>0.0</td>\n",
       "      <td>0.047717</td>\n",
       "      <td>0.0</td>\n",
       "      <td>0.0</td>\n",
       "      <td>0.0</td>\n",
       "      <td>0.0</td>\n",
       "      <td>0.0</td>\n",
       "      <td>0.0</td>\n",
       "      <td>0.000000</td>\n",
       "      <td>0.0</td>\n",
       "    </tr>\n",
       "    <tr>\n",
       "      <th>board</th>\n",
       "      <td>0.299505</td>\n",
       "      <td>0.0</td>\n",
       "      <td>0.0</td>\n",
       "      <td>0.0</td>\n",
       "      <td>0.000000</td>\n",
       "      <td>0.0</td>\n",
       "      <td>0.0</td>\n",
       "      <td>0.0</td>\n",
       "      <td>0.0</td>\n",
       "      <td>0.0</td>\n",
       "      <td>...</td>\n",
       "      <td>0.0</td>\n",
       "      <td>0.000000</td>\n",
       "      <td>0.0</td>\n",
       "      <td>0.0</td>\n",
       "      <td>0.0</td>\n",
       "      <td>0.0</td>\n",
       "      <td>0.0</td>\n",
       "      <td>0.0</td>\n",
       "      <td>0.000000</td>\n",
       "      <td>0.0</td>\n",
       "    </tr>\n",
       "    <tr>\n",
       "      <th>train</th>\n",
       "      <td>0.273674</td>\n",
       "      <td>0.0</td>\n",
       "      <td>0.0</td>\n",
       "      <td>0.0</td>\n",
       "      <td>0.000000</td>\n",
       "      <td>0.0</td>\n",
       "      <td>0.0</td>\n",
       "      <td>0.0</td>\n",
       "      <td>0.0</td>\n",
       "      <td>0.0</td>\n",
       "      <td>...</td>\n",
       "      <td>0.0</td>\n",
       "      <td>0.000000</td>\n",
       "      <td>0.0</td>\n",
       "      <td>0.0</td>\n",
       "      <td>0.0</td>\n",
       "      <td>0.0</td>\n",
       "      <td>0.0</td>\n",
       "      <td>0.0</td>\n",
       "      <td>0.000000</td>\n",
       "      <td>0.0</td>\n",
       "    </tr>\n",
       "    <tr>\n",
       "      <th>faith</th>\n",
       "      <td>0.255347</td>\n",
       "      <td>0.0</td>\n",
       "      <td>0.0</td>\n",
       "      <td>0.0</td>\n",
       "      <td>0.000000</td>\n",
       "      <td>0.0</td>\n",
       "      <td>0.0</td>\n",
       "      <td>0.0</td>\n",
       "      <td>0.0</td>\n",
       "      <td>0.0</td>\n",
       "      <td>...</td>\n",
       "      <td>0.0</td>\n",
       "      <td>0.000000</td>\n",
       "      <td>0.0</td>\n",
       "      <td>0.0</td>\n",
       "      <td>0.0</td>\n",
       "      <td>0.0</td>\n",
       "      <td>0.0</td>\n",
       "      <td>0.0</td>\n",
       "      <td>0.000000</td>\n",
       "      <td>0.0</td>\n",
       "    </tr>\n",
       "    <tr>\n",
       "      <th>ready</th>\n",
       "      <td>0.241131</td>\n",
       "      <td>0.0</td>\n",
       "      <td>0.0</td>\n",
       "      <td>0.0</td>\n",
       "      <td>0.000000</td>\n",
       "      <td>0.0</td>\n",
       "      <td>0.0</td>\n",
       "      <td>0.0</td>\n",
       "      <td>0.0</td>\n",
       "      <td>0.0</td>\n",
       "      <td>...</td>\n",
       "      <td>0.0</td>\n",
       "      <td>0.000000</td>\n",
       "      <td>0.0</td>\n",
       "      <td>0.0</td>\n",
       "      <td>0.0</td>\n",
       "      <td>0.0</td>\n",
       "      <td>0.0</td>\n",
       "      <td>0.0</td>\n",
       "      <td>0.049384</td>\n",
       "      <td>0.0</td>\n",
       "    </tr>\n",
       "  </tbody>\n",
       "</table>\n",
       "<p>5 rows × 80 columns</p>\n",
       "</div>"
      ],
      "text/plain": [
       "             0    1    2    3         4    5    6    7    8    9   ...   70  \\\n",
       "need   0.326337  0.0  0.0  0.0  0.023773  0.0  0.0  0.0  0.0  0.0  ...  0.0   \n",
       "board  0.299505  0.0  0.0  0.0  0.000000  0.0  0.0  0.0  0.0  0.0  ...  0.0   \n",
       "train  0.273674  0.0  0.0  0.0  0.000000  0.0  0.0  0.0  0.0  0.0  ...  0.0   \n",
       "faith  0.255347  0.0  0.0  0.0  0.000000  0.0  0.0  0.0  0.0  0.0  ...  0.0   \n",
       "ready  0.241131  0.0  0.0  0.0  0.000000  0.0  0.0  0.0  0.0  0.0  ...  0.0   \n",
       "\n",
       "             71   72   73   74   75   76   77        78   79  \n",
       "need   0.047717  0.0  0.0  0.0  0.0  0.0  0.0  0.000000  0.0  \n",
       "board  0.000000  0.0  0.0  0.0  0.0  0.0  0.0  0.000000  0.0  \n",
       "train  0.000000  0.0  0.0  0.0  0.0  0.0  0.0  0.000000  0.0  \n",
       "faith  0.000000  0.0  0.0  0.0  0.0  0.0  0.0  0.000000  0.0  \n",
       "ready  0.000000  0.0  0.0  0.0  0.0  0.0  0.0  0.049384  0.0  \n",
       "\n",
       "[5 rows x 80 columns]"
      ]
     },
     "execution_count": 59,
     "metadata": {},
     "output_type": "execute_result"
    }
   ],
   "source": [
    "counts.T.nlargest(5, 0)"
   ]
  },
  {
   "cell_type": "markdown",
   "metadata": {},
   "source": [
    "Now import the `KMeans` algorithm from `sklearn.cluster` and work out how to use that. You will need to pick a number of clusters. There are a lot of other initialisation things too, but you can choose arbitrarily for now, and read up about the options later."
   ]
  },
  {
   "cell_type": "code",
   "execution_count": 60,
   "metadata": {},
   "outputs": [
    {
     "data": {
      "text/plain": [
       "KMeans(algorithm='full', n_clusters=4, random_state=1)"
      ]
     },
     "execution_count": 60,
     "metadata": {},
     "output_type": "execute_result"
    }
   ],
   "source": []
  },
  {
   "cell_type": "markdown",
   "metadata": {},
   "source": [
    "The next function finds the most common words in each cluster. We can then plot the bar chart of these by making the predictions, picking the number of words to use, and then calling that function, and then drawing a bar chart of the resulting dataframe."
   ]
  },
  {
   "cell_type": "code",
   "execution_count": 64,
   "metadata": {},
   "outputs": [],
   "source": [
    "def get_top_features_cluster(counts, predictions, nfeatures):\n",
    "    labels = np.unique(prediction)\n",
    "    df1 = []\n",
    "    for label in labels:\n",
    "        inds = np.where(prediction==label) \n",
    "        means = np.mean(counts[inds], axis = 0) \n",
    "        sorted_means = np.argsort(means)[::-1][:nfeatures] \n",
    "        features = vectorizer.get_feature_names()\n",
    "        best_features = [(features[i], means[i]) for i in sorted_means]\n",
    "        newdf = pd.DataFrame(best_features, columns = ['features', 'score'])\n",
    "        df1.append(newdf)\n",
    "    return df1"
   ]
  },
  {
   "cell_type": "code",
   "execution_count": 65,
   "metadata": {},
   "outputs": [
    {
     "data": {
      "image/png": "[encoded data removed]",
      "text/plain": [
       "<Figure size 432x288 with 1 Axes>"
      ]
     },
     "metadata": {
      "needs_background": "light"
     },
     "output_type": "display_data"
    },
    {
     "data": {
      "image/png": "[encoded data removed]",
      "text/plain": [
       "<Figure size 432x288 with 1 Axes>"
      ]
     },
     "metadata": {
      "needs_background": "light"
     },
     "output_type": "display_data"
    },
    {
     "data": {
      "image/png": "[encoded data removed]",
      "text/plain": [
       "<Figure size 432x288 with 1 Axes>"
      ]
     },
     "metadata": {
      "needs_background": "light"
     },
     "output_type": "display_data"
    },
    {
     "data": {
      "image/png": "[encoded data removed]",
      "text/plain": [
       "<Figure size 432x288 with 1 Axes>"
      ]
     },
     "metadata": {
      "needs_background": "light"
     },
     "output_type": "display_data"
    }
   ],
   "source": []
  },
  {
   "cell_type": "markdown",
   "metadata": {},
   "source": [
    "Work out which songs are in which cluster and see if you agree."
   ]
  },
  {
   "cell_type": "code",
   "execution_count": null,
   "metadata": {},
   "outputs": [],
   "source": []
  }
 ],
 "metadata": {
  "kernelspec": {
   "display_name": "Python 3",
   "language": "python",
   "name": "python3"
  },
  "language_info": {
   "codemirror_mode": {
    "name": "ipython",
    "version": 3
   },
   "file_extension": ".py",
   "mimetype": "text/x-python",
   "name": "python",
   "nbconvert_exporter": "python",
   "pygments_lexer": "ipython3",
   "version": "3.8.8"
  }
 },
 "nbformat": 4,
 "nbformat_minor": 2
}
