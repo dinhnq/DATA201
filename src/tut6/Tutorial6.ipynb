{
 "cells": [
  {
   "cell_type": "markdown",
   "metadata": {},
   "source": [
    "In the last lecture we saw the $k$-means algorithm. In this tutorial you are going to use it to cluster songs based on the words inside them. We will need to do some work to get them in a state where we can use them, but the actual use of the $k$-means algorithm is then very simple."
   ]
  },
  {
   "cell_type": "code",
   "execution_count": 20,
   "metadata": {},
   "outputs": [],
   "source": [
    "import numpy as np\n",
    "import pandas as pd\n",
    "import matplotlib.pyplot as pl\n",
    "%matplotlib inline"
   ]
  },
  {
   "cell_type": "markdown",
   "metadata": {},
   "source": [
    "There is a zip file containing the lyrics of 80 amazing songs (according to Rolling Stone magazine) called `rs_lyrics.zip`. Download it and unzip it. It will make a folder called `rs_lyrics` with the songs inside. The following code will then read then in, and store the songtitle and lyrics in a dataframe."
   ]
  },
  {
   "cell_type": "code",
   "execution_count": 21,
   "metadata": {},
   "outputs": [
    {
     "data": {
      "text/html": [
       "<div>\n",
       "<style scoped>\n",
       "    .dataframe tbody tr th:only-of-type {\n",
       "        vertical-align: middle;\n",
       "    }\n",
       "\n",
       "    .dataframe tbody tr th {\n",
       "        vertical-align: top;\n",
       "    }\n",
       "\n",
       "    .dataframe thead th {\n",
       "        text-align: right;\n",
       "    }\n",
       "</style>\n",
       "<table border=\"1\" class=\"dataframe\">\n",
       "  <thead>\n",
       "    <tr style=\"text-align: right;\">\n",
       "      <th></th>\n",
       "      <th>Name</th>\n",
       "      <th>Lyrics</th>\n",
       "    </tr>\n",
       "  </thead>\n",
       "  <tbody>\n",
       "    <tr>\n",
       "      <th>0</th>\n",
       "      <td>yesterday</td>\n",
       "      <td>Yesterday, all my troubles seemed so far away ...</td>\n",
       "    </tr>\n",
       "    <tr>\n",
       "      <th>1</th>\n",
       "      <td>good_golly_miss_molly</td>\n",
       "      <td>Good golly, Miss Molly, sure like to ball. Ooh...</td>\n",
       "    </tr>\n",
       "    <tr>\n",
       "      <th>2</th>\n",
       "      <td>sympathy_for_the_devil</td>\n",
       "      <td>Please allow me to introduce myself I'm a man ...</td>\n",
       "    </tr>\n",
       "    <tr>\n",
       "      <th>3</th>\n",
       "      <td>summertime_blues</td>\n",
       "      <td>Uh I'm a gonna raise a fuss I'm a gonna raise ...</td>\n",
       "    </tr>\n",
       "    <tr>\n",
       "      <th>4</th>\n",
       "      <td>tangled_up_in_blue</td>\n",
       "      <td>Early one mornin' the sun was shinin' I was la...</td>\n",
       "    </tr>\n",
       "  </tbody>\n",
       "</table>\n",
       "</div>"
      ],
      "text/plain": [
       "                     Name                                             Lyrics\n",
       "0               yesterday  Yesterday, all my troubles seemed so far away ...\n",
       "1   good_golly_miss_molly  Good golly, Miss Molly, sure like to ball. Ooh...\n",
       "2  sympathy_for_the_devil  Please allow me to introduce myself I'm a man ...\n",
       "3        summertime_blues  Uh I'm a gonna raise a fuss I'm a gonna raise ...\n",
       "4      tangled_up_in_blue  Early one mornin' the sun was shinin' I was la..."
      ]
     },
     "execution_count": 21,
     "metadata": {},
     "output_type": "execute_result"
    }
   ],
   "source": [
    "import os\n",
    "\n",
    "cols_name = ['Name', 'Lyrics']\n",
    "df = pd.DataFrame(columns = cols_name)\n",
    "\n",
    "path = '../../res/rs_lyrics/'\n",
    "filenames = os.listdir(path)\n",
    "i=0\n",
    "\n",
    "for filename in filenames:\n",
    "    path_file = os.path.join(path, filename)\n",
    "    mode_read = 'r'\n",
    "    with open(path_file, mode_read) as file:\n",
    "        lines = file.read().splitlines()\n",
    "        fname_notype = filename[:-4]\n",
    "\n",
    "        df.loc[i] = [fname_notype, lines]\n",
    "        df['Lyrics'][i] = ' '.join(df['Lyrics'][i])\n",
    "        i += 1\n",
    "        \n",
    "df.head()"
   ]
  },
  {
   "cell_type": "markdown",
   "metadata": {},
   "source": [
    "We have to do a lot of work before we can cluster word data. Ultimately we need to turn the lyrics into some kind of numerical input vector that we can feed into the algorithm. There are a couple of options for this, but we are going to use one called a Bag of Words. Essentially, it counts how often each word gets used in each song, and then the counts form the input vector. These counts are often normalised by the number of words in the song, since otherwise long songs get higher scores than short ones. \n",
    "\n",
    "Scikit-learn can make the Bag of Words for us. However, before we do that, there are a few things that we have to do:\n",
    "- remove punctuation\n",
    "- make everything lower case\n",
    "- remove stop words. These are the common words that don't really help much (and, the, etc.) We should remove them, or they will dominate the counts.\n",
    "- remove short words\n",
    "- for text files have quite a few '(1)' in them to mark things that we don't care about, so we should remove those.\n",
    "\n",
    "In fact, scikit-learn will do most of these things for us too, but I thought it might be useful to see some Python code for doing them. \n",
    "\n",
    "I've downloaded a list of stopwords from the web, so let's start by reading those:"
   ]
  },
  {
   "cell_type": "code",
   "execution_count": 22,
   "metadata": {},
   "outputs": [],
   "source": [
    "path = '../../res/stopwords.txt'\n",
    "access_read = 'r'\n",
    "with open(path, access_read) as file:\n",
    "    stopwords = file.read().splitlines()"
   ]
  },
  {
   "cell_type": "markdown",
   "metadata": {},
   "source": [
    "The following two short functions will remove words form a list, and find all the short (2 letters or less) and long (more than 20 letters) words so that we can remove those as well as the stopwords."
   ]
  },
  {
   "cell_type": "code",
   "execution_count": 25,
   "metadata": {},
   "outputs": [],
   "source": [
    "def removeWords(text, removeList):\n",
    "    lower_cases = text.lower()\n",
    "    words = lower_cases.strip().split()\n",
    "    \n",
    "    return [word for word in words if word not in removeList]\n",
    "\n",
    "def getShortWords(shortlist, text):\n",
    "    lower_cases = text.lower()\n",
    "    words = lower_cases.strip().split()\n",
    "    \n",
    "    for word in words:\n",
    "        word_size = len(word)\n",
    "        if word_size <= 2 or word_size > 20:\n",
    "            if word not in shortList:\n",
    "                shortList.append(word)\n",
    "    return shortList"
   ]
  },
  {
   "cell_type": "code",
   "execution_count": 26,
   "metadata": {},
   "outputs": [
    {
     "name": "stdout",
     "output_type": "stream",
     "text": [
      "['my', 'so', 'it', 'as', 'to', 'oh', 'i', 'in', 'im', 'be', 'a', 'me', 'go', 'an', 'at', 'of', 'if', 'pa', 'is', 'ah', 'uh', 'or', 'aw', 'no', 'do', 'he', 'id', 'on', 'up', 'we', 'ax', 'by', 'ow', 'un', 'am', 'us', 'ya', 'di', 'de', 'ba', 'da', 'ma', 'yo', 'd', 'b', 'ol', 'u', 'k', 'm', 'p', 'l', 'r', 'ho', 'v', 'em', 'tv', 'ha', 'ay', 'bo', 'ee', 'j', 'eh', 'na', 'n', 'o', 'e', 's', 'c', 't']\n"
     ]
    },
    {
     "data": {
      "text/html": [
       "<div>\n",
       "<style scoped>\n",
       "    .dataframe tbody tr th:only-of-type {\n",
       "        vertical-align: middle;\n",
       "    }\n",
       "\n",
       "    .dataframe tbody tr th {\n",
       "        vertical-align: top;\n",
       "    }\n",
       "\n",
       "    .dataframe thead th {\n",
       "        text-align: right;\n",
       "    }\n",
       "</style>\n",
       "<table border=\"1\" class=\"dataframe\">\n",
       "  <thead>\n",
       "    <tr style=\"text-align: right;\">\n",
       "      <th></th>\n",
       "      <th>Name</th>\n",
       "      <th>Lyrics</th>\n",
       "    </tr>\n",
       "  </thead>\n",
       "  <tbody>\n",
       "    <tr>\n",
       "      <th>0</th>\n",
       "      <td>yesterday</td>\n",
       "      <td>yesterday troubles far away looks theyre stay ...</td>\n",
       "    </tr>\n",
       "    <tr>\n",
       "      <th>1</th>\n",
       "      <td>good_golly_miss_molly</td>\n",
       "      <td>good golly miss molly sure like ball ooh good ...</td>\n",
       "    </tr>\n",
       "    <tr>\n",
       "      <th>2</th>\n",
       "      <td>sympathy_for_the_devil</td>\n",
       "      <td>allow introduce myself man wealth taste ive lo...</td>\n",
       "    </tr>\n",
       "    <tr>\n",
       "      <th>3</th>\n",
       "      <td>summertime_blues</td>\n",
       "      <td>gonna raise fuss gonna raise holler workin sum...</td>\n",
       "    </tr>\n",
       "    <tr>\n",
       "      <th>4</th>\n",
       "      <td>tangled_up_in_blue</td>\n",
       "      <td>early mornin sun shinin layin bed wondrin shed...</td>\n",
       "    </tr>\n",
       "  </tbody>\n",
       "</table>\n",
       "</div>"
      ],
      "text/plain": [
       "                     Name                                             Lyrics\n",
       "0               yesterday  yesterday troubles far away looks theyre stay ...\n",
       "1   good_golly_miss_molly  good golly miss molly sure like ball ooh good ...\n",
       "2  sympathy_for_the_devil  allow introduce myself man wealth taste ive lo...\n",
       "3        summertime_blues  gonna raise fuss gonna raise holler workin sum...\n",
       "4      tangled_up_in_blue  early mornin sun shinin layin bed wondrin shed..."
      ]
     },
     "execution_count": 26,
     "metadata": {},
     "output_type": "execute_result"
    }
   ],
   "source": [
    "import string\n",
    "shortList = []\n",
    "df_len = len(df)\n",
    "for i in range(df_len):\n",
    "    df[\"Lyrics\"][i] = df[\"Lyrics\"][i].translate(str.maketrans('','','(1)'))\n",
    "    df[\"Lyrics\"][i] = df[\"Lyrics\"][i].translate(str.maketrans('','','(2)'))\n",
    "    df[\"Lyrics\"][i] = df[\"Lyrics\"][i].translate(str.maketrans('', '', string.punctuation))\n",
    "    shortlist = getShortWords(shortlist,df[\"Lyrics\"][i])\n",
    "print(shortlist)\n",
    "\n",
    "for i in range(df_len):\n",
    "    df[\"Lyrics\"][i] = removeWords(df[\"Lyrics\"][i],stopwords)\n",
    "    df[\"Lyrics\"][i] = \" \".join(df[\"Lyrics\"][i])\n",
    "    df[\"Lyrics\"][i] = removeWords(df[\"Lyrics\"][i],shortlist)\n",
    "    df[\"Lyrics\"][i] = \" \".join(df[\"Lyrics\"][i])\n",
    "df.head()"
   ]
  },
  {
   "cell_type": "markdown",
   "metadata": {},
   "source": [
    "Now it's your turn. Look up the `TfidVectorizer` in sklearn, and work out how to use it on the Lyrics column. Store the counts of each song in a new dataframe called counts. The output below shows the counts of the 5 most common words. The columns are the 80 songs.  "
   ]
  },
  {
   "cell_type": "code",
   "execution_count": 31,
   "metadata": {},
   "outputs": [],
   "source": [
    "# convert a collection of raw documents to a matrix of TF-IDF features.\n",
    "from sklearn.feature_extraction.text import TfidfVectorizer\n",
    "vectorizer = TfidfVectorizer()\n",
    "\n",
    "x_col = df['Lyrics']\n",
    "X = vectorizer.fit_transform(x_col)\n",
    "X_arr = X.toarray()\n",
    "feature_names = vectorizer.get_feature_names()\n",
    "counts = pd.DataFrame(data=X_arr, columns=feature_names)"
   ]
  },
  {
   "cell_type": "code",
   "execution_count": 32,
   "metadata": {},
   "outputs": [
    {
     "data": {
      "text/html": [
       "<div>\n",
       "<style scoped>\n",
       "    .dataframe tbody tr th:only-of-type {\n",
       "        vertical-align: middle;\n",
       "    }\n",
       "\n",
       "    .dataframe tbody tr th {\n",
       "        vertical-align: top;\n",
       "    }\n",
       "\n",
       "    .dataframe thead th {\n",
       "        text-align: right;\n",
       "    }\n",
       "</style>\n",
       "<table border=\"1\" class=\"dataframe\">\n",
       "  <thead>\n",
       "    <tr style=\"text-align: right;\">\n",
       "      <th></th>\n",
       "      <th>0</th>\n",
       "      <th>1</th>\n",
       "      <th>2</th>\n",
       "      <th>3</th>\n",
       "      <th>4</th>\n",
       "      <th>5</th>\n",
       "      <th>6</th>\n",
       "      <th>7</th>\n",
       "      <th>8</th>\n",
       "      <th>9</th>\n",
       "      <th>...</th>\n",
       "      <th>70</th>\n",
       "      <th>71</th>\n",
       "      <th>72</th>\n",
       "      <th>73</th>\n",
       "      <th>74</th>\n",
       "      <th>75</th>\n",
       "      <th>76</th>\n",
       "      <th>77</th>\n",
       "      <th>78</th>\n",
       "      <th>79</th>\n",
       "    </tr>\n",
       "  </thead>\n",
       "  <tbody>\n",
       "    <tr>\n",
       "      <th>yesterday</th>\n",
       "      <td>0.698402</td>\n",
       "      <td>0.0</td>\n",
       "      <td>0.00000</td>\n",
       "      <td>0.0</td>\n",
       "      <td>0.0</td>\n",
       "      <td>0.000000</td>\n",
       "      <td>0.0</td>\n",
       "      <td>0.0</td>\n",
       "      <td>0.0</td>\n",
       "      <td>0.0</td>\n",
       "      <td>...</td>\n",
       "      <td>0.000000</td>\n",
       "      <td>0.0</td>\n",
       "      <td>0.0</td>\n",
       "      <td>0.0</td>\n",
       "      <td>0.0</td>\n",
       "      <td>0.0</td>\n",
       "      <td>0.0</td>\n",
       "      <td>0.000000</td>\n",
       "      <td>0.0</td>\n",
       "      <td>0.0</td>\n",
       "    </tr>\n",
       "    <tr>\n",
       "      <th>mmm</th>\n",
       "      <td>0.455555</td>\n",
       "      <td>0.0</td>\n",
       "      <td>0.10075</td>\n",
       "      <td>0.0</td>\n",
       "      <td>0.0</td>\n",
       "      <td>0.000000</td>\n",
       "      <td>0.0</td>\n",
       "      <td>0.0</td>\n",
       "      <td>0.0</td>\n",
       "      <td>0.0</td>\n",
       "      <td>...</td>\n",
       "      <td>0.000000</td>\n",
       "      <td>0.0</td>\n",
       "      <td>0.0</td>\n",
       "      <td>0.0</td>\n",
       "      <td>0.0</td>\n",
       "      <td>0.0</td>\n",
       "      <td>0.0</td>\n",
       "      <td>0.040674</td>\n",
       "      <td>0.0</td>\n",
       "      <td>0.0</td>\n",
       "    </tr>\n",
       "    <tr>\n",
       "      <th>believe</th>\n",
       "      <td>0.186884</td>\n",
       "      <td>0.0</td>\n",
       "      <td>0.00000</td>\n",
       "      <td>0.0</td>\n",
       "      <td>0.0</td>\n",
       "      <td>0.073232</td>\n",
       "      <td>0.0</td>\n",
       "      <td>0.0</td>\n",
       "      <td>0.0</td>\n",
       "      <td>0.0</td>\n",
       "      <td>...</td>\n",
       "      <td>0.636114</td>\n",
       "      <td>0.0</td>\n",
       "      <td>0.0</td>\n",
       "      <td>0.0</td>\n",
       "      <td>0.0</td>\n",
       "      <td>0.0</td>\n",
       "      <td>0.0</td>\n",
       "      <td>0.000000</td>\n",
       "      <td>0.0</td>\n",
       "      <td>0.0</td>\n",
       "    </tr>\n",
       "    <tr>\n",
       "      <th>suddenly</th>\n",
       "      <td>0.169849</td>\n",
       "      <td>0.0</td>\n",
       "      <td>0.00000</td>\n",
       "      <td>0.0</td>\n",
       "      <td>0.0</td>\n",
       "      <td>0.000000</td>\n",
       "      <td>0.0</td>\n",
       "      <td>0.0</td>\n",
       "      <td>0.0</td>\n",
       "      <td>0.0</td>\n",
       "      <td>...</td>\n",
       "      <td>0.000000</td>\n",
       "      <td>0.0</td>\n",
       "      <td>0.0</td>\n",
       "      <td>0.0</td>\n",
       "      <td>0.0</td>\n",
       "      <td>0.0</td>\n",
       "      <td>0.0</td>\n",
       "      <td>0.000000</td>\n",
       "      <td>0.0</td>\n",
       "      <td>0.0</td>\n",
       "    </tr>\n",
       "    <tr>\n",
       "      <th>easy</th>\n",
       "      <td>0.144807</td>\n",
       "      <td>0.0</td>\n",
       "      <td>0.00000</td>\n",
       "      <td>0.0</td>\n",
       "      <td>0.0</td>\n",
       "      <td>0.000000</td>\n",
       "      <td>0.0</td>\n",
       "      <td>0.0</td>\n",
       "      <td>0.0</td>\n",
       "      <td>0.0</td>\n",
       "      <td>...</td>\n",
       "      <td>0.000000</td>\n",
       "      <td>0.0</td>\n",
       "      <td>0.0</td>\n",
       "      <td>0.0</td>\n",
       "      <td>0.0</td>\n",
       "      <td>0.0</td>\n",
       "      <td>0.0</td>\n",
       "      <td>0.000000</td>\n",
       "      <td>0.0</td>\n",
       "      <td>0.0</td>\n",
       "    </tr>\n",
       "  </tbody>\n",
       "</table>\n",
       "<p>5 rows × 80 columns</p>\n",
       "</div>"
      ],
      "text/plain": [
       "                 0    1        2    3    4         5    6    7    8    9   \\\n",
       "yesterday  0.698402  0.0  0.00000  0.0  0.0  0.000000  0.0  0.0  0.0  0.0   \n",
       "mmm        0.455555  0.0  0.10075  0.0  0.0  0.000000  0.0  0.0  0.0  0.0   \n",
       "believe    0.186884  0.0  0.00000  0.0  0.0  0.073232  0.0  0.0  0.0  0.0   \n",
       "suddenly   0.169849  0.0  0.00000  0.0  0.0  0.000000  0.0  0.0  0.0  0.0   \n",
       "easy       0.144807  0.0  0.00000  0.0  0.0  0.000000  0.0  0.0  0.0  0.0   \n",
       "\n",
       "           ...        70   71   72   73   74   75   76        77   78   79  \n",
       "yesterday  ...  0.000000  0.0  0.0  0.0  0.0  0.0  0.0  0.000000  0.0  0.0  \n",
       "mmm        ...  0.000000  0.0  0.0  0.0  0.0  0.0  0.0  0.040674  0.0  0.0  \n",
       "believe    ...  0.636114  0.0  0.0  0.0  0.0  0.0  0.0  0.000000  0.0  0.0  \n",
       "suddenly   ...  0.000000  0.0  0.0  0.0  0.0  0.0  0.0  0.000000  0.0  0.0  \n",
       "easy       ...  0.000000  0.0  0.0  0.0  0.0  0.0  0.0  0.000000  0.0  0.0  \n",
       "\n",
       "[5 rows x 80 columns]"
      ]
     },
     "execution_count": 32,
     "metadata": {},
     "output_type": "execute_result"
    }
   ],
   "source": [
    "# counts of the 5 most common words\n",
    "transpose = counts.T\n",
    "common_words_count = transpose.nlargest(5, 0)\n",
    "common_words_count"
   ]
  },
  {
   "cell_type": "markdown",
   "metadata": {},
   "source": [
    "Now import the `KMeans` algorithm from `sklearn.cluster` and work out how to use that. You will need to pick a number of clusters. There are a lot of other initialisation things too, but you can choose arbitrarily for now, and read up about the options later."
   ]
  },
  {
   "cell_type": "code",
   "execution_count": 37,
   "metadata": {},
   "outputs": [
    {
     "data": {
      "text/plain": [
       "KMeans(algorithm='full', n_clusters=4, random_state=1)"
      ]
     },
     "execution_count": 37,
     "metadata": {},
     "output_type": "execute_result"
    }
   ],
   "source": [
    "from sklearn.cluster import KMeans\n",
    "# The number of clusters to form as well as the number of centroids to generate\n",
    "k = 4\n",
    "\n",
    "# k-means++: choose initial cluster centers to speed up convergence (hoi tu)\n",
    "# random: choose n_clusters observations (rows) at random\n",
    "init = 'k-means++'\n",
    "\n",
    "# number of time the k-means algorithm will be run with different centroid seeds\n",
    "# the finial results will be the best output\n",
    "n_init = 10\n",
    "\n",
    "# relative tolerance with regards to Frobenius norm of the difference \n",
    "# in the cluster centers of 2 consecutive iterations to declare convergence\n",
    "tolerance = 0.0001\n",
    "\n",
    "# full: classical EM-style algorithm\n",
    "# elkan: Elkan variation is more efficient on data with well-defined clusters, by using the trianble inequality\n",
    "# Elkan: more memory intensive due to the allocatoin of an extra array of shape (n_samples, n_clusters)\n",
    "algorithm='full'\n",
    "k_means = KMeans(n_clusters=k, init=init, n_init=n_init, tol=tolerance, random_state=1, algorithm=algorithm)\n",
    "k_means.fit(counts)"
   ]
  },
  {
   "cell_type": "markdown",
   "metadata": {},
   "source": [
    "The next function finds the most common words in each cluster. We can then plot the bar chart of these by making the predictions, picking the number of words to use, and then calling that function, and then drawing a bar chart of the resulting dataframe."
   ]
  },
  {
   "cell_type": "code",
   "execution_count": 43,
   "metadata": {},
   "outputs": [],
   "source": [
    "def get_top_features_cluster(counts, predictions, nfeatures):\n",
    "    labels = np.unique(predictions)\n",
    "    df_1 = []\n",
    "    for label in labels:\n",
    "        indices = np.where(predictions==label)\n",
    "        count = counts[indices]\n",
    "        \n",
    "        means = np.mean(count, axis=0)\n",
    "        \n",
    "        # Returns the indices that would sort an array.\n",
    "        means_sorted = np.argsort(means)[::-1][:nfeatures]\n",
    "        \n",
    "        features = vectorizer.get_feature_names()\n",
    "        best_features = [(features[i], means[i]) for i in means_sorted]\n",
    "        \n",
    "        data_frame_new = pd.DataFrame(best_features, columns=['features','score'])\n",
    "        df_1.append(data_frame_new)\n",
    "    return df_1"
   ]
  },
  {
   "cell_type": "code",
   "execution_count": 44,
   "metadata": {},
   "outputs": [
    {
     "data": {
      "image/png": "[encoded data removed]",
      "text/plain": [
       "<Figure size 432x288 with 1 Axes>"
      ]
     },
     "metadata": {
      "needs_background": "light"
     },
     "output_type": "display_data"
    },
    {
     "data": {
      "image/png": "[encoded data removed]",
      "text/plain": [
       "<Figure size 432x288 with 1 Axes>"
      ]
     },
     "metadata": {
      "needs_background": "light"
     },
     "output_type": "display_data"
    },
    {
     "data": {
      "image/png": "[encoded data removed]",
      "text/plain": [
       "<Figure size 432x288 with 1 Axes>"
      ]
     },
     "metadata": {
      "needs_background": "light"
     },
     "output_type": "display_data"
    },
    {
     "data": {
      "image/png": "[encoded data removed]",
      "text/plain": [
       "<Figure size 432x288 with 1 Axes>"
      ]
     },
     "metadata": {
      "needs_background": "light"
     },
     "output_type": "display_data"
    }
   ],
   "source": [
    "predictions = k_means.predict(counts)\n",
    "n_features = 20\n",
    "\n",
    "# convert the DataFrame to a NumPy array\n",
    "counts_arr = counts.to_numpy()\n",
    "\n",
    "count_df = get_top_features_cluster(counts_arr, predictions, n_features)\n",
    "count_df_len = len(count_df)\n",
    "\n",
    "for i in range(count_df_len):\n",
    "    count_df[i][:n_features].plot.bar(x='features')"
   ]
  },
  {
   "cell_type": "markdown",
   "metadata": {},
   "source": [
    "Work out which songs are in which cluster and see if you agree."
   ]
  },
  {
   "cell_type": "code",
   "execution_count": null,
   "metadata": {},
   "outputs": [],
   "source": []
  }
 ],
 "metadata": {
  "kernelspec": {
   "display_name": "Python 3",
   "language": "python",
   "name": "python3"
  },
  "language_info": {
   "codemirror_mode": {
    "name": "ipython",
    "version": 3
   },
   "file_extension": ".py",
   "mimetype": "text/x-python",
   "name": "python",
   "nbconvert_exporter": "python",
   "pygments_lexer": "ipython3",
   "version": "3.8.8"
  }
 },
 "nbformat": 4,
 "nbformat_minor": 2
}
