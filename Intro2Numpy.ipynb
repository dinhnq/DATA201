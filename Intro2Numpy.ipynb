{
 "cells": [
  {
   "cell_type": "markdown",
   "metadata": {},
   "source": [
    "This notebook is an introduction to Python and Numpy.\n",
    "Hopefully it will be enough to get you started with manipulating arrays of numbers. "
   ]
  },
  {
   "cell_type": "markdown",
   "metadata": {},
   "source": [
    "The first thing is to tell Python that you are using Numpy. This is called *importing it into the namespace*. It is a good idea to give each module that you import a short name, since you will type them a lot. \n",
    "\n",
    "Python comments start with a #. They are ignored by the interpreter for the language. \n",
    "\n",
    "To follow this notebook along, press ctrl+enter in each of the code blocks (which start with In[ ]). This runs the commands in that notebook cell. The last one in the cell is printed out, the printouts of the others is supressed. To see all of the outputs, just put them in separate cells.\n",
    "\n",
    "When using the notebook, pressing tab when partway through a command will show you the possible completion options."
   ]
  },
  {
   "cell_type": "code",
   "execution_count": 2,
   "metadata": {},
   "outputs": [],
   "source": [
    "# Import numpy and use np as its name\n",
    "import numpy as np"
   ]
  },
  {
   "cell_type": "markdown",
   "metadata": {},
   "source": [
    "You can get help by using a ? before the name of a command, e.g.\n",
    "\n",
    "?np.ones"
   ]
  },
  {
   "cell_type": "code",
   "execution_count": 35,
   "metadata": {},
   "outputs": [],
   "source": [
    "?np.ones"
   ]
  },
  {
   "cell_type": "markdown",
   "metadata": {},
   "source": [
    "Making Arrays\n",
    "=="
   ]
  },
  {
   "cell_type": "markdown",
   "metadata": {},
   "source": [
    "Numpy is based on arrays of numbers.  You specify the size of the matrix when you specify it, by listing the size of each dimension in turn. Note that this is inside another set of brackets inside the function call.\n",
    "\n",
    "So to make a set of matrices that contains a variety of values, and have various numbers of dimensions and sizes, run the following cells. Note that we can make arbitrarily high dimensional matrices, but then keeping track of the indices is hard.\n",
    "\n",
    "The *type* of all the numbers is the same, and by default the entries are floating point numbers, to change it specify what you want using *dtype*."
   ]
  },
  {
   "cell_type": "code",
   "execution_count": 51,
   "metadata": {},
   "outputs": [
    {
     "data": {
      "text/plain": [
       "array([3, 4, 2])"
      ]
     },
     "execution_count": 51,
     "metadata": {},
     "output_type": "execute_result"
    }
   ],
   "source": [
    "# The most basic way to make an array is just to list the entries. \n",
    "# Here is a 1D matrix with 3 elements\n",
    "np.array([3,4,2])"
   ]
  },
  {
   "cell_type": "code",
   "execution_count": 52,
   "metadata": {},
   "outputs": [
    {
     "data": {
      "text/plain": [
       "array([[2, 3],\n",
       "       [1, 2],\n",
       "       [3, 4]])"
      ]
     },
     "execution_count": 52,
     "metadata": {},
     "output_type": "execute_result"
    }
   ],
   "source": [
    "# And here is a 2D matrix, which is a bit more involved to write out\n",
    "np.array([ [2,3], [1,2], [3,4]])"
   ]
  },
  {
   "cell_type": "code",
   "execution_count": 5,
   "metadata": {},
   "outputs": [
    {
     "data": {
      "text/plain": [
       "array([1., 1.])"
      ]
     },
     "execution_count": 5,
     "metadata": {},
     "output_type": "execute_result"
    }
   ],
   "source": [
    "# A 1D array containing the value 1.0 (floating point)\n",
    "np.ones(2)"
   ]
  },
  {
   "cell_type": "code",
   "execution_count": 6,
   "metadata": {},
   "outputs": [
    {
     "data": {
      "text/plain": [
       "array([[1., 1., 1., 1., 1.],\n",
       "       [1., 1., 1., 1., 1.],\n",
       "       [1., 1., 1., 1., 1.]])"
      ]
     },
     "execution_count": 6,
     "metadata": {},
     "output_type": "execute_result"
    }
   ],
   "source": [
    "# A 2D array containing the value 1.0 in 3 rows and 5 columns\n",
    "np.ones((3,5))"
   ]
  },
  {
   "cell_type": "code",
   "execution_count": 13,
   "metadata": {},
   "outputs": [
    {
     "data": {
      "text/plain": [
       "array([[[0, 0, 0, 0],\n",
       "        [0, 0, 0, 0],\n",
       "        [0, 0, 0, 0]],\n",
       "\n",
       "       [[0, 0, 0, 0],\n",
       "        [0, 0, 0, 0],\n",
       "        [0, 0, 0, 0]]])"
      ]
     },
     "execution_count": 13,
     "metadata": {},
     "output_type": "execute_result"
    }
   ],
   "source": [
    "# A 3D array with 2 rows, 3 columns, and 4 in the final dimension\n",
    "# The zeros are integers, not floats\n",
    "np.zeros((2,3,4),dtype='int')"
   ]
  },
  {
   "cell_type": "code",
   "execution_count": 15,
   "metadata": {},
   "outputs": [
    {
     "data": {
      "text/plain": [
       "array([[2., 2., 2.],\n",
       "       [2., 2., 2.]])"
      ]
     },
     "execution_count": 15,
     "metadata": {},
     "output_type": "execute_result"
    }
   ],
   "source": [
    "# Note that adding a single integer (a scalar) adds it to all the elements of the array\n",
    "np.ones((2,3))+1"
   ]
  },
  {
   "cell_type": "code",
   "execution_count": 16,
   "metadata": {},
   "outputs": [
    {
     "data": {
      "text/plain": [
       "array([[2., 2., 2.],\n",
       "       [2., 2., 2.]])"
      ]
     },
     "execution_count": 16,
     "metadata": {},
     "output_type": "execute_result"
    }
   ],
   "source": [
    "# As does multiplying by a scalar \n",
    "2*np.ones((2,3))"
   ]
  },
  {
   "cell_type": "markdown",
   "metadata": {},
   "source": [
    "Some more interesting matrices\n",
    "---"
   ]
  },
  {
   "cell_type": "code",
   "execution_count": 22,
   "metadata": {},
   "outputs": [
    {
     "data": {
      "text/plain": [
       "array([[1., 0., 0., 0.],\n",
       "       [0., 1., 0., 0.],\n",
       "       [0., 0., 1., 0.]])"
      ]
     },
     "execution_count": 22,
     "metadata": {},
     "output_type": "execute_result"
    }
   ],
   "source": [
    "# The identity matrix in 2D, of size 3*4\n",
    "# Note that there is only 1 set of brackets here\n",
    "np.eye(3,4)"
   ]
  },
  {
   "cell_type": "code",
   "execution_count": 23,
   "metadata": {},
   "outputs": [
    {
     "data": {
      "text/plain": [
       "array([0, 1, 2, 3, 4])"
      ]
     },
     "execution_count": 23,
     "metadata": {},
     "output_type": "execute_result"
    }
   ],
   "source": [
    "# Make an array of the integers from 0 to 4 \n",
    "# (Python starts indexing at 0, and finishes when it reaches the number you specify, not after it)\n",
    "np.arange(5)"
   ]
  },
  {
   "cell_type": "code",
   "execution_count": 28,
   "metadata": {},
   "outputs": [
    {
     "data": {
      "text/plain": [
       "array([3, 5, 7])"
      ]
     },
     "execution_count": 28,
     "metadata": {},
     "output_type": "execute_result"
    }
   ],
   "source": [
    "# Make an array of integers starting at 3, finishing at 8, going up in steps of 2\n",
    "np.arange(3,9,2)"
   ]
  },
  {
   "cell_type": "code",
   "execution_count": 30,
   "metadata": {},
   "outputs": [
    {
     "data": {
      "text/plain": [
       "array([7. , 5.5, 4. , 2.5])"
      ]
     },
     "execution_count": 30,
     "metadata": {},
     "output_type": "execute_result"
    }
   ],
   "source": [
    "# And starting at 7, stopping before 2, and going down in steps of 1.5\n",
    "np.arange(7,2,-1.5)"
   ]
  },
  {
   "cell_type": "code",
   "execution_count": 33,
   "metadata": {},
   "outputs": [
    {
     "data": {
      "text/plain": [
       "array([1.        , 1.22222222, 1.44444444, 1.66666667, 1.88888889,\n",
       "       2.11111111, 2.33333333, 2.55555556, 2.77777778, 3.        ])"
      ]
     },
     "execution_count": 33,
     "metadata": {},
     "output_type": "execute_result"
    }
   ],
   "source": [
    "# Make a set of 10 linearly spaced numbers starting at 1 and finishing at 3\n",
    "np.linspace(1,3,10)"
   ]
  },
  {
   "cell_type": "code",
   "execution_count": 39,
   "metadata": {},
   "outputs": [
    {
     "data": {
      "text/plain": [
       "array([[1.37229834, 3.32538849, 2.62763136, 4.81522918],\n",
       "       [1.51991168, 2.6875834 , 2.40139893, 1.7055504 ],\n",
       "       [2.19693255, 1.95243914, 3.11968971, 1.78742197]])"
      ]
     },
     "execution_count": 39,
     "metadata": {},
     "output_type": "execute_result"
    }
   ],
   "source": [
    "# Make some random numbers -- a 2D (3 by 4) set of Gaussian (normal) random numbers with mean 2 and standard deviation 1\n",
    "np.random.normal(2,1,size=(3,4))"
   ]
  },
  {
   "cell_type": "code",
   "execution_count": 46,
   "metadata": {},
   "outputs": [
    {
     "data": {
      "text/plain": [
       "array([2.69318714, 2.44264367, 2.12679401, 2.07975169, 2.42927148,\n",
       "       2.62700674, 2.19207368, 2.79184915, 2.37662232, 2.40302627])"
      ]
     },
     "execution_count": 46,
     "metadata": {},
     "output_type": "execute_result"
    }
   ],
   "source": [
    "# Make a 1D array of 10 uniform random numbers between 2 and 3\n",
    "np.random.uniform(2,3,size=10)"
   ]
  },
  {
   "cell_type": "code",
   "execution_count": 49,
   "metadata": {},
   "outputs": [
    {
     "data": {
      "text/plain": [
       "array([[3, 1, 0],\n",
       "       [1, 3, 2]])"
      ]
     },
     "execution_count": 49,
     "metadata": {},
     "output_type": "execute_result"
    }
   ],
   "source": [
    "# Make a set of 2D (size 2 by 3)random integers between 0 (inclusive) and 5 (exclusive)\n",
    "np.random.randint(5,size=(2,3))"
   ]
  },
  {
   "cell_type": "code",
   "execution_count": 50,
   "metadata": {},
   "outputs": [
    {
     "data": {
      "text/plain": [
       "array([[4, 4, 5],\n",
       "       [4, 4, 4]])"
      ]
     },
     "execution_count": 50,
     "metadata": {},
     "output_type": "execute_result"
    }
   ],
   "source": [
    "# Make a set of 2D (size 2 by 3)random integers between 4 (inclusive) and 6 (exclusive)\n",
    "np.random.randint(4,6,size=(2,3))"
   ]
  },
  {
   "cell_type": "markdown",
   "metadata": {},
   "source": [
    "Note that in the last few examples we were using the *random* subpackage of Numpy"
   ]
  },
  {
   "cell_type": "markdown",
   "metadata": {},
   "source": [
    "Indexing the elements of arrays\n",
    "==="
   ]
  },
  {
   "cell_type": "markdown",
   "metadata": {},
   "source": [
    "As mentioned before, Python indexes from 0. So if you want to get the first element of the array use index 0. Then the next is 1, etc.\n",
    "\n",
    "You can also index from the end of the array, which is -1. Then the last-but-one elements is -2, etc. "
   ]
  },
  {
   "cell_type": "code",
   "execution_count": 54,
   "metadata": {},
   "outputs": [
    {
     "name": "stdout",
     "output_type": "stream",
     "text": [
      "[0 1 2 3 4]\n",
      "0 4 1 3\n"
     ]
    },
    {
     "data": {
      "text/plain": [
       "7"
      ]
     },
     "execution_count": 54,
     "metadata": {},
     "output_type": "execute_result"
    }
   ],
   "source": [
    "# Here we make a 1D array called A and get the various elements out of it (using the print function)\n",
    "# And then change one of them, and check that the change worked\n",
    "A = np.arange(5)\n",
    "print(A)\n",
    "print(A[0], A[-1], A[1], A[-2])\n",
    "A[1] = 7\n",
    "A[1]"
   ]
  },
  {
   "cell_type": "code",
   "execution_count": 57,
   "metadata": {},
   "outputs": [
    {
     "name": "stdout",
     "output_type": "stream",
     "text": [
      "[[1 2]\n",
      " [3 4]\n",
      " [5 6]]\n",
      "1 6 2\n",
      "[[1 2]\n",
      " [3 0]\n",
      " [5 6]]\n"
     ]
    }
   ],
   "source": [
    "# And here it is in 2D, where we need 2 indices\n",
    "A = np.array([[1,2],[3,4],[5,6]])\n",
    "print(A)\n",
    "print(A[0,0], A[-1,1],A[0,-1])\n",
    "A[1,1] = 0\n",
    "print(A)"
   ]
  },
  {
   "cell_type": "markdown",
   "metadata": {},
   "source": [
    "Since I used that example, it reminded me of a useful function, which is reshape. We give it a matrix, and the new size that we would like it to be (which assumes that it stays the same size, of course).\n",
    "\n",
    "To get the size of a matrix, we use the np.shape command. There is also np.ndim, which gives the number of dimensions, and np.size, which gives the number of elements."
   ]
  },
  {
   "cell_type": "code",
   "execution_count": 130,
   "metadata": {},
   "outputs": [
    {
     "name": "stdout",
     "output_type": "stream",
     "text": [
      "[0 1 2 3 4 5] (6,)\n",
      "[[0 1]\n",
      " [2 3]\n",
      " [4 5]] (3, 2) 2 6\n"
     ]
    }
   ],
   "source": [
    "# Here is another way to make the matrix of the previous example\n",
    "A = np.arange(6)\n",
    "print(A, np.shape(A))\n",
    "A = np.reshape(A,(3,2))\n",
    "print(A, np.shape(A), np.ndim(A), np.size(A))"
   ]
  },
  {
   "cell_type": "markdown",
   "metadata": {},
   "source": [
    "Slicing\n",
    "---"
   ]
  },
  {
   "cell_type": "markdown",
   "metadata": {},
   "source": [
    "It is often useful to extract more than one element of an array. Numpy allows this with the : using a technique called *slicing*. You specify the start, end, and step, but if you miss one of them out, Numpy fills them in as 0, the end, and 1 respectively (so : is the same as 0::1)."
   ]
  },
  {
   "cell_type": "code",
   "execution_count": 69,
   "metadata": {},
   "outputs": [
    {
     "name": "stdout",
     "output_type": "stream",
     "text": [
      "[1 2 3 4]\n",
      "[0 1 2 3 4 5] [0 1 2 3 4 5]\n"
     ]
    }
   ],
   "source": [
    "# Make a 1D array of the integers 0 to 5\n",
    "A = np.arange(6)\n",
    "# Then print out the ones in the 1st to 4th places (inclusive)\n",
    "print(A[1:5])\n",
    "print(A[:], A[0::1])"
   ]
  },
  {
   "cell_type": "markdown",
   "metadata": {},
   "source": [
    "The same thing works in more dimensions, but there is 1 important difference: Numpy squashes dimensions that only have one element in them. This can be a problem if you aren't careful."
   ]
  },
  {
   "cell_type": "code",
   "execution_count": 80,
   "metadata": {},
   "outputs": [
    {
     "data": {
      "text/plain": [
       "array([2, 3])"
      ]
     },
     "execution_count": 80,
     "metadata": {},
     "output_type": "execute_result"
    }
   ],
   "source": [
    "# Make a 2D array of the integers again (note we can do it in 1 line)\n",
    "A = np.arange(6).reshape((3,2))\n",
    "# And get the middle row\n",
    "A[1,:]"
   ]
  },
  {
   "cell_type": "code",
   "execution_count": 81,
   "metadata": {},
   "outputs": [
    {
     "data": {
      "text/plain": [
       "array([1, 3, 5])"
      ]
     },
     "execution_count": 81,
     "metadata": {},
     "output_type": "execute_result"
    }
   ],
   "source": [
    "# Get the second column\n",
    "A[:,1]"
   ]
  },
  {
   "cell_type": "markdown",
   "metadata": {},
   "source": [
    "Can you see the problem? It is no longer a column, but a row. Which isn't normally what you want.\n",
    "\n",
    "To fix it, it's better to specify the indices as a range, as below. "
   ]
  },
  {
   "cell_type": "code",
   "execution_count": 82,
   "metadata": {},
   "outputs": [
    {
     "data": {
      "text/plain": [
       "array([[1],\n",
       "       [3],\n",
       "       [5]])"
      ]
     },
     "execution_count": 82,
     "metadata": {},
     "output_type": "execute_result"
    }
   ],
   "source": [
    "# Now it's a column \n",
    "A[:,1:2]"
   ]
  },
  {
   "cell_type": "code",
   "execution_count": 85,
   "metadata": {},
   "outputs": [
    {
     "data": {
      "text/plain": [
       "array([[4, 5],\n",
       "       [7, 8]])"
      ]
     },
     "execution_count": 85,
     "metadata": {},
     "output_type": "execute_result"
    }
   ],
   "source": [
    "# We can also slice in more than 1 dimension at once\n",
    "# Here is another matrix and a submatrix of it\n",
    "A = np.arange(9).reshape((3,3))\n",
    "A[1:,1:]"
   ]
  },
  {
   "cell_type": "markdown",
   "metadata": {},
   "source": [
    "To reverse an array, we can just read it backwards"
   ]
  },
  {
   "cell_type": "code",
   "execution_count": 78,
   "metadata": {},
   "outputs": [
    {
     "name": "stdout",
     "output_type": "stream",
     "text": [
      "[0 1 2 3 4 5]\n",
      "[5 4 3 2 1 0]\n"
     ]
    }
   ],
   "source": [
    "A = np.arange(6)\n",
    "print(A)\n",
    "A = A[::-1]\n",
    "print(A)"
   ]
  },
  {
   "cell_type": "markdown",
   "metadata": {},
   "source": [
    "Adding, and multiplying matrices\n",
    "==="
   ]
  },
  {
   "cell_type": "markdown",
   "metadata": {},
   "source": [
    "Providing the matrices are the correct shapes, we can add matrices together, and multiply them in two different ways: element-wise multiplication, and the correct matrix multiplication. If the shapes of the matrices are wrong, we will get errors. The message tries to explain the problem. "
   ]
  },
  {
   "cell_type": "code",
   "execution_count": 87,
   "metadata": {},
   "outputs": [
    {
     "name": "stdout",
     "output_type": "stream",
     "text": [
      "[[3. 3. 3.]\n",
      " [3. 3. 3.]]\n"
     ]
    },
    {
     "ename": "ValueError",
     "evalue": "operands could not be broadcast together with shapes (2,3) (6,) ",
     "output_type": "error",
     "traceback": [
      "\u001b[0;31m---------------------------------------------------------------------------\u001b[0m",
      "\u001b[0;31mValueError\u001b[0m                                Traceback (most recent call last)",
      "\u001b[0;32m<ipython-input-87-d8e544ff3ec1>\u001b[0m in \u001b[0;36m<module>\u001b[0;34m()\u001b[0m\n\u001b[1;32m      3\u001b[0m \u001b[0mC\u001b[0m \u001b[0;34m=\u001b[0m \u001b[0;36m2\u001b[0m\u001b[0;34m*\u001b[0m\u001b[0mnp\u001b[0m\u001b[0;34m.\u001b[0m\u001b[0mones\u001b[0m\u001b[0;34m(\u001b[0m\u001b[0;36m6\u001b[0m\u001b[0;34m)\u001b[0m\u001b[0;34m\u001b[0m\u001b[0m\n\u001b[1;32m      4\u001b[0m \u001b[0mprint\u001b[0m\u001b[0;34m(\u001b[0m\u001b[0mA\u001b[0m\u001b[0;34m+\u001b[0m\u001b[0mB\u001b[0m\u001b[0;34m)\u001b[0m\u001b[0;34m\u001b[0m\u001b[0m\n\u001b[0;32m----> 5\u001b[0;31m \u001b[0mprint\u001b[0m\u001b[0;34m(\u001b[0m\u001b[0mA\u001b[0m\u001b[0;34m+\u001b[0m\u001b[0mC\u001b[0m\u001b[0;34m)\u001b[0m\u001b[0;34m\u001b[0m\u001b[0m\n\u001b[0m",
      "\u001b[0;31mValueError\u001b[0m: operands could not be broadcast together with shapes (2,3) (6,) "
     ]
    }
   ],
   "source": [
    "A = np.ones((2,3))\n",
    "B = 2*np.ones((2,3))\n",
    "C = 2*np.ones(6)\n",
    "print(A+B)\n",
    "print(A+C)"
   ]
  },
  {
   "cell_type": "code",
   "execution_count": 88,
   "metadata": {},
   "outputs": [
    {
     "name": "stdout",
     "output_type": "stream",
     "text": [
      "[[2. 2. 2.]\n",
      " [2. 2. 2.]]\n"
     ]
    }
   ],
   "source": [
    "print(A*B)"
   ]
  },
  {
   "cell_type": "markdown",
   "metadata": {},
   "source": [
    "Matrix multiplication is called *dot* in Numpy. It requires that the second dimension of the first (2D) matrix matches the first dimension of the second one. The shape of the output matrix is then the first dimension of the first matrix by the second dimension of the second one. "
   ]
  },
  {
   "cell_type": "code",
   "execution_count": 94,
   "metadata": {},
   "outputs": [
    {
     "ename": "ValueError",
     "evalue": "shapes (2,3) and (2,3) not aligned: 3 (dim 1) != 2 (dim 0)",
     "output_type": "error",
     "traceback": [
      "\u001b[0;31m---------------------------------------------------------------------------\u001b[0m",
      "\u001b[0;31mValueError\u001b[0m                                Traceback (most recent call last)",
      "\u001b[0;32m<ipython-input-94-707631f1f6c1>\u001b[0m in \u001b[0;36m<module>\u001b[0;34m()\u001b[0m\n\u001b[1;32m      1\u001b[0m \u001b[0;31m# This gives an error -- shapes are wrong\u001b[0m\u001b[0;34m\u001b[0m\u001b[0;34m\u001b[0m\u001b[0m\n\u001b[0;32m----> 2\u001b[0;31m \u001b[0mnp\u001b[0m\u001b[0;34m.\u001b[0m\u001b[0mdot\u001b[0m\u001b[0;34m(\u001b[0m\u001b[0mA\u001b[0m\u001b[0;34m,\u001b[0m\u001b[0mB\u001b[0m\u001b[0;34m)\u001b[0m\u001b[0;34m\u001b[0m\u001b[0m\n\u001b[0m\u001b[1;32m      3\u001b[0m \u001b[0;31m# To fix it, we transpose the second matrix, so that it is 3*2 instead of 2*3\u001b[0m\u001b[0;34m\u001b[0m\u001b[0;34m\u001b[0m\u001b[0m\n\u001b[1;32m      4\u001b[0m \u001b[0mprint\u001b[0m\u001b[0;34m(\u001b[0m\u001b[0mB\u001b[0m\u001b[0;34m.\u001b[0m\u001b[0mT\u001b[0m\u001b[0;34m,\u001b[0m \u001b[0mnp\u001b[0m\u001b[0;34m.\u001b[0m\u001b[0mshape\u001b[0m\u001b[0;34m(\u001b[0m\u001b[0mB\u001b[0m\u001b[0;34m.\u001b[0m\u001b[0mT\u001b[0m\u001b[0;34m)\u001b[0m\u001b[0;34m)\u001b[0m\u001b[0;34m\u001b[0m\u001b[0m\n\u001b[1;32m      5\u001b[0m \u001b[0mprint\u001b[0m\u001b[0;34m(\u001b[0m\u001b[0mnp\u001b[0m\u001b[0;34m.\u001b[0m\u001b[0mdot\u001b[0m\u001b[0;34m(\u001b[0m\u001b[0mA\u001b[0m\u001b[0;34m,\u001b[0m\u001b[0mB\u001b[0m\u001b[0;34m.\u001b[0m\u001b[0mT\u001b[0m\u001b[0;34m)\u001b[0m\u001b[0;34m)\u001b[0m\u001b[0;34m\u001b[0m\u001b[0m\n",
      "\u001b[0;31mValueError\u001b[0m: shapes (2,3) and (2,3) not aligned: 3 (dim 1) != 2 (dim 0)"
     ]
    }
   ],
   "source": [
    "# This gives an error -- shapes are wrong\n",
    "np.dot(A,B)"
   ]
  },
  {
   "cell_type": "code",
   "execution_count": 96,
   "metadata": {},
   "outputs": [
    {
     "name": "stdout",
     "output_type": "stream",
     "text": [
      "[[2. 2.]\n",
      " [2. 2.]\n",
      " [2. 2.]] (3, 2)\n",
      "[[6. 6.]\n",
      " [6. 6.]]\n"
     ]
    }
   ],
   "source": [
    "# To fix it, we transpose the second matrix, so that it is 3*2 instead of 2*3\n",
    "print(B.T, np.shape(B.T))\n",
    "# And then the multiplication works\n",
    "print(np.dot(A,B.T))"
   ]
  },
  {
   "cell_type": "markdown",
   "metadata": {},
   "source": [
    "Concatenation and Split\n",
    "==="
   ]
  },
  {
   "cell_type": "markdown",
   "metadata": {},
   "source": [
    "The last thing we will see is how to combine and separate out matrices. \n",
    "\n",
    "The concatenate command puts matrices together. Note the square brackets for the set of matrices. The axis parmeter specifies which dimension to use( the default is 0). The relevant sizes have to match up, or you will get errors. These simple uses of concatenate can be replaced by hstack and vstack. \n",
    "\n",
    "The stack command more generally puts the matrices into a higher-dimensional array. \n",
    "\n",
    "And you can split a matrix into pieces using split. \n",
    "\n",
    "Examples follow.\n",
    "\n"
   ]
  },
  {
   "cell_type": "code",
   "execution_count": 99,
   "metadata": {},
   "outputs": [
    {
     "data": {
      "text/plain": [
       "array([[1., 1., 1.],\n",
       "       [1., 1., 1.],\n",
       "       [2., 2., 2.],\n",
       "       [2., 2., 2.]])"
      ]
     },
     "execution_count": 99,
     "metadata": {},
     "output_type": "execute_result"
    }
   ],
   "source": [
    "np.concatenate([np.ones((2,3)),2*np.ones((2,3))])"
   ]
  },
  {
   "cell_type": "code",
   "execution_count": 107,
   "metadata": {},
   "outputs": [
    {
     "data": {
      "text/plain": [
       "array([[1., 1., 1., 2., 2., 2., 2.],\n",
       "       [1., 1., 1., 2., 2., 2., 2.]])"
      ]
     },
     "execution_count": 107,
     "metadata": {},
     "output_type": "execute_result"
    }
   ],
   "source": [
    "np.concatenate([np.ones((2,3)),2*np.ones((2,4))],axis=1)"
   ]
  },
  {
   "cell_type": "code",
   "execution_count": 105,
   "metadata": {},
   "outputs": [
    {
     "data": {
      "text/plain": [
       "array([[1., 1., 1., 2., 2., 2., 2.],\n",
       "       [1., 1., 1., 2., 2., 2., 2.]])"
      ]
     },
     "execution_count": 105,
     "metadata": {},
     "output_type": "execute_result"
    }
   ],
   "source": [
    "np.concatenate([np.ones((2,3)),2*np.ones((2,4))],axis=1)"
   ]
  },
  {
   "cell_type": "code",
   "execution_count": 114,
   "metadata": {},
   "outputs": [
    {
     "data": {
      "text/plain": [
       "array([[1., 1., 1.],\n",
       "       [1., 1., 1.],\n",
       "       [2., 2., 2.],\n",
       "       [2., 2., 2.]])"
      ]
     },
     "execution_count": 114,
     "metadata": {},
     "output_type": "execute_result"
    }
   ],
   "source": [
    "np.vstack([np.ones((2,3)),2*np.ones((2,3))])"
   ]
  },
  {
   "cell_type": "code",
   "execution_count": 111,
   "metadata": {},
   "outputs": [],
   "source": [
    "np.vstack([np.ones((2,3)),2*np.ones((2,3))])"
   ]
  },
  {
   "cell_type": "code",
   "execution_count": 116,
   "metadata": {},
   "outputs": [
    {
     "name": "stdout",
     "output_type": "stream",
     "text": [
      "[[[1. 1. 1.]\n",
      "  [1. 1. 1.]]\n",
      "\n",
      " [[2. 2. 2.]\n",
      "  [2. 2. 2.]]]\n"
     ]
    },
    {
     "data": {
      "text/plain": [
       "(2, 2, 3)"
      ]
     },
     "execution_count": 116,
     "metadata": {},
     "output_type": "execute_result"
    }
   ],
   "source": [
    "print(np.stack([np.ones((2,3)),2*np.ones((2,3))]))\n",
    "np.shape(np.stack([np.ones((2,3)),2*np.ones((2,3))]))"
   ]
  },
  {
   "cell_type": "code",
   "execution_count": 124,
   "metadata": {},
   "outputs": [
    {
     "name": "stdout",
     "output_type": "stream",
     "text": [
      "[array([0, 1]), array([2, 3, 4, 5, 6])]\n",
      "[array([0, 1]), array([2, 3, 4]), array([5, 6])]\n"
     ]
    }
   ],
   "source": [
    "# In 1D splitting just means specifying where you want to split\n",
    "A = np.arange(7)\n",
    "print(np.split(A,[2]))\n",
    "print(np.split(A,[2,5]))"
   ]
  },
  {
   "cell_type": "code",
   "execution_count": 127,
   "metadata": {},
   "outputs": [
    {
     "name": "stdout",
     "output_type": "stream",
     "text": [
      "[array([[1., 1., 1., 1.]]), array([[1., 1., 1., 1.],\n",
      "       [1., 1., 1., 1.]])]\n",
      "[array([[1.],\n",
      "       [1.],\n",
      "       [1.]]), array([[1., 1.],\n",
      "       [1., 1.],\n",
      "       [1., 1.]]), array([[1.],\n",
      "       [1.],\n",
      "       [1.]])]\n"
     ]
    }
   ],
   "source": [
    "# In higher dimensions, you also need to say which dimension you want to split along\n",
    "A = np.ones((3,4))\n",
    "print(np.split(A,[1],axis=0))\n",
    "print(np.split(A,[1,3],axis=1))"
   ]
  },
  {
   "cell_type": "markdown",
   "metadata": {},
   "source": [
    "Finding elements\n",
    "---"
   ]
  },
  {
   "cell_type": "markdown",
   "metadata": {},
   "source": [
    "Another very useful command is np.where, which either returns the elements where a logical statement is true, or returns a new matrix the same size with different values in the places where the logical statement is true and false"
   ]
  },
  {
   "cell_type": "code",
   "execution_count": 159,
   "metadata": {},
   "outputs": [
    {
     "name": "stdout",
     "output_type": "stream",
     "text": [
      "[0 1 2 3 4 5]\n",
      "(array([4, 5]),)\n"
     ]
    },
    {
     "data": {
      "text/plain": [
       "array([1, 1, 1, 1, 0, 0])"
      ]
     },
     "execution_count": 159,
     "metadata": {},
     "output_type": "execute_result"
    }
   ],
   "source": [
    "A = np.arange(6)\n",
    "print(A)\n",
    "print(np.where(A>3))\n",
    "\n",
    "# Another syntax -- return a matrix the same size as A, but with 0 in the places where A>3 and 1 in the rest\n",
    "np.where(A>3,0,1)"
   ]
  },
  {
   "cell_type": "markdown",
   "metadata": {},
   "source": [
    "Applying mathematical functions to matrices\n",
    "==="
   ]
  },
  {
   "cell_type": "markdown",
   "metadata": {},
   "source": [
    "Hopefully it is fairly obvious what np.sin(A) does"
   ]
  },
  {
   "cell_type": "code",
   "execution_count": 160,
   "metadata": {},
   "outputs": [
    {
     "data": {
      "text/plain": [
       "array([ 0.        ,  0.84147098,  0.90929743,  0.14112001, -0.7568025 ,\n",
       "       -0.95892427])"
      ]
     },
     "execution_count": 160,
     "metadata": {},
     "output_type": "execute_result"
    }
   ],
   "source": [
    "np.sin(A)"
   ]
  },
  {
   "cell_type": "markdown",
   "metadata": {},
   "source": [
    "The other thing we can do is compute sums, maximums and minima"
   ]
  },
  {
   "cell_type": "code",
   "execution_count": 171,
   "metadata": {},
   "outputs": [
    {
     "name": "stdout",
     "output_type": "stream",
     "text": [
      "[[0.88197024 0.46308556 0.34709009 0.44980294]\n",
      " [0.61405926 0.26881644 0.00780931 0.85117246]\n",
      " [0.29065664 0.62817137 0.51069397 0.41827628]]\n",
      "5.731604571923615 0.00780931441241306 0.8819702445113302\n",
      "[1.78668614 1.36007337 0.86559338 1.71925168] [2.14194884 1.74185747 1.84779826]\n"
     ]
    }
   ],
   "source": [
    "A = np.random.uniform(size=(3,4))\n",
    "print(A)\n",
    "# These give the sum, min, max over the whole matrix\n",
    "print(np.sum(A), np.min(A), np.max(A))\n",
    "# And these sums are over the two axes\n",
    "print(np.sum(A,axis=0),np.sum(A,axis=1))\n"
   ]
  }
 ],
 "metadata": {
  "kernelspec": {
   "display_name": "Python 3",
   "language": "python",
   "name": "python3"
  },
  "language_info": {
   "codemirror_mode": {
    "name": "ipython",
    "version": 3
   },
   "file_extension": ".py",
   "mimetype": "text/x-python",
   "name": "python",
   "nbconvert_exporter": "python",
   "pygments_lexer": "ipython3",
   "version": "3.7.9"
  }
 },
 "nbformat": 4,
 "nbformat_minor": 2
}
